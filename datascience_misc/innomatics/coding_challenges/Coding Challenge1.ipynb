{
 "cells": [
  {
   "cell_type": "markdown",
   "metadata": {},
   "source": [
    "**Q. Find the factors of number, give the input dynamically**"
   ]
  },
  {
   "cell_type": "code",
   "execution_count": null,
   "metadata": {},
   "outputs": [],
   "source": []
  },
  {
   "cell_type": "markdown",
   "metadata": {},
   "source": [
    "# Sample Output\n",
    "\n",
    "Enter a number to find factors of number :784\n",
    "\n",
    "1\n",
    "2\n",
    "4\n",
    "7\n",
    "8\n",
    "14\n",
    "16\n",
    "28\n",
    "49\n",
    "56\n",
    "98\n",
    "112\n",
    "196\n",
    "392\n",
    "784"
   ]
  },
  {
   "cell_type": "markdown",
   "metadata": {},
   "source": [
    "**Q. Create a list with following 92 values. Using loops and lists retrive the first word of each string in the list and append those words into a new list.**"
   ]
  },
  {
   "cell_type": "markdown",
   "metadata": {},
   "source": [
    "['GenX XE',\n",
    " 'GenX XM',\n",
    " 'GenX XT',\n",
    " 'GenX XMA',\n",
    " 'GenX XTA',\n",
    " 'EMax XM',\n",
    " 'Tiago XB ',\n",
    " 'Tiago XE ',\n",
    " 'Tiago XE (O) ',\n",
    " 'Tiago XM ',\n",
    " 'Tiago XM (O) ',\n",
    " 'Tiago XT ',\n",
    " 'Tiago XT (O) ',\n",
    " 'Tiago XTA ',\n",
    " 'Tiago XZ W/O Alloy ',\n",
    " 'Tiago XZ ',\n",
    " 'Tiago XZA ',\n",
    " 'Tiago XB ',\n",
    " 'Tiago XE ',\n",
    " 'Tiago XE (O) ',\n",
    " 'Tiago XM ',\n",
    " 'Tiago XM (O) ',\n",
    " 'Tiago XT ',\n",
    " 'Tiago XT (O) ',\n",
    " 'Tiago XZ W/O Alloy ',\n",
    " 'Tiago XZ ',\n",
    " 'Bolt XE ',\n",
    " 'Bolt XM ',\n",
    " 'Bolt XMS ',\n",
    " 'Bolt XT ',\n",
    " 'Bolt XE ',\n",
    " 'Bolt XM ',\n",
    " 'Bolt XMS ',\n",
    " 'Bolt XT ',\n",
    " 'Tigor XE ',\n",
    " 'Tigor XM ',\n",
    " 'Tigor XZ ',\n",
    " 'Tigor XZ+ ',\n",
    " 'Tigor XZA ',\n",
    " 'Tigor XE ',\n",
    " 'Tigor XM ',\n",
    " 'Tigor XZ ',\n",
    " 'Tigor XZ+ ',\n",
    " 'ZEST XE ',\n",
    " 'ZEST XM ',\n",
    " 'ZEST XMS ',\n",
    " 'ZEST XT ',\n",
    " 'ZEST XE ',\n",
    " 'ZEST XM ',\n",
    " 'ZEST XMS ',\n",
    " 'ZEST XMA ',\n",
    " 'ZEST XT ',\n",
    " 'ZEST XTA ',\n",
    " 'ZEST PREMIO ',\n",
    " 'Nexon XE',\n",
    " 'Nexon XM',\n",
    " 'Nexon XMA',\n",
    " 'Nexon XT',\n",
    " 'Nexon XZ',\n",
    " 'Nexon XZ+',\n",
    " 'Nexon XZ+ With Dual Tone Roof',\n",
    " 'Nexon XZA+',\n",
    " 'Nexon XZA+ With Dual Tone Roof',\n",
    " 'Nexon XE',\n",
    " 'Nexon XM',\n",
    " 'Nexon XT',\n",
    " 'Nexon XMA',\n",
    " 'Nexon XZ',\n",
    " 'Nexon XZ+',\n",
    " 'Nexon XZ+ With Dual Tone Roof',\n",
    " 'Nexon XZA+',\n",
    " 'Nexon XZA+ With Dual Tone Roof',\n",
    " 'Nexon  KRAZ',\n",
    " 'Nexon  KRAZ+',\n",
    " 'Nexon  KRAZ',\n",
    " 'Nexon  KRAZ+',\n",
    " 'Sumo Gold CX ',\n",
    " 'Sumo Gold CX PS AC ',\n",
    " 'Sumo Gold CX - PS ',\n",
    " 'Sumo Gold EX ',\n",
    " 'Sumo Gold GX ',\n",
    " 'Hexa XE   4X2',\n",
    " 'Hexa XM   4X2',\n",
    " 'Hexa XM+   4X2',\n",
    " 'Hexa XMA   4X2',\n",
    " 'Hexa XT   4X2',\n",
    " 'Hexa XTA   4X2',\n",
    " 'Hexa XT   4X4',\n",
    " 'Safari Storme Lx Refreshed ',\n",
    " 'Safari Storme Ex Refreshed ',\n",
    " 'Safari Storme Vx Refreshed (400 NM) ',\n",
    " 'Safari Storme Vx Refreshed (400 NM) ']"
   ]
  },
  {
   "cell_type": "code",
   "execution_count": 25,
   "metadata": {},
   "outputs": [],
   "source": [
    "# Your Code Here\n"
   ]
  },
  {
   "cell_type": "markdown",
   "metadata": {},
   "source": [
    "Sample Output:\n",
    "===============\n",
    "92\n",
    "\n",
    "['GenX', 'GenX', 'GenX', 'GenX', 'GenX', 'EMax', 'Tiago', 'Tiago', 'Tiago', 'Tiago', 'Tiago', 'Tiago', 'Tiago', 'Tiago', 'Tiago', 'Tiago', 'Tiago', 'Tiago', 'Tiago', 'Tiago', 'Tiago', 'Tiago', 'Tiago', 'Tiago', 'Tiago', 'Tiago', 'Bolt', 'Bolt', 'Bolt', 'Bolt', 'Bolt', 'Bolt', 'Bolt', 'Bolt', 'Tigor', 'Tigor', 'Tigor', 'Tigor', 'Tigor', 'Tigor', 'Tigor', 'Tigor', 'Tigor', 'ZEST', 'ZEST', 'ZEST', 'ZEST', 'ZEST', 'ZEST', 'ZEST', 'ZEST', 'ZEST', 'ZEST', 'ZEST', 'Nexon', 'Nexon', 'Nexon', 'Nexon', 'Nexon', 'Nexon', 'Nexon', 'Nexon', 'Nexon', 'Nexon', 'Nexon', 'Nexon', 'Nexon', 'Nexon', 'Nexon', 'Nexon', 'Nexon', 'Nexon', 'Nexon', 'Nexon', 'Nexon', 'Nexon', 'Sumo', 'Sumo', 'Sumo', 'Sumo', 'Sumo', 'Hexa', 'Hexa', 'Hexa', 'Hexa', 'Hexa', 'Hexa', 'Hexa', 'Safari', 'Safari', 'Safari', 'Safari']"
   ]
  },
  {
   "cell_type": "code",
   "execution_count": null,
   "metadata": {},
   "outputs": [],
   "source": []
  },
  {
   "cell_type": "code",
   "execution_count": null,
   "metadata": {},
   "outputs": [],
   "source": []
  },
  {
   "cell_type": "code",
   "execution_count": null,
   "metadata": {},
   "outputs": [],
   "source": []
  },
  {
   "cell_type": "markdown",
   "metadata": {},
   "source": [
    "** Q. Write a program to generate prime numbers using the Charles Babbage formula, T=X^2+X+41 (X^2 = X square).**\n",
    "\n",
    "***STEPS INVOLVED***\n",
    "\n",
    "- **Step1: Find values of T giving input of X from 0 to 5**\n",
    "- **Step2: D1 is first difference column = D1 = (nth element of T - (n-1)th element T)**\n",
    "- **Step3: D2 is first difference column = D2 = (nth element of D1 - (n-1)th element of D1)**"
   ]
  },
  {
   "cell_type": "code",
   "execution_count": 27,
   "metadata": {},
   "outputs": [],
   "source": [
    "# Your Code Here\n"
   ]
  },
  {
   "cell_type": "code",
   "execution_count": 7,
   "metadata": {},
   "outputs": [
    {
     "name": "stdout",
     "output_type": "stream",
     "text": [
      "Sample Output:\n",
      "==========================\n",
      "D2\tD1\tT\tX\n",
      "==========================\n",
      "\t\t41\t0\n",
      "\t2\t43\t1\n",
      "2\t4\t47\t2\n",
      "2\t6\t53\t3\n",
      "2\t8\t61\t4\n"
     ]
    }
   ],
   "source": []
  },
  {
   "cell_type": "code",
   "execution_count": 28,
   "metadata": {},
   "outputs": [],
   "source": []
  },
  {
   "cell_type": "code",
   "execution_count": null,
   "metadata": {},
   "outputs": [],
   "source": []
  },
  {
   "cell_type": "code",
   "execution_count": null,
   "metadata": {},
   "outputs": [],
   "source": []
  }
 ],
 "metadata": {
  "kernelspec": {
   "display_name": "Python 3",
   "language": "python",
   "name": "python3"
  },
  "language_info": {
   "codemirror_mode": {
    "name": "ipython",
    "version": 3
   },
   "file_extension": ".py",
   "mimetype": "text/x-python",
   "name": "python",
   "nbconvert_exporter": "python",
   "pygments_lexer": "ipython3",
   "version": "3.6.8"
  }
 },
 "nbformat": 4,
 "nbformat_minor": 2
}
