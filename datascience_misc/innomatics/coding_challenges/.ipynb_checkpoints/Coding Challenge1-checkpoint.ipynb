{
 "cells": [
  {
   "cell_type": "markdown",
   "metadata": {},
   "source": [
    "**Q. Find the factors of number, give the input dynamically**"
   ]
  },
  {
   "cell_type": "code",
   "execution_count": 9,
   "metadata": {},
   "outputs": [
    {
     "name": "stdout",
     "output_type": "stream",
     "text": [
      "Enter a number to find factors of a number: 784\n",
      "1 2 4 7 8 14 16 28 49 56 98 112 196 392 784 \n"
     ]
    }
   ],
   "source": [
    "import math\n",
    "num = int(input('Enter a number to find factors of a number: '))\n",
    "for i in range(1, num + 1):\n",
    "    if num % i == 0:\n",
    "        print(i, end= ' ')\n",
    "print()\n"
   ]
  },
  {
   "cell_type": "code",
   "execution_count": null,
   "metadata": {},
   "outputs": [],
   "source": []
  },
  {
   "cell_type": "markdown",
   "metadata": {},
   "source": [
    "# Sample Output\n",
    "\n",
    "Enter a number to find factors of number :784\n",
    "\n",
    "1\n",
    "2\n",
    "4\n",
    "7\n",
    "8\n",
    "14\n",
    "16\n",
    "28\n",
    "49\n",
    "56\n",
    "98\n",
    "112\n",
    "196\n",
    "392\n",
    "784"
   ]
  },
  {
   "cell_type": "markdown",
   "metadata": {},
   "source": [
    "**Q. Create a list with following 92 values. Using loops and lists retrive the first word of each string in the list and append those words into a new list.**"
   ]
  },
  {
   "cell_type": "markdown",
   "metadata": {},
   "source": [
    "['GenX XE',\n",
    " 'GenX XM',\n",
    " 'GenX XT',\n",
    " 'GenX XMA',\n",
    " 'GenX XTA',\n",
    " 'EMax XM',\n",
    " 'Tiago XB ',\n",
    " 'Tiago XE ',\n",
    " 'Tiago XE (O) ',\n",
    " 'Tiago XM ',\n",
    " 'Tiago XM (O) ',\n",
    " 'Tiago XT ',\n",
    " 'Tiago XT (O) ',\n",
    " 'Tiago XTA ',\n",
    " 'Tiago XZ W/O Alloy ',\n",
    " 'Tiago XZ ',\n",
    " 'Tiago XZA ',\n",
    " 'Tiago XB ',\n",
    " 'Tiago XE ',\n",
    " 'Tiago XE (O) ',\n",
    " 'Tiago XM ',\n",
    " 'Tiago XM (O) ',\n",
    " 'Tiago XT ',\n",
    " 'Tiago XT (O) ',\n",
    " 'Tiago XZ W/O Alloy ',\n",
    " 'Tiago XZ ',\n",
    " 'Bolt XE ',\n",
    " 'Bolt XM ',\n",
    " 'Bolt XMS ',\n",
    " 'Bolt XT ',\n",
    " 'Bolt XE ',\n",
    " 'Bolt XM ',\n",
    " 'Bolt XMS ',\n",
    " 'Bolt XT ',\n",
    " 'Tigor XE ',\n",
    " 'Tigor XM ',\n",
    " 'Tigor XZ ',\n",
    " 'Tigor XZ+ ',\n",
    " 'Tigor XZA ',\n",
    " 'Tigor XE ',\n",
    " 'Tigor XM ',\n",
    " 'Tigor XZ ',\n",
    " 'Tigor XZ+ ',\n",
    " 'ZEST XE ',\n",
    " 'ZEST XM ',\n",
    " 'ZEST XMS ',\n",
    " 'ZEST XT ',\n",
    " 'ZEST XE ',\n",
    " 'ZEST XM ',\n",
    " 'ZEST XMS ',\n",
    " 'ZEST XMA ',\n",
    " 'ZEST XT ',\n",
    " 'ZEST XTA ',\n",
    " 'ZEST PREMIO ',\n",
    " 'Nexon XE',\n",
    " 'Nexon XM',\n",
    " 'Nexon XMA',\n",
    " 'Nexon XT',\n",
    " 'Nexon XZ',\n",
    " 'Nexon XZ+',\n",
    " 'Nexon XZ+ With Dual Tone Roof',\n",
    " 'Nexon XZA+',\n",
    " 'Nexon XZA+ With Dual Tone Roof',\n",
    " 'Nexon XE',\n",
    " 'Nexon XM',\n",
    " 'Nexon XT',\n",
    " 'Nexon XMA',\n",
    " 'Nexon XZ',\n",
    " 'Nexon XZ+',\n",
    " 'Nexon XZ+ With Dual Tone Roof',\n",
    " 'Nexon XZA+',\n",
    " 'Nexon XZA+ With Dual Tone Roof',\n",
    " 'Nexon  KRAZ',\n",
    " 'Nexon  KRAZ+',\n",
    " 'Nexon  KRAZ',\n",
    " 'Nexon  KRAZ+',\n",
    " 'Sumo Gold CX ',\n",
    " 'Sumo Gold CX PS AC ',\n",
    " 'Sumo Gold CX - PS ',\n",
    " 'Sumo Gold EX ',\n",
    " 'Sumo Gold GX ',\n",
    " 'Hexa XE   4X2',\n",
    " 'Hexa XM   4X2',\n",
    " 'Hexa XM+   4X2',\n",
    " 'Hexa XMA   4X2',\n",
    " 'Hexa XT   4X2',\n",
    " 'Hexa XTA   4X2',\n",
    " 'Hexa XT   4X4',\n",
    " 'Safari Storme Lx Refreshed ',\n",
    " 'Safari Storme Ex Refreshed ',\n",
    " 'Safari Storme Vx Refreshed (400 NM) ',\n",
    " 'Safari Storme Vx Refreshed (400 NM) ']"
   ]
  },
  {
   "cell_type": "code",
   "execution_count": 19,
   "metadata": {},
   "outputs": [
    {
     "name": "stdout",
     "output_type": "stream",
     "text": [
      "['GenX', 'GenX', 'GenX', 'GenX', 'GenX', 'EMax', 'Tiago', 'Tiago', 'Tiago', 'Tiago', 'Tiago', 'Tiago', 'Tiago', 'Tiago', 'Tiago', 'Tiago', 'Tiago', 'Tiago', 'Tiago', 'Tiago', 'Tiago', 'Tiago', 'Tiago', 'Tiago', 'Tiago', 'Tiago', 'Bolt', 'Bolt', 'Bolt', 'Bolt', 'Bolt', 'Bolt', 'Bolt', 'Bolt', 'Tigor', 'Tigor', 'Tigor', 'Tigor', 'Tigor', 'Tigor', 'Tigor', 'Tigor', 'Tigor', 'ZEST', 'ZEST', 'ZEST', 'ZEST', 'ZEST', 'ZEST', 'ZEST', 'ZEST', 'ZEST', 'ZEST', 'ZEST', 'Nexon', 'Nexon', 'Nexon', 'Nexon', 'Nexon', 'Nexon', 'Nexon', 'Nexon', 'Nexon', 'Nexon', 'Nexon', 'Nexon', 'Nexon', 'Nexon', 'Nexon', 'Nexon', 'Nexon', 'Nexon', 'Nexon', 'Nexon', 'Nexon', 'Nexon', 'Sumo', 'Sumo', 'Sumo', 'Sumo', 'Sumo', 'Hexa', 'Hexa', 'Hexa', 'Hexa', 'Hexa', 'Hexa', 'Hexa', 'Safari', 'Safari', 'Safari', 'Safari']\n",
      "Length are equal\n",
      "Test Successful\n"
     ]
    }
   ],
   "source": [
    "# Your Code Here\n",
    "l = ['GenX XE', 'GenX XM', 'GenX XT', 'GenX XMA', 'GenX XTA', 'EMax XM', 'Tiago XB ', 'Tiago XE ',\n",
    "     'Tiago XE (O) ', 'Tiago XM ', 'Tiago XM (O) ', 'Tiago XT ', 'Tiago XT (O) ', 'Tiago XTA ', 'Tiago XZ W/O Alloy ',\n",
    "     'Tiago XZ ', 'Tiago XZA ', 'Tiago XB ', 'Tiago XE ', 'Tiago XE (O) ', 'Tiago XM ', 'Tiago XM (O) ', 'Tiago XT ',\n",
    "     'Tiago XT (O) ', 'Tiago XZ W/O Alloy ', 'Tiago XZ ', 'Bolt XE ', 'Bolt XM ', 'Bolt XMS ', 'Bolt XT ', 'Bolt XE ', \n",
    "     'Bolt XM ', 'Bolt XMS ', 'Bolt XT ', 'Tigor XE ', 'Tigor XM ', 'Tigor XZ ', 'Tigor XZ+ ', 'Tigor XZA ', 'Tigor XE ', \n",
    "     'Tigor XM ', 'Tigor XZ ', 'Tigor XZ+ ', 'ZEST XE ', 'ZEST XM ', 'ZEST XMS ', 'ZEST XT ', 'ZEST XE ', 'ZEST XM ',\n",
    "     'ZEST XMS ', 'ZEST XMA ', 'ZEST XT ', 'ZEST XTA ', 'ZEST PREMIO ', 'Nexon XE', 'Nexon XM', 'Nexon XMA', 'Nexon XT',\n",
    "     'Nexon XZ', 'Nexon XZ+', 'Nexon XZ+ With Dual Tone Roof', 'Nexon XZA+', 'Nexon XZA+ With Dual Tone Roof', 'Nexon XE',\n",
    "     'Nexon XM', 'Nexon XT', 'Nexon XMA', 'Nexon XZ', 'Nexon XZ+', 'Nexon XZ+ With Dual Tone Roof', 'Nexon XZA+',\n",
    "     'Nexon XZA+ With Dual Tone Roof', 'Nexon KRAZ', 'Nexon KRAZ+', 'Nexon KRAZ', 'Nexon KRAZ+', 'Sumo Gold CX ',\n",
    "     'Sumo Gold CX PS AC ', 'Sumo Gold CX - PS ', 'Sumo Gold EX ', 'Sumo Gold GX ', 'Hexa XE 4X2', 'Hexa XM 4X2',\n",
    "     'Hexa XM+ 4X2', 'Hexa XMA 4X2', 'Hexa XT 4X2', 'Hexa XTA 4X2', 'Hexa XT 4X4', 'Safari Storme Lx Refreshed ',\n",
    "     'Safari Storme Ex Refreshed ', 'Safari Storme Vx Refreshed (400 NM) ', 'Safari Storme Vx Refreshed (400 NM) ']\n",
    "result_list = [ ele.split()[0] for ele in l ]\n",
    "print(result_list)\n",
    "\n",
    "\n",
    "result_list2 = ['GenX', 'GenX', 'GenX', 'GenX', 'GenX', 'EMax', 'Tiago', 'Tiago', 'Tiago', 'Tiago', 'Tiago', 'Tiago', 'Tiago',\n",
    "                'Tiago', 'Tiago', 'Tiago', 'Tiago', 'Tiago', 'Tiago', 'Tiago', 'Tiago', 'Tiago', 'Tiago', 'Tiago', 'Tiago',\n",
    "                'Tiago', 'Bolt', 'Bolt', 'Bolt', 'Bolt', 'Bolt', 'Bolt', 'Bolt', 'Bolt', 'Tigor', 'Tigor', 'Tigor', 'Tigor',\n",
    "                'Tigor', 'Tigor', 'Tigor', 'Tigor', 'Tigor', 'ZEST', 'ZEST', 'ZEST', 'ZEST', 'ZEST', 'ZEST', 'ZEST', 'ZEST',\n",
    "                'ZEST', 'ZEST', 'ZEST', 'Nexon', 'Nexon', 'Nexon', 'Nexon', 'Nexon', 'Nexon', 'Nexon', 'Nexon', 'Nexon',\n",
    "                'Nexon', 'Nexon', 'Nexon', 'Nexon', 'Nexon', 'Nexon', 'Nexon', 'Nexon', 'Nexon', 'Nexon', 'Nexon', 'Nexon',\n",
    "                'Nexon', 'Sumo', 'Sumo', 'Sumo', 'Sumo', 'Sumo', 'Hexa', 'Hexa', 'Hexa', 'Hexa', 'Hexa', 'Hexa', 'Hexa',\n",
    "                'Safari', 'Safari', 'Safari', 'Safari']\n",
    "\n",
    "if (len(result_list) == len(result_list2)):\n",
    "    print(\"Length are equal\")\n",
    "    success = True\n",
    "    for i in range(len(result_list)):\n",
    "        if (result_list[i] == result_list2[i]):\n",
    "            pass\n",
    "        else:\n",
    "            print(\"Test Failed!\")\n",
    "            success = False\n",
    "            break\n",
    "    if (success):\n",
    "        print(\"Test Successful\")\n",
    "    "
   ]
  },
  {
   "cell_type": "code",
   "execution_count": 25,
   "metadata": {},
   "outputs": [],
   "source": [
    "\n"
   ]
  },
  {
   "cell_type": "markdown",
   "metadata": {},
   "source": [
    "Sample Output:\n",
    "===============\n",
    "92\n",
    "\n",
    "['GenX', 'GenX', 'GenX', 'GenX', 'GenX', 'EMax', 'Tiago', 'Tiago', 'Tiago', 'Tiago', 'Tiago', 'Tiago', 'Tiago', 'Tiago', 'Tiago', 'Tiago', 'Tiago', 'Tiago', 'Tiago', 'Tiago', 'Tiago', 'Tiago', 'Tiago', 'Tiago', 'Tiago', 'Tiago', 'Bolt', 'Bolt', 'Bolt', 'Bolt', 'Bolt', 'Bolt', 'Bolt', 'Bolt', 'Tigor', 'Tigor', 'Tigor', 'Tigor', 'Tigor', 'Tigor', 'Tigor', 'Tigor', 'Tigor', 'ZEST', 'ZEST', 'ZEST', 'ZEST', 'ZEST', 'ZEST', 'ZEST', 'ZEST', 'ZEST', 'ZEST', 'ZEST', 'Nexon', 'Nexon', 'Nexon', 'Nexon', 'Nexon', 'Nexon', 'Nexon', 'Nexon', 'Nexon', 'Nexon', 'Nexon', 'Nexon', 'Nexon', 'Nexon', 'Nexon', 'Nexon', 'Nexon', 'Nexon', 'Nexon', 'Nexon', 'Nexon', 'Nexon', 'Sumo', 'Sumo', 'Sumo', 'Sumo', 'Sumo', 'Hexa', 'Hexa', 'Hexa', 'Hexa', 'Hexa', 'Hexa', 'Hexa', 'Safari', 'Safari', 'Safari', 'Safari']"
   ]
  },
  {
   "cell_type": "code",
   "execution_count": null,
   "metadata": {},
   "outputs": [],
   "source": []
  },
  {
   "cell_type": "code",
   "execution_count": null,
   "metadata": {},
   "outputs": [],
   "source": []
  },
  {
   "cell_type": "code",
   "execution_count": null,
   "metadata": {},
   "outputs": [],
   "source": []
  },
  {
   "cell_type": "markdown",
   "metadata": {},
   "source": [
    "** Q. Write a program to generate prime numbers using the Charles Babbage formula, T=X^2+X+41 (X^2 = X square).**\n",
    "\n",
    "***STEPS INVOLVED***\n",
    "\n",
    "- **Step1: Find values of T giving input of X from 0 to 5**\n",
    "- **Step2: D1 is first difference column = D1 = (nth element of T - (n-1)th element T)**\n",
    "- **Step3: D2 is first difference column = D2 = (nth element of D1 - (n-1)th element of D1)**"
   ]
  },
  {
   "cell_type": "code",
   "execution_count": 27,
   "metadata": {},
   "outputs": [],
   "source": [
    "# Your Code Here\n"
   ]
  },
  {
   "cell_type": "code",
   "execution_count": 7,
   "metadata": {},
   "outputs": [
    {
     "name": "stdout",
     "output_type": "stream",
     "text": [
      "Sample Output:\n",
      "==========================\n",
      "D2\tD1\tT\tX\n",
      "==========================\n",
      "\t\t41\t0\n",
      "\t2\t43\t1\n",
      "2\t4\t47\t2\n",
      "2\t6\t53\t3\n",
      "2\t8\t61\t4\n"
     ]
    }
   ],
   "source": []
  },
  {
   "cell_type": "code",
   "execution_count": 28,
   "metadata": {},
   "outputs": [],
   "source": []
  },
  {
   "cell_type": "code",
   "execution_count": null,
   "metadata": {},
   "outputs": [],
   "source": []
  },
  {
   "cell_type": "code",
   "execution_count": null,
   "metadata": {},
   "outputs": [],
   "source": []
  }
 ],
 "metadata": {
  "kernelspec": {
   "display_name": "Python 3",
   "language": "python",
   "name": "python3"
  },
  "language_info": {
   "codemirror_mode": {
    "name": "ipython",
    "version": 3
   },
   "file_extension": ".py",
   "mimetype": "text/x-python",
   "name": "python",
   "nbconvert_exporter": "python",
   "pygments_lexer": "ipython3",
   "version": "3.7.4"
  }
 },
 "nbformat": 4,
 "nbformat_minor": 2
}
