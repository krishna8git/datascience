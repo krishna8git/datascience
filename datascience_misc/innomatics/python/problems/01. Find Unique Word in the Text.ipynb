{
 "cells": [
  {
   "cell_type": "code",
   "execution_count": 74,
   "metadata": {},
   "outputs": [],
   "source": [
    "para1 = \"\"\"\n",
    "Over six years ago, in December 1989, I was looking for a \"hobby\"\n",
    "programming project that would keep me occupied during the week around Christmas.\n",
    "My office (a government-run research lab in Amsterdam) would be closed,\n",
    "but I had a home computer, and not much else on my hands.\n",
    "I decided to write an interpreter for the new scripting language I had been thinking about lately:\n",
    "a descendant of ABC that would appeal to Unix/C hackers. I chose Python as a working title for the project,\n",
    "being in a slightly irreverent mood (and a big fan of Monty Python's Flying Circus).\n",
    "\"\"\".lower()\n",
    "\n",
    "\n",
    "para2 = \"\"\"\n",
    "It all started with ABC, a wonderful teaching language that\n",
    "I had helped create in the early eighties. It was an incredibly elegant\n",
    "and powerful language, aimed at non-professional programmers.\n",
    "Despite all its elegance and power and the availability of a free implementation,\n",
    "ABC never became popular in the Unix/C world.\n",
    "I can only speculate about the reasons, but here's a likely one: the difficulty of adding\n",
    "new \"primitive\" operations to ABC. It was a monolithic, \"closed system\", with only the most basic\n",
    "I/O operations: read a string from the console, write a string to the console.\n",
    "I decided not repeat this mistake in Python.\n",
    "\"\"\".lower()\n",
    "\n"
   ]
  },
  {
   "cell_type": "code",
   "execution_count": 79,
   "metadata": {},
   "outputs": [
    {
     "name": "stdout",
     "output_type": "stream",
     "text": [
      "\n",
      "over six years ago in december 1989 i was looking for a hobby\n",
      "programming project that would keep me occupied during the week around christmas\n",
      "my office a governmentrun research lab in amsterdam would be closed\n",
      "but i had a home computer and not much else on my hands\n",
      "i decided to write an interpreter for the new scripting language i had been thinking about lately\n",
      "a descendant of abc that would appeal to unixc hackers i chose python as a working title for the project\n",
      "being in a slightly irreverent mood and a big fan of monty pythons flying circus\n",
      "\n",
      "\n",
      "it all started with abc a wonderful teaching language that\n",
      "i had helped create in the early eighties it was an incredibly elegant\n",
      "and powerful language aimed at nonprofessional programmers\n",
      "despite all its elegance and power and the availability of a free implementation\n",
      "abc never became popular in the unixc world\n",
      "i can only speculate about the reasons but heres a likely one the difficulty of adding\n",
      "new primitive operations to abc it was a monolithic closed system with only the most basic\n",
      "io operations read a string from the console write a string to the console\n",
      "i decided not repeat this mistake in python\n",
      "\n"
     ]
    }
   ],
   "source": [
    "bad_chars = ['(', ')', '.', ',',':', \"'\", '\"', '~','`','!','@','#','$','%','^','&','*','<', '>',',','.','?','/', '\\\\', '|', '-','_']\n",
    "for i in bad_chars:\n",
    "    para1 = para1.replace(i, '')\n",
    "    para2 = para2.replace(i, '')\n",
    "\n",
    "print(para1)\n",
    "print(para2)\n"
   ]
  },
  {
   "cell_type": "code",
   "execution_count": 80,
   "metadata": {},
   "outputs": [
    {
     "name": "stdout",
     "output_type": "stream",
     "text": [
      "Total Number of words in para1:  101\n",
      "Total Number of words in para2:  105\n",
      "Total Number of Unique words in para1:  76\n",
      "Total Number of Unique words in para2:  73\n"
     ]
    }
   ],
   "source": [
    "words1 = para1.split()\n",
    "words2 = para2.split()\n",
    "\n",
    "print(\"Total Number of words in para1: \", len(words1))\n",
    "print(\"Total Number of words in para2: \", len(words2))\n",
    "\n",
    "set1 = set(words1)\n",
    "set2 = set(words2)\n",
    "\n",
    "# print(\"Words: \", words1)\n",
    "# print(\"Words: \", words2)\n",
    "\n",
    "print(\"Total Number of Unique words in para1: \", len(set1))\n",
    "print(\"Total Number of Unique words in para2: \", len(set2))\n"
   ]
  },
  {
   "cell_type": "code",
   "execution_count": 77,
   "metadata": {},
   "outputs": [],
   "source": [
    "intersected_set = set1.intersection(set2)"
   ]
  },
  {
   "cell_type": "code",
   "execution_count": 78,
   "metadata": {},
   "outputs": [
    {
     "name": "stdout",
     "output_type": "stream",
     "text": [
      "Total Number of Common words in set1 and set2:  22\n"
     ]
    }
   ],
   "source": [
    "print(\"Total Number of Common words in set1 and set2: \", len(intersected_set))\n"
   ]
  },
  {
   "cell_type": "code",
   "execution_count": 81,
   "metadata": {},
   "outputs": [],
   "source": [
    "symm_diff_set = set1.symmetric_difference(set2)"
   ]
  },
  {
   "cell_type": "code",
   "execution_count": 82,
   "metadata": {},
   "outputs": [
    {
     "name": "stdout",
     "output_type": "stream",
     "text": [
      "Total Number of unique words in both the sets:  105\n"
     ]
    }
   ],
   "source": [
    "print(\"Total Number of unique words in both the sets: \", len(symm_diff_set))"
   ]
  },
  {
   "cell_type": "code",
   "execution_count": null,
   "metadata": {},
   "outputs": [],
   "source": []
  }
 ],
 "metadata": {
  "kernelspec": {
   "display_name": "Python 3",
   "language": "python",
   "name": "python3"
  },
  "language_info": {
   "codemirror_mode": {
    "name": "ipython",
    "version": 3
   },
   "file_extension": ".py",
   "mimetype": "text/x-python",
   "name": "python",
   "nbconvert_exporter": "python",
   "pygments_lexer": "ipython3",
   "version": "3.7.3"
  }
 },
 "nbformat": 4,
 "nbformat_minor": 2
}
