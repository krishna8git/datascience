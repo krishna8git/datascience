{
 "cells": [
  {
   "cell_type": "code",
   "execution_count": 5,
   "metadata": {},
   "outputs": [],
   "source": [
    "text = \"\"\"Data Science is a process of extracting knowledge from the data,\n",
    "which has several process like data preparation, analysis and modelling.\n",
    "Data Preparation takes 70% of data science project rest is \n",
    "all about analysis amd modelling.\"\"\""
   ]
  },
  {
   "cell_type": "markdown",
   "metadata": {},
   "source": [
    "#### Find list of words\n",
    "\n",
    "* Starts with 'e' in text\n",
    "* ends with 'e'\n",
    "* starts with 'd'\n"
   ]
  },
  {
   "cell_type": "code",
   "execution_count": 6,
   "metadata": {},
   "outputs": [
    {
     "name": "stdout",
     "output_type": "stream",
     "text": [
      "Words starts with 'e': ['extracting']\n",
      "Words starts with 'd': ['data', 'data,', 'data', 'data', 'data']\n",
      "Words ends with 'e': ['science', 'knowledge', 'the', 'like', 'science']\n"
     ]
    }
   ],
   "source": [
    "liststarte = []\n",
    "listendse = []\n",
    "liststartd = []\n",
    "\n",
    "text = text.lower()\n",
    "\n",
    "for ele in text.split():\n",
    "    if ele.startswith('e'):\n",
    "        liststarte.append(ele)\n",
    "    elif ele.startswith('d'):\n",
    "        liststartd.append(ele)\n",
    "    elif ele.endswith('e'):\n",
    "        listendse.append(ele)\n",
    "\n",
    "print(\"Words starts with 'e':\", liststarte)\n",
    "print(\"Words starts with 'd':\", liststartd)\n",
    "print(\"Words ends with 'e':\", listendse)\n",
    "        "
   ]
  },
  {
   "cell_type": "code",
   "execution_count": 7,
   "metadata": {},
   "outputs": [
    {
     "name": "stdout",
     "output_type": "stream",
     "text": [
      "data\n",
      "science\n",
      "is\n",
      "a\n",
      "process\n",
      "Word 'process' found. Breaking ...\n"
     ]
    }
   ],
   "source": [
    "for ele in text.split():\n",
    "    print(ele)\n",
    "    if ele == 'process':\n",
    "        print(\"Word 'process' found. Breaking ...\")\n",
    "        break;\n"
   ]
  },
  {
   "cell_type": "code",
   "execution_count": null,
   "metadata": {},
   "outputs": [],
   "source": []
  }
 ],
 "metadata": {
  "kernelspec": {
   "display_name": "Python 3",
   "language": "python",
   "name": "python3"
  },
  "language_info": {
   "codemirror_mode": {
    "name": "ipython",
    "version": 3
   },
   "file_extension": ".py",
   "mimetype": "text/x-python",
   "name": "python",
   "nbconvert_exporter": "python",
   "pygments_lexer": "ipython3",
   "version": "3.7.3"
  }
 },
 "nbformat": 4,
 "nbformat_minor": 2
}
