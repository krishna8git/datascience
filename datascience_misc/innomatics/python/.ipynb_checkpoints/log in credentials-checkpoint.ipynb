{
 "cells": [
  {
   "cell_type": "markdown",
   "metadata": {},
   "source": [
    "# Login Credentials"
   ]
  },
  {
   "cell_type": "code",
   "execution_count": 1,
   "metadata": {},
   "outputs": [
    {
     "data": {
      "text/plain": [
       "dict"
      ]
     },
     "execution_count": 1,
     "metadata": {},
     "output_type": "execute_result"
    }
   ],
   "source": [
    "credentials = { }\n",
    "type(credentials)"
   ]
  },
  {
   "cell_type": "code",
   "execution_count": 11,
   "metadata": {},
   "outputs": [
    {
     "name": "stdout",
     "output_type": "stream",
     "text": [
      "Enter Username: Pant\n",
      "Enter password: pant123\n",
      "Hello Pant welcome, Lets start the game!!!\n"
     ]
    }
   ],
   "source": [
    "username = input(\"Enter Username: \")\n",
    "password = input(\"Enter password: \")\n",
    "\n",
    "if (username not in credentials.keys()):\n",
    "    print(\"User {} not registered! \".format(username))\n",
    "    print(\"Would you like to register? (Y/N): \")\n",
    "    ans = input()\n",
    "    if ans.lower() == 'y':\n",
    "        username = input(\"Enter Username: \")\n",
    "        password = input(\"Enter password: \")\n",
    "        \n",
    "        credentials[username] = password # we can also use credentials.update({username:password})\n",
    "        print(\"Added Successfully!\")\n",
    "    else:\n",
    "        print('Thank you!')\n",
    "elif credentials[username] == password:\n",
    "    print(\"Hello {} welcome, Lets start the game!!!\".format(username))\n",
    "else:\n",
    "    print('Wrong Username/Password')\n",
    "   "
   ]
  },
  {
   "cell_type": "code",
   "execution_count": 10,
   "metadata": {},
   "outputs": [
    {
     "data": {
      "text/plain": [
       "{'Virat': 'virat123',\n",
       " 'Rohit': 'rohit123',\n",
       " 'Dhawan': 'dhawan123',\n",
       " 'Rahane': 'rahane123',\n",
       " 'Dhoni': 'dhoni123',\n",
       " 'Pant': 'pant123'}"
      ]
     },
     "execution_count": 10,
     "metadata": {},
     "output_type": "execute_result"
    }
   ],
   "source": [
    "credentials"
   ]
  },
  {
   "cell_type": "markdown",
   "metadata": {},
   "source": [
    "### Note"
   ]
  },
  {
   "cell_type": "markdown",
   "metadata": {},
   "source": [
    "* **If**  takes a condition and executes the statments in the body a single time.\n",
    "* **While** loop needs the fail condition to get out of the loop or we can write break statement to get out of th eloop.\n",
    "* **for** loop doesn't need any fail condition it takes range and gets out of the loop automatically by the end of the range."
   ]
  },
  {
   "cell_type": "markdown",
   "metadata": {},
   "source": [
    "# Python while loop"
   ]
  },
  {
   "cell_type": "markdown",
   "metadata": {},
   "source": [
    "The while loop in Python is used to iterate over a block of code as long as the test expression(condition) is true."
   ]
  },
  {
   "cell_type": "markdown",
   "metadata": {},
   "source": [
    "## Syntax:"
   ]
  },
  {
   "cell_type": "markdown",
   "metadata": {},
   "source": [
    "    while test_expression:\n",
    "    \n",
    "        Body of while\n",
    "       \n",
    " The body of the loop is entered only if the test_expression evaluates to True.\n",
    " \n",
    " After every iteration, the test expression is checked again.\n",
    " \n",
    " This proces coninues until the test_expression evaluates to ***False***.\n",
    " \n",
    " "
   ]
  },
  {
   "cell_type": "markdown",
   "metadata": {},
   "source": [
    "# Example"
   ]
  },
  {
   "cell_type": "code",
   "execution_count": 12,
   "metadata": {},
   "outputs": [
    {
     "name": "stdout",
     "output_type": "stream",
     "text": [
      "I am a loop\n"
     ]
    }
   ],
   "source": [
    "loop_condition = True\n",
    "while loop_condition:\n",
    "    print(\"I am a loop\")\n",
    "    loop_condition = False\n",
    "    "
   ]
  },
  {
   "cell_type": "code",
   "execution_count": 13,
   "metadata": {},
   "outputs": [
    {
     "name": "stdout",
     "output_type": "stream",
     "text": [
      "0\n",
      "1\n",
      "2\n",
      "3\n",
      "4\n",
      "5\n"
     ]
    }
   ],
   "source": [
    "i = 0\n",
    "while i <= 5:\n",
    "    print(i)\n",
    "    i += 1\n"
   ]
  },
  {
   "cell_type": "code",
   "execution_count": 15,
   "metadata": {},
   "outputs": [
    {
     "name": "stdout",
     "output_type": "stream",
     "text": [
      "Hello from If block! Count is:  0\n",
      "Current count is:  1\n",
      "Hellow from while loop! Count is:  1\n",
      "Hellow from while loop! Count is:  2\n",
      "Hellow from while loop! Count is:  3\n",
      "Hellow from while loop! Count is:  4\n"
     ]
    }
   ],
   "source": [
    "count = 0\n",
    "\n",
    "if count < 5:\n",
    "    print(\"Hello from If block! Count is: \", count)\n",
    "    count += 1\n",
    "    print(\"Current count is: \", count)\n",
    "\n",
    "while count < 5:\n",
    "    print(\"Hellow from while loop! Count is: \", count)\n",
    "    count += 1\n"
   ]
  },
  {
   "cell_type": "markdown",
   "metadata": {},
   "source": [
    "## Using `break` statement"
   ]
  },
  {
   "cell_type": "code",
   "execution_count": 17,
   "metadata": {},
   "outputs": [
    {
     "name": "stdout",
     "output_type": "stream",
     "text": [
      "0\n",
      "Current count is:  1 \n",
      "\n",
      "--------------------------------------------------\n",
      "1\n",
      "Current count is:  2 \n",
      "\n",
      "--------------------------------------------------\n",
      "2\n",
      "Current count is:  3 \n",
      "\n",
      "--------------------------------------------------\n",
      "3\n",
      "Current count is:  4 \n",
      "\n",
      "--------------------------------------------------\n",
      "4\n",
      "Current count is:  5 \n",
      "\n",
      "--------------------------------------------------\n",
      "5\n",
      "Current count is:  6 \n",
      "\n",
      "--------------------------------------------------\n",
      "6\n",
      "Current count is:  7 \n",
      "\n",
      "--------------------------------------------------\n",
      "7\n",
      "Current count is:  8 \n",
      "\n",
      "--------------------------------------------------\n",
      "8\n",
      "Current count is:  9 \n",
      "\n",
      "--------------------------------------------------\n",
      "9\n",
      "Current count is:  10 \n",
      "\n",
      "--------------------------------------------------\n"
     ]
    }
   ],
   "source": [
    "count = 0\n",
    "\n",
    "while True:\n",
    "    print(count)\n",
    "    count += 1\n",
    "    print(\"Current count is: \", count, '\\n')\n",
    "    print('-' * 50)\n",
    "    if (count >= 10):\n",
    "        break\n"
   ]
  },
  {
   "cell_type": "code",
   "execution_count": null,
   "metadata": {},
   "outputs": [],
   "source": []
  }
 ],
 "metadata": {
  "kernelspec": {
   "display_name": "Python 3",
   "language": "python",
   "name": "python3"
  },
  "language_info": {
   "codemirror_mode": {
    "name": "ipython",
    "version": 3
   },
   "file_extension": ".py",
   "mimetype": "text/x-python",
   "name": "python",
   "nbconvert_exporter": "python",
   "pygments_lexer": "ipython3",
   "version": "3.7.3"
  }
 },
 "nbformat": 4,
 "nbformat_minor": 2
}
