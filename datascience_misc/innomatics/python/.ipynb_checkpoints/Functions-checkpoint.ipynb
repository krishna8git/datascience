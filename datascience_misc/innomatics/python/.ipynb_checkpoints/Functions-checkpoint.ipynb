{
 "cells": [
  {
   "cell_type": "markdown",
   "metadata": {},
   "source": [
    "# Functions and Outcomes"
   ]
  },
  {
   "cell_type": "markdown",
   "metadata": {},
   "source": [
    "> Best way of programming is done by dividing a big program into smaller modules and repeatedly call these modules.\n",
    "\n",
    "\n",
    "> Can be achived using functions.\n",
    "\n",
    "\n",
    "> Codes's Readability and flow of execution of small modules can be managed easily."
   ]
  },
  {
   "cell_type": "markdown",
   "metadata": {},
   "source": [
    "# Syntax and Basics of a Function"
   ]
  },
  {
   "cell_type": "code",
   "execution_count": 34,
   "metadata": {},
   "outputs": [],
   "source": [
    "def function_name(Parameters): # ------------------> Function Header\n",
    "    ###################### Function Body #####################\n",
    "    statement1\n",
    "    statement2\n",
    "    statement2\n",
    "    # ------------\n",
    "    # ------------\n",
    "    statementN\n"
   ]
  },
  {
   "cell_type": "markdown",
   "metadata": {},
   "source": [
    "***def* - Keyword which signifies the beginning of the function's definition. Name of function is followed by function's defintion.**"
   ]
  },
  {
   "cell_type": "markdown",
   "metadata": {},
   "source": [
    "***Function Header* - may contain zero or more number of parameters. These are called Formal Parameters.**"
   ]
  },
  {
   "cell_type": "markdown",
   "metadata": {},
   "source": [
    "***Function' Body* - is block of statements which defines the actions.**"
   ]
  },
  {
   "cell_type": "markdown",
   "metadata": {},
   "source": [
    "***Doc String*** (\"\"\"--------\"\"\"): **Triple quotes is used to write a docuementation for a method or class. It serves the purpose of getting the doc string when we press *shift + Tab.***"
   ]
  },
  {
   "cell_type": "markdown",
   "metadata": {},
   "source": [
    "# Function Junction"
   ]
  },
  {
   "cell_type": "code",
   "execution_count": 35,
   "metadata": {},
   "outputs": [],
   "source": [
    "def display():\n",
    "    \"\"\" prints 'Hello world' to console\"\"\"\n",
    "    print('Hello World')"
   ]
  },
  {
   "cell_type": "code",
   "execution_count": 36,
   "metadata": {},
   "outputs": [
    {
     "name": "stdout",
     "output_type": "stream",
     "text": [
      "Hello World\n"
     ]
    }
   ],
   "source": [
    "display()"
   ]
  },
  {
   "cell_type": "markdown",
   "metadata": {},
   "source": [
    "#### Sum of different ranges"
   ]
  },
  {
   "cell_type": "code",
   "execution_count": 37,
   "metadata": {},
   "outputs": [
    {
     "name": "stdout",
     "output_type": "stream",
     "text": [
      "Sum of Integers from 1 to 25 is =  325\n",
      "Sum of Integers from 50 to 75 is =  1625\n",
      "Sum of Integers from 90 to 101 is =  1045\n"
     ]
    }
   ],
   "source": [
    "sum = 0\n",
    "for i in range(1, 26):\n",
    "    sum = sum + i\n",
    "print('Sum of Integers from 1 to 25 is = ', sum)\n",
    "\n",
    "sum = 0\n",
    "for i in range(50, 76):\n",
    "    sum = sum + i\n",
    "print('Sum of Integers from 50 to 75 is = ', sum)\n",
    "\n",
    "sum = 0\n",
    "for i in range(90, 101):\n",
    "    sum = sum + i\n",
    "print('Sum of Integers from 90 to 101 is = ', sum)\n"
   ]
  },
  {
   "cell_type": "markdown",
   "metadata": {},
   "source": [
    "#### Sum of different ranges using function"
   ]
  },
  {
   "cell_type": "code",
   "execution_count": 40,
   "metadata": {},
   "outputs": [],
   "source": [
    "def sum(x, y):\n",
    "    \"\"\" Returns the sum of integers in give range \"\"\"\n",
    "    sum = 0\n",
    "    for i in range(x, y + 1):\n",
    "        sum += i\n",
    "    print('Sum of integers from {} to {} is {}'.format(x, y, sum))"
   ]
  },
  {
   "cell_type": "code",
   "execution_count": 41,
   "metadata": {},
   "outputs": [
    {
     "name": "stdout",
     "output_type": "stream",
     "text": [
      "Sum of integers from 1 to 25 is 325\n",
      "Sum of integers from 50 to 75 is 1625\n",
      "Sum of integers from 90 to 100 is 1045\n"
     ]
    }
   ],
   "source": [
    "sum(1, 25)\n",
    "sum(50, 75)\n",
    "sum(90, 100)"
   ]
  },
  {
   "cell_type": "code",
   "execution_count": 53,
   "metadata": {},
   "outputs": [],
   "source": [
    "def square(num):\n",
    "    \"\"\"returns the square of a given number.\"\"\"\n",
    "    square = num ** 2\n",
    "    # print(\"Square of {} is {}: \".format(num, square))\n",
    "    print(\"%d squared is %d.\"%(num, square))\n",
    "    return square"
   ]
  },
  {
   "cell_type": "code",
   "execution_count": 54,
   "metadata": {},
   "outputs": [
    {
     "name": "stdout",
     "output_type": "stream",
     "text": [
      "10 squared is 100.\n",
      "20 squared is 400.\n",
      "30 squared is 900.\n"
     ]
    },
    {
     "data": {
      "text/plain": [
       "900"
      ]
     },
     "execution_count": 54,
     "metadata": {},
     "output_type": "execute_result"
    }
   ],
   "source": [
    "square(10)\n",
    "square(20)\n",
    "square(30)"
   ]
  },
  {
   "cell_type": "markdown",
   "metadata": {},
   "source": [
    "#### Function to find a power of a given number"
   ]
  },
  {
   "cell_type": "code",
   "execution_count": 69,
   "metadata": {},
   "outputs": [],
   "source": [
    "def power(base, exponent):\n",
    "    result = base ** exponent\n",
    "    print(\"%d to the power of %d is %d\" %(base, exponent, result))\n",
    "    return result"
   ]
  },
  {
   "cell_type": "code",
   "execution_count": 70,
   "metadata": {},
   "outputs": [
    {
     "name": "stdout",
     "output_type": "stream",
     "text": [
      "4 to the power of 2 is 16\n",
      "16\n",
      "2 to the power of 4 is 16\n"
     ]
    },
    {
     "data": {
      "text/plain": [
       "16"
      ]
     },
     "execution_count": 70,
     "metadata": {},
     "output_type": "execute_result"
    }
   ],
   "source": [
    "print(power(4, 2))\n",
    "power(2, 4)"
   ]
  },
  {
   "cell_type": "markdown",
   "metadata": {},
   "source": [
    "# Positional Arguments"
   ]
  },
  {
   "cell_type": "code",
   "execution_count": 61,
   "metadata": {},
   "outputs": [
    {
     "name": "stdout",
     "output_type": "stream",
     "text": [
      "Place = Hyd, Pincode = 500082\n",
      "Place = 500082, Pincode = Hyd\n"
     ]
    }
   ],
   "source": [
    "def positional_args(place, pincode):\n",
    "    print(\"Place = {}, Pincode = {}\".format(place, pincode))\n",
    "\n",
    "positional_args('Hyd', 500082)\n",
    "positional_args(500082, 'Hyd')"
   ]
  },
  {
   "cell_type": "markdown",
   "metadata": {},
   "source": [
    "# Keyword Arguments"
   ]
  },
  {
   "cell_type": "code",
   "execution_count": 71,
   "metadata": {},
   "outputs": [],
   "source": [
    "def show(name, age):\n",
    "    print(\"Name = {}, Age = {}\".format(name, age))"
   ]
  },
  {
   "cell_type": "code",
   "execution_count": 72,
   "metadata": {},
   "outputs": [
    {
     "name": "stdout",
     "output_type": "stream",
     "text": [
      "Name = Rajinikanth, Age = 70\n"
     ]
    }
   ],
   "source": [
    "show(age = 70, name = 'Rajinikanth')"
   ]
  },
  {
   "cell_type": "code",
   "execution_count": 73,
   "metadata": {},
   "outputs": [
    {
     "name": "stdout",
     "output_type": "stream",
     "text": [
      "Name = Rajinikanth, Age = 70\n"
     ]
    }
   ],
   "source": [
    "show(name = 'Rajinikanth', age=70)"
   ]
  },
  {
   "cell_type": "markdown",
   "metadata": {},
   "source": [
    "# Parameters with Default arguments"
   ]
  },
  {
   "cell_type": "code",
   "execution_count": 84,
   "metadata": {},
   "outputs": [],
   "source": [
    "def area_circle(r, pi = 3.14):\n",
    "    area = pi * r ** 2\n",
    "    print(\"Area of Circle is multiplying the square of radius = {} with pi = {} is: {}\".format(r, pi, area))\n",
    "    \n"
   ]
  },
  {
   "cell_type": "code",
   "execution_count": 85,
   "metadata": {},
   "outputs": [
    {
     "name": "stdout",
     "output_type": "stream",
     "text": [
      "Area of Circle is multiplying the square of radius = 5 with pi = 3.14 is: 78.5\n"
     ]
    }
   ],
   "source": [
    "area_circle(5)"
   ]
  },
  {
   "cell_type": "markdown",
   "metadata": {},
   "source": [
    "# Overriding the Default Arguements is possible?"
   ]
  },
  {
   "cell_type": "markdown",
   "metadata": {},
   "source": [
    "yes, it is."
   ]
  },
  {
   "cell_type": "code",
   "execution_count": 86,
   "metadata": {},
   "outputs": [
    {
     "name": "stdout",
     "output_type": "stream",
     "text": [
      "Area of Circle is multiplying the square of radius = 5 with pi = 10 is: 250\n"
     ]
    }
   ],
   "source": [
    "area_circle(5, 10)"
   ]
  },
  {
   "cell_type": "markdown",
   "metadata": {},
   "source": [
    "# Local and Global Scope of a Variables"
   ]
  },
  {
   "cell_type": "markdown",
   "metadata": {},
   "source": [
    "* ***Varaibles and parameters that are initialized within a function including parameters, are siad to be exist in that function's local scope are called global variables***\n",
    "\n",
    "* ***Variables that are assigned outside fuction are siad to exist in global scope. Therefore, variables that exist in global score are called global variables.***"
   ]
  },
  {
   "cell_type": "code",
   "execution_count": 90,
   "metadata": {},
   "outputs": [],
   "source": [
    "p = 20\n",
    "\n",
    "def global_local_example():\n",
    "    q = 10\n",
    "    print(\"Local Variable Value\", p)\n",
    "    print(\"Global Variable value\", q)\n",
    "\n",
    "    "
   ]
  },
  {
   "cell_type": "code",
   "execution_count": 91,
   "metadata": {},
   "outputs": [
    {
     "name": "stdout",
     "output_type": "stream",
     "text": [
      "Local Variable Value 20\n",
      "Global Variable value 10\n"
     ]
    }
   ],
   "source": [
    "global_local_example()"
   ]
  },
  {
   "cell_type": "code",
   "execution_count": 94,
   "metadata": {},
   "outputs": [
    {
     "name": "stdout",
     "output_type": "stream",
     "text": [
      "Global variable value accessing outside function:  20\n"
     ]
    }
   ],
   "source": [
    "print(\"Global variable value accessing outside function: \", p)"
   ]
  },
  {
   "cell_type": "markdown",
   "metadata": {},
   "source": [
    "# Local and Global Variable with same name"
   ]
  },
  {
   "cell_type": "code",
   "execution_count": 96,
   "metadata": {},
   "outputs": [
    {
     "name": "stdout",
     "output_type": "stream",
     "text": [
      "10\n"
     ]
    }
   ],
   "source": [
    "a = 20\n",
    "def same():\n",
    "    a = 10\n",
    "    print(a)\n",
    "same()"
   ]
  },
  {
   "cell_type": "code",
   "execution_count": 97,
   "metadata": {},
   "outputs": [],
   "source": [
    "def rams(x):\n",
    "    return x"
   ]
  },
  {
   "cell_type": "code",
   "execution_count": 98,
   "metadata": {},
   "outputs": [
    {
     "data": {
      "text/plain": [
       "20"
      ]
     },
     "execution_count": 98,
     "metadata": {},
     "output_type": "execute_result"
    }
   ],
   "source": [
    "rams(20)"
   ]
  },
  {
   "cell_type": "markdown",
   "metadata": {},
   "source": [
    "# Global Statement"
   ]
  },
  {
   "cell_type": "code",
   "execution_count": 103,
   "metadata": {},
   "outputs": [],
   "source": [
    "a = 20\n",
    "def global_statement():\n",
    "    global a\n",
    "    print(\"Global: \", a)\n",
    "    a = 30"
   ]
  },
  {
   "cell_type": "code",
   "execution_count": 104,
   "metadata": {},
   "outputs": [
    {
     "name": "stdout",
     "output_type": "stream",
     "text": [
      "Global:  20\n"
     ]
    }
   ],
   "source": [
    "global_statement()"
   ]
  },
  {
   "cell_type": "code",
   "execution_count": 105,
   "metadata": {},
   "outputs": [
    {
     "name": "stdout",
     "output_type": "stream",
     "text": [
      "Value of a outside function =  30\n"
     ]
    }
   ],
   "source": [
    "print(\"Value of a outside function = \", a)"
   ]
  },
  {
   "cell_type": "markdown",
   "metadata": {},
   "source": [
    "# Globle Local example"
   ]
  },
  {
   "cell_type": "code",
   "execution_count": 112,
   "metadata": {},
   "outputs": [],
   "source": [
    "p = 20\n",
    "def global_local_example():\n",
    "    q = 10\n",
    "    print(\"Local Variable Value\", q)\n",
    "    print(\"-\" * 50)\n",
    "    print(\"Global Variable Value: \", p)\n",
    "\n",
    "    for i in range(0, 1):\n",
    "        q = 30\n",
    "        print(\"Local in for: \", q)"
   ]
  },
  {
   "cell_type": "code",
   "execution_count": 113,
   "metadata": {},
   "outputs": [
    {
     "name": "stdout",
     "output_type": "stream",
     "text": [
      "Local Variable Value 10\n",
      "--------------------------------------------------\n",
      "Global Variable Value:  20\n",
      "Local in for:  30\n"
     ]
    }
   ],
   "source": [
    "global_local_example()"
   ]
  },
  {
   "cell_type": "code",
   "execution_count": 114,
   "metadata": {},
   "outputs": [
    {
     "ename": "NameError",
     "evalue": "name 'q' is not defined",
     "output_type": "error",
     "traceback": [
      "\u001b[1;31m---------------------------------------------------------------------------\u001b[0m",
      "\u001b[1;31mNameError\u001b[0m                                 Traceback (most recent call last)",
      "\u001b[1;32m<ipython-input-114-d67647c0539c>\u001b[0m in \u001b[0;36m<module>\u001b[1;34m\u001b[0m\n\u001b[0;32m      1\u001b[0m \u001b[1;31m# It is an error accessing the local outside the function\u001b[0m\u001b[1;33m\u001b[0m\u001b[1;33m\u001b[0m\u001b[1;33m\u001b[0m\u001b[0m\n\u001b[1;32m----> 2\u001b[1;33m \u001b[0mprint\u001b[0m\u001b[1;33m(\u001b[0m\u001b[1;34m\"Local Variable Value accessing outside the function: \"\u001b[0m\u001b[1;33m,\u001b[0m \u001b[0mq\u001b[0m\u001b[1;33m)\u001b[0m\u001b[1;33m\u001b[0m\u001b[1;33m\u001b[0m\u001b[0m\n\u001b[0m",
      "\u001b[1;31mNameError\u001b[0m: name 'q' is not defined"
     ]
    }
   ],
   "source": [
    "# It is an error accessing the local outside the function\n",
    "print(\"Local Variable Value accessing outside the function: \", q)"
   ]
  },
  {
   "cell_type": "code",
   "execution_count": null,
   "metadata": {},
   "outputs": [],
   "source": []
  }
 ],
 "metadata": {
  "kernelspec": {
   "display_name": "Python 3",
   "language": "python",
   "name": "python3"
  },
  "language_info": {
   "codemirror_mode": {
    "name": "ipython",
    "version": 3
   },
   "file_extension": ".py",
   "mimetype": "text/x-python",
   "name": "python",
   "nbconvert_exporter": "python",
   "pygments_lexer": "ipython3",
   "version": "3.7.3"
  }
 },
 "nbformat": 4,
 "nbformat_minor": 2
}
