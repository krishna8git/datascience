{
 "cells": [
  {
   "cell_type": "markdown",
   "metadata": {},
   "source": [
    "**Jupyter notebook is a flezible tool that helps us create readbale analysis where we can keep our code, images, comments and plots together.**"
   ]
  },
  {
   "cell_type": "markdown",
   "metadata": {},
   "source": [
    "# Headers"
   ]
  },
  {
   "cell_type": "markdown",
   "metadata": {},
   "source": [
    "We can have headers in jupyter notebooks. There are siz headings based on their level of importance."
   ]
  },
  {
   "cell_type": "markdown",
   "metadata": {},
   "source": [
    "# H1\n",
    "## H2\n",
    "### H3\n",
    "#### H4\n",
    "##### H5\n",
    "###### H6\n"
   ]
  },
  {
   "cell_type": "markdown",
   "metadata": {},
   "source": [
    "# Blockquote"
   ]
  },
  {
   "cell_type": "markdown",
   "metadata": {},
   "source": [
    "Jupyter helps us write blockquotes(blockquotes are pieces of information which are independent from the main article and provides extra information to understand our article more)"
   ]
  },
  {
   "cell_type": "markdown",
   "metadata": {},
   "source": [
    "We can write `>` before every line.\n",
    "\n",
    "> This is a blockquote with two paragraphs. Lorem ipsum dolor sit amet,\n",
    "consectetuer adipscing elit. Aliquam\n",
    "hendreit mi psuere lectus. Vestibulum enim wise, viverra nec, fringilla in, laoreet vitae, risus.\n",
    ">\n",
    "> one two three four\n",
    ">\n",
    ">\n",
    "> five six seven\n"
   ]
  },
  {
   "cell_type": "markdown",
   "metadata": {},
   "source": [
    "Blocksquotes can also be nested by adding additional levels of >"
   ]
  },
  {
   "cell_type": "markdown",
   "metadata": {},
   "source": [
    "> This is the first level of quoting.\n",
    "> \n",
    "> > This is nested blockquote\n",
    ">\n",
    "> Back to the first level.\n"
   ]
  },
  {
   "cell_type": "markdown",
   "metadata": {},
   "source": [
    "> ## This is Header.\n",
    ">\n",
    "> 1. This is first list item.\n",
    "> 2. This is second list item.\n",
    ">\n",
    "> Here's some example code:\n",
    ">\n",
    ">    return shell_exec(\"echo $input | $markdown_script\");"
   ]
  },
  {
   "cell_type": "markdown",
   "metadata": {},
   "source": [
    "# Lists"
   ]
  },
  {
   "cell_type": "markdown",
   "metadata": {},
   "source": [
    "Markdown supports ordered (numbered) and unordered (bulleted) lists."
   ]
  },
  {
   "cell_type": "markdown",
   "metadata": {},
   "source": [
    "## Unordered Lists"
   ]
  },
  {
   "cell_type": "markdown",
   "metadata": {},
   "source": [
    "* Red\n",
    "* Green\n",
    "* Blue\n",
    "+ Yellow\n",
    "+ Orange\n",
    "+ Magenta\n",
    "- Violet\n",
    "- Cyan"
   ]
  },
  {
   "cell_type": "markdown",
   "metadata": {},
   "source": [
    "1. New York\n",
    "2. Berlin\n",
    "3. Paris\n",
    "4. Barcelone\n",
    "9439484. London\n",
    "99. Berlin"
   ]
  },
  {
   "cell_type": "markdown",
   "metadata": {},
   "source": [
    "# Code Blocks"
   ]
  },
  {
   "cell_type": "markdown",
   "metadata": {},
   "source": [
    "Pre-formatted code blocks are used for writing about programming or markup source code."
   ]
  },
  {
   "cell_type": "markdown",
   "metadata": {},
   "source": [
    "Here is an example of Python script:\n",
    "\n",
    "    if a > b:\n",
    "        print('A greater than B')\n",
    "    else:\n",
    "        print('B greater than A')\n"
   ]
  },
  {
   "cell_type": "markdown",
   "metadata": {},
   "source": [
    "***\n",
    "\n",
    "* * *\n",
    "\n",
    "---\n",
    "\n",
    "________________\n"
   ]
  },
  {
   "cell_type": "markdown",
   "metadata": {},
   "source": [
    "Go to [Google](https://www.google.com/ \"to search for anything\")"
   ]
  },
  {
   "cell_type": "markdown",
   "metadata": {},
   "source": [
    "# Images"
   ]
  },
  {
   "cell_type": "markdown",
   "metadata": {},
   "source": [
    "![Welcome to Innomatics](https://www.innomatics.in/wp-content/uploads/2019/06/Innomatics-Research-Labs-Logo-Data-Science-training-institue-in-kukatpally-Hyderabad-India.png \"Welcome to Innomatics\")"
   ]
  },
  {
   "cell_type": "markdown",
   "metadata": {},
   "source": [
    "**double asterisks strong**\n",
    "\n",
    "__double underscores strong__\n",
    "\n",
    "*single asterisk emphasis*\n",
    "\n",
    "_single underscore emphais_\n"
   ]
  },
  {
   "cell_type": "markdown",
   "metadata": {},
   "source": [
    "\n",
    "Use the `print()` funtion."
   ]
  },
  {
   "cell_type": "code",
   "execution_count": null,
   "metadata": {},
   "outputs": [],
   "source": []
  }
 ],
 "metadata": {
  "kernelspec": {
   "display_name": "Python 3",
   "language": "python",
   "name": "python3"
  },
  "language_info": {
   "codemirror_mode": {
    "name": "ipython",
    "version": 3
   },
   "file_extension": ".py",
   "mimetype": "text/x-python",
   "name": "python",
   "nbconvert_exporter": "python",
   "pygments_lexer": "ipython3",
   "version": "3.7.3"
  }
 },
 "nbformat": 4,
 "nbformat_minor": 2
}
