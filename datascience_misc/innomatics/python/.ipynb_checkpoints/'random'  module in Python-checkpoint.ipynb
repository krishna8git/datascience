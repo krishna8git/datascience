{
 "cells": [
  {
   "cell_type": "markdown",
   "metadata": {},
   "source": [
    "#### Generate 10 random number in the range of 0 to 30"
   ]
  },
  {
   "cell_type": "code",
   "execution_count": 6,
   "metadata": {},
   "outputs": [
    {
     "name": "stdout",
     "output_type": "stream",
     "text": [
      "<class 'list'>\n",
      "Initial List:  []\n",
      "\n",
      "\n",
      "Iteration 0 List = [0]\n",
      "Iteration 1 List = [0, 9]\n",
      "Iteration 2 List = [0, 9, 15]\n",
      "Iteration 3 List = [0, 9, 15, 2]\n",
      "Iteration 4 List = [0, 9, 15, 2, 13]\n",
      "Iteration 5 List = [0, 9, 15, 2, 13, 19]\n",
      "Iteration 6 List = [0, 9, 15, 2, 13, 19, 15]\n",
      "Iteration 7 List = [0, 9, 15, 2, 13, 19, 15, 13]\n",
      "Iteration 8 List = [0, 9, 15, 2, 13, 19, 15, 13, 11]\n",
      "Iteration 9 List = [0, 9, 15, 2, 13, 19, 15, 13, 11, 26]\n",
      "--------------------------------------------------\n",
      "List at the end:  [0, 9, 15, 2, 13, 19, 15, 13, 11, 26]\n"
     ]
    }
   ],
   "source": [
    "import random\n",
    "\n",
    "randl = []\n",
    "\n",
    "print(type(randl))\n",
    "\n",
    "print('Initial List: ', randl)\n",
    "print('\\n')\n",
    "\n",
    "for i in range(0, 10):\n",
    "    randl.append(random.randint(0, 30))\n",
    "    print(\"Iteration {} List = {}\".format(i, randl))\n",
    "    \n",
    "print(\"-\" * 50)\n",
    "print(\"List at the end: \", randl)\n"
   ]
  },
  {
   "cell_type": "markdown",
   "metadata": {},
   "source": [
    "#### Find the product of all the numbers present in a list"
   ]
  },
  {
   "cell_type": "code",
   "execution_count": 8,
   "metadata": {},
   "outputs": [
    {
     "ename": "SyntaxError",
     "evalue": "invalid syntax (<ipython-input-8-88120cf7c78b>, line 8)",
     "output_type": "error",
     "traceback": [
      "\u001b[1;36m  File \u001b[1;32m\"<ipython-input-8-88120cf7c78b>\"\u001b[1;36m, line \u001b[1;32m8\u001b[0m\n\u001b[1;33m    product *= ele for ele in lst\u001b[0m\n\u001b[1;37m                     ^\u001b[0m\n\u001b[1;31mSyntaxError\u001b[0m\u001b[1;31m:\u001b[0m invalid syntax\n"
     ]
    }
   ],
   "source": [
    "lst = [10, 20, 30, 40, 50 ]\n",
    "product = 1\n",
    "\n",
    "for ele in lst:\n",
    "    product *= ele\n",
    "\n",
    "print(\"Final Product of all elements in the list: \", product)\n"
   ]
  },
  {
   "cell_type": "code",
   "execution_count": null,
   "metadata": {},
   "outputs": [],
   "source": []
  }
 ],
 "metadata": {
  "kernelspec": {
   "display_name": "Python 3",
   "language": "python",
   "name": "python3"
  },
  "language_info": {
   "codemirror_mode": {
    "name": "ipython",
    "version": 3
   },
   "file_extension": ".py",
   "mimetype": "text/x-python",
   "name": "python",
   "nbconvert_exporter": "python",
   "pygments_lexer": "ipython3",
   "version": "3.7.3"
  }
 },
 "nbformat": 4,
 "nbformat_minor": 2
}
