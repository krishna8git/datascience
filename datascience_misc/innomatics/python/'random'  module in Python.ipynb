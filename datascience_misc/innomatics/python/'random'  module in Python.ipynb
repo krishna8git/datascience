{
 "cells": [
  {
   "cell_type": "markdown",
   "metadata": {},
   "source": [
    "#### Generate 10 random number in the range of 0 to 30"
   ]
  },
  {
   "cell_type": "code",
   "execution_count": 6,
   "metadata": {},
   "outputs": [
    {
     "name": "stdout",
     "output_type": "stream",
     "text": [
      "<class 'list'>\n",
      "Initial List:  []\n",
      "\n",
      "\n",
      "Iteration 0 List = [0]\n",
      "Iteration 1 List = [0, 9]\n",
      "Iteration 2 List = [0, 9, 15]\n",
      "Iteration 3 List = [0, 9, 15, 2]\n",
      "Iteration 4 List = [0, 9, 15, 2, 13]\n",
      "Iteration 5 List = [0, 9, 15, 2, 13, 19]\n",
      "Iteration 6 List = [0, 9, 15, 2, 13, 19, 15]\n",
      "Iteration 7 List = [0, 9, 15, 2, 13, 19, 15, 13]\n",
      "Iteration 8 List = [0, 9, 15, 2, 13, 19, 15, 13, 11]\n",
      "Iteration 9 List = [0, 9, 15, 2, 13, 19, 15, 13, 11, 26]\n",
      "--------------------------------------------------\n",
      "List at the end:  [0, 9, 15, 2, 13, 19, 15, 13, 11, 26]\n"
     ]
    }
   ],
   "source": [
    "import random\n",
    "\n",
    "randl = []\n",
    "\n",
    "print(type(randl))\n",
    "\n",
    "print('Initial List: ', randl)\n",
    "print('\\n')\n",
    "\n",
    "for i in range(0, 10):\n",
    "    randl.append(random.randint(0, 30))\n",
    "    print(\"Iteration {} List = {}\".format(i, randl))\n",
    "    \n",
    "print(\"-\" * 50)\n",
    "print(\"List at the end: \", randl)\n"
   ]
  },
  {
   "cell_type": "markdown",
   "metadata": {},
   "source": [
    "#### Find the product of all the numbers present in a list"
   ]
  },
  {
   "cell_type": "code",
   "execution_count": 10,
   "metadata": {},
   "outputs": [
    {
     "name": "stdout",
     "output_type": "stream",
     "text": [
      "Enter element: 10\n",
      "Enter element: 20\n",
      "Enter element: 30\n",
      "Enter element: 40\n",
      "Enter element: 50\n",
      "Final Product of all elements in the list:  12000000\n"
     ]
    }
   ],
   "source": [
    "lst = [int(input('Enter element: ')) for i in range(0, 5)]\n",
    "product = 1\n",
    "\n",
    "for ele in lst:\n",
    "    product *= ele\n",
    "\n",
    "print(\"Final Product of all elements in the list: \", product)\n"
   ]
  },
  {
   "cell_type": "markdown",
   "metadata": {},
   "source": [
    "#### Extract the elements that are divisible by 4 from the list"
   ]
  },
  {
   "cell_type": "code",
   "execution_count": 33,
   "metadata": {},
   "outputs": [
    {
     "name": "stdout",
     "output_type": "stream",
     "text": [
      "Elements that are divisible by 4:  [400, 420, 440, 460, 480]\n"
     ]
    }
   ],
   "source": [
    "lst = []\n",
    "for i in range(400, 500, 10):\n",
    "    if i % 4 == 0:\n",
    "        lst.append(i)\n",
    "\n",
    "print(\"Elements that are divisible by 4: \", lst)"
   ]
  },
  {
   "cell_type": "markdown",
   "metadata": {},
   "source": [
    "#### Filter out even and odd number bit not zero in the list"
   ]
  },
  {
   "cell_type": "code",
   "execution_count": 34,
   "metadata": {},
   "outputs": [
    {
     "name": "stdout",
     "output_type": "stream",
     "text": [
      "Even Numbers List: [30, 16, 12, 30, 8, 22, 20, 12, 2, 20, 6, 4]\n",
      "Odd Numbers List: [15, 27, 3, 5, 17, 13, 29]\n"
     ]
    }
   ],
   "source": [
    "import random\n",
    "oddlst = []\n",
    "evenlst = []\n",
    "for ele in range(0, 20):\n",
    "    i = random.randint(0, 30)\n",
    "    if i:\n",
    "        if i % 2:\n",
    "            oddlst.append(i)\n",
    "        else:\n",
    "            evenlst.append(i)\n",
    "\n",
    "print(\"Even Numbers List:\", evenlst)\n",
    "print(\"Odd Numbers List:\", oddlst)\n"
   ]
  },
  {
   "cell_type": "code",
   "execution_count": 38,
   "metadata": {},
   "outputs": [
    {
     "name": "stdout",
     "output_type": "stream",
     "text": [
      "Evens: [18, 20, 24, 24, 24, 18, 16, 22, 10, 10]\n",
      "Odds: [11, 19, 27, 21, 13, 25, 1, 11, 27, 19]\n"
     ]
    }
   ],
   "source": [
    "even = []\n",
    "odd = []\n",
    "randl = []\n",
    "for i in range(0, 20):\n",
    "    randl.append(random.randint(0, 30))\n",
    "\n",
    "for ele in randl:\n",
    "    if ele:\n",
    "        if ele % 2:\n",
    "            odd.append(ele)\n",
    "        else:\n",
    "            even.append(ele)\n",
    "print(\"Evens:\", even)\n",
    "print(\"Odds:\", odd)"
   ]
  },
  {
   "cell_type": "code",
   "execution_count": null,
   "metadata": {},
   "outputs": [],
   "source": []
  }
 ],
 "metadata": {
  "kernelspec": {
   "display_name": "Python 3",
   "language": "python",
   "name": "python3"
  },
  "language_info": {
   "codemirror_mode": {
    "name": "ipython",
    "version": 3
   },
   "file_extension": ".py",
   "mimetype": "text/x-python",
   "name": "python",
   "nbconvert_exporter": "python",
   "pygments_lexer": "ipython3",
   "version": "3.7.3"
  }
 },
 "nbformat": 4,
 "nbformat_minor": 2
}
