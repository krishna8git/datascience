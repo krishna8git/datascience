{
 "cells": [
  {
   "cell_type": "markdown",
   "metadata": {},
   "source": [
    "# Matplotlib"
   ]
  },
  {
   "cell_type": "markdown",
   "metadata": {},
   "source": [
    "## Introduction"
   ]
  },
  {
   "cell_type": "markdown",
   "metadata": {},
   "source": [
    "Matplotlib is the \"grandfather\" library of data visualization with Python. It was created by John Hunter. He created it to try to replicate MatLab's plotting capabilities in Python. So if you happen to be familiar with matlab, matplotlib will feel natural to you.\n",
    "\n",
    "\n",
    "It is an excellent 2D and 3D graphics library for generating scientific figures.\n",
    "\n",
    "\n",
    "Some of the major Pors of Matplotlib are:\n",
    "\n",
    "\n",
    "* Generally easy to get started for simple plots.\n",
    "* Support for custom labels and texts.\n",
    "* Great control of every element in a figure.\n",
    "* High-Quality output in many formats.\n",
    "* Very customizable in general.\n",
    "\n",
    "Matplotlib allows us to create reproduciible figures programmatically.\n",
    "\n",
    "Reference Link: https://matplotlib.org/"
   ]
  },
  {
   "cell_type": "markdown",
   "metadata": {},
   "source": [
    "# Installation"
   ]
  },
  {
   "cell_type": "markdown",
   "metadata": {},
   "source": [
    "    pip install matplotlib\n",
    "    \n",
    "        or\n",
    "\n",
    "    conda install matplotlib"
   ]
  },
  {
   "cell_type": "markdown",
   "metadata": {},
   "source": [
    "# Importing"
   ]
  },
  {
   "cell_type": "markdown",
   "metadata": {},
   "source": [
    "Import the `matplotlib.pyplot` module under the name plt(the tidy way):"
   ]
  },
  {
   "cell_type": "code",
   "execution_count": 2,
   "metadata": {},
   "outputs": [],
   "source": [
    "import matplotlib.pyplot as plt"
   ]
  },
  {
   "cell_type": "markdown",
   "metadata": {},
   "source": [
    "We'll also need to use the below line to see plots in the notebook."
   ]
  },
  {
   "cell_type": "code",
   "execution_count": 4,
   "metadata": {},
   "outputs": [],
   "source": [
    "%matplotlib inline"
   ]
  },
  {
   "cell_type": "markdown",
   "metadata": {},
   "source": [
    "The above line is only for jupyter notebooks, if we use any other editor, we will use `plt.show()` at the end of all our plotting commands to have the figure pop up in another window."
   ]
  },
  {
   "cell_type": "markdown",
   "metadata": {},
   "source": [
    "# Basic Example"
   ]
  },
  {
   "cell_type": "markdown",
   "metadata": {},
   "source": [
    "Example using two numpy arrays. You can slo use lists, but most likely you'll be passing numpy arrays or pandas columns (which are ofcourse arrays)."
   ]
  },
  {
   "cell_type": "code",
   "execution_count": 6,
   "metadata": {},
   "outputs": [],
   "source": [
    "import numpy as np\n",
    "\n",
    "x = np.linspace(0, 5, 11)\n",
    "y = x ** 2"
   ]
  },
  {
   "cell_type": "code",
   "execution_count": 8,
   "metadata": {},
   "outputs": [
    {
     "name": "stdout",
     "output_type": "stream",
     "text": [
      "x =  [0.  0.5 1.  1.5 2.  2.5 3.  3.5 4.  4.5 5. ]\n",
      "y =  [ 0.    0.25  1.    2.25  4.    6.25  9.   12.25 16.   20.25 25.  ]\n"
     ]
    }
   ],
   "source": [
    "print(\"x = \", x)\n",
    "print(\"y = \", y)"
   ]
  },
  {
   "cell_type": "code",
   "execution_count": 9,
   "metadata": {},
   "outputs": [
    {
     "data": {
      "text/plain": [
       "array([0. , 0.5, 1. , 1.5, 2. , 2.5, 3. , 3.5, 4. , 4.5, 5. ])"
      ]
     },
     "execution_count": 9,
     "metadata": {},
     "output_type": "execute_result"
    }
   ],
   "source": [
    "x"
   ]
  },
  {
   "cell_type": "code",
   "execution_count": 10,
   "metadata": {},
   "outputs": [
    {
     "data": {
      "text/plain": [
       "array([ 0.  ,  0.25,  1.  ,  2.25,  4.  ,  6.25,  9.  , 12.25, 16.  ,\n",
       "       20.25, 25.  ])"
      ]
     },
     "execution_count": 10,
     "metadata": {},
     "output_type": "execute_result"
    }
   ],
   "source": [
    "y"
   ]
  },
  {
   "cell_type": "markdown",
   "metadata": {},
   "source": [
    "# Basic Matplotlib Commands"
   ]
  },
  {
   "cell_type": "markdown",
   "metadata": {},
   "source": [
    "We can create very simple line plot using the following."
   ]
  },
  {
   "cell_type": "code",
   "execution_count": 20,
   "metadata": {},
   "outputs": [
    {
     "data": {
      "image/png": "[encoded data removed]",
      "text/plain": [
       "<Figure size 432x288 with 1 Axes>"
      ]
     },
     "metadata": {
      "needs_background": "light"
     },
     "output_type": "display_data"
    }
   ],
   "source": [
    "plt.plot(x, y, 'r') # 'r' is the color red\n",
    "plt.xlabel('X axis Title Here')\n",
    "plt.ylabel('Y axis Title Here')\n",
    "plt.title('Y = X ** 2')\n",
    "plt.show()"
   ]
  },
  {
   "cell_type": "markdown",
   "metadata": {},
   "source": [
    "The above plot represents Y = X ** 2"
   ]
  },
  {
   "cell_type": "markdown",
   "metadata": {},
   "source": [
    "# Creating Multiple Plots on Same Canvas"
   ]
  },
  {
   "cell_type": "code",
   "execution_count": 23,
   "metadata": {},
   "outputs": [
    {
     "data": {
      "image/png": "[encoded data removed]",
      "text/plain": [
       "<Figure size 432x288 with 2 Axes>"
      ]
     },
     "metadata": {
      "needs_background": "light"
     },
     "output_type": "display_data"
    }
   ],
   "source": [
    "# plt.subplot(nrows, ncols, plot_number)\n",
    "\n",
    "# First plot\n",
    "plt.subplot(1, 2, 1)\n",
    "plt.plot(x, y, 'r--')\n",
    "plt.xlabel('X')\n",
    "plt.ylabel('Y')\n",
    "plt.title(\"Y = X\")\n",
    "\n",
    "# Second Plot\n",
    "plt.subplot(1, 2, 2)\n",
    "plt.plot(y, x, 'g*-')\n",
    "plt.xlabel('X')\n",
    "plt.ylabel('Y ** 2')\n",
    "plt.title(\"Y = X ** 2\")\n",
    "\n",
    "plt.show()"
   ]
  },
  {
   "cell_type": "markdown",
   "metadata": {},
   "source": [
    "# Introduction to the Object Oriented Method"
   ]
  },
  {
   "cell_type": "markdown",
   "metadata": {},
   "source": [
    "The main idea in using the more formal Object Oriented method is to create figure objects and then just call methods or attributes off that object. This approach is nicer when dealing with a canvas that has multiple plots on it.\n",
    "\n",
    "TO begin we create a figure instance. Then we can add axes to that figure:"
   ]
  },
  {
   "cell_type": "code",
   "execution_count": 29,
   "metadata": {},
   "outputs": [
    {
     "data": {
      "text/plain": [
       "Text(0.5, 1.0, 'Set Title')"
      ]
     },
     "execution_count": 29,
     "metadata": {},
     "output_type": "execute_result"
    },
    {
     "data": {
      "image/png": "[encoded data removed]",
      "text/plain": [
       "<Figure size 432x288 with 1 Axes>"
      ]
     },
     "metadata": {
      "needs_background": "light"
     },
     "output_type": "display_data"
    }
   ],
   "source": [
    "# create Figure (Figure is nothing but an empty canvas)\n",
    "fig = plt.figure()\n",
    "\n",
    "# Add set of axes to figure\n",
    "axes = fig.add_axes([0.1, 0.1,0.8, 0.8 ]) # Left, bottom, width, height\n",
    "\n",
    "# plot on that set of axes\n",
    "axes.plot(x, y, 'b')  # blue color\n",
    "axes.set_xlabel('Set X Label') # Notice the use of set_ to begin methods.\n",
    "axes.set_ylabel('Set Y Label')\n",
    "axes.set_title('Set Title')\n"
   ]
  },
  {
   "cell_type": "code",
   "execution_count": 42,
   "metadata": {},
   "outputs": [
    {
     "data": {
      "text/plain": [
       "Text(0.5, 1.0, 'Axes2 Title')"
      ]
     },
     "execution_count": 42,
     "metadata": {},
     "output_type": "execute_result"
    },
    {
     "data": {
      "image/png": "[encoded data removed]",
      "text/plain": [
       "<Figure size 432x288 with 2 Axes>"
      ]
     },
     "metadata": {
      "needs_background": "light"
     },
     "output_type": "display_data"
    }
   ],
   "source": [
    "# create Figure (Figure is nothing but an empty canvas)\n",
    "fig = plt.figure()\n",
    "\n",
    "# Add set of axes to figure\n",
    "axes1 = fig.add_axes([0.1, 0.1, 0.8, 0.8 ]) # Left, bottom, width, height\n",
    "axes2 = fig.add_axes([0.2, 0.5, 0.4, 0.3])\n",
    "\n",
    "# plot on that set of axes\n",
    "axes1.plot(x, y, 'b')  # blue color\n",
    "axes1.set_xlabel('Set X Label') # Notice the use of set_ to begin methods.\n",
    "axes1.set_ylabel('Set Y Label')\n",
    "axes1.set_title('Set Title')\n",
    "\n",
    "axes2.plot(y, x, 'r')\n",
    "axes2.set_xlabel('X_label_axes2')\n",
    "axes2.set_ylabel('Y_label_axes2')\n",
    "axes2.set_title('Axes2 Title')\n",
    "\n"
   ]
  },
  {
   "cell_type": "code",
   "execution_count": 43,
   "metadata": {},
   "outputs": [
    {
     "data": {
      "text/plain": [
       "Text(0.5, 1.0, 'title')"
      ]
     },
     "execution_count": 43,
     "metadata": {},
     "output_type": "execute_result"
    },
    {
     "data": {
      "image/png": "[encoded data removed]",
      "text/plain": [
       "<Figure size 864x216 with 1 Axes>"
      ]
     },
     "metadata": {
      "needs_background": "light"
     },
     "output_type": "display_data"
    }
   ],
   "source": [
    "fig, axes = plt.subplots(figsize=(12,3))\n",
    "\n",
    "axes.plot(x, y, 'r')\n",
    "axes.set_xlabel('x')\n",
    "axes.set_ylabel('y')\n",
    "axes.set_title('title')\n"
   ]
  },
  {
   "cell_type": "markdown",
   "metadata": {},
   "source": [
    "# Saving Figures"
   ]
  },
  {
   "cell_type": "markdown",
   "metadata": {},
   "source": [
    "Matplotlib can generate high-quality output in a number formats, including PNG, JPG, EPS, SVG, PGF, and PDF.\n",
    "\n",
    "To save a figure to a file we can use the `savefig` method in the `Figure` class.\n"
   ]
  },
  {
   "cell_type": "code",
   "execution_count": 44,
   "metadata": {},
   "outputs": [],
   "source": [
    "fig.savefig(\"filename.png\")"
   ]
  },
  {
   "cell_type": "markdown",
   "metadata": {},
   "source": [
    "Here we can also optionally specify the DPI and choose between different output formats:"
   ]
  },
  {
   "cell_type": "code",
   "execution_count": 46,
   "metadata": {},
   "outputs": [],
   "source": [
    "fig.savefig(\"filename_dpi200.png\", dpi = 200)"
   ]
  },
  {
   "cell_type": "markdown",
   "metadata": {},
   "source": [
    "# Legend"
   ]
  },
  {
   "cell_type": "markdown",
   "metadata": {},
   "source": [
    "You can use the **label = labeltext** keyword argument when plots ot other objects are added to the figure, and then using the legend mehtod without arguments to add the legend to the figure:"
   ]
  },
  {
   "cell_type": "code",
   "execution_count": 48,
   "metadata": {},
   "outputs": [
    {
     "data": {
      "text/plain": [
       "<matplotlib.legend.Legend at 0x28344373308>"
      ]
     },
     "execution_count": 48,
     "metadata": {},
     "output_type": "execute_result"
    },
    {
     "data": {
      "image/png": "[encoded data removed]",
      "text/plain": [
       "<Figure size 432x288 with 1 Axes>"
      ]
     },
     "metadata": {
      "needs_background": "light"
     },
     "output_type": "display_data"
    }
   ],
   "source": [
    "fig = plt.figure()\n",
    "ax = fig.add_axes([0, 0, 1, 1])\n",
    "\n",
    "ax.plot(x, x ** 2, label = \"x ** 2\")\n",
    "ax.plot(x, x ** 3, label = \"x ** 3\")\n",
    "\n",
    "ax.legend()\n"
   ]
  },
  {
   "cell_type": "code",
   "execution_count": null,
   "metadata": {},
   "outputs": [],
   "source": []
  }
 ],
 "metadata": {
  "kernelspec": {
   "display_name": "Python 3",
   "language": "python",
   "name": "python3"
  },
  "language_info": {
   "codemirror_mode": {
    "name": "ipython",
    "version": 3
   },
   "file_extension": ".py",
   "mimetype": "text/x-python",
   "name": "python",
   "nbconvert_exporter": "python",
   "pygments_lexer": "ipython3",
   "version": "3.7.4"
  }
 },
 "nbformat": 4,
 "nbformat_minor": 2
}
