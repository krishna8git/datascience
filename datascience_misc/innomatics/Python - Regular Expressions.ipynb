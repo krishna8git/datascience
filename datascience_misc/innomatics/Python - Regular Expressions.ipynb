{
 "cells": [
  {
   "cell_type": "code",
   "execution_count": 5,
   "metadata": {},
   "outputs": [],
   "source": [
    "import re"
   ]
  },
  {
   "cell_type": "code",
   "execution_count": 6,
   "metadata": {},
   "outputs": [
    {
     "data": {
      "text/plain": [
       "'And there came a day, a day unlike any other, when Earth\\'s\\n          mightiest heroes and heroines found themselves united against a\\n          common threat. On that day, the Avengers were born--to fight the\\n          foes no single superhero could withstand! Through the years,\\n          their roster has prospered, changing many times, but their glory\\n          has never been denied! Heed the call, then--for now, the Avengers\\n          Assemble!\"\\n\\n          BURNING BLUE FLAMES. A smoky cube shape emerges - THE TESSERACT.\\n          Filling the screen with BLACKNESS.\\n\\n                          CUT TO:\\n\\n          EXT. THRONE ROOM, SPACE NIGHT\\n\\n          Kneeling behind a THRONE, a CLOTHED, ARMORED FIGURE known as THE\\n          OTHER, bows.\\n\\n           THE OTHER (V.O.)\\n           The Tesseract has awakened. It is on a\\n           little world. A human world. They would\\n           wield its power,...\\n\\n                          CUT TO:\\n          THE OTHER faces a HORNED SHAPED SHADOW. LOKI. Loki is handed the\\n          CHITAURI SCEPTER, a long golden handle, fitted with a blue gem\\n          encircled with silver blades.\\n\\n           THE OTHER (V.O.)\\n           But our ally knows its workings as they\\n           never will. He is ready to lead. And\\n           our force, our Chitauri, will follow.\\n\\n          HIGH WIDE ON: TENS OF THOUSANDS of CHITAURI stand ready in a\\n          seething mass of neat rows and columns....the ground simply\\n\\n          QUAKES.'"
      ]
     },
     "execution_count": 6,
     "metadata": {},
     "output_type": "execute_result"
    }
   ],
   "source": [
    "text = '''And there came a day, a day unlike any other, when Earth's\n",
    "          mightiest heroes and heroines found themselves united against a\n",
    "          common threat. On that day, the Avengers were born--to fight the\n",
    "          foes no single superhero could withstand! Through the years,\n",
    "          their roster has prospered, changing many times, but their glory\n",
    "          has never been denied! Heed the call, then--for now, the Avengers\n",
    "          Assemble!\"\n",
    "\n",
    "          BURNING BLUE FLAMES. A smoky cube shape emerges - THE TESSERACT.\n",
    "          Filling the screen with BLACKNESS.\n",
    "\n",
    "                          CUT TO:\n",
    "\n",
    "          EXT. THRONE ROOM, SPACE NIGHT\n",
    "\n",
    "          Kneeling behind a THRONE, a CLOTHED, ARMORED FIGURE known as THE\n",
    "          OTHER, bows.\n",
    "\n",
    "           THE OTHER (V.O.)\n",
    "           The Tesseract has awakened. It is on a\n",
    "           little world. A human world. They would\n",
    "           wield its power,...\n",
    "\n",
    "                          CUT TO:\n",
    "          THE OTHER faces a HORNED SHAPED SHADOW. LOKI. Loki is handed the\n",
    "          CHITAURI SCEPTER, a long golden handle, fitted with a blue gem\n",
    "          encircled with silver blades.\n",
    "\n",
    "           THE OTHER (V.O.)\n",
    "           But our ally knows its workings as they\n",
    "           never will. He is ready to lead. And\n",
    "           our force, our Chitauri, will follow.\n",
    "\n",
    "          HIGH WIDE ON: TENS OF THOUSANDS of CHITAURI stand ready in a\n",
    "          seething mass of neat rows and columns....the ground simply\n",
    "\n",
    "          QUAKES.'''\n",
    "text"
   ]
  },
  {
   "cell_type": "markdown",
   "metadata": {},
   "source": [
    "# Built in Functions"
   ]
  },
  {
   "cell_type": "markdown",
   "metadata": {},
   "source": [
    "## match"
   ]
  },
  {
   "cell_type": "code",
   "execution_count": 13,
   "metadata": {},
   "outputs": [],
   "source": [
    "result = re.match(r'there',text)"
   ]
  },
  {
   "cell_type": "code",
   "execution_count": 14,
   "metadata": {},
   "outputs": [
    {
     "ename": "AttributeError",
     "evalue": "'NoneType' object has no attribute 'group'",
     "output_type": "error",
     "traceback": [
      "\u001b[1;31m---------------------------------------------------------------------------\u001b[0m",
      "\u001b[1;31mAttributeError\u001b[0m                            Traceback (most recent call last)",
      "\u001b[1;32m<ipython-input-14-666d063f295f>\u001b[0m in \u001b[0;36m<module>\u001b[1;34m\u001b[0m\n\u001b[1;32m----> 1\u001b[1;33m \u001b[0mprint\u001b[0m\u001b[1;33m(\u001b[0m\u001b[0mresult\u001b[0m\u001b[1;33m.\u001b[0m\u001b[0mgroup\u001b[0m\u001b[1;33m(\u001b[0m\u001b[1;33m)\u001b[0m\u001b[1;33m)\u001b[0m\u001b[1;33m\u001b[0m\u001b[1;33m\u001b[0m\u001b[0m\n\u001b[0m",
      "\u001b[1;31mAttributeError\u001b[0m: 'NoneType' object has no attribute 'group'"
     ]
    }
   ],
   "source": [
    "print(result.group())"
   ]
  },
  {
   "cell_type": "markdown",
   "metadata": {},
   "source": [
    "## search\n",
    "search gives the first occurence that matches the pattern."
   ]
  },
  {
   "cell_type": "code",
   "execution_count": 16,
   "metadata": {},
   "outputs": [
    {
     "name": "stdout",
     "output_type": "stream",
     "text": [
      "<class 're.Match'>\n"
     ]
    },
    {
     "data": {
      "text/plain": [
       "'LOKI'"
      ]
     },
     "execution_count": 16,
     "metadata": {},
     "output_type": "execute_result"
    }
   ],
   "source": [
    "result = re.search(r'LOKI', text)\n",
    "print(type(result))\n",
    "result.group()"
   ]
  },
  {
   "cell_type": "code",
   "execution_count": 54,
   "metadata": {},
   "outputs": [
    {
     "data": {
      "text/plain": [
       "['the',\n",
       " 'the',\n",
       " 'the',\n",
       " 'the',\n",
       " 'the',\n",
       " 'the',\n",
       " 'the',\n",
       " 'the',\n",
       " 'the',\n",
       " 'the',\n",
       " 'the',\n",
       " 'the',\n",
       " 'the',\n",
       " 'the',\n",
       " 'the']"
      ]
     },
     "execution_count": 54,
     "metadata": {},
     "output_type": "execute_result"
    }
   ],
   "source": [
    "result = re.findall(r'the', text)\n",
    "result"
   ]
  },
  {
   "cell_type": "code",
   "execution_count": 19,
   "metadata": {},
   "outputs": [
    {
     "data": {
      "text/plain": [
       "2"
      ]
     },
     "execution_count": 19,
     "metadata": {},
     "output_type": "execute_result"
    }
   ],
   "source": [
    "result = re.findall(r'LOKI', text, flags = 3)\n",
    "len(result)"
   ]
  },
  {
   "cell_type": "markdown",
   "metadata": {},
   "source": [
    "# split"
   ]
  },
  {
   "cell_type": "code",
   "execution_count": 22,
   "metadata": {},
   "outputs": [
    {
     "data": {
      "text/plain": [
       "'afdae--afffvffa--dfasdfdsaf--agfdaf'"
      ]
     },
     "execution_count": 22,
     "metadata": {},
     "output_type": "execute_result"
    }
   ],
   "source": [
    "result = re.split(r'the', text)\n",
    "result\n",
    "\n",
    "text = 'afdaeabafffvffaabdfasdfdsafabagfdaf'\n",
    "re.split(r'ab', text)\n",
    "\n",
    "re.sub(r'ab', '--', text)\n"
   ]
  },
  {
   "cell_type": "code",
   "execution_count": 57,
   "metadata": {},
   "outputs": [
    {
     "data": {
      "text/plain": [
       "['And ',\n",
       " 're came a day, a day unlike any o',\n",
       " \"r, when Earth's\\n          mightiest heroes and heroines found \",\n",
       " 'mselves united against a\\n          common threat. On that day, the Avengers were born--to fight the\\n          foes no single superhero could withstand! Through the years,\\n          their roster has prospered, changing many times, but their glory\\n          has never been denied! Heed the call, then--for now, the Avengers\\n          Assemble!\"\\n\\n          BURNING BLUE FLAMES. A smoky cube shape emerges - THE TESSERACT.\\n          Filling the screen with BLACKNESS.\\n\\n                          CUT TO:\\n\\n          EXT. THRONE ROOM, SPACE \\xad NIGHT\\n\\n          Kneeling behind a THRONE, a CLOTHED, ARMORED FIGURE known as THE\\n          OTHER, bows.\\n\\n           THE OTHER (V.O.)\\n           The Tesseract has awakened. It is on a\\n           little world. A human world. They would\\n           wield its power,...\\n\\n                          CUT TO:\\n          THE OTHER faces a HORNED SHAPED SHADOW. LOKI. Loki is handed the\\n          CHITAURI SCEPTER, a long golden handle, fitted with a blue gem\\n          encircled with silver blades.\\n\\n           THE OTHER (V.O.)\\n           But our ally knows its workings as they\\n           never will. He is ready to lead. And\\n           our force, our Chitauri, will follow.\\n\\n          HIGH WIDE ON: TENS OF THOUSANDS of CHITAURI stand ready in a\\n          seething mass of neat rows and columns....the ground simply\\n\\n          QUAKES.']"
      ]
     },
     "execution_count": 57,
     "metadata": {},
     "output_type": "execute_result"
    }
   ],
   "source": [
    "result = re.split(r'the', text, maxsplit=3)\n",
    "result"
   ]
  },
  {
   "cell_type": "markdown",
   "metadata": {},
   "source": [
    "# sub"
   ]
  },
  {
   "cell_type": "code",
   "execution_count": 58,
   "metadata": {},
   "outputs": [
    {
     "data": {
      "text/plain": [
       "'And ============re came a day, a day unlike any o============r, when Earth\\'s\\n          mightiest heroes and heroines found ============mselves united against a\\n          common threat. On that day, ============ Avengers were born--to fight ============\\n          foes no single superhero could withstand! Through ============ years,\\n          ============ir roster has prospered, changing many times, but ============ir glory\\n          has never been denied! Heed ============ call, ============n--for now, ============ Avengers\\n          Assemble!\"\\n\\n          BURNING BLUE FLAMES. A smoky cube shape emerges - THE TESSERACT.\\n          Filling ============ screen with BLACKNESS.\\n\\n                          CUT TO:\\n\\n          EXT. THRONE ROOM, SPACE \\xad NIGHT\\n\\n          Kneeling behind a THRONE, a CLOTHED, ARMORED FIGURE known as THE\\n          OTHER, bows.\\n\\n           THE OTHER (V.O.)\\n           The Tesseract has awakened. It is on a\\n           little world. A human world. They would\\n           wield its power,...\\n\\n                          CUT TO:\\n          THE OTHER faces a HORNED SHAPED SHADOW. LOKI. Loki is handed ============\\n          CHITAURI SCEPTER, a long golden handle, fitted with a blue gem\\n          encircled with silver blades.\\n\\n           THE OTHER (V.O.)\\n           But our ally knows its workings as ============y\\n           never will. He is ready to lead. And\\n           our force, our Chitauri, will follow.\\n\\n          HIGH WIDE ON: TENS OF THOUSANDS of CHITAURI stand ready in a\\n          seething mass of neat rows and columns....============ ground simply\\n\\n          QUAKES.'"
      ]
     },
     "execution_count": 58,
     "metadata": {},
     "output_type": "execute_result"
    }
   ],
   "source": [
    "# substitute the pattern with the replacing string.\n",
    "result = re.sub(r'the', '============', text)\n",
    "result"
   ]
  },
  {
   "cell_type": "code",
   "execution_count": 59,
   "metadata": {},
   "outputs": [
    {
     "data": {
      "text/plain": [
       "'And ==================re came a day, a day unlike any o==================r, when Earth\\'s\\n          mightiest heroes and heroines found ==================mselves united against a\\n          common threat. On that day, the Avengers were born--to fight the\\n          foes no single superhero could withstand! Through the years,\\n          their roster has prospered, changing many times, but their glory\\n          has never been denied! Heed the call, then--for now, the Avengers\\n          Assemble!\"\\n\\n          BURNING BLUE FLAMES. A smoky cube shape emerges - THE TESSERACT.\\n          Filling the screen with BLACKNESS.\\n\\n                          CUT TO:\\n\\n          EXT. THRONE ROOM, SPACE \\xad NIGHT\\n\\n          Kneeling behind a THRONE, a CLOTHED, ARMORED FIGURE known as THE\\n          OTHER, bows.\\n\\n           THE OTHER (V.O.)\\n           The Tesseract has awakened. It is on a\\n           little world. A human world. They would\\n           wield its power,...\\n\\n                          CUT TO:\\n          THE OTHER faces a HORNED SHAPED SHADOW. LOKI. Loki is handed the\\n          CHITAURI SCEPTER, a long golden handle, fitted with a blue gem\\n          encircled with silver blades.\\n\\n           THE OTHER (V.O.)\\n           But our ally knows its workings as they\\n           never will. He is ready to lead. And\\n           our force, our Chitauri, will follow.\\n\\n          HIGH WIDE ON: TENS OF THOUSANDS of CHITAURI stand ready in a\\n          seething mass of neat rows and columns....the ground simply\\n\\n          QUAKES.'"
      ]
     },
     "execution_count": 59,
     "metadata": {},
     "output_type": "execute_result"
    }
   ],
   "source": [
    "# Use count to replace the first n occurances\n",
    "result = re.sub(r'the', '==================', text, count = 3)\n",
    "result"
   ]
  },
  {
   "cell_type": "markdown",
   "metadata": {},
   "source": [
    "# compile"
   ]
  },
  {
   "cell_type": "code",
   "execution_count": 60,
   "metadata": {},
   "outputs": [],
   "source": [
    "reuse = re.compile(r'the')"
   ]
  },
  {
   "cell_type": "code",
   "execution_count": 61,
   "metadata": {},
   "outputs": [
    {
     "data": {
      "text/plain": [
       "['the',\n",
       " 'the',\n",
       " 'the',\n",
       " 'the',\n",
       " 'the',\n",
       " 'the',\n",
       " 'the',\n",
       " 'the',\n",
       " 'the',\n",
       " 'the',\n",
       " 'the',\n",
       " 'the',\n",
       " 'the',\n",
       " 'the',\n",
       " 'the']"
      ]
     },
     "execution_count": 61,
     "metadata": {},
     "output_type": "execute_result"
    }
   ],
   "source": [
    "reuse.findall(text)"
   ]
  },
  {
   "cell_type": "code",
   "execution_count": 62,
   "metadata": {},
   "outputs": [
    {
     "data": {
      "text/plain": [
       "['And ',\n",
       " 're came a day, a day unlike any o',\n",
       " \"r, when Earth's\\n          mightiest heroes and heroines found \",\n",
       " 'mselves united against a\\n          common threat. On that day, ',\n",
       " ' Avengers were born--to fight ',\n",
       " '\\n          foes no single superhero could withstand! Through ',\n",
       " ' years,\\n          ',\n",
       " 'ir roster has prospered, changing many times, but ',\n",
       " 'ir glory\\n          has never been denied! Heed ',\n",
       " ' call, ',\n",
       " 'n--for now, ',\n",
       " ' Avengers\\n          Assemble!\"\\n\\n          BURNING BLUE FLAMES. A smoky cube shape emerges - THE TESSERACT.\\n          Filling ',\n",
       " ' screen with BLACKNESS.\\n\\n                          CUT TO:\\n\\n          EXT. THRONE ROOM, SPACE \\xad NIGHT\\n\\n          Kneeling behind a THRONE, a CLOTHED, ARMORED FIGURE known as THE\\n          OTHER, bows.\\n\\n           THE OTHER (V.O.)\\n           The Tesseract has awakened. It is on a\\n           little world. A human world. They would\\n           wield its power,...\\n\\n                          CUT TO:\\n          THE OTHER faces a HORNED SHAPED SHADOW. LOKI. Loki is handed ',\n",
       " '\\n          CHITAURI SCEPTER, a long golden handle, fitted with a blue gem\\n          encircled with silver blades.\\n\\n           THE OTHER (V.O.)\\n           But our ally knows its workings as ',\n",
       " 'y\\n           never will. He is ready to lead. And\\n           our force, our Chitauri, will follow.\\n\\n          HIGH WIDE ON: TENS OF THOUSANDS of CHITAURI stand ready in a\\n          seething mass of neat rows and columns....',\n",
       " ' ground simply\\n\\n          QUAKES.']"
      ]
     },
     "execution_count": 62,
     "metadata": {},
     "output_type": "execute_result"
    }
   ],
   "source": [
    "reuse.split(text)"
   ]
  },
  {
   "cell_type": "code",
   "execution_count": 63,
   "metadata": {},
   "outputs": [
    {
     "data": {
      "text/plain": [
       "'And ==============re came a day, a day unlike any o==============r, when Earth\\'s\\n          mightiest heroes and heroines found ==============mselves united against a\\n          common threat. On that day, ============== Avengers were born--to fight ==============\\n          foes no single superhero could withstand! Through ============== years,\\n          ==============ir roster has prospered, changing many times, but ==============ir glory\\n          has never been denied! Heed ============== call, ==============n--for now, ============== Avengers\\n          Assemble!\"\\n\\n          BURNING BLUE FLAMES. A smoky cube shape emerges - THE TESSERACT.\\n          Filling ============== screen with BLACKNESS.\\n\\n                          CUT TO:\\n\\n          EXT. THRONE ROOM, SPACE \\xad NIGHT\\n\\n          Kneeling behind a THRONE, a CLOTHED, ARMORED FIGURE known as THE\\n          OTHER, bows.\\n\\n           THE OTHER (V.O.)\\n           The Tesseract has awakened. It is on a\\n           little world. A human world. They would\\n           wield its power,...\\n\\n                          CUT TO:\\n          THE OTHER faces a HORNED SHAPED SHADOW. LOKI. Loki is handed ==============\\n          CHITAURI SCEPTER, a long golden handle, fitted with a blue gem\\n          encircled with silver blades.\\n\\n           THE OTHER (V.O.)\\n           But our ally knows its workings as ==============y\\n           never will. He is ready to lead. And\\n           our force, our Chitauri, will follow.\\n\\n          HIGH WIDE ON: TENS OF THOUSANDS of CHITAURI stand ready in a\\n          seething mass of neat rows and columns....============== ground simply\\n\\n          QUAKES.'"
      ]
     },
     "execution_count": 63,
     "metadata": {},
     "output_type": "execute_result"
    }
   ],
   "source": [
    "reuse.sub('==============', text)"
   ]
  },
  {
   "cell_type": "code",
   "execution_count": 64,
   "metadata": {},
   "outputs": [
    {
     "data": {
      "text/plain": [
       "<re.Match object; span=(4, 7), match='the'>"
      ]
     },
     "execution_count": 64,
     "metadata": {},
     "output_type": "execute_result"
    }
   ],
   "source": [
    "reuse.search(text)"
   ]
  },
  {
   "cell_type": "markdown",
   "metadata": {},
   "source": [
    "# Meta Characters\n",
    "-.^?[]{}()+*\\d\\D\\b\\s\\S\\w\\W"
   ]
  },
  {
   "cell_type": "code",
   "execution_count": 65,
   "metadata": {},
   "outputs": [
    {
     "data": {
      "text/plain": [
       "'A'"
      ]
     },
     "execution_count": 65,
     "metadata": {},
     "output_type": "execute_result"
    }
   ],
   "source": [
    "result = re.match(r'.', text)\n",
    "result.group()"
   ]
  },
  {
   "cell_type": "code",
   "execution_count": 67,
   "metadata": {
    "collapsed": true
   },
   "outputs": [
    {
     "name": "stdout",
     "output_type": "stream",
     "text": [
      "['A', 'n', 'd', ' ', 't', 'h', 'e', 'r', 'e', ' ', 'c', 'a', 'm', 'e', ' ', 'a', ' ', 'd', 'a', 'y', ',', ' ', 'a', ' ', 'd', 'a', 'y', ' ', 'u', 'n', 'l', 'i', 'k', 'e', ' ', 'a', 'n', 'y', ' ', 'o', 't', 'h', 'e', 'r', ',', ' ', 'w', 'h', 'e', 'n', ' ', 'E', 'a', 'r', 't', 'h', \"'\", 's', ' ', ' ', ' ', ' ', ' ', ' ', ' ', ' ', ' ', ' ', 'm', 'i', 'g', 'h', 't', 'i', 'e', 's', 't', ' ', 'h', 'e', 'r', 'o', 'e', 's', ' ', 'a', 'n', 'd', ' ', 'h', 'e', 'r', 'o', 'i', 'n', 'e', 's', ' ', 'f', 'o', 'u', 'n', 'd', ' ', 't', 'h', 'e', 'm', 's', 'e', 'l', 'v', 'e', 's', ' ', 'u', 'n', 'i', 't', 'e', 'd', ' ', 'a', 'g', 'a', 'i', 'n', 's', 't', ' ', 'a', ' ', ' ', ' ', ' ', ' ', ' ', ' ', ' ', ' ', ' ', 'c', 'o', 'm', 'm', 'o', 'n', ' ', 't', 'h', 'r', 'e', 'a', 't', '.', ' ', 'O', 'n', ' ', 't', 'h', 'a', 't', ' ', 'd', 'a', 'y', ',', ' ', 't', 'h', 'e', ' ', 'A', 'v', 'e', 'n', 'g', 'e', 'r', 's', ' ', 'w', 'e', 'r', 'e', ' ', 'b', 'o', 'r', 'n', '-', '-', 't', 'o', ' ', 'f', 'i', 'g', 'h', 't', ' ', 't', 'h', 'e', ' ', ' ', ' ', ' ', ' ', ' ', ' ', ' ', ' ', ' ', 'f', 'o', 'e', 's', ' ', 'n', 'o', ' ', 's', 'i', 'n', 'g', 'l', 'e', ' ', 's', 'u', 'p', 'e', 'r', 'h', 'e', 'r', 'o', ' ', 'c', 'o', 'u', 'l', 'd', ' ', 'w', 'i', 't', 'h', 's', 't', 'a', 'n', 'd', '!', ' ', 'T', 'h', 'r', 'o', 'u', 'g', 'h', ' ', 't', 'h', 'e', ' ', 'y', 'e', 'a', 'r', 's', ',', ' ', ' ', ' ', ' ', ' ', ' ', ' ', ' ', ' ', ' ', 't', 'h', 'e', 'i', 'r', ' ', 'r', 'o', 's', 't', 'e', 'r', ' ', 'h', 'a', 's', ' ', 'p', 'r', 'o', 's', 'p', 'e', 'r', 'e', 'd', ',', ' ', 'c', 'h', 'a', 'n', 'g', 'i', 'n', 'g', ' ', 'm', 'a', 'n', 'y', ' ', 't', 'i', 'm', 'e', 's', ',', ' ', 'b', 'u', 't', ' ', 't', 'h', 'e', 'i', 'r', ' ', 'g', 'l', 'o', 'r', 'y', ' ', ' ', ' ', ' ', ' ', ' ', ' ', ' ', ' ', ' ', 'h', 'a', 's', ' ', 'n', 'e', 'v', 'e', 'r', ' ', 'b', 'e', 'e', 'n', ' ', 'd', 'e', 'n', 'i', 'e', 'd', '!', ' ', 'H', 'e', 'e', 'd', ' ', 't', 'h', 'e', ' ', 'c', 'a', 'l', 'l', ',', ' ', 't', 'h', 'e', 'n', '-', '-', 'f', 'o', 'r', ' ', 'n', 'o', 'w', ',', ' ', 't', 'h', 'e', ' ', 'A', 'v', 'e', 'n', 'g', 'e', 'r', 's', ' ', ' ', ' ', ' ', ' ', ' ', ' ', ' ', ' ', ' ', 'A', 's', 's', 'e', 'm', 'b', 'l', 'e', '!', '\"', ' ', ' ', ' ', ' ', ' ', ' ', ' ', ' ', ' ', ' ', 'B', 'U', 'R', 'N', 'I', 'N', 'G', ' ', 'B', 'L', 'U', 'E', ' ', 'F', 'L', 'A', 'M', 'E', 'S', '.', ' ', 'A', ' ', 's', 'm', 'o', 'k', 'y', ' ', 'c', 'u', 'b', 'e', ' ', 's', 'h', 'a', 'p', 'e', ' ', 'e', 'm', 'e', 'r', 'g', 'e', 's', ' ', '-', ' ', 'T', 'H', 'E', ' ', 'T', 'E', 'S', 'S', 'E', 'R', 'A', 'C', 'T', '.', ' ', ' ', ' ', ' ', ' ', ' ', ' ', ' ', ' ', ' ', 'F', 'i', 'l', 'l', 'i', 'n', 'g', ' ', 't', 'h', 'e', ' ', 's', 'c', 'r', 'e', 'e', 'n', ' ', 'w', 'i', 't', 'h', ' ', 'B', 'L', 'A', 'C', 'K', 'N', 'E', 'S', 'S', '.', ' ', ' ', ' ', ' ', ' ', ' ', ' ', ' ', ' ', ' ', ' ', ' ', ' ', ' ', ' ', ' ', ' ', ' ', ' ', ' ', ' ', ' ', ' ', ' ', ' ', ' ', 'C', 'U', 'T', ' ', 'T', 'O', ':', ' ', ' ', ' ', ' ', ' ', ' ', ' ', ' ', ' ', ' ', 'E', 'X', 'T', '.', ' ', 'T', 'H', 'R', 'O', 'N', 'E', ' ', 'R', 'O', 'O', 'M', ',', ' ', 'S', 'P', 'A', 'C', 'E', ' ', '\\xad', ' ', 'N', 'I', 'G', 'H', 'T', ' ', ' ', ' ', ' ', ' ', ' ', ' ', ' ', ' ', ' ', 'K', 'n', 'e', 'e', 'l', 'i', 'n', 'g', ' ', 'b', 'e', 'h', 'i', 'n', 'd', ' ', 'a', ' ', 'T', 'H', 'R', 'O', 'N', 'E', ',', ' ', 'a', ' ', 'C', 'L', 'O', 'T', 'H', 'E', 'D', ',', ' ', 'A', 'R', 'M', 'O', 'R', 'E', 'D', ' ', 'F', 'I', 'G', 'U', 'R', 'E', ' ', 'k', 'n', 'o', 'w', 'n', ' ', 'a', 's', ' ', 'T', 'H', 'E', ' ', ' ', ' ', ' ', ' ', ' ', ' ', ' ', ' ', ' ', 'O', 'T', 'H', 'E', 'R', ',', ' ', 'b', 'o', 'w', 's', '.', ' ', ' ', ' ', ' ', ' ', ' ', ' ', ' ', ' ', ' ', ' ', 'T', 'H', 'E', ' ', 'O', 'T', 'H', 'E', 'R', ' ', '(', 'V', '.', 'O', '.', ')', ' ', ' ', ' ', ' ', ' ', ' ', ' ', ' ', ' ', ' ', ' ', 'T', 'h', 'e', ' ', 'T', 'e', 's', 's', 'e', 'r', 'a', 'c', 't', ' ', 'h', 'a', 's', ' ', 'a', 'w', 'a', 'k', 'e', 'n', 'e', 'd', '.', ' ', 'I', 't', ' ', 'i', 's', ' ', 'o', 'n', ' ', 'a', ' ', ' ', ' ', ' ', ' ', ' ', ' ', ' ', ' ', ' ', ' ', 'l', 'i', 't', 't', 'l', 'e', ' ', 'w', 'o', 'r', 'l', 'd', '.', ' ', 'A', ' ', 'h', 'u', 'm', 'a', 'n', ' ', 'w', 'o', 'r', 'l', 'd', '.', ' ', 'T', 'h', 'e', 'y', ' ', 'w', 'o', 'u', 'l', 'd', ' ', ' ', ' ', ' ', ' ', ' ', ' ', ' ', ' ', ' ', ' ', 'w', 'i', 'e', 'l', 'd', ' ', 'i', 't', 's', ' ', 'p', 'o', 'w', 'e', 'r', ',', '.', '.', '.', ' ', ' ', ' ', ' ', ' ', ' ', ' ', ' ', ' ', ' ', ' ', ' ', ' ', ' ', ' ', ' ', ' ', ' ', ' ', ' ', ' ', ' ', ' ', ' ', ' ', ' ', 'C', 'U', 'T', ' ', 'T', 'O', ':', ' ', ' ', ' ', ' ', ' ', ' ', ' ', ' ', ' ', ' ', 'T', 'H', 'E', ' ', 'O', 'T', 'H', 'E', 'R', ' ', 'f', 'a', 'c', 'e', 's', ' ', 'a', ' ', 'H', 'O', 'R', 'N', 'E', 'D', ' ', 'S', 'H', 'A', 'P', 'E', 'D', ' ', 'S', 'H', 'A', 'D', 'O', 'W', '.', ' ', 'L', 'O', 'K', 'I', '.', ' ', 'L', 'o', 'k', 'i', ' ', 'i', 's', ' ', 'h', 'a', 'n', 'd', 'e', 'd', ' ', 't', 'h', 'e', ' ', ' ', ' ', ' ', ' ', ' ', ' ', ' ', ' ', ' ', 'C', 'H', 'I', 'T', 'A', 'U', 'R', 'I', ' ', 'S', 'C', 'E', 'P', 'T', 'E', 'R', ',', ' ', 'a', ' ', 'l', 'o', 'n', 'g', ' ', 'g', 'o', 'l', 'd', 'e', 'n', ' ', 'h', 'a', 'n', 'd', 'l', 'e', ',', ' ', 'f', 'i', 't', 't', 'e', 'd', ' ', 'w', 'i', 't', 'h', ' ', 'a', ' ', 'b', 'l', 'u', 'e', ' ', 'g', 'e', 'm', ' ', ' ', ' ', ' ', ' ', ' ', ' ', ' ', ' ', ' ', 'e', 'n', 'c', 'i', 'r', 'c', 'l', 'e', 'd', ' ', 'w', 'i', 't', 'h', ' ', 's', 'i', 'l', 'v', 'e', 'r', ' ', 'b', 'l', 'a', 'd', 'e', 's', '.', ' ', ' ', ' ', ' ', ' ', ' ', ' ', ' ', ' ', ' ', ' ', 'T', 'H', 'E', ' ', 'O', 'T', 'H', 'E', 'R', ' ', '(', 'V', '.', 'O', '.', ')', ' ', ' ', ' ', ' ', ' ', ' ', ' ', ' ', ' ', ' ', ' ', 'B', 'u', 't', ' ', 'o', 'u', 'r', ' ', 'a', 'l', 'l', 'y', ' ', 'k', 'n', 'o', 'w', 's', ' ', 'i', 't', 's', ' ', 'w', 'o', 'r', 'k', 'i', 'n', 'g', 's', ' ', 'a', 's', ' ', 't', 'h', 'e', 'y', ' ', ' ', ' ', ' ', ' ', ' ', ' ', ' ', ' ', ' ', ' ', 'n', 'e', 'v', 'e', 'r', ' ', 'w', 'i', 'l', 'l', '.', ' ', 'H', 'e', ' ', 'i', 's', ' ', 'r', 'e', 'a', 'd', 'y', ' ', 't', 'o', ' ', 'l', 'e', 'a', 'd', '.', ' ', 'A', 'n', 'd', ' ', ' ', ' ', ' ', ' ', ' ', ' ', ' ', ' ', ' ', ' ', 'o', 'u', 'r', ' ', 'f', 'o', 'r', 'c', 'e', ',', ' ', 'o', 'u', 'r', ' ', 'C', 'h', 'i', 't', 'a', 'u', 'r', 'i', ',', ' ', 'w', 'i', 'l', 'l', ' ', 'f', 'o', 'l', 'l', 'o', 'w', '.', ' ', ' ', ' ', ' ', ' ', ' ', ' ', ' ', ' ', ' ', 'H', 'I', 'G', 'H', ' ', 'W', 'I', 'D', 'E', ' ', 'O', 'N', ':', ' ', 'T', 'E', 'N', 'S', ' ', 'O', 'F', ' ', 'T', 'H', 'O', 'U', 'S', 'A', 'N', 'D', 'S', ' ', 'o', 'f', ' ', 'C', 'H', 'I', 'T', 'A', 'U', 'R', 'I', ' ', 's', 't', 'a', 'n', 'd', ' ', 'r', 'e', 'a', 'd', 'y', ' ', 'i', 'n', ' ', 'a', ' ', ' ', ' ', ' ', ' ', ' ', ' ', ' ', ' ', ' ', 's', 'e', 'e', 't', 'h', 'i', 'n', 'g', ' ', 'm', 'a', 's', 's', ' ', 'o', 'f', ' ', 'n', 'e', 'a', 't', ' ', 'r', 'o', 'w', 's', ' ', 'a', 'n', 'd', ' ', 'c', 'o', 'l', 'u', 'm', 'n', 's', '.', '.', '.', '.', 't', 'h', 'e', ' ', 'g', 'r', 'o', 'u', 'n', 'd', ' ', 's', 'i', 'm', 'p', 'l', 'y', ' ', ' ', ' ', ' ', ' ', ' ', ' ', ' ', ' ', ' ', 'Q', 'U', 'A', 'K', 'E', 'S', '.']\n"
     ]
    }
   ],
   "source": [
    "\n",
    "result = re.findall(r'.', text)\n",
    "print(result)"
   ]
  },
  {
   "cell_type": "code",
   "execution_count": 68,
   "metadata": {},
   "outputs": [
    {
     "name": "stdout",
     "output_type": "stream",
     "text": [
      "['A', 'n', 'd', 't', 'h', 'e', 'r', 'e', 'c', 'a', 'm', 'e', 'a', 'd', 'a', 'y', 'a', 'd', 'a', 'y', 'u', 'n', 'l', 'i', 'k', 'e', 'a', 'n', 'y', 'o', 't', 'h', 'e', 'r', 'w', 'h', 'e', 'n', 'E', 'a', 'r', 't', 'h', 's', 'm', 'i', 'g', 'h', 't', 'i', 'e', 's', 't', 'h', 'e', 'r', 'o', 'e', 's', 'a', 'n', 'd', 'h', 'e', 'r', 'o', 'i', 'n', 'e', 's', 'f', 'o', 'u', 'n', 'd', 't', 'h', 'e', 'm', 's', 'e', 'l', 'v', 'e', 's', 'u', 'n', 'i', 't', 'e', 'd', 'a', 'g', 'a', 'i', 'n', 's', 't', 'a', 'c', 'o', 'm', 'm', 'o', 'n', 't', 'h', 'r', 'e', 'a', 't', 'O', 'n', 't', 'h', 'a', 't', 'd', 'a', 'y', 't', 'h', 'e', 'A', 'v', 'e', 'n', 'g', 'e', 'r', 's', 'w', 'e', 'r', 'e', 'b', 'o', 'r', 'n', 't', 'o', 'f', 'i', 'g', 'h', 't', 't', 'h', 'e', 'f', 'o', 'e', 's', 'n', 'o', 's', 'i', 'n', 'g', 'l', 'e', 's', 'u', 'p', 'e', 'r', 'h', 'e', 'r', 'o', 'c', 'o', 'u', 'l', 'd', 'w', 'i', 't', 'h', 's', 't', 'a', 'n', 'd', 'T', 'h', 'r', 'o', 'u', 'g', 'h', 't', 'h', 'e', 'y', 'e', 'a', 'r', 's', 't', 'h', 'e', 'i', 'r', 'r', 'o', 's', 't', 'e', 'r', 'h', 'a', 's', 'p', 'r', 'o', 's', 'p', 'e', 'r', 'e', 'd', 'c', 'h', 'a', 'n', 'g', 'i', 'n', 'g', 'm', 'a', 'n', 'y', 't', 'i', 'm', 'e', 's', 'b', 'u', 't', 't', 'h', 'e', 'i', 'r', 'g', 'l', 'o', 'r', 'y', 'h', 'a', 's', 'n', 'e', 'v', 'e', 'r', 'b', 'e', 'e', 'n', 'd', 'e', 'n', 'i', 'e', 'd', 'H', 'e', 'e', 'd', 't', 'h', 'e', 'c', 'a', 'l', 'l', 't', 'h', 'e', 'n', 'f', 'o', 'r', 'n', 'o', 'w', 't', 'h', 'e', 'A', 'v', 'e', 'n', 'g', 'e', 'r', 's', 'A', 's', 's', 'e', 'm', 'b', 'l', 'e', 'B', 'U', 'R', 'N', 'I', 'N', 'G', 'B', 'L', 'U', 'E', 'F', 'L', 'A', 'M', 'E', 'S', 'A', 's', 'm', 'o', 'k', 'y', 'c', 'u', 'b', 'e', 's', 'h', 'a', 'p', 'e', 'e', 'm', 'e', 'r', 'g', 'e', 's', 'T', 'H', 'E', 'T', 'E', 'S', 'S', 'E', 'R', 'A', 'C', 'T', 'F', 'i', 'l', 'l', 'i', 'n', 'g', 't', 'h', 'e', 's', 'c', 'r', 'e', 'e', 'n', 'w', 'i', 't', 'h', 'B', 'L', 'A', 'C', 'K', 'N', 'E', 'S', 'S', 'C', 'U', 'T', 'T', 'O', 'E', 'X', 'T', 'T', 'H', 'R', 'O', 'N', 'E', 'R', 'O', 'O', 'M', 'S', 'P', 'A', 'C', 'E', 'N', 'I', 'G', 'H', 'T', 'K', 'n', 'e', 'e', 'l', 'i', 'n', 'g', 'b', 'e', 'h', 'i', 'n', 'd', 'a', 'T', 'H', 'R', 'O', 'N', 'E', 'a', 'C', 'L', 'O', 'T', 'H', 'E', 'D', 'A', 'R', 'M', 'O', 'R', 'E', 'D', 'F', 'I', 'G', 'U', 'R', 'E', 'k', 'n', 'o', 'w', 'n', 'a', 's', 'T', 'H', 'E', 'O', 'T', 'H', 'E', 'R', 'b', 'o', 'w', 's', 'T', 'H', 'E', 'O', 'T', 'H', 'E', 'R', 'V', 'O', 'T', 'h', 'e', 'T', 'e', 's', 's', 'e', 'r', 'a', 'c', 't', 'h', 'a', 's', 'a', 'w', 'a', 'k', 'e', 'n', 'e', 'd', 'I', 't', 'i', 's', 'o', 'n', 'a', 'l', 'i', 't', 't', 'l', 'e', 'w', 'o', 'r', 'l', 'd', 'A', 'h', 'u', 'm', 'a', 'n', 'w', 'o', 'r', 'l', 'd', 'T', 'h', 'e', 'y', 'w', 'o', 'u', 'l', 'd', 'w', 'i', 'e', 'l', 'd', 'i', 't', 's', 'p', 'o', 'w', 'e', 'r', 'C', 'U', 'T', 'T', 'O', 'T', 'H', 'E', 'O', 'T', 'H', 'E', 'R', 'f', 'a', 'c', 'e', 's', 'a', 'H', 'O', 'R', 'N', 'E', 'D', 'S', 'H', 'A', 'P', 'E', 'D', 'S', 'H', 'A', 'D', 'O', 'W', 'L', 'O', 'K', 'I', 'L', 'o', 'k', 'i', 'i', 's', 'h', 'a', 'n', 'd', 'e', 'd', 't', 'h', 'e', 'C', 'H', 'I', 'T', 'A', 'U', 'R', 'I', 'S', 'C', 'E', 'P', 'T', 'E', 'R', 'a', 'l', 'o', 'n', 'g', 'g', 'o', 'l', 'd', 'e', 'n', 'h', 'a', 'n', 'd', 'l', 'e', 'f', 'i', 't', 't', 'e', 'd', 'w', 'i', 't', 'h', 'a', 'b', 'l', 'u', 'e', 'g', 'e', 'm', 'e', 'n', 'c', 'i', 'r', 'c', 'l', 'e', 'd', 'w', 'i', 't', 'h', 's', 'i', 'l', 'v', 'e', 'r', 'b', 'l', 'a', 'd', 'e', 's', 'T', 'H', 'E', 'O', 'T', 'H', 'E', 'R', 'V', 'O', 'B', 'u', 't', 'o', 'u', 'r', 'a', 'l', 'l', 'y', 'k', 'n', 'o', 'w', 's', 'i', 't', 's', 'w', 'o', 'r', 'k', 'i', 'n', 'g', 's', 'a', 's', 't', 'h', 'e', 'y', 'n', 'e', 'v', 'e', 'r', 'w', 'i', 'l', 'l', 'H', 'e', 'i', 's', 'r', 'e', 'a', 'd', 'y', 't', 'o', 'l', 'e', 'a', 'd', 'A', 'n', 'd', 'o', 'u', 'r', 'f', 'o', 'r', 'c', 'e', 'o', 'u', 'r', 'C', 'h', 'i', 't', 'a', 'u', 'r', 'i', 'w', 'i', 'l', 'l', 'f', 'o', 'l', 'l', 'o', 'w', 'H', 'I', 'G', 'H', 'W', 'I', 'D', 'E', 'O', 'N', 'T', 'E', 'N', 'S', 'O', 'F', 'T', 'H', 'O', 'U', 'S', 'A', 'N', 'D', 'S', 'o', 'f', 'C', 'H', 'I', 'T', 'A', 'U', 'R', 'I', 's', 't', 'a', 'n', 'd', 'r', 'e', 'a', 'd', 'y', 'i', 'n', 'a', 's', 'e', 'e', 't', 'h', 'i', 'n', 'g', 'm', 'a', 's', 's', 'o', 'f', 'n', 'e', 'a', 't', 'r', 'o', 'w', 's', 'a', 'n', 'd', 'c', 'o', 'l', 'u', 'm', 'n', 's', 't', 'h', 'e', 'g', 'r', 'o', 'u', 'n', 'd', 's', 'i', 'm', 'p', 'l', 'y', 'Q', 'U', 'A', 'K', 'E', 'S']\n"
     ]
    }
   ],
   "source": [
    "result = re.findall(r'\\w', text)\n",
    "print(result)"
   ]
  },
  {
   "cell_type": "code",
   "execution_count": 72,
   "metadata": {},
   "outputs": [
    {
     "name": "stdout",
     "output_type": "stream",
     "text": [
      "['And', 'there', 'came', 'a', 'day', 'a', 'day', 'unlike', 'any', 'other', 'when', 'Earth', 's', 'mightiest', 'heroes', 'and', 'heroines', 'found', 'themselves', 'united', 'against', 'a', 'common', 'threat', 'On', 'that', 'day', 'the', 'Avengers', 'were', 'born', 'to', 'fight', 'the', 'foes', 'no', 'single', 'superhero', 'could', 'withstand', 'Through', 'the', 'years', 'their', 'roster', 'has', 'prospered', 'changing', 'many', 'times', 'but', 'their', 'glory', 'has', 'never', 'been', 'denied', 'Heed', 'the', 'call', 'then', 'for', 'now', 'the', 'Avengers', 'Assemble', 'BURNING', 'BLUE', 'FLAMES', 'A', 'smoky', 'cube', 'shape', 'emerges', 'THE', 'TESSERACT', 'Filling', 'the', 'screen', 'with', 'BLACKNESS', 'CUT', 'TO', 'EXT', 'THRONE', 'ROOM', 'SPACE', 'NIGHT', 'Kneeling', 'behind', 'a', 'THRONE', 'a', 'CLOTHED', 'ARMORED', 'FIGURE', 'known', 'as', 'THE', 'OTHER', 'bows', 'THE', 'OTHER', 'V', 'O', 'The', 'Tesseract', 'has', 'awakened', 'It', 'is', 'on', 'a', 'little', 'world', 'A', 'human', 'world', 'They', 'would', 'wield', 'its', 'power', 'CUT', 'TO', 'THE', 'OTHER', 'faces', 'a', 'HORNED', 'SHAPED', 'SHADOW', 'LOKI', 'Loki', 'is', 'handed', 'the', 'CHITAURI', 'SCEPTER', 'a', 'long', 'golden', 'handle', 'fitted', 'with', 'a', 'blue', 'gem', 'encircled', 'with', 'silver', 'blades', 'THE', 'OTHER', 'V', 'O', 'But', 'our', 'ally', 'knows', 'its', 'workings', 'as', 'they', 'never', 'will', 'He', 'is', 'ready', 'to', 'lead', 'And', 'our', 'force', 'our', 'Chitauri', 'will', 'follow', 'HIGH', 'WIDE', 'ON', 'TENS', 'OF', 'THOUSANDS', 'of', 'CHITAURI', 'stand', 'ready', 'in', 'a', 'seething', 'mass', 'of', 'neat', 'rows', 'and', 'columns', 'the', 'ground', 'simply', 'QUAKES']\n"
     ]
    }
   ],
   "source": [
    "# Find all the words\n",
    "result = re.findall(r'\\w+', text)\n",
    "print(result)"
   ]
  },
  {
   "cell_type": "code",
   "execution_count": 75,
   "metadata": {},
   "outputs": [
    {
     "name": "stdout",
     "output_type": "stream",
     "text": [
      "['And', '', 'there', '', 'came', '', 'a', '', 'day', '', '', 'a', '', 'day', '', 'unlike', '', 'any', '', 'other', '', '', 'when', '', 'Earth', '', 's', '', '', '', '', '', '', '', '', '', '', '', 'mightiest', '', 'heroes', '', 'and', '', 'heroines', '', 'found', '', 'themselves', '', 'united', '', 'against', '', 'a', '', '', '', '', '', '', '', '', '', '', '', 'common', '', 'threat', '', '', 'On', '', 'that', '', 'day', '', '', 'the', '', 'Avengers', '', 'were', '', 'born', '', '', 'to', '', 'fight', '', 'the', '', '', '', '', '', '', '', '', '', '', '', 'foes', '', 'no', '', 'single', '', 'superhero', '', 'could', '', 'withstand', '', '', 'Through', '', 'the', '', 'years', '', '', '', '', '', '', '', '', '', '', '', '', 'their', '', 'roster', '', 'has', '', 'prospered', '', '', 'changing', '', 'many', '', 'times', '', '', 'but', '', 'their', '', 'glory', '', '', '', '', '', '', '', '', '', '', '', 'has', '', 'never', '', 'been', '', 'denied', '', '', 'Heed', '', 'the', '', 'call', '', '', 'then', '', '', 'for', '', 'now', '', '', 'the', '', 'Avengers', '', '', '', '', '', '', '', '', '', '', '', 'Assemble', '', '', '', '', '', '', '', '', '', '', '', '', '', '', 'BURNING', '', 'BLUE', '', 'FLAMES', '', '', 'A', '', 'smoky', '', 'cube', '', 'shape', '', 'emerges', '', '', '', 'THE', '', 'TESSERACT', '', '', '', '', '', '', '', '', '', '', '', '', 'Filling', '', 'the', '', 'screen', '', 'with', '', 'BLACKNESS', '', '', '', '', '', '', '', '', '', '', '', '', '', '', '', '', '', '', '', '', '', '', '', '', '', '', '', '', '', 'CUT', '', 'TO', '', '', '', '', '', '', '', '', '', '', '', '', '', 'EXT', '', '', 'THRONE', '', 'ROOM', '', '', 'SPACE', '', '', '', 'NIGHT', '', '', '', '', '', '', '', '', '', '', '', '', 'Kneeling', '', 'behind', '', 'a', '', 'THRONE', '', '', 'a', '', 'CLOTHED', '', '', 'ARMORED', '', 'FIGURE', '', 'known', '', 'as', '', 'THE', '', '', '', '', '', '', '', '', '', '', '', 'OTHER', '', '', 'bows', '', '', '', '', '', '', '', '', '', '', '', '', '', '', 'THE', '', 'OTHER', '', '', 'V', '', 'O', '', '', '', '', '', '', '', '', '', '', '', '', '', '', 'The', '', 'Tesseract', '', 'has', '', 'awakened', '', '', 'It', '', 'is', '', 'on', '', 'a', '', '', '', '', '', '', '', '', '', '', '', '', 'little', '', 'world', '', '', 'A', '', 'human', '', 'world', '', '', 'They', '', 'would', '', '', '', '', '', '', '', '', '', '', '', '', 'wield', '', 'its', '', 'power', '', '', '', '', '', '', '', '', '', '', '', '', '', '', '', '', '', '', '', '', '', '', '', '', '', '', '', '', '', '', '', '', 'CUT', '', 'TO', '', '', '', '', '', '', '', '', '', '', '', '', 'THE', '', 'OTHER', '', 'faces', '', 'a', '', 'HORNED', '', 'SHAPED', '', 'SHADOW', '', '', 'LOKI', '', '', 'Loki', '', 'is', '', 'handed', '', 'the', '', '', '', '', '', '', '', '', '', '', '', 'CHITAURI', '', 'SCEPTER', '', '', 'a', '', 'long', '', 'golden', '', 'handle', '', '', 'fitted', '', 'with', '', 'a', '', 'blue', '', 'gem', '', '', '', '', '', '', '', '', '', '', '', 'encircled', '', 'with', '', 'silver', '', 'blades', '', '', '', '', '', '', '', '', '', '', '', '', '', '', 'THE', '', 'OTHER', '', '', 'V', '', 'O', '', '', '', '', '', '', '', '', '', '', '', '', '', '', 'But', '', 'our', '', 'ally', '', 'knows', '', 'its', '', 'workings', '', 'as', '', 'they', '', '', '', '', '', '', '', '', '', '', '', '', 'never', '', 'will', '', '', 'He', '', 'is', '', 'ready', '', 'to', '', 'lead', '', '', 'And', '', '', '', '', '', '', '', '', '', '', '', '', 'our', '', 'force', '', '', 'our', '', 'Chitauri', '', '', 'will', '', 'follow', '', '', '', '', '', '', '', '', '', '', '', '', '', 'HIGH', '', 'WIDE', '', 'ON', '', '', 'TENS', '', 'OF', '', 'THOUSANDS', '', 'of', '', 'CHITAURI', '', 'stand', '', 'ready', '', 'in', '', 'a', '', '', '', '', '', '', '', '', '', '', '', 'seething', '', 'mass', '', 'of', '', 'neat', '', 'rows', '', 'and', '', 'columns', '', '', '', '', 'the', '', 'ground', '', 'simply', '', '', '', '', '', '', '', '', '', '', '', '', 'QUAKES', '', '']\n"
     ]
    }
   ],
   "source": [
    "# This will give spaces also as * means 0 or more.\n",
    "result = re.findall(r'\\w*', text)\n",
    "print(result)"
   ]
  },
  {
   "cell_type": "markdown",
   "metadata": {},
   "source": [
    "#### Write an expression to find first two characters in each words"
   ]
  },
  {
   "cell_type": "code",
   "execution_count": 81,
   "metadata": {},
   "outputs": [
    {
     "name": "stdout",
     "output_type": "stream",
     "text": [
      "['An', 'th', 'ca', 'da', 'da', 'un', 'an', 'ot', 'wh', 'Ea', 'mi', 'he', 'an', 'he', 'fo', 'th', 'un', 'ag', 'co', 'th', 'On', 'th', 'da', 'th', 'Av', 'we', 'bo', 'to', 'fi', 'th', 'fo', 'no', 'si', 'su', 'co', 'wi', 'Th', 'th', 'ye', 'th', 'ro', 'ha', 'pr', 'ch', 'ma', 'ti', 'bu', 'th', 'gl', 'ha', 'ne', 'be', 'de', 'He', 'th', 'ca', 'th', 'fo', 'no', 'th', 'Av', 'As', 'BU', 'BL', 'FL', 'sm', 'cu', 'sh', 'em', 'TH', 'TE', 'Fi', 'th', 'sc', 'wi', 'BL', 'CU', 'TO', 'EX', 'TH', 'RO', 'SP', 'NI', 'Kn', 'be', 'TH', 'CL', 'AR', 'FI', 'kn', 'as', 'TH', 'OT', 'bo', 'TH', 'OT', 'Th', 'Te', 'ha', 'aw', 'It', 'is', 'on', 'li', 'wo', 'hu', 'wo', 'Th', 'wo', 'wi', 'it', 'po', 'CU', 'TO', 'TH', 'OT', 'fa', 'HO', 'SH', 'SH', 'LO', 'Lo', 'is', 'ha', 'th', 'CH', 'SC', 'lo', 'go', 'ha', 'fi', 'wi', 'bl', 'ge', 'en', 'wi', 'si', 'bl', 'TH', 'OT', 'Bu', 'ou', 'al', 'kn', 'it', 'wo', 'as', 'th', 'ne', 'wi', 'He', 'is', 're', 'to', 'le', 'An', 'ou', 'fo', 'ou', 'Ch', 'wi', 'fo', 'HI', 'WI', 'ON', 'TE', 'OF', 'TH', 'of', 'CH', 'st', 're', 'in', 'se', 'ma', 'of', 'ne', 'ro', 'an', 'co', 'th', 'gr', 'si', 'QU']\n"
     ]
    }
   ],
   "source": [
    "words = re.findall(r'\\b\\w\\w', text)\n",
    "print(words)"
   ]
  },
  {
   "cell_type": "markdown",
   "metadata": {},
   "source": [
    "#### Find the words with length of 3 letters in the text"
   ]
  },
  {
   "cell_type": "code",
   "execution_count": 83,
   "metadata": {},
   "outputs": [
    {
     "data": {
      "text/plain": [
       "['And',\n",
       " 'the',\n",
       " 'cam',\n",
       " 'day',\n",
       " 'day',\n",
       " 'unl',\n",
       " 'any',\n",
       " 'oth',\n",
       " 'whe',\n",
       " 'Ear',\n",
       " 'mig',\n",
       " 'her',\n",
       " 'and',\n",
       " 'her',\n",
       " 'fou',\n",
       " 'the',\n",
       " 'uni',\n",
       " 'aga',\n",
       " 'com',\n",
       " 'thr',\n",
       " 'tha',\n",
       " 'day',\n",
       " 'the',\n",
       " 'Ave',\n",
       " 'wer',\n",
       " 'bor',\n",
       " 'fig',\n",
       " 'the',\n",
       " 'foe',\n",
       " 'sin',\n",
       " 'sup',\n",
       " 'cou',\n",
       " 'wit',\n",
       " 'Thr',\n",
       " 'the',\n",
       " 'yea',\n",
       " 'the',\n",
       " 'ros',\n",
       " 'has',\n",
       " 'pro',\n",
       " 'cha',\n",
       " 'man',\n",
       " 'tim',\n",
       " 'but',\n",
       " 'the',\n",
       " 'glo',\n",
       " 'has',\n",
       " 'nev',\n",
       " 'bee',\n",
       " 'den',\n",
       " 'Hee',\n",
       " 'the',\n",
       " 'cal',\n",
       " 'the',\n",
       " 'for',\n",
       " 'now',\n",
       " 'the',\n",
       " 'Ave',\n",
       " 'Ass',\n",
       " 'BUR',\n",
       " 'BLU',\n",
       " 'FLA',\n",
       " 'smo',\n",
       " 'cub',\n",
       " 'sha',\n",
       " 'eme',\n",
       " 'THE',\n",
       " 'TES',\n",
       " 'Fil',\n",
       " 'the',\n",
       " 'scr',\n",
       " 'wit',\n",
       " 'BLA',\n",
       " 'CUT',\n",
       " 'EXT',\n",
       " 'THR',\n",
       " 'ROO',\n",
       " 'SPA',\n",
       " 'NIG',\n",
       " 'Kne',\n",
       " 'beh',\n",
       " 'THR',\n",
       " 'CLO',\n",
       " 'ARM',\n",
       " 'FIG',\n",
       " 'kno',\n",
       " 'THE',\n",
       " 'OTH',\n",
       " 'bow',\n",
       " 'THE',\n",
       " 'OTH',\n",
       " 'The',\n",
       " 'Tes',\n",
       " 'has',\n",
       " 'awa',\n",
       " 'lit',\n",
       " 'wor',\n",
       " 'hum',\n",
       " 'wor',\n",
       " 'The',\n",
       " 'wou',\n",
       " 'wie',\n",
       " 'its',\n",
       " 'pow',\n",
       " 'CUT',\n",
       " 'THE',\n",
       " 'OTH',\n",
       " 'fac',\n",
       " 'HOR',\n",
       " 'SHA',\n",
       " 'SHA',\n",
       " 'LOK',\n",
       " 'Lok',\n",
       " 'han',\n",
       " 'the',\n",
       " 'CHI',\n",
       " 'SCE',\n",
       " 'lon',\n",
       " 'gol',\n",
       " 'han',\n",
       " 'fit',\n",
       " 'wit',\n",
       " 'blu',\n",
       " 'gem',\n",
       " 'enc',\n",
       " 'wit',\n",
       " 'sil',\n",
       " 'bla',\n",
       " 'THE',\n",
       " 'OTH',\n",
       " 'But',\n",
       " 'our',\n",
       " 'all',\n",
       " 'kno',\n",
       " 'its',\n",
       " 'wor',\n",
       " 'the',\n",
       " 'nev',\n",
       " 'wil',\n",
       " 'rea',\n",
       " 'lea',\n",
       " 'And',\n",
       " 'our',\n",
       " 'for',\n",
       " 'our',\n",
       " 'Chi',\n",
       " 'wil',\n",
       " 'fol',\n",
       " 'HIG',\n",
       " 'WID',\n",
       " 'TEN',\n",
       " 'THO',\n",
       " 'CHI',\n",
       " 'sta',\n",
       " 'rea',\n",
       " 'see',\n",
       " 'mas',\n",
       " 'nea',\n",
       " 'row',\n",
       " 'and',\n",
       " 'col',\n",
       " 'the',\n",
       " 'gro',\n",
       " 'sim',\n",
       " 'QUA']"
      ]
     },
     "execution_count": 83,
     "metadata": {},
     "output_type": "execute_result"
    }
   ],
   "source": [
    "result = re.findall(r'\\b\\w{3}', text)\n",
    "result"
   ]
  },
  {
   "cell_type": "code",
   "execution_count": 85,
   "metadata": {},
   "outputs": [
    {
     "name": "stdout",
     "output_type": "stream",
     "text": [
      "['And', 'ere', 'ame', 'day', 'day', 'ike', 'any', 'her', 'hen', 'rth', 'est', 'oes', 'and', 'nes', 'und', 'ves', 'ted', 'nst', 'mon', 'eat', 'hat', 'day', 'the', 'ers', 'ere', 'orn', 'ght', 'the', 'oes', 'gle', 'ero', 'uld', 'and', 'ugh', 'the', 'ars', 'eir', 'ter', 'has', 'red', 'ing', 'any', 'mes', 'but', 'eir', 'ory', 'has', 'ver', 'een', 'ied', 'eed', 'the', 'all', 'hen', 'for', 'now', 'the', 'ers', 'ble', 'ING', 'LUE', 'MES', 'oky', 'ube', 'ape', 'ges', 'THE', 'ACT', 'ing', 'the', 'een', 'ith', 'ESS', 'CUT', 'EXT', 'ONE', 'OOM', 'ACE', 'GHT', 'ing', 'ind', 'ONE', 'HED', 'RED', 'URE', 'own', 'THE', 'HER', 'ows', 'THE', 'HER', 'The', 'act', 'has', 'ned', 'tle', 'rld', 'man', 'rld', 'hey', 'uld', 'eld', 'its', 'wer', 'CUT', 'THE', 'HER', 'ces', 'NED', 'PED', 'DOW', 'OKI', 'oki', 'ded', 'the', 'URI', 'TER', 'ong', 'den', 'dle', 'ted', 'ith', 'lue', 'gem', 'led', 'ith', 'ver', 'des', 'THE', 'HER', 'But', 'our', 'lly', 'ows', 'its', 'ngs', 'hey', 'ver', 'ill', 'ady', 'ead', 'And', 'our', 'rce', 'our', 'uri', 'ill', 'low', 'IGH', 'IDE', 'ENS', 'NDS', 'URI', 'and', 'ady', 'ing', 'ass', 'eat', 'ows', 'and', 'mns', 'the', 'und', 'ply', 'KES']\n"
     ]
    }
   ],
   "source": [
    "result = re.findall(r'\\w{3}\\b', text)\n",
    "print(result)"
   ]
  },
  {
   "cell_type": "code",
   "execution_count": 87,
   "metadata": {},
   "outputs": [
    {
     "name": "stdout",
     "output_type": "stream",
     "text": [
      "['And', 'day', 'day', 'any', 'and', 'day', 'the', 'the', 'the', 'has', 'but', 'has', 'the', 'for', 'now', 'the', 'THE', 'the', 'CUT', 'EXT', 'THE', 'THE', 'The', 'has', 'its', 'CUT', 'THE', 'the', 'gem', 'THE', 'But', 'our', 'its', 'And', 'our', 'our', 'and', 'the']\n"
     ]
    }
   ],
   "source": [
    "result = re.findall(r'\\b\\w{3}\\b', text)\n",
    "print(result)"
   ]
  },
  {
   "cell_type": "code",
   "execution_count": 88,
   "metadata": {},
   "outputs": [
    {
     "name": "stdout",
     "output_type": "stream",
     "text": [
      "['9', '3', '0', '9', '8', '4', '8']\n"
     ]
    }
   ],
   "source": [
    "result = re.findall(r'\\d', 'adlkha930yrigahef9848')\n",
    "print(result)"
   ]
  },
  {
   "cell_type": "code",
   "execution_count": 94,
   "metadata": {},
   "outputs": [
    {
     "name": "stdout",
     "output_type": "stream",
     "text": [
      "['And', 'unlike', 'any', 'other', 'Earth', 'and', 'united', 'against', 'On', 'Avengers', 'Avengers', 'Assemble', 'emerges', 'EXT', 'ARMORED', 'as', 'OTHER', 'OTHER', 'awakened', 'It', 'is', 'on', 'its', 'OTHER', 'is', 'encircled', 'OTHER', 'our', 'ally', 'its', 'as', 'is', 'And', 'our', 'our', 'ON', 'OF', 'of', 'in', 'of', 'and']\n"
     ]
    }
   ],
   "source": [
    "# Find the words which starts with vowels\n",
    "result = re.findall(r'\\b[aeiouAEIOU]\\w+', text)\n",
    "print(result)"
   ]
  },
  {
   "cell_type": "code",
   "execution_count": 96,
   "metadata": {},
   "outputs": [
    {
     "name": "stdout",
     "output_type": "stream",
     "text": [
      "['there', 'came', 'day', 'day', 'when', \"'s\", 'mightiest', 'heroes', 'heroines', 'found', 'themselves', 'common', 'threat', 'that', 'day', 'the', 'were', 'born', 'to', 'fight', 'the', 'foes', 'no', 'single', 'superhero', 'could', 'withstand', 'Through', 'the', 'years', 'their', 'roster', 'has', 'prospered', 'changing', 'many', 'times', 'but', 'their', 'glory', 'has', 'never', 'been', 'denied', 'Heed', 'the', 'call', 'then', 'for', 'now', 'the', 'BURNING', 'BLUE', 'FLAMES', 'smoky', 'cube', 'shape', 'THE', 'TESSERACT', 'Filling', 'the', 'screen', 'with', 'BLACKNESS', 'CUT', 'TO', 'THRONE', 'ROOM', 'SPACE', 'NIGHT', 'Kneeling', 'behind', 'THRONE', 'CLOTHED', 'FIGURE', 'known', 'THE', 'bows', 'THE', '.O', 'The', 'Tesseract', 'has', 'little', 'world', 'human', 'world', 'They', 'would', 'wield', 'power', 'CUT', 'TO', 'THE', 'faces', 'HORNED', 'SHAPED', 'SHADOW', 'LOKI', 'Loki', 'handed', 'the', 'CHITAURI', 'SCEPTER', 'long', 'golden', 'handle', 'fitted', 'with', 'blue', 'gem', 'with', 'silver', 'blades', 'THE', '.O', 'But', 'knows', 'workings', 'they', 'never', 'will', 'He', 'ready', 'to', 'lead', 'force', 'Chitauri', 'will', 'follow', 'HIGH', 'WIDE', 'TENS', 'THOUSANDS', 'CHITAURI', 'stand', 'ready', 'seething', 'mass', 'neat', 'rows', 'columns', 'the', 'ground', 'simply', 'QUAKES']\n"
     ]
    }
   ],
   "source": [
    "# Find all the words which does not starts with vowels\n",
    "result = re.findall(r'\\b[^ aeiouAEIOU]\\w+', text)\n",
    "print(result)"
   ]
  },
  {
   "cell_type": "code",
   "execution_count": 97,
   "metadata": {},
   "outputs": [
    {
     "name": "stdout",
     "output_type": "stream",
     "text": [
      "[' ', ' ', ' ', ' ', ',', ' ', ' ', ' ', ' ', ' ', ',', ' ', ' ', \"'\", '\\n', ' ', ' ', ' ', ' ', ' ', ' ', ' ', ' ', ' ', ' ', ' ', ' ', ' ', ' ', ' ', ' ', ' ', ' ', '\\n', ' ', ' ', ' ', ' ', ' ', ' ', ' ', ' ', ' ', ' ', ' ', '.', ' ', ' ', ' ', ',', ' ', ' ', ' ', ' ', '-', '-', ' ', ' ', '\\n', ' ', ' ', ' ', ' ', ' ', ' ', ' ', ' ', ' ', ' ', ' ', ' ', ' ', ' ', ' ', '!', ' ', ' ', ' ', ',', '\\n', ' ', ' ', ' ', ' ', ' ', ' ', ' ', ' ', ' ', ' ', ' ', ' ', ' ', ',', ' ', ' ', ' ', ',', ' ', ' ', ' ', '\\n', ' ', ' ', ' ', ' ', ' ', ' ', ' ', ' ', ' ', ' ', ' ', ' ', ' ', '!', ' ', ' ', ' ', ',', ' ', '-', '-', ' ', ',', ' ', ' ', '\\n', ' ', ' ', ' ', ' ', ' ', ' ', ' ', ' ', ' ', ' ', '!', '\"', '\\n', '\\n', ' ', ' ', ' ', ' ', ' ', ' ', ' ', ' ', ' ', ' ', ' ', ' ', '.', ' ', ' ', ' ', ' ', ' ', ' ', '-', ' ', ' ', '.', '\\n', ' ', ' ', ' ', ' ', ' ', ' ', ' ', ' ', ' ', ' ', ' ', ' ', ' ', ' ', '.', '\\n', '\\n', ' ', ' ', ' ', ' ', ' ', ' ', ' ', ' ', ' ', ' ', ' ', ' ', ' ', ' ', ' ', ' ', ' ', ' ', ' ', ' ', ' ', ' ', ' ', ' ', ' ', ' ', ' ', ':', '\\n', '\\n', ' ', ' ', ' ', ' ', ' ', ' ', ' ', ' ', ' ', ' ', '.', ' ', ' ', ',', ' ', ' ', '\\xad', ' ', '\\n', '\\n', ' ', ' ', ' ', ' ', ' ', ' ', ' ', ' ', ' ', ' ', ' ', ' ', ' ', ',', ' ', ' ', ',', ' ', ' ', ' ', ' ', ' ', '\\n', ' ', ' ', ' ', ' ', ' ', ' ', ' ', ' ', ' ', ' ', ',', ' ', '.', '\\n', '\\n', ' ', ' ', ' ', ' ', ' ', ' ', ' ', ' ', ' ', ' ', ' ', ' ', ' ', '(', '.', '.', ')', '\\n', ' ', ' ', ' ', ' ', ' ', ' ', ' ', ' ', ' ', ' ', ' ', ' ', ' ', ' ', '.', ' ', ' ', ' ', ' ', '\\n', ' ', ' ', ' ', ' ', ' ', ' ', ' ', ' ', ' ', ' ', ' ', ' ', '.', ' ', ' ', ' ', '.', ' ', ' ', '\\n', ' ', ' ', ' ', ' ', ' ', ' ', ' ', ' ', ' ', ' ', ' ', ' ', ' ', ',', '.', '.', '.', '\\n', '\\n', ' ', ' ', ' ', ' ', ' ', ' ', ' ', ' ', ' ', ' ', ' ', ' ', ' ', ' ', ' ', ' ', ' ', ' ', ' ', ' ', ' ', ' ', ' ', ' ', ' ', ' ', ' ', ':', '\\n', ' ', ' ', ' ', ' ', ' ', ' ', ' ', ' ', ' ', ' ', ' ', ' ', ' ', ' ', ' ', ' ', '.', ' ', '.', ' ', ' ', ' ', ' ', '\\n', ' ', ' ', ' ', ' ', ' ', ' ', ' ', ' ', ' ', ' ', ' ', ',', ' ', ' ', ' ', ' ', ',', ' ', ' ', ' ', ' ', ' ', '\\n', ' ', ' ', ' ', ' ', ' ', ' ', ' ', ' ', ' ', ' ', ' ', ' ', ' ', '.', '\\n', '\\n', ' ', ' ', ' ', ' ', ' ', ' ', ' ', ' ', ' ', ' ', ' ', ' ', ' ', '(', '.', '.', ')', '\\n', ' ', ' ', ' ', ' ', ' ', ' ', ' ', ' ', ' ', ' ', ' ', ' ', ' ', ' ', ' ', ' ', ' ', ' ', '\\n', ' ', ' ', ' ', ' ', ' ', ' ', ' ', ' ', ' ', ' ', ' ', ' ', '.', ' ', ' ', ' ', ' ', ' ', '.', ' ', '\\n', ' ', ' ', ' ', ' ', ' ', ' ', ' ', ' ', ' ', ' ', ' ', ' ', ',', ' ', ' ', ',', ' ', ' ', '.', '\\n', '\\n', ' ', ' ', ' ', ' ', ' ', ' ', ' ', ' ', ' ', ' ', ' ', ' ', ':', ' ', ' ', ' ', ' ', ' ', ' ', ' ', ' ', ' ', '\\n', ' ', ' ', ' ', ' ', ' ', ' ', ' ', ' ', ' ', ' ', ' ', ' ', ' ', ' ', ' ', ' ', '.', '.', '.', '.', ' ', ' ', '\\n', '\\n', ' ', ' ', ' ', ' ', ' ', ' ', ' ', ' ', ' ', ' ', '.']\n"
     ]
    }
   ],
   "source": [
    "# find all the special characters \n",
    "result = re.findall(r'\\W', text)\n",
    "print(result)"
   ]
  },
  {
   "cell_type": "code",
   "execution_count": 107,
   "metadata": {},
   "outputs": [
    {
     "name": "stdout",
     "output_type": "stream",
     "text": [
      "['were', 'Assemble']\n"
     ]
    }
   ],
   "source": [
    "# Find all the words that are next to the word 'Avengers'\n",
    "result = re.findall(r'Avengers\\s+(\\w+)', text)\n",
    "print(result)"
   ]
  },
  {
   "cell_type": "code",
   "execution_count": 116,
   "metadata": {},
   "outputs": [
    {
     "name": "stdout",
     "output_type": "stream",
     "text": [
      "9396969693\n",
      "9123191231\n",
      "8383835656\n"
     ]
    }
   ],
   "source": [
    "# Find the valid phone numbers that starts with 8 or 9 and upto only 10 digits\n",
    "phones = ['9396969693', '9123191231', '8383835656', '91345033843304403', '7947443734']\n",
    "\n",
    "for num in phones:\n",
    "    if re.findall(r'\\b[89]\\d{9}\\b', num):\n",
    "        print(num)\n",
    "\n",
    "        "
   ]
  },
  {
   "cell_type": "code",
   "execution_count": 24,
   "metadata": {},
   "outputs": [
    {
     "data": {
      "text/plain": [
       "['123', '123456']"
      ]
     },
     "execution_count": 24,
     "metadata": {},
     "output_type": "execute_result"
    }
   ],
   "source": [
    "text = 'abc123abcdef123456'\n",
    "re.findall(r'\\d+', text)"
   ]
  },
  {
   "cell_type": "code",
   "execution_count": null,
   "metadata": {},
   "outputs": [],
   "source": []
  }
 ],
 "metadata": {
  "kernelspec": {
   "display_name": "Python 3",
   "language": "python",
   "name": "python3"
  },
  "language_info": {
   "codemirror_mode": {
    "name": "ipython",
    "version": 3
   },
   "file_extension": ".py",
   "mimetype": "text/x-python",
   "name": "python",
   "nbconvert_exporter": "python",
   "pygments_lexer": "ipython3",
   "version": "3.7.4"
  }
 },
 "nbformat": 4,
 "nbformat_minor": 2
}
