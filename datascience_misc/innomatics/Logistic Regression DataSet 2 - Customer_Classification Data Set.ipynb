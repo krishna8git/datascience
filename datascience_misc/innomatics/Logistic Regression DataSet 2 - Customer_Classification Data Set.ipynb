{
 "cells": [
  {
   "cell_type": "code",
   "execution_count": 28,
   "metadata": {},
   "outputs": [],
   "source": [
    "import pandas as pd\n",
    "import numpy as np\n",
    "import matplotlib.pyplot as plt"
   ]
  },
  {
   "cell_type": "code",
   "execution_count": 29,
   "metadata": {},
   "outputs": [
    {
     "data": {
      "text/plain": [
       "(3209, 14)"
      ]
     },
     "execution_count": 29,
     "metadata": {},
     "output_type": "execute_result"
    }
   ],
   "source": [
    "customer_data = pd.read_csv('datasets/logistic-regression/CustomerData_Classification.csv')\n",
    "customer_data.shape"
   ]
  },
  {
   "cell_type": "code",
   "execution_count": 32,
   "metadata": {},
   "outputs": [
    {
     "data": {
      "text/plain": [
       "'Uniform'"
      ]
     },
     "execution_count": 32,
     "metadata": {},
     "output_type": "execute_result"
    }
   ],
   "source": [
    "customer_data.FavoriteGame.mode()[0]"
   ]
  },
  {
   "cell_type": "code",
   "execution_count": 33,
   "metadata": {},
   "outputs": [],
   "source": [
    "customer_data.loc[customer_data.FavoriteGame == 'NONE', 'FavoriteGame'] = customer_data.FavoriteGame.mode()[0]"
   ]
  },
  {
   "cell_type": "code",
   "execution_count": 34,
   "metadata": {},
   "outputs": [
    {
     "data": {
      "text/plain": [
       "Uniform     3083\n",
       "Favorite     126\n",
       "Name: FavoriteGame, dtype: int64"
      ]
     },
     "execution_count": 34,
     "metadata": {},
     "output_type": "execute_result"
    }
   ],
   "source": [
    "customer_data.FavoriteGame.value_counts()"
   ]
  },
  {
   "cell_type": "code",
   "execution_count": 35,
   "metadata": {},
   "outputs": [
    {
     "data": {
      "text/plain": [
       "CustomerID                      0\n",
       "City                            0\n",
       "NoOfChildren                    0\n",
       "MinAgeOfChild                   0\n",
       "MaxAgeOfChild                   0\n",
       "Tenure                          0\n",
       "FrquncyOfPurchase               0\n",
       "NoOfUnitsPurchased              0\n",
       "FrequencyOFPlay                 0\n",
       "NoOfGamesPlayed                 0\n",
       "NoOfGamesBought                 0\n",
       "FavoriteChannelOfTransaction    0\n",
       "FavoriteGame                    0\n",
       "Churned                         0\n",
       "dtype: int64"
      ]
     },
     "execution_count": 35,
     "metadata": {},
     "output_type": "execute_result"
    }
   ],
   "source": [
    "customer_data.isnull().sum()"
   ]
  },
  {
   "cell_type": "markdown",
   "metadata": {},
   "source": [
    "###  Label Encoding"
   ]
  },
  {
   "cell_type": "code",
   "execution_count": 36,
   "metadata": {},
   "outputs": [
    {
     "data": {
      "text/html": [
       "<div>\n",
       "<style scoped>\n",
       "    .dataframe tbody tr th:only-of-type {\n",
       "        vertical-align: middle;\n",
       "    }\n",
       "\n",
       "    .dataframe tbody tr th {\n",
       "        vertical-align: top;\n",
       "    }\n",
       "\n",
       "    .dataframe thead th {\n",
       "        text-align: right;\n",
       "    }\n",
       "</style>\n",
       "<table border=\"1\" class=\"dataframe\">\n",
       "  <thead>\n",
       "    <tr style=\"text-align: right;\">\n",
       "      <th></th>\n",
       "      <th>FavChannelOfTrnsc</th>\n",
       "    </tr>\n",
       "  </thead>\n",
       "  <tbody>\n",
       "    <tr>\n",
       "      <td>0</td>\n",
       "      <td>1</td>\n",
       "    </tr>\n",
       "    <tr>\n",
       "      <td>1</td>\n",
       "      <td>0</td>\n",
       "    </tr>\n",
       "    <tr>\n",
       "      <td>2</td>\n",
       "      <td>0</td>\n",
       "    </tr>\n",
       "    <tr>\n",
       "      <td>3</td>\n",
       "      <td>0</td>\n",
       "    </tr>\n",
       "    <tr>\n",
       "      <td>4</td>\n",
       "      <td>1</td>\n",
       "    </tr>\n",
       "  </tbody>\n",
       "</table>\n",
       "</div>"
      ],
      "text/plain": [
       "   FavChannelOfTrnsc\n",
       "0                  1\n",
       "1                  0\n",
       "2                  0\n",
       "3                  0\n",
       "4                  1"
      ]
     },
     "execution_count": 36,
     "metadata": {},
     "output_type": "execute_result"
    }
   ],
   "source": [
    "# Label Encoding\n",
    "from sklearn.preprocessing import LabelEncoder, OneHotEncoder\n",
    "le = LabelEncoder()\n",
    "df_favch = pd.DataFrame(le.fit_transform(customer_data.FavoriteChannelOfTransaction), columns = ['FavChannelOfTrnsc'])\n",
    "df_favch.head()"
   ]
  },
  {
   "cell_type": "code",
   "execution_count": 37,
   "metadata": {},
   "outputs": [
    {
     "data": {
      "text/html": [
       "<div>\n",
       "<style scoped>\n",
       "    .dataframe tbody tr th:only-of-type {\n",
       "        vertical-align: middle;\n",
       "    }\n",
       "\n",
       "    .dataframe tbody tr th {\n",
       "        vertical-align: top;\n",
       "    }\n",
       "\n",
       "    .dataframe thead th {\n",
       "        text-align: right;\n",
       "    }\n",
       "</style>\n",
       "<table border=\"1\" class=\"dataframe\">\n",
       "  <thead>\n",
       "    <tr style=\"text-align: right;\">\n",
       "      <th></th>\n",
       "      <th>FavoriteGame</th>\n",
       "    </tr>\n",
       "  </thead>\n",
       "  <tbody>\n",
       "    <tr>\n",
       "      <td>0</td>\n",
       "      <td>1</td>\n",
       "    </tr>\n",
       "    <tr>\n",
       "      <td>1</td>\n",
       "      <td>1</td>\n",
       "    </tr>\n",
       "    <tr>\n",
       "      <td>2</td>\n",
       "      <td>1</td>\n",
       "    </tr>\n",
       "    <tr>\n",
       "      <td>3</td>\n",
       "      <td>1</td>\n",
       "    </tr>\n",
       "    <tr>\n",
       "      <td>4</td>\n",
       "      <td>1</td>\n",
       "    </tr>\n",
       "  </tbody>\n",
       "</table>\n",
       "</div>"
      ],
      "text/plain": [
       "   FavoriteGame\n",
       "0             1\n",
       "1             1\n",
       "2             1\n",
       "3             1\n",
       "4             1"
      ]
     },
     "execution_count": 37,
     "metadata": {},
     "output_type": "execute_result"
    }
   ],
   "source": [
    "df_favgm = pd.DataFrame(le.fit_transform(customer_data.FavoriteGame), columns = ['FavoriteGame'])\n",
    "df_favgm.head()"
   ]
  },
  {
   "cell_type": "code",
   "execution_count": 38,
   "metadata": {},
   "outputs": [
    {
     "data": {
      "text/html": [
       "<div>\n",
       "<style scoped>\n",
       "    .dataframe tbody tr th:only-of-type {\n",
       "        vertical-align: middle;\n",
       "    }\n",
       "\n",
       "    .dataframe tbody tr th {\n",
       "        vertical-align: top;\n",
       "    }\n",
       "\n",
       "    .dataframe thead th {\n",
       "        text-align: right;\n",
       "    }\n",
       "</style>\n",
       "<table border=\"1\" class=\"dataframe\">\n",
       "  <thead>\n",
       "    <tr style=\"text-align: right;\">\n",
       "      <th></th>\n",
       "      <th>FavChannelOfTrnsc</th>\n",
       "      <th>FavoriteGame</th>\n",
       "    </tr>\n",
       "  </thead>\n",
       "  <tbody>\n",
       "    <tr>\n",
       "      <td>0</td>\n",
       "      <td>1</td>\n",
       "      <td>1</td>\n",
       "    </tr>\n",
       "    <tr>\n",
       "      <td>1</td>\n",
       "      <td>0</td>\n",
       "      <td>1</td>\n",
       "    </tr>\n",
       "    <tr>\n",
       "      <td>2</td>\n",
       "      <td>0</td>\n",
       "      <td>1</td>\n",
       "    </tr>\n",
       "    <tr>\n",
       "      <td>3</td>\n",
       "      <td>0</td>\n",
       "      <td>1</td>\n",
       "    </tr>\n",
       "    <tr>\n",
       "      <td>4</td>\n",
       "      <td>1</td>\n",
       "      <td>1</td>\n",
       "    </tr>\n",
       "    <tr>\n",
       "      <td>...</td>\n",
       "      <td>...</td>\n",
       "      <td>...</td>\n",
       "    </tr>\n",
       "    <tr>\n",
       "      <td>3204</td>\n",
       "      <td>0</td>\n",
       "      <td>1</td>\n",
       "    </tr>\n",
       "    <tr>\n",
       "      <td>3205</td>\n",
       "      <td>0</td>\n",
       "      <td>1</td>\n",
       "    </tr>\n",
       "    <tr>\n",
       "      <td>3206</td>\n",
       "      <td>1</td>\n",
       "      <td>1</td>\n",
       "    </tr>\n",
       "    <tr>\n",
       "      <td>3207</td>\n",
       "      <td>0</td>\n",
       "      <td>1</td>\n",
       "    </tr>\n",
       "    <tr>\n",
       "      <td>3208</td>\n",
       "      <td>0</td>\n",
       "      <td>1</td>\n",
       "    </tr>\n",
       "  </tbody>\n",
       "</table>\n",
       "<p>3209 rows × 2 columns</p>\n",
       "</div>"
      ],
      "text/plain": [
       "      FavChannelOfTrnsc  FavoriteGame\n",
       "0                     1             1\n",
       "1                     0             1\n",
       "2                     0             1\n",
       "3                     0             1\n",
       "4                     1             1\n",
       "...                 ...           ...\n",
       "3204                  0             1\n",
       "3205                  0             1\n",
       "3206                  1             1\n",
       "3207                  0             1\n",
       "3208                  0             1\n",
       "\n",
       "[3209 rows x 2 columns]"
      ]
     },
     "execution_count": 38,
     "metadata": {},
     "output_type": "execute_result"
    }
   ],
   "source": [
    "df_le = pd.concat([df_favch, df_favgm], axis = 1)\n",
    "df_le.head()\n",
    "df_le"
   ]
  },
  {
   "cell_type": "markdown",
   "metadata": {},
   "source": [
    "### One Hot Encoding"
   ]
  },
  {
   "cell_type": "code",
   "execution_count": 39,
   "metadata": {},
   "outputs": [
    {
     "name": "stderr",
     "output_type": "stream",
     "text": [
      "C:\\Anaconda3\\lib\\site-packages\\sklearn\\preprocessing\\_encoders.py:415: FutureWarning: The handling of integer data will change in version 0.22. Currently, the categories are determined based on the range [0, max(values)], while in the future they will be determined based on the unique values.\n",
      "If you want the future behaviour and silence this warning, you can specify \"categories='auto'\".\n",
      "In case you used a LabelEncoder before this OneHotEncoder to convert the categories to integers, then you can now use the OneHotEncoder directly.\n",
      "  warnings.warn(msg, FutureWarning)\n"
     ]
    },
    {
     "data": {
      "text/html": [
       "<div>\n",
       "<style scoped>\n",
       "    .dataframe tbody tr th:only-of-type {\n",
       "        vertical-align: middle;\n",
       "    }\n",
       "\n",
       "    .dataframe tbody tr th {\n",
       "        vertical-align: top;\n",
       "    }\n",
       "\n",
       "    .dataframe thead th {\n",
       "        text-align: right;\n",
       "    }\n",
       "</style>\n",
       "<table border=\"1\" class=\"dataframe\">\n",
       "  <thead>\n",
       "    <tr style=\"text-align: right;\">\n",
       "      <th></th>\n",
       "      <th>favch_favorite</th>\n",
       "      <th>favch_unifrom</th>\n",
       "      <th>favgm_favorite</th>\n",
       "      <th>favgm_unifrom</th>\n",
       "    </tr>\n",
       "  </thead>\n",
       "  <tbody>\n",
       "    <tr>\n",
       "      <td>0</td>\n",
       "      <td>0</td>\n",
       "      <td>1</td>\n",
       "      <td>0</td>\n",
       "      <td>1</td>\n",
       "    </tr>\n",
       "    <tr>\n",
       "      <td>1</td>\n",
       "      <td>1</td>\n",
       "      <td>0</td>\n",
       "      <td>0</td>\n",
       "      <td>1</td>\n",
       "    </tr>\n",
       "    <tr>\n",
       "      <td>2</td>\n",
       "      <td>1</td>\n",
       "      <td>0</td>\n",
       "      <td>0</td>\n",
       "      <td>1</td>\n",
       "    </tr>\n",
       "    <tr>\n",
       "      <td>3</td>\n",
       "      <td>1</td>\n",
       "      <td>0</td>\n",
       "      <td>0</td>\n",
       "      <td>1</td>\n",
       "    </tr>\n",
       "    <tr>\n",
       "      <td>4</td>\n",
       "      <td>0</td>\n",
       "      <td>1</td>\n",
       "      <td>0</td>\n",
       "      <td>1</td>\n",
       "    </tr>\n",
       "  </tbody>\n",
       "</table>\n",
       "</div>"
      ],
      "text/plain": [
       "   favch_favorite  favch_unifrom  favgm_favorite  favgm_unifrom\n",
       "0               0              1               0              1\n",
       "1               1              0               0              1\n",
       "2               1              0               0              1\n",
       "3               1              0               0              1\n",
       "4               0              1               0              1"
      ]
     },
     "execution_count": 39,
     "metadata": {},
     "output_type": "execute_result"
    }
   ],
   "source": [
    "# Step2 One Hot Encoding\n",
    "ohe = OneHotEncoder()\n",
    "df_le_ohe = pd.DataFrame(ohe.fit_transform(df_le).toarray().astype(np.int64), \n",
    "                        columns = ['favch_favorite', 'favch_unifrom', 'favgm_favorite', 'favgm_unifrom'])\n",
    "df_le_ohe.head()"
   ]
  },
  {
   "cell_type": "code",
   "execution_count": 41,
   "metadata": {},
   "outputs": [],
   "source": [
    "df_cleanedpart = pd.concat([customer_data, df_le_ohe], axis = 1).drop(['FavoriteChannelOfTransaction', 'FavoriteGame'], axis = 1)"
   ]
  },
  {
   "cell_type": "code",
   "execution_count": 42,
   "metadata": {},
   "outputs": [
    {
     "data": {
      "text/html": [
       "<div>\n",
       "<style scoped>\n",
       "    .dataframe tbody tr th:only-of-type {\n",
       "        vertical-align: middle;\n",
       "    }\n",
       "\n",
       "    .dataframe tbody tr th {\n",
       "        vertical-align: top;\n",
       "    }\n",
       "\n",
       "    .dataframe thead th {\n",
       "        text-align: right;\n",
       "    }\n",
       "</style>\n",
       "<table border=\"1\" class=\"dataframe\">\n",
       "  <thead>\n",
       "    <tr style=\"text-align: right;\">\n",
       "      <th></th>\n",
       "      <th>CustomerID</th>\n",
       "      <th>City</th>\n",
       "      <th>NoOfChildren</th>\n",
       "      <th>MinAgeOfChild</th>\n",
       "      <th>MaxAgeOfChild</th>\n",
       "      <th>Tenure</th>\n",
       "      <th>FrquncyOfPurchase</th>\n",
       "      <th>NoOfUnitsPurchased</th>\n",
       "      <th>FrequencyOFPlay</th>\n",
       "      <th>NoOfGamesPlayed</th>\n",
       "      <th>NoOfGamesBought</th>\n",
       "      <th>Churned</th>\n",
       "      <th>favch_favorite</th>\n",
       "      <th>favch_unifrom</th>\n",
       "      <th>favgm_favorite</th>\n",
       "      <th>favgm_unifrom</th>\n",
       "    </tr>\n",
       "  </thead>\n",
       "  <tbody>\n",
       "    <tr>\n",
       "      <td>0</td>\n",
       "      <td>1001</td>\n",
       "      <td>1</td>\n",
       "      <td>2</td>\n",
       "      <td>3</td>\n",
       "      <td>8</td>\n",
       "      <td>210</td>\n",
       "      <td>11</td>\n",
       "      <td>11</td>\n",
       "      <td>2344</td>\n",
       "      <td>108</td>\n",
       "      <td>10</td>\n",
       "      <td>0</td>\n",
       "      <td>0</td>\n",
       "      <td>1</td>\n",
       "      <td>0</td>\n",
       "      <td>1</td>\n",
       "    </tr>\n",
       "    <tr>\n",
       "      <td>1</td>\n",
       "      <td>1002</td>\n",
       "      <td>1</td>\n",
       "      <td>2</td>\n",
       "      <td>3</td>\n",
       "      <td>6</td>\n",
       "      <td>442</td>\n",
       "      <td>20</td>\n",
       "      <td>20</td>\n",
       "      <td>245</td>\n",
       "      <td>22</td>\n",
       "      <td>7</td>\n",
       "      <td>1</td>\n",
       "      <td>1</td>\n",
       "      <td>0</td>\n",
       "      <td>0</td>\n",
       "      <td>1</td>\n",
       "    </tr>\n",
       "    <tr>\n",
       "      <td>2</td>\n",
       "      <td>1003</td>\n",
       "      <td>1</td>\n",
       "      <td>4</td>\n",
       "      <td>3</td>\n",
       "      <td>5</td>\n",
       "      <td>424</td>\n",
       "      <td>18</td>\n",
       "      <td>18</td>\n",
       "      <td>1059</td>\n",
       "      <td>130</td>\n",
       "      <td>18</td>\n",
       "      <td>0</td>\n",
       "      <td>1</td>\n",
       "      <td>0</td>\n",
       "      <td>0</td>\n",
       "      <td>1</td>\n",
       "    </tr>\n",
       "    <tr>\n",
       "      <td>3</td>\n",
       "      <td>1004</td>\n",
       "      <td>1</td>\n",
       "      <td>1</td>\n",
       "      <td>6</td>\n",
       "      <td>6</td>\n",
       "      <td>261</td>\n",
       "      <td>11</td>\n",
       "      <td>9</td>\n",
       "      <td>365</td>\n",
       "      <td>34</td>\n",
       "      <td>11</td>\n",
       "      <td>0</td>\n",
       "      <td>1</td>\n",
       "      <td>0</td>\n",
       "      <td>0</td>\n",
       "      <td>1</td>\n",
       "    </tr>\n",
       "    <tr>\n",
       "      <td>4</td>\n",
       "      <td>1005</td>\n",
       "      <td>1</td>\n",
       "      <td>3</td>\n",
       "      <td>6</td>\n",
       "      <td>9</td>\n",
       "      <td>422</td>\n",
       "      <td>44</td>\n",
       "      <td>31</td>\n",
       "      <td>1066</td>\n",
       "      <td>102</td>\n",
       "      <td>44</td>\n",
       "      <td>0</td>\n",
       "      <td>0</td>\n",
       "      <td>1</td>\n",
       "      <td>0</td>\n",
       "      <td>1</td>\n",
       "    </tr>\n",
       "    <tr>\n",
       "      <td>5</td>\n",
       "      <td>1006</td>\n",
       "      <td>1</td>\n",
       "      <td>2</td>\n",
       "      <td>3</td>\n",
       "      <td>4</td>\n",
       "      <td>378</td>\n",
       "      <td>16</td>\n",
       "      <td>16</td>\n",
       "      <td>228</td>\n",
       "      <td>12</td>\n",
       "      <td>16</td>\n",
       "      <td>0</td>\n",
       "      <td>1</td>\n",
       "      <td>0</td>\n",
       "      <td>1</td>\n",
       "      <td>0</td>\n",
       "    </tr>\n",
       "    <tr>\n",
       "      <td>6</td>\n",
       "      <td>1007</td>\n",
       "      <td>1</td>\n",
       "      <td>3</td>\n",
       "      <td>8</td>\n",
       "      <td>12</td>\n",
       "      <td>369</td>\n",
       "      <td>25</td>\n",
       "      <td>15</td>\n",
       "      <td>75</td>\n",
       "      <td>2</td>\n",
       "      <td>25</td>\n",
       "      <td>1</td>\n",
       "      <td>1</td>\n",
       "      <td>0</td>\n",
       "      <td>1</td>\n",
       "      <td>0</td>\n",
       "    </tr>\n",
       "    <tr>\n",
       "      <td>7</td>\n",
       "      <td>1008</td>\n",
       "      <td>1</td>\n",
       "      <td>2</td>\n",
       "      <td>6</td>\n",
       "      <td>8</td>\n",
       "      <td>404</td>\n",
       "      <td>13</td>\n",
       "      <td>12</td>\n",
       "      <td>1488</td>\n",
       "      <td>118</td>\n",
       "      <td>13</td>\n",
       "      <td>1</td>\n",
       "      <td>1</td>\n",
       "      <td>0</td>\n",
       "      <td>0</td>\n",
       "      <td>1</td>\n",
       "    </tr>\n",
       "    <tr>\n",
       "      <td>8</td>\n",
       "      <td>1009</td>\n",
       "      <td>1</td>\n",
       "      <td>4</td>\n",
       "      <td>6</td>\n",
       "      <td>9</td>\n",
       "      <td>420</td>\n",
       "      <td>20</td>\n",
       "      <td>16</td>\n",
       "      <td>2743</td>\n",
       "      <td>163</td>\n",
       "      <td>16</td>\n",
       "      <td>1</td>\n",
       "      <td>0</td>\n",
       "      <td>1</td>\n",
       "      <td>0</td>\n",
       "      <td>1</td>\n",
       "    </tr>\n",
       "    <tr>\n",
       "      <td>9</td>\n",
       "      <td>1010</td>\n",
       "      <td>2</td>\n",
       "      <td>3</td>\n",
       "      <td>5</td>\n",
       "      <td>6</td>\n",
       "      <td>333</td>\n",
       "      <td>15</td>\n",
       "      <td>15</td>\n",
       "      <td>1967</td>\n",
       "      <td>56</td>\n",
       "      <td>15</td>\n",
       "      <td>1</td>\n",
       "      <td>1</td>\n",
       "      <td>0</td>\n",
       "      <td>0</td>\n",
       "      <td>1</td>\n",
       "    </tr>\n",
       "  </tbody>\n",
       "</table>\n",
       "</div>"
      ],
      "text/plain": [
       "   CustomerID  City  NoOfChildren  MinAgeOfChild  MaxAgeOfChild  Tenure  \\\n",
       "0        1001     1             2              3              8     210   \n",
       "1        1002     1             2              3              6     442   \n",
       "2        1003     1             4              3              5     424   \n",
       "3        1004     1             1              6              6     261   \n",
       "4        1005     1             3              6              9     422   \n",
       "5        1006     1             2              3              4     378   \n",
       "6        1007     1             3              8             12     369   \n",
       "7        1008     1             2              6              8     404   \n",
       "8        1009     1             4              6              9     420   \n",
       "9        1010     2             3              5              6     333   \n",
       "\n",
       "   FrquncyOfPurchase  NoOfUnitsPurchased  FrequencyOFPlay  NoOfGamesPlayed  \\\n",
       "0                 11                  11             2344              108   \n",
       "1                 20                  20              245               22   \n",
       "2                 18                  18             1059              130   \n",
       "3                 11                   9              365               34   \n",
       "4                 44                  31             1066              102   \n",
       "5                 16                  16              228               12   \n",
       "6                 25                  15               75                2   \n",
       "7                 13                  12             1488              118   \n",
       "8                 20                  16             2743              163   \n",
       "9                 15                  15             1967               56   \n",
       "\n",
       "   NoOfGamesBought  Churned  favch_favorite  favch_unifrom  favgm_favorite  \\\n",
       "0               10        0               0              1               0   \n",
       "1                7        1               1              0               0   \n",
       "2               18        0               1              0               0   \n",
       "3               11        0               1              0               0   \n",
       "4               44        0               0              1               0   \n",
       "5               16        0               1              0               1   \n",
       "6               25        1               1              0               1   \n",
       "7               13        1               1              0               0   \n",
       "8               16        1               0              1               0   \n",
       "9               15        1               1              0               0   \n",
       "\n",
       "   favgm_unifrom  \n",
       "0              1  \n",
       "1              1  \n",
       "2              1  \n",
       "3              1  \n",
       "4              1  \n",
       "5              0  \n",
       "6              0  \n",
       "7              1  \n",
       "8              1  \n",
       "9              1  "
      ]
     },
     "execution_count": 42,
     "metadata": {},
     "output_type": "execute_result"
    }
   ],
   "source": [
    "df_cleanedpart.head(10)"
   ]
  },
  {
   "cell_type": "code",
   "execution_count": 43,
   "metadata": {},
   "outputs": [
    {
     "data": {
      "text/plain": [
       "CustomerID            int64\n",
       "City                  int64\n",
       "NoOfChildren          int64\n",
       "MinAgeOfChild         int64\n",
       "MaxAgeOfChild         int64\n",
       "Tenure                int64\n",
       "FrquncyOfPurchase     int64\n",
       "NoOfUnitsPurchased    int64\n",
       "FrequencyOFPlay       int64\n",
       "NoOfGamesPlayed       int64\n",
       "NoOfGamesBought       int64\n",
       "Churned               int64\n",
       "favch_favorite        int64\n",
       "favch_unifrom         int64\n",
       "favgm_favorite        int64\n",
       "favgm_unifrom         int64\n",
       "dtype: object"
      ]
     },
     "execution_count": 43,
     "metadata": {},
     "output_type": "execute_result"
    }
   ],
   "source": [
    "df_cleanedpart.dtypes"
   ]
  },
  {
   "cell_type": "code",
   "execution_count": 48,
   "metadata": {},
   "outputs": [],
   "source": [
    "df_cleanedpart = df_cleanedpart.astype( {\n",
    "    'favch_favorite': np.object,\n",
    "    'favch_unifrom': np.object,\n",
    "    'favgm_favorite': np.object,\n",
    "    'favgm_unifrom': np.object\n",
    "})"
   ]
  },
  {
   "cell_type": "code",
   "execution_count": 50,
   "metadata": {
    "scrolled": true
   },
   "outputs": [
    {
     "data": {
      "text/plain": [
       "CustomerID             int64\n",
       "City                   int64\n",
       "NoOfChildren           int64\n",
       "MinAgeOfChild          int64\n",
       "MaxAgeOfChild          int64\n",
       "Tenure                 int64\n",
       "FrquncyOfPurchase      int64\n",
       "NoOfUnitsPurchased     int64\n",
       "FrequencyOFPlay        int64\n",
       "NoOfGamesPlayed        int64\n",
       "NoOfGamesBought        int64\n",
       "Churned                int64\n",
       "favch_favorite        object\n",
       "favch_unifrom         object\n",
       "favgm_favorite        object\n",
       "favgm_unifrom         object\n",
       "dtype: object"
      ]
     },
     "execution_count": 50,
     "metadata": {},
     "output_type": "execute_result"
    }
   ],
   "source": [
    "df_cleanedpart.dtypes"
   ]
  },
  {
   "cell_type": "code",
   "execution_count": 52,
   "metadata": {},
   "outputs": [],
   "source": [
    "# importing moduels\n",
    "from sklearn.model_selection import train_test_split\n",
    "\n",
    "from sklearn.linear_model import LogisticRegression\n",
    "from sklearn.metrics import accuracy_score, auc, confusion_matrix, roc_auc_score, roc_curve, recall_score"
   ]
  },
  {
   "cell_type": "code",
   "execution_count": 62,
   "metadata": {},
   "outputs": [
    {
     "data": {
      "text/html": [
       "<div>\n",
       "<style scoped>\n",
       "    .dataframe tbody tr th:only-of-type {\n",
       "        vertical-align: middle;\n",
       "    }\n",
       "\n",
       "    .dataframe tbody tr th {\n",
       "        vertical-align: top;\n",
       "    }\n",
       "\n",
       "    .dataframe thead th {\n",
       "        text-align: right;\n",
       "    }\n",
       "</style>\n",
       "<table border=\"1\" class=\"dataframe\">\n",
       "  <thead>\n",
       "    <tr style=\"text-align: right;\">\n",
       "      <th></th>\n",
       "      <th>CustomerID</th>\n",
       "      <th>City</th>\n",
       "      <th>NoOfChildren</th>\n",
       "      <th>MinAgeOfChild</th>\n",
       "      <th>MaxAgeOfChild</th>\n",
       "      <th>Tenure</th>\n",
       "      <th>FrquncyOfPurchase</th>\n",
       "      <th>NoOfUnitsPurchased</th>\n",
       "      <th>FrequencyOFPlay</th>\n",
       "      <th>NoOfGamesPlayed</th>\n",
       "      <th>NoOfGamesBought</th>\n",
       "      <th>favch_favorite</th>\n",
       "      <th>favch_unifrom</th>\n",
       "      <th>favgm_favorite</th>\n",
       "      <th>favgm_unifrom</th>\n",
       "    </tr>\n",
       "  </thead>\n",
       "  <tbody>\n",
       "    <tr>\n",
       "      <td>0</td>\n",
       "      <td>1001</td>\n",
       "      <td>1</td>\n",
       "      <td>2</td>\n",
       "      <td>3</td>\n",
       "      <td>8</td>\n",
       "      <td>210</td>\n",
       "      <td>11</td>\n",
       "      <td>11</td>\n",
       "      <td>2344</td>\n",
       "      <td>108</td>\n",
       "      <td>10</td>\n",
       "      <td>0</td>\n",
       "      <td>1</td>\n",
       "      <td>0</td>\n",
       "      <td>1</td>\n",
       "    </tr>\n",
       "    <tr>\n",
       "      <td>1</td>\n",
       "      <td>1002</td>\n",
       "      <td>1</td>\n",
       "      <td>2</td>\n",
       "      <td>3</td>\n",
       "      <td>6</td>\n",
       "      <td>442</td>\n",
       "      <td>20</td>\n",
       "      <td>20</td>\n",
       "      <td>245</td>\n",
       "      <td>22</td>\n",
       "      <td>7</td>\n",
       "      <td>1</td>\n",
       "      <td>0</td>\n",
       "      <td>0</td>\n",
       "      <td>1</td>\n",
       "    </tr>\n",
       "    <tr>\n",
       "      <td>2</td>\n",
       "      <td>1003</td>\n",
       "      <td>1</td>\n",
       "      <td>4</td>\n",
       "      <td>3</td>\n",
       "      <td>5</td>\n",
       "      <td>424</td>\n",
       "      <td>18</td>\n",
       "      <td>18</td>\n",
       "      <td>1059</td>\n",
       "      <td>130</td>\n",
       "      <td>18</td>\n",
       "      <td>1</td>\n",
       "      <td>0</td>\n",
       "      <td>0</td>\n",
       "      <td>1</td>\n",
       "    </tr>\n",
       "    <tr>\n",
       "      <td>3</td>\n",
       "      <td>1004</td>\n",
       "      <td>1</td>\n",
       "      <td>1</td>\n",
       "      <td>6</td>\n",
       "      <td>6</td>\n",
       "      <td>261</td>\n",
       "      <td>11</td>\n",
       "      <td>9</td>\n",
       "      <td>365</td>\n",
       "      <td>34</td>\n",
       "      <td>11</td>\n",
       "      <td>1</td>\n",
       "      <td>0</td>\n",
       "      <td>0</td>\n",
       "      <td>1</td>\n",
       "    </tr>\n",
       "    <tr>\n",
       "      <td>4</td>\n",
       "      <td>1005</td>\n",
       "      <td>1</td>\n",
       "      <td>3</td>\n",
       "      <td>6</td>\n",
       "      <td>9</td>\n",
       "      <td>422</td>\n",
       "      <td>44</td>\n",
       "      <td>31</td>\n",
       "      <td>1066</td>\n",
       "      <td>102</td>\n",
       "      <td>44</td>\n",
       "      <td>0</td>\n",
       "      <td>1</td>\n",
       "      <td>0</td>\n",
       "      <td>1</td>\n",
       "    </tr>\n",
       "  </tbody>\n",
       "</table>\n",
       "</div>"
      ],
      "text/plain": [
       "   CustomerID  City  NoOfChildren  MinAgeOfChild  MaxAgeOfChild  Tenure  \\\n",
       "0        1001     1             2              3              8     210   \n",
       "1        1002     1             2              3              6     442   \n",
       "2        1003     1             4              3              5     424   \n",
       "3        1004     1             1              6              6     261   \n",
       "4        1005     1             3              6              9     422   \n",
       "\n",
       "   FrquncyOfPurchase  NoOfUnitsPurchased  FrequencyOFPlay  NoOfGamesPlayed  \\\n",
       "0                 11                  11             2344              108   \n",
       "1                 20                  20              245               22   \n",
       "2                 18                  18             1059              130   \n",
       "3                 11                   9              365               34   \n",
       "4                 44                  31             1066              102   \n",
       "\n",
       "   NoOfGamesBought favch_favorite favch_unifrom favgm_favorite favgm_unifrom  \n",
       "0               10              0             1              0             1  \n",
       "1                7              1             0              0             1  \n",
       "2               18              1             0              0             1  \n",
       "3               11              1             0              0             1  \n",
       "4               44              0             1              0             1  "
      ]
     },
     "execution_count": 62,
     "metadata": {},
     "output_type": "execute_result"
    }
   ],
   "source": [
    "x = df_cleanedpart.drop('Churned', axis = 1)\n",
    "y = df_cleanedpart.Churned\n",
    "x.head()"
   ]
  },
  {
   "cell_type": "code",
   "execution_count": 63,
   "metadata": {},
   "outputs": [
    {
     "data": {
      "text/plain": [
       "0    0\n",
       "1    1\n",
       "2    0\n",
       "3    0\n",
       "4    0\n",
       "Name: Churned, dtype: int64"
      ]
     },
     "execution_count": 63,
     "metadata": {},
     "output_type": "execute_result"
    }
   ],
   "source": [
    "y.head()"
   ]
  },
  {
   "cell_type": "code",
   "execution_count": 64,
   "metadata": {},
   "outputs": [
    {
     "name": "stdout",
     "output_type": "stream",
     "text": [
      "(2246, 15) (963, 15) (2246,) (963,)\n"
     ]
    }
   ],
   "source": [
    "# Train Split\n",
    "from sklearn.model_selection import train_test_split\n",
    "#Lets use train_test_split to split X and y into train and test \n",
    "x_train, x_test, y_train, y_test = train_test_split(x, y, test_size = 0.3, random_state = 100)\n",
    "print(x_train.shape, x_test.shape, y_train.shape, y_test.shape)"
   ]
  },
  {
   "cell_type": "code",
   "execution_count": 65,
   "metadata": {},
   "outputs": [
    {
     "name": "stdout",
     "output_type": "stream",
     "text": [
      "Model Accuracy on Train:  0.5280498664292075\n",
      "Model Accuracy on Test:  0.490134994807892\n"
     ]
    },
    {
     "name": "stderr",
     "output_type": "stream",
     "text": [
      "C:\\Anaconda3\\lib\\site-packages\\sklearn\\linear_model\\logistic.py:432: FutureWarning: Default solver will be changed to 'lbfgs' in 0.22. Specify a solver to silence this warning.\n",
      "  FutureWarning)\n"
     ]
    }
   ],
   "source": [
    "# fit the model on the train data\n",
    "log_reg = LogisticRegression().fit(x_train, y_train)\n",
    "\n",
    "# predict on train\n",
    "train_preds = log_reg.predict(x_train)\n",
    "\n",
    "# accuracy on train\n",
    "print('Model Accuracy on Train: ', accuracy_score(y_train, train_preds))\n",
    "\n",
    "# prediction on test\n",
    "test_preds = log_reg.predict(x_test)\n",
    "print('Model Accuracy on Test: ', accuracy_score(y_test, test_preds))\n"
   ]
  },
  {
   "cell_type": "code",
   "execution_count": 66,
   "metadata": {},
   "outputs": [
    {
     "name": "stdout",
     "output_type": "stream",
     "text": [
      "ROC Score on train:  0.5221389664699164\n",
      "ROC Score on Test:  0.48994789554955526\n",
      "Confusion Matrix on Train:\n",
      "[[356 733]\n",
      " [327 830]]\n",
      "Confusion Matrix on  Test:\n",
      "[[149 332]\n",
      " [159 323]]\n"
     ]
    }
   ],
   "source": [
    "# ROC\n",
    "print('ROC Score on train: ', roc_auc_score(y_train, train_preds))\n",
    "print('ROC Score on Test: ', roc_auc_score(y_test, test_preds))\n",
    "\n",
    "\n",
    "# Confusion Matrix\n",
    "print('Confusion Matrix on Train:')\n",
    "print(confusion_matrix(y_train, train_preds))\n",
    "\n",
    "print('Confusion Matrix on  Test:')\n",
    "print(confusion_matrix(y_test, test_preds))"
   ]
  },
  {
   "cell_type": "code",
   "execution_count": 67,
   "metadata": {},
   "outputs": [
    {
     "data": {
      "image/png": "[encoded data removed]",
      "text/plain": [
       "<Figure size 1152x648 with 1 Axes>"
      ]
     },
     "metadata": {
      "needs_background": "light"
     },
     "output_type": "display_data"
    }
   ],
   "source": [
    "import scikitplot as skplt\n",
    "import matplotlib.pyplot as plt\n",
    "\n",
    "skplt.metrics.plot_roc(y_test, log_reg.predict_proba(x_test), figsize = (16,9))\n",
    "plt.show()"
   ]
  },
  {
   "cell_type": "code",
   "execution_count": null,
   "metadata": {},
   "outputs": [],
   "source": []
  }
 ],
 "metadata": {
  "kernelspec": {
   "display_name": "Python 3",
   "language": "python",
   "name": "python3"
  },
  "language_info": {
   "codemirror_mode": {
    "name": "ipython",
    "version": 3
   },
   "file_extension": ".py",
   "mimetype": "text/x-python",
   "name": "python",
   "nbconvert_exporter": "python",
   "pygments_lexer": "ipython3",
   "version": "3.7.4"
  }
 },
 "nbformat": 4,
 "nbformat_minor": 2
}
