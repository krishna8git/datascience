{
 "cells": [
  {
   "cell_type": "code",
   "execution_count": 10,
   "metadata": {},
   "outputs": [],
   "source": [
    "import pandas as pd\n",
    "import numpy as np\n",
    "import seaborn as sns\n",
    "import matplotlib.pyplot as plt\n",
    "%matplotlib inline\n",
    "sns.set_style('darkgrid')"
   ]
  },
  {
   "cell_type": "code",
   "execution_count": 11,
   "metadata": {},
   "outputs": [
    {
     "data": {
      "text/html": [
       "<div>\n",
       "<style scoped>\n",
       "    .dataframe tbody tr th:only-of-type {\n",
       "        vertical-align: middle;\n",
       "    }\n",
       "\n",
       "    .dataframe tbody tr th {\n",
       "        vertical-align: top;\n",
       "    }\n",
       "\n",
       "    .dataframe thead th {\n",
       "        text-align: right;\n",
       "    }\n",
       "</style>\n",
       "<table border=\"1\" class=\"dataframe\">\n",
       "  <thead>\n",
       "    <tr style=\"text-align: right;\">\n",
       "      <th></th>\n",
       "      <th>male</th>\n",
       "      <th>age</th>\n",
       "      <th>education</th>\n",
       "      <th>currentSmoker</th>\n",
       "      <th>cigsPerDay</th>\n",
       "      <th>BPMeds</th>\n",
       "      <th>prevalentStroke</th>\n",
       "      <th>prevalentHyp</th>\n",
       "      <th>diabetes</th>\n",
       "      <th>totChol</th>\n",
       "      <th>sysBP</th>\n",
       "      <th>diaBP</th>\n",
       "      <th>BMI</th>\n",
       "      <th>heartRate</th>\n",
       "      <th>glucose</th>\n",
       "      <th>TenYearCHD</th>\n",
       "    </tr>\n",
       "  </thead>\n",
       "  <tbody>\n",
       "    <tr>\n",
       "      <td>0</td>\n",
       "      <td>1</td>\n",
       "      <td>39</td>\n",
       "      <td>4.0</td>\n",
       "      <td>0</td>\n",
       "      <td>0.0</td>\n",
       "      <td>0.0</td>\n",
       "      <td>0</td>\n",
       "      <td>0</td>\n",
       "      <td>0</td>\n",
       "      <td>195.0</td>\n",
       "      <td>106.0</td>\n",
       "      <td>70.0</td>\n",
       "      <td>26.97</td>\n",
       "      <td>80.0</td>\n",
       "      <td>77.0</td>\n",
       "      <td>0</td>\n",
       "    </tr>\n",
       "    <tr>\n",
       "      <td>1</td>\n",
       "      <td>0</td>\n",
       "      <td>46</td>\n",
       "      <td>2.0</td>\n",
       "      <td>0</td>\n",
       "      <td>0.0</td>\n",
       "      <td>0.0</td>\n",
       "      <td>0</td>\n",
       "      <td>0</td>\n",
       "      <td>0</td>\n",
       "      <td>250.0</td>\n",
       "      <td>121.0</td>\n",
       "      <td>81.0</td>\n",
       "      <td>28.73</td>\n",
       "      <td>95.0</td>\n",
       "      <td>76.0</td>\n",
       "      <td>0</td>\n",
       "    </tr>\n",
       "    <tr>\n",
       "      <td>2</td>\n",
       "      <td>1</td>\n",
       "      <td>48</td>\n",
       "      <td>1.0</td>\n",
       "      <td>1</td>\n",
       "      <td>20.0</td>\n",
       "      <td>0.0</td>\n",
       "      <td>0</td>\n",
       "      <td>0</td>\n",
       "      <td>0</td>\n",
       "      <td>245.0</td>\n",
       "      <td>127.5</td>\n",
       "      <td>80.0</td>\n",
       "      <td>25.34</td>\n",
       "      <td>75.0</td>\n",
       "      <td>70.0</td>\n",
       "      <td>0</td>\n",
       "    </tr>\n",
       "    <tr>\n",
       "      <td>3</td>\n",
       "      <td>0</td>\n",
       "      <td>61</td>\n",
       "      <td>3.0</td>\n",
       "      <td>1</td>\n",
       "      <td>30.0</td>\n",
       "      <td>0.0</td>\n",
       "      <td>0</td>\n",
       "      <td>1</td>\n",
       "      <td>0</td>\n",
       "      <td>225.0</td>\n",
       "      <td>150.0</td>\n",
       "      <td>95.0</td>\n",
       "      <td>28.58</td>\n",
       "      <td>65.0</td>\n",
       "      <td>103.0</td>\n",
       "      <td>1</td>\n",
       "    </tr>\n",
       "    <tr>\n",
       "      <td>4</td>\n",
       "      <td>0</td>\n",
       "      <td>46</td>\n",
       "      <td>3.0</td>\n",
       "      <td>1</td>\n",
       "      <td>23.0</td>\n",
       "      <td>0.0</td>\n",
       "      <td>0</td>\n",
       "      <td>0</td>\n",
       "      <td>0</td>\n",
       "      <td>285.0</td>\n",
       "      <td>130.0</td>\n",
       "      <td>84.0</td>\n",
       "      <td>23.10</td>\n",
       "      <td>85.0</td>\n",
       "      <td>85.0</td>\n",
       "      <td>0</td>\n",
       "    </tr>\n",
       "  </tbody>\n",
       "</table>\n",
       "</div>"
      ],
      "text/plain": [
       "   male  age  education  currentSmoker  cigsPerDay  BPMeds  prevalentStroke  \\\n",
       "0     1   39        4.0              0         0.0     0.0                0   \n",
       "1     0   46        2.0              0         0.0     0.0                0   \n",
       "2     1   48        1.0              1        20.0     0.0                0   \n",
       "3     0   61        3.0              1        30.0     0.0                0   \n",
       "4     0   46        3.0              1        23.0     0.0                0   \n",
       "\n",
       "   prevalentHyp  diabetes  totChol  sysBP  diaBP    BMI  heartRate  glucose  \\\n",
       "0             0         0    195.0  106.0   70.0  26.97       80.0     77.0   \n",
       "1             0         0    250.0  121.0   81.0  28.73       95.0     76.0   \n",
       "2             0         0    245.0  127.5   80.0  25.34       75.0     70.0   \n",
       "3             1         0    225.0  150.0   95.0  28.58       65.0    103.0   \n",
       "4             0         0    285.0  130.0   84.0  23.10       85.0     85.0   \n",
       "\n",
       "   TenYearCHD  \n",
       "0           0  \n",
       "1           0  \n",
       "2           0  \n",
       "3           1  \n",
       "4           0  "
      ]
     },
     "execution_count": 11,
     "metadata": {},
     "output_type": "execute_result"
    }
   ],
   "source": [
    "# Load Dataset\n",
    "fram_data = pd.read_csv('datasets/logistic-regression/framingham.csv')\n",
    "fram_data.head()"
   ]
  },
  {
   "cell_type": "code",
   "execution_count": 12,
   "metadata": {},
   "outputs": [
    {
     "data": {
      "text/plain": [
       "male                 0\n",
       "age                  0\n",
       "education          105\n",
       "currentSmoker        0\n",
       "cigsPerDay          29\n",
       "BPMeds              53\n",
       "prevalentStroke      0\n",
       "prevalentHyp         0\n",
       "diabetes             0\n",
       "totChol             50\n",
       "sysBP                0\n",
       "diaBP                0\n",
       "BMI                 19\n",
       "heartRate            1\n",
       "glucose            388\n",
       "TenYearCHD           0\n",
       "dtype: int64"
      ]
     },
     "execution_count": 12,
     "metadata": {},
     "output_type": "execute_result"
    }
   ],
   "source": [
    "fram_data.isnull().sum()"
   ]
  },
  {
   "cell_type": "markdown",
   "metadata": {},
   "source": [
    "**Check for null values and impute them with corresponding modes or means**"
   ]
  },
  {
   "cell_type": "code",
   "execution_count": 13,
   "metadata": {},
   "outputs": [
    {
     "data": {
      "text/plain": [
       "male               0\n",
       "age                0\n",
       "education          0\n",
       "currentSmoker      0\n",
       "cigsPerDay         0\n",
       "BPMeds             0\n",
       "prevalentStroke    0\n",
       "prevalentHyp       0\n",
       "diabetes           0\n",
       "totChol            0\n",
       "sysBP              0\n",
       "diaBP              0\n",
       "BMI                0\n",
       "heartRate          0\n",
       "glucose            0\n",
       "TenYearCHD         0\n",
       "dtype: int64"
      ]
     },
     "execution_count": 13,
     "metadata": {},
     "output_type": "execute_result"
    }
   ],
   "source": [
    "# education\n",
    "fram_data.education = fram_data.education.fillna(int(fram_data.education.mode()))\n",
    "\n",
    "# cigsPerDay for currentSmoker == 1\n",
    "fram_data.cigsPerDay = fram_data.cigsPerDay.fillna(fram_data[fram_data.currentSmoker == 1].cigsPerDay.mean())\n",
    "\n",
    "# BPMeds\n",
    "fram_data.BPMeds = fram_data.BPMeds.fillna(int(fram_data.BPMeds.mode()))\n",
    "\n",
    "# totChol\n",
    "fram_data.totChol = fram_data.totChol.fillna(int(fram_data.totChol.mean()))\n",
    "\n",
    "# BMI\n",
    "fram_data.BMI = fram_data.BMI.fillna(int(fram_data.BMI.mean()))\n",
    "\n",
    "# Glucose\n",
    "fram_data.glucose = fram_data.glucose.fillna(int(fram_data.glucose.mean()))\n",
    "\n",
    "# heartrate\n",
    "fram_data.heartRate = fram_data.heartRate.fillna(int(fram_data.heartRate.mean()))\n",
    "\n",
    "fram_data.isnull().sum()"
   ]
  },
  {
   "cell_type": "code",
   "execution_count": 14,
   "metadata": {},
   "outputs": [
    {
     "data": {
      "text/plain": [
       "male                object\n",
       "age                  int64\n",
       "education           object\n",
       "currentSmoker       object\n",
       "cigsPerDay           int64\n",
       "BPMeds              object\n",
       "prevalentStroke     object\n",
       "prevalentHyp        object\n",
       "diabetes            object\n",
       "totChol              int64\n",
       "sysBP              float64\n",
       "diaBP              float64\n",
       "BMI                float64\n",
       "heartRate            int64\n",
       "glucose              int64\n",
       "TenYearCHD           int64\n",
       "dtype: object"
      ]
     },
     "execution_count": 14,
     "metadata": {},
     "output_type": "execute_result"
    }
   ],
   "source": [
    "types = { 'male' : np.object, 'education' : np.object, 'currentSmoker' : np.object, 'BPMeds'  : np.object,\n",
    "         'prevalentStroke' : np.object, 'prevalentHyp' : np.object, 'diabetes' : np.object, \n",
    "        'age' : np.int64, 'cigsPerDay' : np.int64, 'totChol' : np.int64, 'heartRate' : np.int64, 'glucose' : np.int64}\n",
    "fram_data = fram_data.astype(types)\n",
    "fram_data.head()\n",
    "fram_data.dtypes"
   ]
  },
  {
   "cell_type": "markdown",
   "metadata": {},
   "source": [
    "## Build the model using Statmodels"
   ]
  },
  {
   "cell_type": "code",
   "execution_count": 15,
   "metadata": {},
   "outputs": [],
   "source": [
    "import statsmodels.formula.api as sfa\n",
    "import statsmodels.api as sa"
   ]
  },
  {
   "cell_type": "markdown",
   "metadata": {},
   "source": [
    "### glm - Generalized Linear Model"
   ]
  },
  {
   "cell_type": "code",
   "execution_count": 16,
   "metadata": {},
   "outputs": [
    {
     "data": {
      "text/html": [
       "<div>\n",
       "<style scoped>\n",
       "    .dataframe tbody tr th:only-of-type {\n",
       "        vertical-align: middle;\n",
       "    }\n",
       "\n",
       "    .dataframe tbody tr th {\n",
       "        vertical-align: top;\n",
       "    }\n",
       "\n",
       "    .dataframe thead th {\n",
       "        text-align: right;\n",
       "    }\n",
       "</style>\n",
       "<table border=\"1\" class=\"dataframe\">\n",
       "  <thead>\n",
       "    <tr style=\"text-align: right;\">\n",
       "      <th></th>\n",
       "      <th>male</th>\n",
       "      <th>age</th>\n",
       "      <th>education</th>\n",
       "      <th>currentSmoker</th>\n",
       "      <th>cigsPerDay</th>\n",
       "      <th>BPMeds</th>\n",
       "      <th>prevalentStroke</th>\n",
       "      <th>prevalentHyp</th>\n",
       "      <th>diabetes</th>\n",
       "      <th>totChol</th>\n",
       "      <th>sysBP</th>\n",
       "      <th>diaBP</th>\n",
       "      <th>BMI</th>\n",
       "      <th>heartRate</th>\n",
       "      <th>glucose</th>\n",
       "      <th>TenYearCHD</th>\n",
       "    </tr>\n",
       "  </thead>\n",
       "  <tbody>\n",
       "    <tr>\n",
       "      <td>0</td>\n",
       "      <td>1</td>\n",
       "      <td>39</td>\n",
       "      <td>4</td>\n",
       "      <td>0</td>\n",
       "      <td>0</td>\n",
       "      <td>0</td>\n",
       "      <td>0</td>\n",
       "      <td>0</td>\n",
       "      <td>0</td>\n",
       "      <td>195</td>\n",
       "      <td>106.0</td>\n",
       "      <td>70.0</td>\n",
       "      <td>26.97</td>\n",
       "      <td>80</td>\n",
       "      <td>77</td>\n",
       "      <td>0</td>\n",
       "    </tr>\n",
       "    <tr>\n",
       "      <td>1</td>\n",
       "      <td>0</td>\n",
       "      <td>46</td>\n",
       "      <td>2</td>\n",
       "      <td>0</td>\n",
       "      <td>0</td>\n",
       "      <td>0</td>\n",
       "      <td>0</td>\n",
       "      <td>0</td>\n",
       "      <td>0</td>\n",
       "      <td>250</td>\n",
       "      <td>121.0</td>\n",
       "      <td>81.0</td>\n",
       "      <td>28.73</td>\n",
       "      <td>95</td>\n",
       "      <td>76</td>\n",
       "      <td>0</td>\n",
       "    </tr>\n",
       "    <tr>\n",
       "      <td>2</td>\n",
       "      <td>1</td>\n",
       "      <td>48</td>\n",
       "      <td>1</td>\n",
       "      <td>1</td>\n",
       "      <td>20</td>\n",
       "      <td>0</td>\n",
       "      <td>0</td>\n",
       "      <td>0</td>\n",
       "      <td>0</td>\n",
       "      <td>245</td>\n",
       "      <td>127.5</td>\n",
       "      <td>80.0</td>\n",
       "      <td>25.34</td>\n",
       "      <td>75</td>\n",
       "      <td>70</td>\n",
       "      <td>0</td>\n",
       "    </tr>\n",
       "    <tr>\n",
       "      <td>3</td>\n",
       "      <td>0</td>\n",
       "      <td>61</td>\n",
       "      <td>3</td>\n",
       "      <td>1</td>\n",
       "      <td>30</td>\n",
       "      <td>0</td>\n",
       "      <td>0</td>\n",
       "      <td>1</td>\n",
       "      <td>0</td>\n",
       "      <td>225</td>\n",
       "      <td>150.0</td>\n",
       "      <td>95.0</td>\n",
       "      <td>28.58</td>\n",
       "      <td>65</td>\n",
       "      <td>103</td>\n",
       "      <td>1</td>\n",
       "    </tr>\n",
       "    <tr>\n",
       "      <td>4</td>\n",
       "      <td>0</td>\n",
       "      <td>46</td>\n",
       "      <td>3</td>\n",
       "      <td>1</td>\n",
       "      <td>23</td>\n",
       "      <td>0</td>\n",
       "      <td>0</td>\n",
       "      <td>0</td>\n",
       "      <td>0</td>\n",
       "      <td>285</td>\n",
       "      <td>130.0</td>\n",
       "      <td>84.0</td>\n",
       "      <td>23.10</td>\n",
       "      <td>85</td>\n",
       "      <td>85</td>\n",
       "      <td>0</td>\n",
       "    </tr>\n",
       "  </tbody>\n",
       "</table>\n",
       "</div>"
      ],
      "text/plain": [
       "  male  age education currentSmoker  cigsPerDay BPMeds prevalentStroke  \\\n",
       "0    1   39         4             0           0      0               0   \n",
       "1    0   46         2             0           0      0               0   \n",
       "2    1   48         1             1          20      0               0   \n",
       "3    0   61         3             1          30      0               0   \n",
       "4    0   46         3             1          23      0               0   \n",
       "\n",
       "  prevalentHyp diabetes  totChol  sysBP  diaBP    BMI  heartRate  glucose  \\\n",
       "0            0        0      195  106.0   70.0  26.97         80       77   \n",
       "1            0        0      250  121.0   81.0  28.73         95       76   \n",
       "2            0        0      245  127.5   80.0  25.34         75       70   \n",
       "3            1        0      225  150.0   95.0  28.58         65      103   \n",
       "4            0        0      285  130.0   84.0  23.10         85       85   \n",
       "\n",
       "   TenYearCHD  \n",
       "0           0  \n",
       "1           0  \n",
       "2           0  \n",
       "3           1  \n",
       "4           0  "
      ]
     },
     "execution_count": 16,
     "metadata": {},
     "output_type": "execute_result"
    }
   ],
   "source": [
    "fram_data.head()"
   ]
  },
  {
   "cell_type": "code",
   "execution_count": 17,
   "metadata": {},
   "outputs": [
    {
     "data": {
      "text/html": [
       "<table class=\"simpletable\">\n",
       "<caption>Generalized Linear Model Regression Results</caption>\n",
       "<tr>\n",
       "  <th>Dep. Variable:</th>      <td>TenYearCHD</td>    <th>  No. Observations:  </th>  <td>  4240</td> \n",
       "</tr>\n",
       "<tr>\n",
       "  <th>Model:</th>                  <td>GLM</td>       <th>  Df Residuals:      </th>  <td>  4222</td> \n",
       "</tr>\n",
       "<tr>\n",
       "  <th>Model Family:</th>        <td>Binomial</td>     <th>  Df Model:          </th>  <td>    17</td> \n",
       "</tr>\n",
       "<tr>\n",
       "  <th>Link Function:</th>         <td>logit</td>      <th>  Scale:             </th> <td>  1.0000</td>\n",
       "</tr>\n",
       "<tr>\n",
       "  <th>Method:</th>                <td>IRLS</td>       <th>  Log-Likelihood:    </th> <td> -1603.7</td>\n",
       "</tr>\n",
       "<tr>\n",
       "  <th>Date:</th>            <td>Mon, 23 Mar 2020</td> <th>  Deviance:          </th> <td>  3207.4</td>\n",
       "</tr>\n",
       "<tr>\n",
       "  <th>Time:</th>                <td>19:10:33</td>     <th>  Pearson chi2:      </th> <td>4.23e+03</td>\n",
       "</tr>\n",
       "<tr>\n",
       "  <th>No. Iterations:</th>          <td>6</td>        <th>                     </th>     <td> </td>   \n",
       "</tr>\n",
       "<tr>\n",
       "  <th>Covariance Type:</th>     <td>nonrobust</td>    <th>                     </th>     <td> </td>   \n",
       "</tr>\n",
       "</table>\n",
       "<table class=\"simpletable\">\n",
       "<tr>\n",
       "            <td></td>              <th>coef</th>     <th>std err</th>      <th>z</th>      <th>P>|z|</th>  <th>[0.025</th>    <th>0.975]</th>  \n",
       "</tr>\n",
       "<tr>\n",
       "  <th>Intercept</th>            <td>   -7.9912</td> <td>    0.659</td> <td>  -12.126</td> <td> 0.000</td> <td>   -9.283</td> <td>   -6.700</td>\n",
       "</tr>\n",
       "<tr>\n",
       "  <th>male[T.1]</th>            <td>    0.4885</td> <td>    0.101</td> <td>    4.826</td> <td> 0.000</td> <td>    0.290</td> <td>    0.687</td>\n",
       "</tr>\n",
       "<tr>\n",
       "  <th>education[T.2.0]</th>     <td>   -0.1928</td> <td>    0.115</td> <td>   -1.674</td> <td> 0.094</td> <td>   -0.419</td> <td>    0.033</td>\n",
       "</tr>\n",
       "<tr>\n",
       "  <th>education[T.3.0]</th>     <td>   -0.0937</td> <td>    0.139</td> <td>   -0.675</td> <td> 0.500</td> <td>   -0.366</td> <td>    0.178</td>\n",
       "</tr>\n",
       "<tr>\n",
       "  <th>education[T.4.0]</th>     <td>    0.0301</td> <td>    0.153</td> <td>    0.197</td> <td> 0.843</td> <td>   -0.269</td> <td>    0.329</td>\n",
       "</tr>\n",
       "<tr>\n",
       "  <th>currentSmoker[T.1]</th>   <td>    0.0252</td> <td>    0.145</td> <td>    0.174</td> <td> 0.862</td> <td>   -0.259</td> <td>    0.310</td>\n",
       "</tr>\n",
       "<tr>\n",
       "  <th>BPMeds[T.1.0]</th>        <td>    0.2512</td> <td>    0.220</td> <td>    1.139</td> <td> 0.255</td> <td>   -0.181</td> <td>    0.683</td>\n",
       "</tr>\n",
       "<tr>\n",
       "  <th>prevalentStroke[T.1]</th> <td>    0.9716</td> <td>    0.444</td> <td>    2.189</td> <td> 0.029</td> <td>    0.102</td> <td>    1.841</td>\n",
       "</tr>\n",
       "<tr>\n",
       "  <th>prevalentHyp[T.1]</th>    <td>    0.2324</td> <td>    0.129</td> <td>    1.807</td> <td> 0.071</td> <td>   -0.020</td> <td>    0.485</td>\n",
       "</tr>\n",
       "<tr>\n",
       "  <th>diabetes[T.1]</th>        <td>    0.1819</td> <td>    0.295</td> <td>    0.617</td> <td> 0.537</td> <td>   -0.396</td> <td>    0.760</td>\n",
       "</tr>\n",
       "<tr>\n",
       "  <th>age</th>                  <td>    0.0606</td> <td>    0.006</td> <td>    9.637</td> <td> 0.000</td> <td>    0.048</td> <td>    0.073</td>\n",
       "</tr>\n",
       "<tr>\n",
       "  <th>cigsPerDay</th>           <td>    0.0207</td> <td>    0.006</td> <td>    3.603</td> <td> 0.000</td> <td>    0.009</td> <td>    0.032</td>\n",
       "</tr>\n",
       "<tr>\n",
       "  <th>totChol</th>              <td>    0.0019</td> <td>    0.001</td> <td>    1.836</td> <td> 0.066</td> <td>   -0.000</td> <td>    0.004</td>\n",
       "</tr>\n",
       "<tr>\n",
       "  <th>sysBP</th>                <td>    0.0142</td> <td>    0.004</td> <td>    4.011</td> <td> 0.000</td> <td>    0.007</td> <td>    0.021</td>\n",
       "</tr>\n",
       "<tr>\n",
       "  <th>diaBP</th>                <td>   -0.0029</td> <td>    0.006</td> <td>   -0.492</td> <td> 0.623</td> <td>   -0.015</td> <td>    0.009</td>\n",
       "</tr>\n",
       "<tr>\n",
       "  <th>BMI</th>                  <td>    0.0013</td> <td>    0.012</td> <td>    0.107</td> <td> 0.915</td> <td>   -0.022</td> <td>    0.024</td>\n",
       "</tr>\n",
       "<tr>\n",
       "  <th>heartRate</th>            <td>   -0.0012</td> <td>    0.004</td> <td>   -0.309</td> <td> 0.757</td> <td>   -0.009</td> <td>    0.006</td>\n",
       "</tr>\n",
       "<tr>\n",
       "  <th>glucose</th>              <td>    0.0067</td> <td>    0.002</td> <td>    3.142</td> <td> 0.002</td> <td>    0.003</td> <td>    0.011</td>\n",
       "</tr>\n",
       "</table>"
      ],
      "text/plain": [
       "<class 'statsmodels.iolib.summary.Summary'>\n",
       "\"\"\"\n",
       "                 Generalized Linear Model Regression Results                  \n",
       "==============================================================================\n",
       "Dep. Variable:             TenYearCHD   No. Observations:                 4240\n",
       "Model:                            GLM   Df Residuals:                     4222\n",
       "Model Family:                Binomial   Df Model:                           17\n",
       "Link Function:                  logit   Scale:                          1.0000\n",
       "Method:                          IRLS   Log-Likelihood:                -1603.7\n",
       "Date:                Mon, 23 Mar 2020   Deviance:                       3207.4\n",
       "Time:                        19:10:33   Pearson chi2:                 4.23e+03\n",
       "No. Iterations:                     6                                         \n",
       "Covariance Type:            nonrobust                                         \n",
       "========================================================================================\n",
       "                           coef    std err          z      P>|z|      [0.025      0.975]\n",
       "----------------------------------------------------------------------------------------\n",
       "Intercept               -7.9912      0.659    -12.126      0.000      -9.283      -6.700\n",
       "male[T.1]                0.4885      0.101      4.826      0.000       0.290       0.687\n",
       "education[T.2.0]        -0.1928      0.115     -1.674      0.094      -0.419       0.033\n",
       "education[T.3.0]        -0.0937      0.139     -0.675      0.500      -0.366       0.178\n",
       "education[T.4.0]         0.0301      0.153      0.197      0.843      -0.269       0.329\n",
       "currentSmoker[T.1]       0.0252      0.145      0.174      0.862      -0.259       0.310\n",
       "BPMeds[T.1.0]            0.2512      0.220      1.139      0.255      -0.181       0.683\n",
       "prevalentStroke[T.1]     0.9716      0.444      2.189      0.029       0.102       1.841\n",
       "prevalentHyp[T.1]        0.2324      0.129      1.807      0.071      -0.020       0.485\n",
       "diabetes[T.1]            0.1819      0.295      0.617      0.537      -0.396       0.760\n",
       "age                      0.0606      0.006      9.637      0.000       0.048       0.073\n",
       "cigsPerDay               0.0207      0.006      3.603      0.000       0.009       0.032\n",
       "totChol                  0.0019      0.001      1.836      0.066      -0.000       0.004\n",
       "sysBP                    0.0142      0.004      4.011      0.000       0.007       0.021\n",
       "diaBP                   -0.0029      0.006     -0.492      0.623      -0.015       0.009\n",
       "BMI                      0.0013      0.012      0.107      0.915      -0.022       0.024\n",
       "heartRate               -0.0012      0.004     -0.309      0.757      -0.009       0.006\n",
       "glucose                  0.0067      0.002      3.142      0.002       0.003       0.011\n",
       "========================================================================================\n",
       "\"\"\""
      ]
     },
     "execution_count": 17,
     "metadata": {},
     "output_type": "execute_result"
    }
   ],
   "source": [
    "model = sfa.glm(formula = 'TenYearCHD~male+age+education+currentSmoker+cigsPerDay+BPMeds+prevalentStroke+' + \n",
    "                'prevalentHyp+diabetes+totChol+sysBP+diaBP+BMI+heartRate+glucose',\n",
    "                data = fram_data, family = sa.families.Binomial())\n",
    "result = model.fit()\n",
    "result.summary()"
   ]
  },
  {
   "cell_type": "code",
   "execution_count": 18,
   "metadata": {},
   "outputs": [
    {
     "data": {
      "text/plain": [
       "3612.208700639955"
      ]
     },
     "execution_count": 18,
     "metadata": {},
     "output_type": "execute_result"
    }
   ],
   "source": [
    "result.null_deviance"
   ]
  },
  {
   "cell_type": "code",
   "execution_count": 19,
   "metadata": {},
   "outputs": [
    {
     "data": {
      "text/plain": [
       "3243.439552166131"
      ]
     },
     "execution_count": 19,
     "metadata": {},
     "output_type": "execute_result"
    }
   ],
   "source": [
    "result.aic"
   ]
  },
  {
   "cell_type": "code",
   "execution_count": 20,
   "metadata": {},
   "outputs": [
    {
     "data": {
      "text/plain": [
       "1.0    1825\n",
       "2.0    1253\n",
       "3.0     689\n",
       "4.0     473\n",
       "Name: education, dtype: int64"
      ]
     },
     "execution_count": 20,
     "metadata": {},
     "output_type": "execute_result"
    }
   ],
   "source": [
    "fram_data.education.value_counts()"
   ]
  },
  {
   "cell_type": "code",
   "execution_count": 21,
   "metadata": {},
   "outputs": [
    {
     "name": "stdout",
     "output_type": "stream",
     "text": [
      "Optimization terminated successfully.\n",
      "         Current function value: 0.378236\n",
      "         Iterations 7\n"
     ]
    },
    {
     "data": {
      "text/html": [
       "<table class=\"simpletable\">\n",
       "<caption>Logit Regression Results</caption>\n",
       "<tr>\n",
       "  <th>Dep. Variable:</th>      <td>TenYearCHD</td>    <th>  No. Observations:  </th>  <td>  4240</td>  \n",
       "</tr>\n",
       "<tr>\n",
       "  <th>Model:</th>                 <td>Logit</td>      <th>  Df Residuals:      </th>  <td>  4222</td>  \n",
       "</tr>\n",
       "<tr>\n",
       "  <th>Method:</th>                 <td>MLE</td>       <th>  Df Model:          </th>  <td>    17</td>  \n",
       "</tr>\n",
       "<tr>\n",
       "  <th>Date:</th>            <td>Mon, 23 Mar 2020</td> <th>  Pseudo R-squ.:     </th>  <td>0.1121</td>  \n",
       "</tr>\n",
       "<tr>\n",
       "  <th>Time:</th>                <td>19:10:35</td>     <th>  Log-Likelihood:    </th> <td> -1603.7</td> \n",
       "</tr>\n",
       "<tr>\n",
       "  <th>converged:</th>             <td>True</td>       <th>  LL-Null:           </th> <td> -1806.1</td> \n",
       "</tr>\n",
       "<tr>\n",
       "  <th>Covariance Type:</th>     <td>nonrobust</td>    <th>  LLR p-value:       </th> <td>1.866e-75</td>\n",
       "</tr>\n",
       "</table>\n",
       "<table class=\"simpletable\">\n",
       "<tr>\n",
       "            <td></td>              <th>coef</th>     <th>std err</th>      <th>z</th>      <th>P>|z|</th>  <th>[0.025</th>    <th>0.975]</th>  \n",
       "</tr>\n",
       "<tr>\n",
       "  <th>Intercept</th>            <td>   -7.9912</td> <td>    0.659</td> <td>  -12.126</td> <td> 0.000</td> <td>   -9.283</td> <td>   -6.700</td>\n",
       "</tr>\n",
       "<tr>\n",
       "  <th>male[T.1]</th>            <td>    0.4885</td> <td>    0.101</td> <td>    4.826</td> <td> 0.000</td> <td>    0.290</td> <td>    0.687</td>\n",
       "</tr>\n",
       "<tr>\n",
       "  <th>education[T.2.0]</th>     <td>   -0.1928</td> <td>    0.115</td> <td>   -1.674</td> <td> 0.094</td> <td>   -0.419</td> <td>    0.033</td>\n",
       "</tr>\n",
       "<tr>\n",
       "  <th>education[T.3.0]</th>     <td>   -0.0937</td> <td>    0.139</td> <td>   -0.675</td> <td> 0.500</td> <td>   -0.366</td> <td>    0.178</td>\n",
       "</tr>\n",
       "<tr>\n",
       "  <th>education[T.4.0]</th>     <td>    0.0301</td> <td>    0.153</td> <td>    0.197</td> <td> 0.843</td> <td>   -0.269</td> <td>    0.329</td>\n",
       "</tr>\n",
       "<tr>\n",
       "  <th>currentSmoker[T.1]</th>   <td>    0.0252</td> <td>    0.145</td> <td>    0.174</td> <td> 0.862</td> <td>   -0.259</td> <td>    0.310</td>\n",
       "</tr>\n",
       "<tr>\n",
       "  <th>BPMeds[T.1.0]</th>        <td>    0.2512</td> <td>    0.220</td> <td>    1.139</td> <td> 0.255</td> <td>   -0.181</td> <td>    0.683</td>\n",
       "</tr>\n",
       "<tr>\n",
       "  <th>prevalentStroke[T.1]</th> <td>    0.9716</td> <td>    0.444</td> <td>    2.189</td> <td> 0.029</td> <td>    0.102</td> <td>    1.841</td>\n",
       "</tr>\n",
       "<tr>\n",
       "  <th>prevalentHyp[T.1]</th>    <td>    0.2324</td> <td>    0.129</td> <td>    1.807</td> <td> 0.071</td> <td>   -0.020</td> <td>    0.485</td>\n",
       "</tr>\n",
       "<tr>\n",
       "  <th>diabetes[T.1]</th>        <td>    0.1819</td> <td>    0.295</td> <td>    0.617</td> <td> 0.537</td> <td>   -0.396</td> <td>    0.760</td>\n",
       "</tr>\n",
       "<tr>\n",
       "  <th>age</th>                  <td>    0.0606</td> <td>    0.006</td> <td>    9.637</td> <td> 0.000</td> <td>    0.048</td> <td>    0.073</td>\n",
       "</tr>\n",
       "<tr>\n",
       "  <th>cigsPerDay</th>           <td>    0.0207</td> <td>    0.006</td> <td>    3.603</td> <td> 0.000</td> <td>    0.009</td> <td>    0.032</td>\n",
       "</tr>\n",
       "<tr>\n",
       "  <th>totChol</th>              <td>    0.0019</td> <td>    0.001</td> <td>    1.836</td> <td> 0.066</td> <td>   -0.000</td> <td>    0.004</td>\n",
       "</tr>\n",
       "<tr>\n",
       "  <th>sysBP</th>                <td>    0.0142</td> <td>    0.004</td> <td>    4.011</td> <td> 0.000</td> <td>    0.007</td> <td>    0.021</td>\n",
       "</tr>\n",
       "<tr>\n",
       "  <th>diaBP</th>                <td>   -0.0029</td> <td>    0.006</td> <td>   -0.492</td> <td> 0.623</td> <td>   -0.015</td> <td>    0.009</td>\n",
       "</tr>\n",
       "<tr>\n",
       "  <th>BMI</th>                  <td>    0.0013</td> <td>    0.012</td> <td>    0.107</td> <td> 0.915</td> <td>   -0.022</td> <td>    0.024</td>\n",
       "</tr>\n",
       "<tr>\n",
       "  <th>heartRate</th>            <td>   -0.0012</td> <td>    0.004</td> <td>   -0.309</td> <td> 0.757</td> <td>   -0.009</td> <td>    0.006</td>\n",
       "</tr>\n",
       "<tr>\n",
       "  <th>glucose</th>              <td>    0.0067</td> <td>    0.002</td> <td>    3.142</td> <td> 0.002</td> <td>    0.003</td> <td>    0.011</td>\n",
       "</tr>\n",
       "</table>"
      ],
      "text/plain": [
       "<class 'statsmodels.iolib.summary.Summary'>\n",
       "\"\"\"\n",
       "                           Logit Regression Results                           \n",
       "==============================================================================\n",
       "Dep. Variable:             TenYearCHD   No. Observations:                 4240\n",
       "Model:                          Logit   Df Residuals:                     4222\n",
       "Method:                           MLE   Df Model:                           17\n",
       "Date:                Mon, 23 Mar 2020   Pseudo R-squ.:                  0.1121\n",
       "Time:                        19:10:35   Log-Likelihood:                -1603.7\n",
       "converged:                       True   LL-Null:                       -1806.1\n",
       "Covariance Type:            nonrobust   LLR p-value:                 1.866e-75\n",
       "========================================================================================\n",
       "                           coef    std err          z      P>|z|      [0.025      0.975]\n",
       "----------------------------------------------------------------------------------------\n",
       "Intercept               -7.9912      0.659    -12.126      0.000      -9.283      -6.700\n",
       "male[T.1]                0.4885      0.101      4.826      0.000       0.290       0.687\n",
       "education[T.2.0]        -0.1928      0.115     -1.674      0.094      -0.419       0.033\n",
       "education[T.3.0]        -0.0937      0.139     -0.675      0.500      -0.366       0.178\n",
       "education[T.4.0]         0.0301      0.153      0.197      0.843      -0.269       0.329\n",
       "currentSmoker[T.1]       0.0252      0.145      0.174      0.862      -0.259       0.310\n",
       "BPMeds[T.1.0]            0.2512      0.220      1.139      0.255      -0.181       0.683\n",
       "prevalentStroke[T.1]     0.9716      0.444      2.189      0.029       0.102       1.841\n",
       "prevalentHyp[T.1]        0.2324      0.129      1.807      0.071      -0.020       0.485\n",
       "diabetes[T.1]            0.1819      0.295      0.617      0.537      -0.396       0.760\n",
       "age                      0.0606      0.006      9.637      0.000       0.048       0.073\n",
       "cigsPerDay               0.0207      0.006      3.603      0.000       0.009       0.032\n",
       "totChol                  0.0019      0.001      1.836      0.066      -0.000       0.004\n",
       "sysBP                    0.0142      0.004      4.011      0.000       0.007       0.021\n",
       "diaBP                   -0.0029      0.006     -0.492      0.623      -0.015       0.009\n",
       "BMI                      0.0013      0.012      0.107      0.915      -0.022       0.024\n",
       "heartRate               -0.0012      0.004     -0.309      0.757      -0.009       0.006\n",
       "glucose                  0.0067      0.002      3.142      0.002       0.003       0.011\n",
       "========================================================================================\n",
       "\"\"\""
      ]
     },
     "execution_count": 21,
     "metadata": {},
     "output_type": "execute_result"
    }
   ],
   "source": [
    "model_logit = sfa.logit(formula = 'TenYearCHD~male+age+education+currentSmoker+cigsPerDay+BPMeds+prevalentStroke+' + \n",
    "                'prevalentHyp+diabetes+totChol+sysBP+diaBP+BMI+heartRate+glucose', data = fram_data)\n",
    "logit_result = model_logit.fit()\n",
    "logit_result.summary()"
   ]
  },
  {
   "cell_type": "code",
   "execution_count": 22,
   "metadata": {},
   "outputs": [
    {
     "data": {
      "text/plain": [
       "BMI                     9.145567e-01\n",
       "currentSmoker[T.1]      8.622061e-01\n",
       "education[T.4.0]        8.434732e-01\n",
       "heartRate               7.573891e-01\n",
       "diaBP                   6.229108e-01\n",
       "diabetes[T.1]           5.369849e-01\n",
       "education[T.3.0]        4.997722e-01\n",
       "BPMeds[T.1.0]           2.545164e-01\n",
       "education[T.2.0]        9.414388e-02\n",
       "prevalentHyp[T.1]       7.079966e-02\n",
       "totChol                 6.642351e-02\n",
       "prevalentStroke[T.1]    2.858189e-02\n",
       "glucose                 1.675325e-03\n",
       "cigsPerDay              3.141725e-04\n",
       "sysBP                   6.037163e-05\n",
       "male[T.1]               1.393208e-06\n",
       "age                     5.566154e-22\n",
       "Intercept               7.654899e-34\n",
       "dtype: float64"
      ]
     },
     "execution_count": 22,
     "metadata": {},
     "output_type": "execute_result"
    }
   ],
   "source": [
    "result.pvalues.sort_values(ascending=False)"
   ]
  },
  {
   "cell_type": "markdown",
   "metadata": {},
   "source": [
    "#### Drop `BMI` that has worst P Value"
   ]
  },
  {
   "cell_type": "code",
   "execution_count": 23,
   "metadata": {},
   "outputs": [
    {
     "data": {
      "text/html": [
       "<div>\n",
       "<style scoped>\n",
       "    .dataframe tbody tr th:only-of-type {\n",
       "        vertical-align: middle;\n",
       "    }\n",
       "\n",
       "    .dataframe tbody tr th {\n",
       "        vertical-align: top;\n",
       "    }\n",
       "\n",
       "    .dataframe thead th {\n",
       "        text-align: right;\n",
       "    }\n",
       "</style>\n",
       "<table border=\"1\" class=\"dataframe\">\n",
       "  <thead>\n",
       "    <tr style=\"text-align: right;\">\n",
       "      <th></th>\n",
       "      <th>male</th>\n",
       "      <th>age</th>\n",
       "      <th>education</th>\n",
       "      <th>currentSmoker</th>\n",
       "      <th>cigsPerDay</th>\n",
       "      <th>BPMeds</th>\n",
       "      <th>prevalentStroke</th>\n",
       "      <th>prevalentHyp</th>\n",
       "      <th>diabetes</th>\n",
       "      <th>totChol</th>\n",
       "      <th>sysBP</th>\n",
       "      <th>diaBP</th>\n",
       "      <th>heartRate</th>\n",
       "      <th>glucose</th>\n",
       "      <th>TenYearCHD</th>\n",
       "    </tr>\n",
       "  </thead>\n",
       "  <tbody>\n",
       "    <tr>\n",
       "      <td>0</td>\n",
       "      <td>1</td>\n",
       "      <td>39</td>\n",
       "      <td>4</td>\n",
       "      <td>0</td>\n",
       "      <td>0</td>\n",
       "      <td>0</td>\n",
       "      <td>0</td>\n",
       "      <td>0</td>\n",
       "      <td>0</td>\n",
       "      <td>195</td>\n",
       "      <td>106.0</td>\n",
       "      <td>70.0</td>\n",
       "      <td>80</td>\n",
       "      <td>77</td>\n",
       "      <td>0</td>\n",
       "    </tr>\n",
       "    <tr>\n",
       "      <td>1</td>\n",
       "      <td>0</td>\n",
       "      <td>46</td>\n",
       "      <td>2</td>\n",
       "      <td>0</td>\n",
       "      <td>0</td>\n",
       "      <td>0</td>\n",
       "      <td>0</td>\n",
       "      <td>0</td>\n",
       "      <td>0</td>\n",
       "      <td>250</td>\n",
       "      <td>121.0</td>\n",
       "      <td>81.0</td>\n",
       "      <td>95</td>\n",
       "      <td>76</td>\n",
       "      <td>0</td>\n",
       "    </tr>\n",
       "    <tr>\n",
       "      <td>2</td>\n",
       "      <td>1</td>\n",
       "      <td>48</td>\n",
       "      <td>1</td>\n",
       "      <td>1</td>\n",
       "      <td>20</td>\n",
       "      <td>0</td>\n",
       "      <td>0</td>\n",
       "      <td>0</td>\n",
       "      <td>0</td>\n",
       "      <td>245</td>\n",
       "      <td>127.5</td>\n",
       "      <td>80.0</td>\n",
       "      <td>75</td>\n",
       "      <td>70</td>\n",
       "      <td>0</td>\n",
       "    </tr>\n",
       "    <tr>\n",
       "      <td>3</td>\n",
       "      <td>0</td>\n",
       "      <td>61</td>\n",
       "      <td>3</td>\n",
       "      <td>1</td>\n",
       "      <td>30</td>\n",
       "      <td>0</td>\n",
       "      <td>0</td>\n",
       "      <td>1</td>\n",
       "      <td>0</td>\n",
       "      <td>225</td>\n",
       "      <td>150.0</td>\n",
       "      <td>95.0</td>\n",
       "      <td>65</td>\n",
       "      <td>103</td>\n",
       "      <td>1</td>\n",
       "    </tr>\n",
       "    <tr>\n",
       "      <td>4</td>\n",
       "      <td>0</td>\n",
       "      <td>46</td>\n",
       "      <td>3</td>\n",
       "      <td>1</td>\n",
       "      <td>23</td>\n",
       "      <td>0</td>\n",
       "      <td>0</td>\n",
       "      <td>0</td>\n",
       "      <td>0</td>\n",
       "      <td>285</td>\n",
       "      <td>130.0</td>\n",
       "      <td>84.0</td>\n",
       "      <td>85</td>\n",
       "      <td>85</td>\n",
       "      <td>0</td>\n",
       "    </tr>\n",
       "  </tbody>\n",
       "</table>\n",
       "</div>"
      ],
      "text/plain": [
       "  male  age education currentSmoker  cigsPerDay BPMeds prevalentStroke  \\\n",
       "0    1   39         4             0           0      0               0   \n",
       "1    0   46         2             0           0      0               0   \n",
       "2    1   48         1             1          20      0               0   \n",
       "3    0   61         3             1          30      0               0   \n",
       "4    0   46         3             1          23      0               0   \n",
       "\n",
       "  prevalentHyp diabetes  totChol  sysBP  diaBP  heartRate  glucose  TenYearCHD  \n",
       "0            0        0      195  106.0   70.0         80       77           0  \n",
       "1            0        0      250  121.0   81.0         95       76           0  \n",
       "2            0        0      245  127.5   80.0         75       70           0  \n",
       "3            1        0      225  150.0   95.0         65      103           1  \n",
       "4            0        0      285  130.0   84.0         85       85           0  "
      ]
     },
     "execution_count": 23,
     "metadata": {},
     "output_type": "execute_result"
    }
   ],
   "source": [
    "frame_data_1 = fram_data.drop(['BMI'], axis = 1)\n",
    "frame_data_1.head()"
   ]
  },
  {
   "cell_type": "code",
   "execution_count": 24,
   "metadata": {},
   "outputs": [
    {
     "data": {
      "text/html": [
       "<table class=\"simpletable\">\n",
       "<caption>Generalized Linear Model Regression Results</caption>\n",
       "<tr>\n",
       "  <th>Dep. Variable:</th>      <td>TenYearCHD</td>    <th>  No. Observations:  </th>  <td>  4240</td> \n",
       "</tr>\n",
       "<tr>\n",
       "  <th>Model:</th>                  <td>GLM</td>       <th>  Df Residuals:      </th>  <td>  4223</td> \n",
       "</tr>\n",
       "<tr>\n",
       "  <th>Model Family:</th>        <td>Binomial</td>     <th>  Df Model:          </th>  <td>    16</td> \n",
       "</tr>\n",
       "<tr>\n",
       "  <th>Link Function:</th>         <td>logit</td>      <th>  Scale:             </th> <td>  1.0000</td>\n",
       "</tr>\n",
       "<tr>\n",
       "  <th>Method:</th>                <td>IRLS</td>       <th>  Log-Likelihood:    </th> <td> -1603.7</td>\n",
       "</tr>\n",
       "<tr>\n",
       "  <th>Date:</th>            <td>Mon, 23 Mar 2020</td> <th>  Deviance:          </th> <td>  3207.5</td>\n",
       "</tr>\n",
       "<tr>\n",
       "  <th>Time:</th>                <td>19:10:37</td>     <th>  Pearson chi2:      </th> <td>4.23e+03</td>\n",
       "</tr>\n",
       "<tr>\n",
       "  <th>No. Iterations:</th>          <td>6</td>        <th>                     </th>     <td> </td>   \n",
       "</tr>\n",
       "<tr>\n",
       "  <th>Covariance Type:</th>     <td>nonrobust</td>    <th>                     </th>     <td> </td>   \n",
       "</tr>\n",
       "</table>\n",
       "<table class=\"simpletable\">\n",
       "<tr>\n",
       "            <td></td>              <th>coef</th>     <th>std err</th>      <th>z</th>      <th>P>|z|</th>  <th>[0.025</th>    <th>0.975]</th>  \n",
       "</tr>\n",
       "<tr>\n",
       "  <th>Intercept</th>            <td>   -7.9665</td> <td>    0.617</td> <td>  -12.905</td> <td> 0.000</td> <td>   -9.176</td> <td>   -6.757</td>\n",
       "</tr>\n",
       "<tr>\n",
       "  <th>male[T.1]</th>            <td>    0.4888</td> <td>    0.101</td> <td>    4.832</td> <td> 0.000</td> <td>    0.291</td> <td>    0.687</td>\n",
       "</tr>\n",
       "<tr>\n",
       "  <th>education[T.2.0]</th>     <td>   -0.1941</td> <td>    0.115</td> <td>   -1.695</td> <td> 0.090</td> <td>   -0.419</td> <td>    0.030</td>\n",
       "</tr>\n",
       "<tr>\n",
       "  <th>education[T.3.0]</th>     <td>   -0.0953</td> <td>    0.138</td> <td>   -0.691</td> <td> 0.490</td> <td>   -0.366</td> <td>    0.175</td>\n",
       "</tr>\n",
       "<tr>\n",
       "  <th>education[T.4.0]</th>     <td>    0.0287</td> <td>    0.152</td> <td>    0.189</td> <td> 0.850</td> <td>   -0.269</td> <td>    0.327</td>\n",
       "</tr>\n",
       "<tr>\n",
       "  <th>currentSmoker[T.1]</th>   <td>    0.0233</td> <td>    0.144</td> <td>    0.162</td> <td> 0.871</td> <td>   -0.259</td> <td>    0.306</td>\n",
       "</tr>\n",
       "<tr>\n",
       "  <th>BPMeds[T.1.0]</th>        <td>    0.2518</td> <td>    0.220</td> <td>    1.142</td> <td> 0.253</td> <td>   -0.180</td> <td>    0.684</td>\n",
       "</tr>\n",
       "<tr>\n",
       "  <th>prevalentStroke[T.1]</th> <td>    0.9717</td> <td>    0.444</td> <td>    2.190</td> <td> 0.029</td> <td>    0.102</td> <td>    1.841</td>\n",
       "</tr>\n",
       "<tr>\n",
       "  <th>prevalentHyp[T.1]</th>    <td>    0.2334</td> <td>    0.128</td> <td>    1.818</td> <td> 0.069</td> <td>   -0.018</td> <td>    0.485</td>\n",
       "</tr>\n",
       "<tr>\n",
       "  <th>diabetes[T.1]</th>        <td>    0.1837</td> <td>    0.294</td> <td>    0.624</td> <td> 0.532</td> <td>   -0.393</td> <td>    0.760</td>\n",
       "</tr>\n",
       "<tr>\n",
       "  <th>age</th>                  <td>    0.0605</td> <td>    0.006</td> <td>    9.639</td> <td> 0.000</td> <td>    0.048</td> <td>    0.073</td>\n",
       "</tr>\n",
       "<tr>\n",
       "  <th>cigsPerDay</th>           <td>    0.0207</td> <td>    0.006</td> <td>    3.609</td> <td> 0.000</td> <td>    0.009</td> <td>    0.032</td>\n",
       "</tr>\n",
       "<tr>\n",
       "  <th>totChol</th>              <td>    0.0019</td> <td>    0.001</td> <td>    1.839</td> <td> 0.066</td> <td>   -0.000</td> <td>    0.004</td>\n",
       "</tr>\n",
       "<tr>\n",
       "  <th>sysBP</th>                <td>    0.0142</td> <td>    0.004</td> <td>    4.010</td> <td> 0.000</td> <td>    0.007</td> <td>    0.021</td>\n",
       "</tr>\n",
       "<tr>\n",
       "  <th>diaBP</th>                <td>   -0.0028</td> <td>    0.006</td> <td>   -0.480</td> <td> 0.631</td> <td>   -0.014</td> <td>    0.009</td>\n",
       "</tr>\n",
       "<tr>\n",
       "  <th>heartRate</th>            <td>   -0.0012</td> <td>    0.004</td> <td>   -0.308</td> <td> 0.758</td> <td>   -0.009</td> <td>    0.006</td>\n",
       "</tr>\n",
       "<tr>\n",
       "  <th>glucose</th>              <td>    0.0067</td> <td>    0.002</td> <td>    3.144</td> <td> 0.002</td> <td>    0.003</td> <td>    0.011</td>\n",
       "</tr>\n",
       "</table>"
      ],
      "text/plain": [
       "<class 'statsmodels.iolib.summary.Summary'>\n",
       "\"\"\"\n",
       "                 Generalized Linear Model Regression Results                  \n",
       "==============================================================================\n",
       "Dep. Variable:             TenYearCHD   No. Observations:                 4240\n",
       "Model:                            GLM   Df Residuals:                     4223\n",
       "Model Family:                Binomial   Df Model:                           16\n",
       "Link Function:                  logit   Scale:                          1.0000\n",
       "Method:                          IRLS   Log-Likelihood:                -1603.7\n",
       "Date:                Mon, 23 Mar 2020   Deviance:                       3207.5\n",
       "Time:                        19:10:37   Pearson chi2:                 4.23e+03\n",
       "No. Iterations:                     6                                         \n",
       "Covariance Type:            nonrobust                                         \n",
       "========================================================================================\n",
       "                           coef    std err          z      P>|z|      [0.025      0.975]\n",
       "----------------------------------------------------------------------------------------\n",
       "Intercept               -7.9665      0.617    -12.905      0.000      -9.176      -6.757\n",
       "male[T.1]                0.4888      0.101      4.832      0.000       0.291       0.687\n",
       "education[T.2.0]        -0.1941      0.115     -1.695      0.090      -0.419       0.030\n",
       "education[T.3.0]        -0.0953      0.138     -0.691      0.490      -0.366       0.175\n",
       "education[T.4.0]         0.0287      0.152      0.189      0.850      -0.269       0.327\n",
       "currentSmoker[T.1]       0.0233      0.144      0.162      0.871      -0.259       0.306\n",
       "BPMeds[T.1.0]            0.2518      0.220      1.142      0.253      -0.180       0.684\n",
       "prevalentStroke[T.1]     0.9717      0.444      2.190      0.029       0.102       1.841\n",
       "prevalentHyp[T.1]        0.2334      0.128      1.818      0.069      -0.018       0.485\n",
       "diabetes[T.1]            0.1837      0.294      0.624      0.532      -0.393       0.760\n",
       "age                      0.0605      0.006      9.639      0.000       0.048       0.073\n",
       "cigsPerDay               0.0207      0.006      3.609      0.000       0.009       0.032\n",
       "totChol                  0.0019      0.001      1.839      0.066      -0.000       0.004\n",
       "sysBP                    0.0142      0.004      4.010      0.000       0.007       0.021\n",
       "diaBP                   -0.0028      0.006     -0.480      0.631      -0.014       0.009\n",
       "heartRate               -0.0012      0.004     -0.308      0.758      -0.009       0.006\n",
       "glucose                  0.0067      0.002      3.144      0.002       0.003       0.011\n",
       "========================================================================================\n",
       "\"\"\""
      ]
     },
     "execution_count": 24,
     "metadata": {},
     "output_type": "execute_result"
    }
   ],
   "source": [
    "model = sfa.glm(formula = 'TenYearCHD~male+age+education+currentSmoker+cigsPerDay+BPMeds+prevalentStroke+' + \n",
    "                'prevalentHyp+diabetes+totChol+sysBP+diaBP+heartRate+glucose',\n",
    "                data = frame_data_1, family = sa.families.Binomial())\n",
    "result = model.fit()\n",
    "result.summary()"
   ]
  },
  {
   "cell_type": "code",
   "execution_count": 25,
   "metadata": {},
   "outputs": [
    {
     "data": {
      "text/plain": [
       "currentSmoker[T.1]      8.714889e-01\n",
       "education[T.4.0]        8.500615e-01\n",
       "heartRate               7.580784e-01\n",
       "diaBP                   6.310799e-01\n",
       "diabetes[T.1]           5.323856e-01\n",
       "education[T.3.0]        4.898747e-01\n",
       "BPMeds[T.1.0]           2.532766e-01\n",
       "education[T.2.0]        9.007928e-02\n",
       "prevalentHyp[T.1]       6.903735e-02\n",
       "totChol                 6.596770e-02\n",
       "prevalentStroke[T.1]    2.853746e-02\n",
       "glucose                 1.668793e-03\n",
       "cigsPerDay              3.070198e-04\n",
       "sysBP                   6.063983e-05\n",
       "male[T.1]               1.351906e-06\n",
       "age                     5.493797e-22\n",
       "Intercept               4.209046e-38\n",
       "dtype: float64"
      ]
     },
     "execution_count": 25,
     "metadata": {},
     "output_type": "execute_result"
    }
   ],
   "source": [
    "result.pvalues.sort_values(ascending=False)"
   ]
  },
  {
   "cell_type": "code",
   "execution_count": 26,
   "metadata": {},
   "outputs": [
    {
     "data": {
      "text/plain": [
       "0.8714889"
      ]
     },
     "execution_count": 26,
     "metadata": {},
     "output_type": "execute_result"
    }
   ],
   "source": [
    "8.714889e-01"
   ]
  },
  {
   "cell_type": "code",
   "execution_count": 27,
   "metadata": {},
   "outputs": [
    {
     "data": {
      "text/html": [
       "<table class=\"simpletable\">\n",
       "<caption>Generalized Linear Model Regression Results</caption>\n",
       "<tr>\n",
       "  <th>Dep. Variable:</th>      <td>TenYearCHD</td>    <th>  No. Observations:  </th>  <td>  4240</td> \n",
       "</tr>\n",
       "<tr>\n",
       "  <th>Model:</th>                  <td>GLM</td>       <th>  Df Residuals:      </th>  <td>  4224</td> \n",
       "</tr>\n",
       "<tr>\n",
       "  <th>Model Family:</th>        <td>Binomial</td>     <th>  Df Model:          </th>  <td>    15</td> \n",
       "</tr>\n",
       "<tr>\n",
       "  <th>Link Function:</th>         <td>logit</td>      <th>  Scale:             </th> <td>  1.0000</td>\n",
       "</tr>\n",
       "<tr>\n",
       "  <th>Method:</th>                <td>IRLS</td>       <th>  Log-Likelihood:    </th> <td> -1603.7</td>\n",
       "</tr>\n",
       "<tr>\n",
       "  <th>Date:</th>            <td>Mon, 23 Mar 2020</td> <th>  Deviance:          </th> <td>  3207.5</td>\n",
       "</tr>\n",
       "<tr>\n",
       "  <th>Time:</th>                <td>19:10:39</td>     <th>  Pearson chi2:      </th> <td>4.23e+03</td>\n",
       "</tr>\n",
       "<tr>\n",
       "  <th>No. Iterations:</th>          <td>6</td>        <th>                     </th>     <td> </td>   \n",
       "</tr>\n",
       "<tr>\n",
       "  <th>Covariance Type:</th>     <td>nonrobust</td>    <th>                     </th>     <td> </td>   \n",
       "</tr>\n",
       "</table>\n",
       "<table class=\"simpletable\">\n",
       "<tr>\n",
       "            <td></td>              <th>coef</th>     <th>std err</th>      <th>z</th>      <th>P>|z|</th>  <th>[0.025</th>    <th>0.975]</th>  \n",
       "</tr>\n",
       "<tr>\n",
       "  <th>Intercept</th>            <td>   -7.9558</td> <td>    0.614</td> <td>  -12.962</td> <td> 0.000</td> <td>   -9.159</td> <td>   -6.753</td>\n",
       "</tr>\n",
       "<tr>\n",
       "  <th>male[T.1]</th>            <td>    0.4885</td> <td>    0.101</td> <td>    4.829</td> <td> 0.000</td> <td>    0.290</td> <td>    0.687</td>\n",
       "</tr>\n",
       "<tr>\n",
       "  <th>education[T.2.0]</th>     <td>   -0.1936</td> <td>    0.114</td> <td>   -1.691</td> <td> 0.091</td> <td>   -0.418</td> <td>    0.031</td>\n",
       "</tr>\n",
       "<tr>\n",
       "  <th>education[T.3.0]</th>     <td>   -0.0955</td> <td>    0.138</td> <td>   -0.692</td> <td> 0.489</td> <td>   -0.366</td> <td>    0.175</td>\n",
       "</tr>\n",
       "<tr>\n",
       "  <th>education[T.4.0]</th>     <td>    0.0289</td> <td>    0.152</td> <td>    0.190</td> <td> 0.849</td> <td>   -0.269</td> <td>    0.327</td>\n",
       "</tr>\n",
       "<tr>\n",
       "  <th>BPMeds[T.1.0]</th>        <td>    0.2518</td> <td>    0.220</td> <td>    1.143</td> <td> 0.253</td> <td>   -0.180</td> <td>    0.684</td>\n",
       "</tr>\n",
       "<tr>\n",
       "  <th>prevalentStroke[T.1]</th> <td>    0.9709</td> <td>    0.444</td> <td>    2.188</td> <td> 0.029</td> <td>    0.101</td> <td>    1.840</td>\n",
       "</tr>\n",
       "<tr>\n",
       "  <th>prevalentHyp[T.1]</th>    <td>    0.2331</td> <td>    0.128</td> <td>    1.816</td> <td> 0.069</td> <td>   -0.018</td> <td>    0.485</td>\n",
       "</tr>\n",
       "<tr>\n",
       "  <th>diabetes[T.1]</th>        <td>    0.1828</td> <td>    0.294</td> <td>    0.621</td> <td> 0.534</td> <td>   -0.394</td> <td>    0.759</td>\n",
       "</tr>\n",
       "<tr>\n",
       "  <th>age</th>                  <td>    0.0605</td> <td>    0.006</td> <td>    9.648</td> <td> 0.000</td> <td>    0.048</td> <td>    0.073</td>\n",
       "</tr>\n",
       "<tr>\n",
       "  <th>cigsPerDay</th>           <td>    0.0214</td> <td>    0.004</td> <td>    5.483</td> <td> 0.000</td> <td>    0.014</td> <td>    0.029</td>\n",
       "</tr>\n",
       "<tr>\n",
       "  <th>totChol</th>              <td>    0.0019</td> <td>    0.001</td> <td>    1.836</td> <td> 0.066</td> <td>   -0.000</td> <td>    0.004</td>\n",
       "</tr>\n",
       "<tr>\n",
       "  <th>sysBP</th>                <td>    0.0142</td> <td>    0.004</td> <td>    4.011</td> <td> 0.000</td> <td>    0.007</td> <td>    0.021</td>\n",
       "</tr>\n",
       "<tr>\n",
       "  <th>diaBP</th>                <td>   -0.0029</td> <td>    0.006</td> <td>   -0.486</td> <td> 0.627</td> <td>   -0.014</td> <td>    0.009</td>\n",
       "</tr>\n",
       "<tr>\n",
       "  <th>heartRate</th>            <td>   -0.0012</td> <td>    0.004</td> <td>   -0.304</td> <td> 0.761</td> <td>   -0.009</td> <td>    0.006</td>\n",
       "</tr>\n",
       "<tr>\n",
       "  <th>glucose</th>              <td>    0.0067</td> <td>    0.002</td> <td>    3.143</td> <td> 0.002</td> <td>    0.003</td> <td>    0.011</td>\n",
       "</tr>\n",
       "</table>"
      ],
      "text/plain": [
       "<class 'statsmodels.iolib.summary.Summary'>\n",
       "\"\"\"\n",
       "                 Generalized Linear Model Regression Results                  \n",
       "==============================================================================\n",
       "Dep. Variable:             TenYearCHD   No. Observations:                 4240\n",
       "Model:                            GLM   Df Residuals:                     4224\n",
       "Model Family:                Binomial   Df Model:                           15\n",
       "Link Function:                  logit   Scale:                          1.0000\n",
       "Method:                          IRLS   Log-Likelihood:                -1603.7\n",
       "Date:                Mon, 23 Mar 2020   Deviance:                       3207.5\n",
       "Time:                        19:10:39   Pearson chi2:                 4.23e+03\n",
       "No. Iterations:                     6                                         \n",
       "Covariance Type:            nonrobust                                         \n",
       "========================================================================================\n",
       "                           coef    std err          z      P>|z|      [0.025      0.975]\n",
       "----------------------------------------------------------------------------------------\n",
       "Intercept               -7.9558      0.614    -12.962      0.000      -9.159      -6.753\n",
       "male[T.1]                0.4885      0.101      4.829      0.000       0.290       0.687\n",
       "education[T.2.0]        -0.1936      0.114     -1.691      0.091      -0.418       0.031\n",
       "education[T.3.0]        -0.0955      0.138     -0.692      0.489      -0.366       0.175\n",
       "education[T.4.0]         0.0289      0.152      0.190      0.849      -0.269       0.327\n",
       "BPMeds[T.1.0]            0.2518      0.220      1.143      0.253      -0.180       0.684\n",
       "prevalentStroke[T.1]     0.9709      0.444      2.188      0.029       0.101       1.840\n",
       "prevalentHyp[T.1]        0.2331      0.128      1.816      0.069      -0.018       0.485\n",
       "diabetes[T.1]            0.1828      0.294      0.621      0.534      -0.394       0.759\n",
       "age                      0.0605      0.006      9.648      0.000       0.048       0.073\n",
       "cigsPerDay               0.0214      0.004      5.483      0.000       0.014       0.029\n",
       "totChol                  0.0019      0.001      1.836      0.066      -0.000       0.004\n",
       "sysBP                    0.0142      0.004      4.011      0.000       0.007       0.021\n",
       "diaBP                   -0.0029      0.006     -0.486      0.627      -0.014       0.009\n",
       "heartRate               -0.0012      0.004     -0.304      0.761      -0.009       0.006\n",
       "glucose                  0.0067      0.002      3.143      0.002       0.003       0.011\n",
       "========================================================================================\n",
       "\"\"\""
      ]
     },
     "execution_count": 27,
     "metadata": {},
     "output_type": "execute_result"
    }
   ],
   "source": [
    "model_2 = sfa.glm(formula = 'TenYearCHD~male+age+education+cigsPerDay+BPMeds+prevalentStroke+' + \n",
    "                'prevalentHyp+diabetes+totChol+sysBP+diaBP+heartRate+glucose',\n",
    "                data = frame_data_1, family = sa.families.Binomial())\n",
    "result_2 = model_2.fit()\n",
    "result_2.summary()"
   ]
  },
  {
   "cell_type": "code",
   "execution_count": 28,
   "metadata": {},
   "outputs": [
    {
     "data": {
      "text/plain": [
       "3612.208700639955"
      ]
     },
     "execution_count": 28,
     "metadata": {},
     "output_type": "execute_result"
    }
   ],
   "source": [
    "result_2.null_deviance"
   ]
  },
  {
   "cell_type": "code",
   "execution_count": 29,
   "metadata": {},
   "outputs": [
    {
     "data": {
      "text/plain": [
       "3241.4510571469714"
      ]
     },
     "execution_count": 29,
     "metadata": {},
     "output_type": "execute_result"
    }
   ],
   "source": [
    "result.aic"
   ]
  },
  {
   "cell_type": "code",
   "execution_count": 30,
   "metadata": {},
   "outputs": [
    {
     "data": {
      "text/plain": [
       "education[T.4.0]        8.492402e-01\n",
       "heartRate               7.608027e-01\n",
       "diaBP                   6.267430e-01\n",
       "diabetes[T.1]           5.343800e-01\n",
       "education[T.3.0]        4.889681e-01\n",
       "BPMeds[T.1.0]           2.530903e-01\n",
       "education[T.2.0]        9.075336e-02\n",
       "prevalentHyp[T.1]       6.932087e-02\n",
       "totChol                 6.633819e-02\n",
       "prevalentStroke[T.1]    2.863691e-02\n",
       "glucose                 1.670645e-03\n",
       "sysBP                   6.038272e-05\n",
       "male[T.1]               1.369844e-06\n",
       "cigsPerDay              4.172775e-08\n",
       "age                     5.031915e-22\n",
       "Intercept               2.009488e-38\n",
       "dtype: float64"
      ]
     },
     "execution_count": 30,
     "metadata": {},
     "output_type": "execute_result"
    }
   ],
   "source": [
    "result_2.pvalues.sort_values(ascending=False)"
   ]
  },
  {
   "cell_type": "code",
   "execution_count": 31,
   "metadata": {},
   "outputs": [
    {
     "data": {
      "text/plain": [
       "0.8492402"
      ]
     },
     "execution_count": 31,
     "metadata": {},
     "output_type": "execute_result"
    }
   ],
   "source": [
    "8.492402e-01"
   ]
  },
  {
   "cell_type": "code",
   "execution_count": 32,
   "metadata": {},
   "outputs": [
    {
     "data": {
      "text/plain": [
       "0.7608027"
      ]
     },
     "execution_count": 32,
     "metadata": {},
     "output_type": "execute_result"
    }
   ],
   "source": [
    "7.608027e-01"
   ]
  },
  {
   "cell_type": "code",
   "execution_count": 33,
   "metadata": {},
   "outputs": [
    {
     "data": {
      "text/plain": [
       "0.626743"
      ]
     },
     "execution_count": 33,
     "metadata": {},
     "output_type": "execute_result"
    }
   ],
   "source": [
    "6.267430e-01"
   ]
  },
  {
   "cell_type": "code",
   "execution_count": 34,
   "metadata": {},
   "outputs": [
    {
     "data": {
      "text/plain": [
       "0.53438"
      ]
     },
     "execution_count": 34,
     "metadata": {},
     "output_type": "execute_result"
    }
   ],
   "source": [
    "5.343800e-01"
   ]
  },
  {
   "cell_type": "code",
   "execution_count": 35,
   "metadata": {},
   "outputs": [],
   "source": [
    "fram_data_3 = fram_data.drop(['BMI','education','currentSmoker'], axis = 1)"
   ]
  },
  {
   "cell_type": "code",
   "execution_count": 36,
   "metadata": {},
   "outputs": [
    {
     "data": {
      "text/plain": [
       "Index(['male', 'age', 'cigsPerDay', 'BPMeds', 'prevalentStroke',\n",
       "       'prevalentHyp', 'diabetes', 'totChol', 'sysBP', 'diaBP', 'heartRate',\n",
       "       'glucose', 'TenYearCHD'],\n",
       "      dtype='object')"
      ]
     },
     "execution_count": 36,
     "metadata": {},
     "output_type": "execute_result"
    }
   ],
   "source": [
    "fram_data_3.columns"
   ]
  },
  {
   "cell_type": "code",
   "execution_count": 37,
   "metadata": {},
   "outputs": [
    {
     "name": "stdout",
     "output_type": "stream",
     "text": [
      "                 Generalized Linear Model Regression Results                  \n",
      "==============================================================================\n",
      "Dep. Variable:             TenYearCHD   No. Observations:                 4240\n",
      "Model:                            GLM   Df Residuals:                     4227\n",
      "Model Family:                Binomial   Df Model:                           12\n",
      "Link Function:                  logit   Scale:                          1.0000\n",
      "Method:                          IRLS   Log-Likelihood:                -1605.4\n",
      "Date:                Mon, 23 Mar 2020   Deviance:                       3210.9\n",
      "Time:                        19:10:48   Pearson chi2:                 4.22e+03\n",
      "No. Iterations:                     6                                         \n",
      "Covariance Type:            nonrobust                                         \n",
      "========================================================================================\n",
      "                           coef    std err          z      P>|z|      [0.025      0.975]\n",
      "----------------------------------------------------------------------------------------\n",
      "Intercept               -8.0853      0.604    -13.397      0.000      -9.268      -6.902\n",
      "male[T.1]                0.5105      0.100      5.095      0.000       0.314       0.707\n",
      "BPMeds[T.1.0]            0.2460      0.220      1.118      0.263      -0.185       0.677\n",
      "prevalentStroke[T.1]     0.9671      0.441      2.194      0.028       0.103       1.831\n",
      "prevalentHyp[T.1]        0.2339      0.128      1.824      0.068      -0.017       0.485\n",
      "diabetes[T.1]            0.2003      0.293      0.683      0.495      -0.375       0.775\n",
      "age                      0.0622      0.006     10.105      0.000       0.050       0.074\n",
      "cigsPerDay               0.0212      0.004      5.432      0.000       0.014       0.029\n",
      "totChol                  0.0018      0.001      1.783      0.075      -0.000       0.004\n",
      "sysBP                    0.0142      0.004      4.032      0.000       0.007       0.021\n",
      "diaBP                   -0.0028      0.006     -0.479      0.632      -0.014       0.009\n",
      "heartRate               -0.0014      0.004     -0.364      0.716      -0.009       0.006\n",
      "glucose                  0.0067      0.002      3.108      0.002       0.002       0.011\n",
      "========================================================================================\n"
     ]
    }
   ],
   "source": [
    "model_3 = sfa.glm(formula = 'TenYearCHD~male+age+cigsPerDay+BPMeds+prevalentStroke+' + \n",
    "                'prevalentHyp+diabetes+totChol+sysBP+diaBP+heartRate+glucose',\n",
    "                data = fram_data_3, family = sa.families.Binomial())\n",
    "result_3 = model_3.fit()\n",
    "print(result_3.summary())"
   ]
  },
  {
   "cell_type": "code",
   "execution_count": 38,
   "metadata": {},
   "outputs": [
    {
     "data": {
      "text/plain": [
       "heartRate               7.161236e-01\n",
       "diaBP                   6.322270e-01\n",
       "diabetes[T.1]           4.946431e-01\n",
       "BPMeds[T.1.0]           2.634309e-01\n",
       "totChol                 7.460752e-02\n",
       "prevalentHyp[T.1]       6.811118e-02\n",
       "prevalentStroke[T.1]    2.824258e-02\n",
       "glucose                 1.880819e-03\n",
       "sysBP                   5.530913e-05\n",
       "male[T.1]               3.482625e-07\n",
       "cigsPerDay              5.562323e-08\n",
       "age                     5.267220e-24\n",
       "Intercept               6.323314e-41\n",
       "dtype: float64"
      ]
     },
     "execution_count": 38,
     "metadata": {},
     "output_type": "execute_result"
    }
   ],
   "source": [
    "result_3.pvalues.sort_values(ascending=False)"
   ]
  },
  {
   "cell_type": "code",
   "execution_count": 39,
   "metadata": {},
   "outputs": [
    {
     "name": "stdout",
     "output_type": "stream",
     "text": [
      "                 Generalized Linear Model Regression Results                  \n",
      "==============================================================================\n",
      "Dep. Variable:             TenYearCHD   No. Observations:                 4240\n",
      "Model:                            GLM   Df Residuals:                     4228\n",
      "Model Family:                Binomial   Df Model:                           11\n",
      "Link Function:                  logit   Scale:                          1.0000\n",
      "Method:                          IRLS   Log-Likelihood:                -1605.5\n",
      "Date:                Mon, 23 Mar 2020   Deviance:                       3211.0\n",
      "Time:                        19:11:00   Pearson chi2:                 4.22e+03\n",
      "No. Iterations:                     6                                         \n",
      "Covariance Type:            nonrobust                                         \n",
      "========================================================================================\n",
      "                           coef    std err          z      P>|z|      [0.025      0.975]\n",
      "----------------------------------------------------------------------------------------\n",
      "Intercept               -8.1709      0.556    -14.693      0.000      -9.261      -7.081\n",
      "male[T.1]                0.5154      0.099      5.190      0.000       0.321       0.710\n",
      "BPMeds[T.1.0]            0.2493      0.220      1.134      0.257      -0.182       0.680\n",
      "prevalentStroke[T.1]     0.9718      0.440      2.206      0.027       0.109       1.835\n",
      "prevalentHyp[T.1]        0.2315      0.128      1.808      0.071      -0.019       0.482\n",
      "diabetes[T.1]            0.2011      0.293      0.686      0.493      -0.373       0.776\n",
      "age                      0.0624      0.006     10.155      0.000       0.050       0.074\n",
      "cigsPerDay               0.0210      0.004      5.433      0.000       0.013       0.029\n",
      "totChol                  0.0018      0.001      1.763      0.078      -0.000       0.004\n",
      "sysBP                    0.0142      0.004      4.019      0.000       0.007       0.021\n",
      "diaBP                   -0.0029      0.006     -0.498      0.619      -0.014       0.009\n",
      "glucose                  0.0066      0.002      3.091      0.002       0.002       0.011\n",
      "========================================================================================\n"
     ]
    }
   ],
   "source": [
    "model_4 = sfa.glm(formula = 'TenYearCHD~male+age+cigsPerDay+BPMeds+prevalentStroke+' + \n",
    "                'prevalentHyp+diabetes+totChol+sysBP+diaBP+glucose',\n",
    "                data = fram_data_3, family = sa.families.Binomial())\n",
    "result_4 = model_4.fit()\n",
    "print(result_4.summary())"
   ]
  },
  {
   "cell_type": "code",
   "execution_count": 40,
   "metadata": {},
   "outputs": [
    {
     "data": {
      "text/plain": [
       "3211.01555682373"
      ]
     },
     "execution_count": 40,
     "metadata": {},
     "output_type": "execute_result"
    }
   ],
   "source": [
    "result_4.deviance"
   ]
  },
  {
   "cell_type": "code",
   "execution_count": 41,
   "metadata": {},
   "outputs": [
    {
     "data": {
      "text/plain": [
       "3612.208700639955"
      ]
     },
     "execution_count": 41,
     "metadata": {},
     "output_type": "execute_result"
    }
   ],
   "source": [
    "result_4.null_deviance"
   ]
  },
  {
   "cell_type": "code",
   "execution_count": 42,
   "metadata": {},
   "outputs": [
    {
     "data": {
      "text/plain": [
       "3235.01555682373"
      ]
     },
     "execution_count": 42,
     "metadata": {},
     "output_type": "execute_result"
    }
   ],
   "source": [
    "result_4.aic"
   ]
  },
  {
   "cell_type": "code",
   "execution_count": 43,
   "metadata": {},
   "outputs": [
    {
     "data": {
      "text/plain": [
       "diaBP                   6.187779e-01\n",
       "diabetes[T.1]           4.926887e-01\n",
       "BPMeds[T.1.0]           2.568125e-01\n",
       "totChol                 7.783151e-02\n",
       "prevalentHyp[T.1]       7.060820e-02\n",
       "prevalentStroke[T.1]    2.736099e-02\n",
       "glucose                 1.997215e-03\n",
       "sysBP                   5.845378e-05\n",
       "male[T.1]               2.099953e-07\n",
       "cigsPerDay              5.543005e-08\n",
       "age                     3.141547e-24\n",
       "Intercept               7.113616e-49\n",
       "dtype: float64"
      ]
     },
     "execution_count": 43,
     "metadata": {},
     "output_type": "execute_result"
    }
   ],
   "source": [
    "result_4.pvalues.sort_values(ascending=False)"
   ]
  },
  {
   "cell_type": "code",
   "execution_count": 44,
   "metadata": {},
   "outputs": [
    {
     "name": "stdout",
     "output_type": "stream",
     "text": [
      "                 Generalized Linear Model Regression Results                  \n",
      "==============================================================================\n",
      "Dep. Variable:             TenYearCHD   No. Observations:                 4240\n",
      "Model:                            GLM   Df Residuals:                     4229\n",
      "Model Family:                Binomial   Df Model:                           10\n",
      "Link Function:                  logit   Scale:                          1.0000\n",
      "Method:                          IRLS   Log-Likelihood:                -1605.6\n",
      "Date:                Mon, 23 Mar 2020   Deviance:                       3211.3\n",
      "Time:                        19:11:11   Pearson chi2:                 4.22e+03\n",
      "No. Iterations:                     6                                         \n",
      "Covariance Type:            nonrobust                                         \n",
      "========================================================================================\n",
      "                           coef    std err          z      P>|z|      [0.025      0.975]\n",
      "----------------------------------------------------------------------------------------\n",
      "Intercept               -8.2947      0.498    -16.658      0.000      -9.271      -7.319\n",
      "male[T.1]                0.5088      0.098      5.171      0.000       0.316       0.702\n",
      "BPMeds[T.1.0]            0.2502      0.220      1.139      0.255      -0.180       0.681\n",
      "prevalentStroke[T.1]     0.9702      0.440      2.203      0.028       0.107       1.833\n",
      "prevalentHyp[T.1]        0.2213      0.126      1.752      0.080      -0.026       0.469\n",
      "diabetes[T.1]            0.2047      0.293      0.699      0.485      -0.370       0.779\n",
      "age                      0.0631      0.006     10.545      0.000       0.051       0.075\n",
      "cigsPerDay               0.0211      0.004      5.463      0.000       0.014       0.029\n",
      "totChol                  0.0018      0.001      1.762      0.078      -0.000       0.004\n",
      "sysBP                    0.0130      0.003      4.851      0.000       0.008       0.018\n",
      "glucose                  0.0066      0.002      3.106      0.002       0.002       0.011\n",
      "========================================================================================\n"
     ]
    }
   ],
   "source": [
    "model_5 = sfa.glm(formula = 'TenYearCHD~male+age+cigsPerDay+BPMeds+prevalentStroke+' + \n",
    "                'prevalentHyp+diabetes+totChol+sysBP+glucose',\n",
    "                data = fram_data_3, family = sa.families.Binomial())\n",
    "result_5 = model_5.fit()\n",
    "print(result_5.summary())"
   ]
  },
  {
   "cell_type": "code",
   "execution_count": 45,
   "metadata": {},
   "outputs": [
    {
     "data": {
      "text/plain": [
       "3233.26288128837"
      ]
     },
     "execution_count": 45,
     "metadata": {},
     "output_type": "execute_result"
    }
   ],
   "source": [
    "result_5.aic"
   ]
  },
  {
   "cell_type": "code",
   "execution_count": 46,
   "metadata": {},
   "outputs": [
    {
     "data": {
      "text/plain": [
       "diabetes[T.1]           4.847329e-01\n",
       "BPMeds[T.1.0]           2.545426e-01\n",
       "prevalentHyp[T.1]       7.976627e-02\n",
       "totChol                 7.808652e-02\n",
       "prevalentStroke[T.1]    2.756557e-02\n",
       "glucose                 1.897388e-03\n",
       "sysBP                   1.227974e-06\n",
       "male[T.1]               2.324492e-07\n",
       "cigsPerDay              4.687566e-08\n",
       "age                     5.340428e-26\n",
       "Intercept               2.663553e-62\n",
       "dtype: float64"
      ]
     },
     "execution_count": 46,
     "metadata": {},
     "output_type": "execute_result"
    }
   ],
   "source": [
    "result_5.pvalues.sort_values(ascending=False)"
   ]
  },
  {
   "cell_type": "code",
   "execution_count": 47,
   "metadata": {},
   "outputs": [
    {
     "data": {
      "text/plain": [
       "Index(['male', 'age', 'education', 'currentSmoker', 'cigsPerDay', 'BPMeds',\n",
       "       'prevalentStroke', 'prevalentHyp', 'diabetes', 'totChol', 'sysBP',\n",
       "       'diaBP', 'BMI', 'heartRate', 'glucose', 'TenYearCHD'],\n",
       "      dtype='object')"
      ]
     },
     "execution_count": 47,
     "metadata": {},
     "output_type": "execute_result"
    }
   ],
   "source": [
    "# currentSmoker[T.1]      8.714889e-01\n",
    "# education[T.4.0]        8.500615e-01\n",
    "# heartRate               7.580784e-01\n",
    "# diaBP                   6.310799e-01\n",
    "# diabetes[T.1]           5.323856e-01\n",
    "fram_data.columns"
   ]
  },
  {
   "cell_type": "code",
   "execution_count": 48,
   "metadata": {},
   "outputs": [],
   "source": [
    "fram_data_final = fram_data.drop(['BMI', 'education', 'currentSmoker', 'heartRate', 'diaBP' ], axis = 1)"
   ]
  },
  {
   "cell_type": "code",
   "execution_count": 49,
   "metadata": {},
   "outputs": [
    {
     "data": {
      "text/html": [
       "<div>\n",
       "<style scoped>\n",
       "    .dataframe tbody tr th:only-of-type {\n",
       "        vertical-align: middle;\n",
       "    }\n",
       "\n",
       "    .dataframe tbody tr th {\n",
       "        vertical-align: top;\n",
       "    }\n",
       "\n",
       "    .dataframe thead th {\n",
       "        text-align: right;\n",
       "    }\n",
       "</style>\n",
       "<table border=\"1\" class=\"dataframe\">\n",
       "  <thead>\n",
       "    <tr style=\"text-align: right;\">\n",
       "      <th></th>\n",
       "      <th>male</th>\n",
       "      <th>age</th>\n",
       "      <th>cigsPerDay</th>\n",
       "      <th>BPMeds</th>\n",
       "      <th>prevalentStroke</th>\n",
       "      <th>prevalentHyp</th>\n",
       "      <th>diabetes</th>\n",
       "      <th>totChol</th>\n",
       "      <th>sysBP</th>\n",
       "      <th>glucose</th>\n",
       "      <th>TenYearCHD</th>\n",
       "    </tr>\n",
       "  </thead>\n",
       "  <tbody>\n",
       "    <tr>\n",
       "      <td>0</td>\n",
       "      <td>1</td>\n",
       "      <td>39</td>\n",
       "      <td>0</td>\n",
       "      <td>0</td>\n",
       "      <td>0</td>\n",
       "      <td>0</td>\n",
       "      <td>0</td>\n",
       "      <td>195</td>\n",
       "      <td>106.0</td>\n",
       "      <td>77</td>\n",
       "      <td>0</td>\n",
       "    </tr>\n",
       "    <tr>\n",
       "      <td>1</td>\n",
       "      <td>0</td>\n",
       "      <td>46</td>\n",
       "      <td>0</td>\n",
       "      <td>0</td>\n",
       "      <td>0</td>\n",
       "      <td>0</td>\n",
       "      <td>0</td>\n",
       "      <td>250</td>\n",
       "      <td>121.0</td>\n",
       "      <td>76</td>\n",
       "      <td>0</td>\n",
       "    </tr>\n",
       "    <tr>\n",
       "      <td>2</td>\n",
       "      <td>1</td>\n",
       "      <td>48</td>\n",
       "      <td>20</td>\n",
       "      <td>0</td>\n",
       "      <td>0</td>\n",
       "      <td>0</td>\n",
       "      <td>0</td>\n",
       "      <td>245</td>\n",
       "      <td>127.5</td>\n",
       "      <td>70</td>\n",
       "      <td>0</td>\n",
       "    </tr>\n",
       "    <tr>\n",
       "      <td>3</td>\n",
       "      <td>0</td>\n",
       "      <td>61</td>\n",
       "      <td>30</td>\n",
       "      <td>0</td>\n",
       "      <td>0</td>\n",
       "      <td>1</td>\n",
       "      <td>0</td>\n",
       "      <td>225</td>\n",
       "      <td>150.0</td>\n",
       "      <td>103</td>\n",
       "      <td>1</td>\n",
       "    </tr>\n",
       "    <tr>\n",
       "      <td>4</td>\n",
       "      <td>0</td>\n",
       "      <td>46</td>\n",
       "      <td>23</td>\n",
       "      <td>0</td>\n",
       "      <td>0</td>\n",
       "      <td>0</td>\n",
       "      <td>0</td>\n",
       "      <td>285</td>\n",
       "      <td>130.0</td>\n",
       "      <td>85</td>\n",
       "      <td>0</td>\n",
       "    </tr>\n",
       "  </tbody>\n",
       "</table>\n",
       "</div>"
      ],
      "text/plain": [
       "  male  age  cigsPerDay BPMeds prevalentStroke prevalentHyp diabetes  totChol  \\\n",
       "0    1   39           0      0               0            0        0      195   \n",
       "1    0   46           0      0               0            0        0      250   \n",
       "2    1   48          20      0               0            0        0      245   \n",
       "3    0   61          30      0               0            1        0      225   \n",
       "4    0   46          23      0               0            0        0      285   \n",
       "\n",
       "   sysBP  glucose  TenYearCHD  \n",
       "0  106.0       77           0  \n",
       "1  121.0       76           0  \n",
       "2  127.5       70           0  \n",
       "3  150.0      103           1  \n",
       "4  130.0       85           0  "
      ]
     },
     "execution_count": 49,
     "metadata": {},
     "output_type": "execute_result"
    }
   ],
   "source": [
    "fram_data_final.head()"
   ]
  },
  {
   "cell_type": "code",
   "execution_count": 50,
   "metadata": {},
   "outputs": [],
   "source": [
    "# importing moduels\n",
    "from sklearn.model_selection import train_test_split\n",
    "from sklearn.linear_model import LogisticRegression\n",
    "from sklearn.metrics import accuracy_score, auc, confusion_matrix, roc_auc_score, roc_curve, recall_score"
   ]
  },
  {
   "cell_type": "code",
   "execution_count": 51,
   "metadata": {},
   "outputs": [
    {
     "data": {
      "text/html": [
       "<div>\n",
       "<style scoped>\n",
       "    .dataframe tbody tr th:only-of-type {\n",
       "        vertical-align: middle;\n",
       "    }\n",
       "\n",
       "    .dataframe tbody tr th {\n",
       "        vertical-align: top;\n",
       "    }\n",
       "\n",
       "    .dataframe thead th {\n",
       "        text-align: right;\n",
       "    }\n",
       "</style>\n",
       "<table border=\"1\" class=\"dataframe\">\n",
       "  <thead>\n",
       "    <tr style=\"text-align: right;\">\n",
       "      <th></th>\n",
       "      <th>male</th>\n",
       "      <th>age</th>\n",
       "      <th>cigsPerDay</th>\n",
       "      <th>BPMeds</th>\n",
       "      <th>prevalentStroke</th>\n",
       "      <th>prevalentHyp</th>\n",
       "      <th>diabetes</th>\n",
       "      <th>totChol</th>\n",
       "      <th>sysBP</th>\n",
       "      <th>glucose</th>\n",
       "    </tr>\n",
       "  </thead>\n",
       "  <tbody>\n",
       "    <tr>\n",
       "      <td>0</td>\n",
       "      <td>1</td>\n",
       "      <td>39</td>\n",
       "      <td>0</td>\n",
       "      <td>0</td>\n",
       "      <td>0</td>\n",
       "      <td>0</td>\n",
       "      <td>0</td>\n",
       "      <td>195</td>\n",
       "      <td>106.0</td>\n",
       "      <td>77</td>\n",
       "    </tr>\n",
       "    <tr>\n",
       "      <td>1</td>\n",
       "      <td>0</td>\n",
       "      <td>46</td>\n",
       "      <td>0</td>\n",
       "      <td>0</td>\n",
       "      <td>0</td>\n",
       "      <td>0</td>\n",
       "      <td>0</td>\n",
       "      <td>250</td>\n",
       "      <td>121.0</td>\n",
       "      <td>76</td>\n",
       "    </tr>\n",
       "    <tr>\n",
       "      <td>2</td>\n",
       "      <td>1</td>\n",
       "      <td>48</td>\n",
       "      <td>20</td>\n",
       "      <td>0</td>\n",
       "      <td>0</td>\n",
       "      <td>0</td>\n",
       "      <td>0</td>\n",
       "      <td>245</td>\n",
       "      <td>127.5</td>\n",
       "      <td>70</td>\n",
       "    </tr>\n",
       "    <tr>\n",
       "      <td>3</td>\n",
       "      <td>0</td>\n",
       "      <td>61</td>\n",
       "      <td>30</td>\n",
       "      <td>0</td>\n",
       "      <td>0</td>\n",
       "      <td>1</td>\n",
       "      <td>0</td>\n",
       "      <td>225</td>\n",
       "      <td>150.0</td>\n",
       "      <td>103</td>\n",
       "    </tr>\n",
       "    <tr>\n",
       "      <td>4</td>\n",
       "      <td>0</td>\n",
       "      <td>46</td>\n",
       "      <td>23</td>\n",
       "      <td>0</td>\n",
       "      <td>0</td>\n",
       "      <td>0</td>\n",
       "      <td>0</td>\n",
       "      <td>285</td>\n",
       "      <td>130.0</td>\n",
       "      <td>85</td>\n",
       "    </tr>\n",
       "  </tbody>\n",
       "</table>\n",
       "</div>"
      ],
      "text/plain": [
       "  male  age  cigsPerDay BPMeds prevalentStroke prevalentHyp diabetes  totChol  \\\n",
       "0    1   39           0      0               0            0        0      195   \n",
       "1    0   46           0      0               0            0        0      250   \n",
       "2    1   48          20      0               0            0        0      245   \n",
       "3    0   61          30      0               0            1        0      225   \n",
       "4    0   46          23      0               0            0        0      285   \n",
       "\n",
       "   sysBP  glucose  \n",
       "0  106.0       77  \n",
       "1  121.0       76  \n",
       "2  127.5       70  \n",
       "3  150.0      103  \n",
       "4  130.0       85  "
      ]
     },
     "execution_count": 51,
     "metadata": {},
     "output_type": "execute_result"
    }
   ],
   "source": [
    "x = fram_data_final.drop('TenYearCHD', axis = 1)\n",
    "y = fram_data_final.TenYearCHD\n",
    "x.head()"
   ]
  },
  {
   "cell_type": "code",
   "execution_count": 52,
   "metadata": {},
   "outputs": [
    {
     "data": {
      "text/plain": [
       "0    0\n",
       "1    0\n",
       "2    0\n",
       "3    1\n",
       "4    0\n",
       "Name: TenYearCHD, dtype: int64"
      ]
     },
     "execution_count": 52,
     "metadata": {},
     "output_type": "execute_result"
    }
   ],
   "source": [
    "y.head()"
   ]
  },
  {
   "cell_type": "code",
   "execution_count": 53,
   "metadata": {},
   "outputs": [
    {
     "name": "stdout",
     "output_type": "stream",
     "text": [
      "(2968, 10) (1272, 10) (2968,) (1272,)\n"
     ]
    }
   ],
   "source": [
    "# Train Split\n",
    "from sklearn.model_selection import train_test_split\n",
    "# Lets use train_test_split to split X and y into train and test \n",
    "x_train, x_test, y_train, y_test = train_test_split(x, y, test_size = 0.3, random_state = 100)\n",
    "print(x_train.shape, x_test.shape, y_train.shape, y_test.shape)"
   ]
  },
  {
   "cell_type": "code",
   "execution_count": 54,
   "metadata": {},
   "outputs": [
    {
     "name": "stdout",
     "output_type": "stream",
     "text": [
      "Model Accuracy on Train:  0.8500673854447439\n",
      "Model Accuracy on Test:  0.8616352201257862\n"
     ]
    },
    {
     "name": "stderr",
     "output_type": "stream",
     "text": [
      "C:\\Anaconda3\\lib\\site-packages\\sklearn\\linear_model\\logistic.py:432: FutureWarning: Default solver will be changed to 'lbfgs' in 0.22. Specify a solver to silence this warning.\n",
      "  FutureWarning)\n"
     ]
    }
   ],
   "source": [
    "# fit the model on the train data\n",
    "log_reg = LogisticRegression().fit(x_train, y_train)\n",
    "\n",
    "# predict on train\n",
    "train_preds = log_reg.predict(x_train)\n",
    "\n",
    "# accuracy on train\n",
    "print('Model Accuracy on Train: ', accuracy_score(y_train, train_preds))\n",
    "\n",
    "# prediction on test\n",
    "test_preds = log_reg.predict(x_test)\n",
    "print('Model Accuracy on Test: ', accuracy_score(y_test, test_preds))\n"
   ]
  },
  {
   "cell_type": "code",
   "execution_count": 55,
   "metadata": {},
   "outputs": [
    {
     "name": "stdout",
     "output_type": "stream",
     "text": [
      "ROC Score on train:  0.5286440375596518\n",
      "ROC Score on Test:  0.5173777293921903\n"
     ]
    }
   ],
   "source": [
    "# ROC\n",
    "print('ROC Score on train: ', roc_auc_score(y_train, train_preds))\n",
    "print('ROC Score on Test: ', roc_auc_score(y_test, test_preds))\n",
    "\n"
   ]
  },
  {
   "cell_type": "code",
   "execution_count": 56,
   "metadata": {},
   "outputs": [
    {
     "name": "stdout",
     "output_type": "stream",
     "text": [
      "Confusion Matrix on Train:\n",
      "[[2495    7]\n",
      " [ 438   28]]\n",
      "Confusion Matrix on  Test:\n",
      "[[1089    5]\n",
      " [ 171    7]]\n"
     ]
    }
   ],
   "source": [
    "# Confusion Matrix\n",
    "print('Confusion Matrix on Train:')\n",
    "print(confusion_matrix(y_train, train_preds))\n",
    "\n",
    "print('Confusion Matrix on  Test:')\n",
    "print(confusion_matrix(y_test, test_preds))"
   ]
  },
  {
   "cell_type": "code",
   "execution_count": 75,
   "metadata": {},
   "outputs": [
    {
     "data": {
      "image/png": "[encoded data removed]",
      "text/plain": [
       "<Figure size 1152x648 with 1 Axes>"
      ]
     },
     "metadata": {
      "needs_background": "light"
     },
     "output_type": "display_data"
    }
   ],
   "source": [
    "import scikitplot as skplt\n",
    "import matplotlib.pyplot as plt\n",
    "\n",
    "skplt.metrics.plot_roc(y_test, log_reg.predict_proba(x_test), figsize = (16,9))\n",
    "plt.show()"
   ]
  },
  {
   "cell_type": "code",
   "execution_count": null,
   "metadata": {},
   "outputs": [],
   "source": []
  }
 ],
 "metadata": {
  "kernelspec": {
   "display_name": "Python 3",
   "language": "python",
   "name": "python3"
  },
  "language_info": {
   "codemirror_mode": {
    "name": "ipython",
    "version": 3
   },
   "file_extension": ".py",
   "mimetype": "text/x-python",
   "name": "python",
   "nbconvert_exporter": "python",
   "pygments_lexer": "ipython3",
   "version": "3.7.4"
  }
 },
 "nbformat": 4,
 "nbformat_minor": 2
}
