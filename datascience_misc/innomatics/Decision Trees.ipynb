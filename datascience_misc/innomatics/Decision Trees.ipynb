{
 "cells": [
  {
   "cell_type": "code",
   "execution_count": 38,
   "metadata": {},
   "outputs": [],
   "source": [
    "import math\n",
    "\n",
    "def find_entrophy(*args):\n",
    "    sum = 0\n",
    "    for i in range(len(args)):\n",
    "        sum -= round(args[i] * math.log(args[i], 2), 3)\n",
    "    return sum"
   ]
  },
  {
   "cell_type": "code",
   "execution_count": 39,
   "metadata": {},
   "outputs": [
    {
     "data": {
      "text/plain": [
       "1.0"
      ]
     },
     "execution_count": 39,
     "metadata": {},
     "output_type": "execute_result"
    }
   ],
   "source": [
    "find_entrophy(1/2, 1/2)"
   ]
  },
  {
   "cell_type": "code",
   "execution_count": 40,
   "metadata": {},
   "outputs": [
    {
     "data": {
      "text/plain": [
       "1.0"
      ]
     },
     "execution_count": 40,
     "metadata": {},
     "output_type": "execute_result"
    }
   ],
   "source": [
    "find_entrophy(2/4, 2/4)"
   ]
  },
  {
   "cell_type": "code",
   "execution_count": 41,
   "metadata": {},
   "outputs": [
    {
     "name": "stdout",
     "output_type": "stream",
     "text": [
      "entr_temp_hot:  1.0\n",
      "entr_temp_mild:  0.918\n",
      "entr_temp_cold:  0.8109999999999999\n"
     ]
    }
   ],
   "source": [
    "entr_temp_hot = find_entrophy(2/4, 2/4)\n",
    "entr_temp_mild = find_entrophy(4/6, 2/6)\n",
    "entr_temp_cold = find_entrophy(3/4, 1/4)\n",
    "print(\"entr_temp_hot: \",  entr_temp_hot )\n",
    "print(\"entr_temp_mild: \", entr_temp_mild) \n",
    "print(\"entr_temp_cold: \", entr_temp_cold)"
   ]
  },
  {
   "cell_type": "code",
   "execution_count": 42,
   "metadata": {},
   "outputs": [
    {
     "name": "stdout",
     "output_type": "stream",
     "text": [
      "infogain_temp_hot  :  0.286\n",
      "infogain_temp_mild :  0.393\n",
      "infogain_temp_cold :  0.232\n"
     ]
    }
   ],
   "source": [
    "infogain_temp_hot = round( 4 / 14 * entr_temp_hot,3)\n",
    "infogain_temp_mild =round( 6 / 14 * entr_temp_mild,3)\n",
    "infogain_temp_cold =round( 4 / 14 * entr_temp_cold,3)\n",
    "\n",
    "print(\"infogain_temp_hot  : \", infogain_temp_hot )\n",
    "print(\"infogain_temp_mild : \", infogain_temp_mild)\n",
    "print(\"infogain_temp_cold : \", infogain_temp_cold)\n"
   ]
  },
  {
   "cell_type": "code",
   "execution_count": 48,
   "metadata": {},
   "outputs": [
    {
     "name": "stdout",
     "output_type": "stream",
     "text": [
      "Overall Gain: 0.9410000000000001\n"
     ]
    }
   ],
   "source": [
    "n_yes = 9 / 14\n",
    "n_no = 5 / 14\n",
    "\n",
    "overall_gain = find_entrophy(9 / 14, 5 / 14)\n",
    "print('Overall Gain:', overall_gain)\n",
    "infogain_temp = round(overall_gain - ( infogain_temp_hot  + infogain_temp_mild + infogain_temp_cool), 3)"
   ]
  },
  {
   "cell_type": "code",
   "execution_count": 49,
   "metadata": {},
   "outputs": [
    {
     "name": "stdout",
     "output_type": "stream",
     "text": [
      "0.03\n"
     ]
    }
   ],
   "source": [
    "print(infogain_temp)"
   ]
  },
  {
   "cell_type": "code",
   "execution_count": null,
   "metadata": {},
   "outputs": [],
   "source": [
    "# Gain Ratio\n",
    "# Denominator\n"
   ]
  }
 ],
 "metadata": {
  "kernelspec": {
   "display_name": "Python 3",
   "language": "python",
   "name": "python3"
  },
  "language_info": {
   "codemirror_mode": {
    "name": "ipython",
    "version": 3
   },
   "file_extension": ".py",
   "mimetype": "text/x-python",
   "name": "python",
   "nbconvert_exporter": "python",
   "pygments_lexer": "ipython3",
   "version": "3.7.4"
  }
 },
 "nbformat": 4,
 "nbformat_minor": 2
}
