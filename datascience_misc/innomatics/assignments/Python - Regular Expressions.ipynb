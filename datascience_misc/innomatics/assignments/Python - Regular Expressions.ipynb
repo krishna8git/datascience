{
 "cells": [
  {
   "cell_type": "code",
   "execution_count": 49,
   "metadata": {},
   "outputs": [],
   "source": [
    "import re"
   ]
  },
  {
   "cell_type": "code",
   "execution_count": 50,
   "metadata": {},
   "outputs": [
    {
     "data": {
      "text/plain": [
       "'And there came a day, a day unlike any other, when Earth\\'s\\n          mightiest heroes and heroines found themselves united against a\\n          common threat. On that day, the Avengers were born--to fight the\\n          foes no single superhero could withstand! Through the years,\\n          their roster has prospered, changing many times, but their glory\\n          has never been denied! Heed the call, then--for now, the Avengers\\n          Assemble!\"\\n\\n          BURNING BLUE FLAMES. A smoky cube shape emerges - THE TESSERACT.\\n          Filling the screen with BLACKNESS.\\n\\n                          CUT TO:\\n\\n          EXT. THRONE ROOM, SPACE \\xad NIGHT\\n\\n          Kneeling behind a THRONE, a CLOTHED, ARMORED FIGURE known as THE\\n          OTHER, bows.\\n\\n           THE OTHER (V.O.)\\n           The Tesseract has awakened. It is on a\\n           little world. A human world. They would\\n           wield its power,...\\n\\n                          CUT TO:\\n          THE OTHER faces a HORNED SHAPED SHADOW. LOKI. Loki is handed the\\n          CHITAURI SCEPTER, a long golden handle, fitted with a blue gem\\n          encircled with silver blades.\\n\\n           THE OTHER (V.O.)\\n           But our ally knows its workings as they\\n           never will. He is ready to lead. And\\n           our force, our Chitauri, will follow.\\n\\n          HIGH WIDE ON: TENS OF THOUSANDS of CHITAURI stand ready in a\\n          seething mass of neat rows and columns....the ground simply\\n\\n          QUAKES.'"
      ]
     },
     "execution_count": 50,
     "metadata": {},
     "output_type": "execute_result"
    }
   ],
   "source": [
    "text = '''And there came a day, a day unlike any other, when Earth's\n",
    "          mightiest heroes and heroines found themselves united against a\n",
    "          common threat. On that day, the Avengers were born--to fight the\n",
    "          foes no single superhero could withstand! Through the years,\n",
    "          their roster has prospered, changing many times, but their glory\n",
    "          has never been denied! Heed the call, then--for now, the Avengers\n",
    "          Assemble!\"\n",
    "\n",
    "          BURNING BLUE FLAMES. A smoky cube shape emerges - THE TESSERACT.\n",
    "          Filling the screen with BLACKNESS.\n",
    "\n",
    "                          CUT TO:\n",
    "\n",
    "          EXT. THRONE ROOM, SPACE ­ NIGHT\n",
    "\n",
    "          Kneeling behind a THRONE, a CLOTHED, ARMORED FIGURE known as THE\n",
    "          OTHER, bows.\n",
    "\n",
    "           THE OTHER (V.O.)\n",
    "           The Tesseract has awakened. It is on a\n",
    "           little world. A human world. They would\n",
    "           wield its power,...\n",
    "\n",
    "                          CUT TO:\n",
    "          THE OTHER faces a HORNED SHAPED SHADOW. LOKI. Loki is handed the\n",
    "          CHITAURI SCEPTER, a long golden handle, fitted with a blue gem\n",
    "          encircled with silver blades.\n",
    "\n",
    "           THE OTHER (V.O.)\n",
    "           But our ally knows its workings as they\n",
    "           never will. He is ready to lead. And\n",
    "           our force, our Chitauri, will follow.\n",
    "\n",
    "          HIGH WIDE ON: TENS OF THOUSANDS of CHITAURI stand ready in a\n",
    "          seething mass of neat rows and columns....the ground simply\n",
    "\n",
    "          QUAKES.'''\n",
    "text"
   ]
  },
  {
   "cell_type": "markdown",
   "metadata": {},
   "source": [
    "# Built in Functions"
   ]
  },
  {
   "cell_type": "markdown",
   "metadata": {},
   "source": [
    "## match"
   ]
  },
  {
   "cell_type": "code",
   "execution_count": 51,
   "metadata": {},
   "outputs": [],
   "source": [
    "result = re.match(r'and',text)"
   ]
  },
  {
   "cell_type": "code",
   "execution_count": 52,
   "metadata": {},
   "outputs": [
    {
     "name": "stdout",
     "output_type": "stream",
     "text": [
      "None\n"
     ]
    }
   ],
   "source": [
    "print(result)"
   ]
  },
  {
   "cell_type": "markdown",
   "metadata": {},
   "source": [
    "## search\n",
    "search gives the first occurence that matches the pattern."
   ]
  },
  {
   "cell_type": "code",
   "execution_count": 53,
   "metadata": {},
   "outputs": [
    {
     "name": "stdout",
     "output_type": "stream",
     "text": [
      "<class 're.Match'>\n"
     ]
    },
    {
     "data": {
      "text/plain": [
       "'LOKI'"
      ]
     },
     "execution_count": 53,
     "metadata": {},
     "output_type": "execute_result"
    }
   ],
   "source": [
    "result = re.search(r'LOKI', text)\n",
    "print(type(result))\n",
    "result.group()"
   ]
  },
  {
   "cell_type": "code",
   "execution_count": 54,
   "metadata": {},
   "outputs": [
    {
     "data": {
      "text/plain": [
       "['the',\n",
       " 'the',\n",
       " 'the',\n",
       " 'the',\n",
       " 'the',\n",
       " 'the',\n",
       " 'the',\n",
       " 'the',\n",
       " 'the',\n",
       " 'the',\n",
       " 'the',\n",
       " 'the',\n",
       " 'the',\n",
       " 'the',\n",
       " 'the']"
      ]
     },
     "execution_count": 54,
     "metadata": {},
     "output_type": "execute_result"
    }
   ],
   "source": [
    "result = re.findall(r'the', text)\n",
    "result"
   ]
  },
  {
   "cell_type": "code",
   "execution_count": 55,
   "metadata": {},
   "outputs": [
    {
     "data": {
      "text/plain": [
       "27"
      ]
     },
     "execution_count": 55,
     "metadata": {},
     "output_type": "execute_result"
    }
   ],
   "source": [
    "result = re.findall(r'the', text, flags = 3)\n",
    "len(result)"
   ]
  },
  {
   "cell_type": "markdown",
   "metadata": {},
   "source": [
    "# split"
   ]
  },
  {
   "cell_type": "code",
   "execution_count": 56,
   "metadata": {},
   "outputs": [
    {
     "data": {
      "text/plain": [
       "['And ',\n",
       " 're came a day, a day unlike any o',\n",
       " \"r, when Earth's\\n          mightiest heroes and heroines found \",\n",
       " 'mselves united against a\\n          common threat. On that day, ',\n",
       " ' Avengers were born--to fight ',\n",
       " '\\n          foes no single superhero could withstand! Through ',\n",
       " ' years,\\n          ',\n",
       " 'ir roster has prospered, changing many times, but ',\n",
       " 'ir glory\\n          has never been denied! Heed ',\n",
       " ' call, ',\n",
       " 'n--for now, ',\n",
       " ' Avengers\\n          Assemble!\"\\n\\n          BURNING BLUE FLAMES. A smoky cube shape emerges - THE TESSERACT.\\n          Filling ',\n",
       " ' screen with BLACKNESS.\\n\\n                          CUT TO:\\n\\n          EXT. THRONE ROOM, SPACE \\xad NIGHT\\n\\n          Kneeling behind a THRONE, a CLOTHED, ARMORED FIGURE known as THE\\n          OTHER, bows.\\n\\n           THE OTHER (V.O.)\\n           The Tesseract has awakened. It is on a\\n           little world. A human world. They would\\n           wield its power,...\\n\\n                          CUT TO:\\n          THE OTHER faces a HORNED SHAPED SHADOW. LOKI. Loki is handed ',\n",
       " '\\n          CHITAURI SCEPTER, a long golden handle, fitted with a blue gem\\n          encircled with silver blades.\\n\\n           THE OTHER (V.O.)\\n           But our ally knows its workings as ',\n",
       " 'y\\n           never will. He is ready to lead. And\\n           our force, our Chitauri, will follow.\\n\\n          HIGH WIDE ON: TENS OF THOUSANDS of CHITAURI stand ready in a\\n          seething mass of neat rows and columns....',\n",
       " ' ground simply\\n\\n          QUAKES.']"
      ]
     },
     "execution_count": 56,
     "metadata": {},
     "output_type": "execute_result"
    }
   ],
   "source": [
    "result = re.split(r'the', text)\n",
    "result"
   ]
  },
  {
   "cell_type": "code",
   "execution_count": 57,
   "metadata": {},
   "outputs": [
    {
     "data": {
      "text/plain": [
       "['And ',\n",
       " 're came a day, a day unlike any o',\n",
       " \"r, when Earth's\\n          mightiest heroes and heroines found \",\n",
       " 'mselves united against a\\n          common threat. On that day, the Avengers were born--to fight the\\n          foes no single superhero could withstand! Through the years,\\n          their roster has prospered, changing many times, but their glory\\n          has never been denied! Heed the call, then--for now, the Avengers\\n          Assemble!\"\\n\\n          BURNING BLUE FLAMES. A smoky cube shape emerges - THE TESSERACT.\\n          Filling the screen with BLACKNESS.\\n\\n                          CUT TO:\\n\\n          EXT. THRONE ROOM, SPACE \\xad NIGHT\\n\\n          Kneeling behind a THRONE, a CLOTHED, ARMORED FIGURE known as THE\\n          OTHER, bows.\\n\\n           THE OTHER (V.O.)\\n           The Tesseract has awakened. It is on a\\n           little world. A human world. They would\\n           wield its power,...\\n\\n                          CUT TO:\\n          THE OTHER faces a HORNED SHAPED SHADOW. LOKI. Loki is handed the\\n          CHITAURI SCEPTER, a long golden handle, fitted with a blue gem\\n          encircled with silver blades.\\n\\n           THE OTHER (V.O.)\\n           But our ally knows its workings as they\\n           never will. He is ready to lead. And\\n           our force, our Chitauri, will follow.\\n\\n          HIGH WIDE ON: TENS OF THOUSANDS of CHITAURI stand ready in a\\n          seething mass of neat rows and columns....the ground simply\\n\\n          QUAKES.']"
      ]
     },
     "execution_count": 57,
     "metadata": {},
     "output_type": "execute_result"
    }
   ],
   "source": [
    "result = re.split(r'the', text, maxsplit=3)\n",
    "result"
   ]
  },
  {
   "cell_type": "markdown",
   "metadata": {},
   "source": [
    "# sub"
   ]
  },
  {
   "cell_type": "code",
   "execution_count": 58,
   "metadata": {},
   "outputs": [
    {
     "data": {
      "text/plain": [
       "'And ============re came a day, a day unlike any o============r, when Earth\\'s\\n          mightiest heroes and heroines found ============mselves united against a\\n          common threat. On that day, ============ Avengers were born--to fight ============\\n          foes no single superhero could withstand! Through ============ years,\\n          ============ir roster has prospered, changing many times, but ============ir glory\\n          has never been denied! Heed ============ call, ============n--for now, ============ Avengers\\n          Assemble!\"\\n\\n          BURNING BLUE FLAMES. A smoky cube shape emerges - THE TESSERACT.\\n          Filling ============ screen with BLACKNESS.\\n\\n                          CUT TO:\\n\\n          EXT. THRONE ROOM, SPACE \\xad NIGHT\\n\\n          Kneeling behind a THRONE, a CLOTHED, ARMORED FIGURE known as THE\\n          OTHER, bows.\\n\\n           THE OTHER (V.O.)\\n           The Tesseract has awakened. It is on a\\n           little world. A human world. They would\\n           wield its power,...\\n\\n                          CUT TO:\\n          THE OTHER faces a HORNED SHAPED SHADOW. LOKI. Loki is handed ============\\n          CHITAURI SCEPTER, a long golden handle, fitted with a blue gem\\n          encircled with silver blades.\\n\\n           THE OTHER (V.O.)\\n           But our ally knows its workings as ============y\\n           never will. He is ready to lead. And\\n           our force, our Chitauri, will follow.\\n\\n          HIGH WIDE ON: TENS OF THOUSANDS of CHITAURI stand ready in a\\n          seething mass of neat rows and columns....============ ground simply\\n\\n          QUAKES.'"
      ]
     },
     "execution_count": 58,
     "metadata": {},
     "output_type": "execute_result"
    }
   ],
   "source": [
    "# substitute the pattern with the replacing string.\n",
    "result = re.sub(r'the', '============', text)\n",
    "result"
   ]
  },
  {
   "cell_type": "code",
   "execution_count": 59,
   "metadata": {},
   "outputs": [
    {
     "data": {
      "text/plain": [
       "'And ==================re came a day, a day unlike any o==================r, when Earth\\'s\\n          mightiest heroes and heroines found ==================mselves united against a\\n          common threat. On that day, the Avengers were born--to fight the\\n          foes no single superhero could withstand! Through the years,\\n          their roster has prospered, changing many times, but their glory\\n          has never been denied! Heed the call, then--for now, the Avengers\\n          Assemble!\"\\n\\n          BURNING BLUE FLAMES. A smoky cube shape emerges - THE TESSERACT.\\n          Filling the screen with BLACKNESS.\\n\\n                          CUT TO:\\n\\n          EXT. THRONE ROOM, SPACE \\xad NIGHT\\n\\n          Kneeling behind a THRONE, a CLOTHED, ARMORED FIGURE known as THE\\n          OTHER, bows.\\n\\n           THE OTHER (V.O.)\\n           The Tesseract has awakened. It is on a\\n           little world. A human world. They would\\n           wield its power,...\\n\\n                          CUT TO:\\n          THE OTHER faces a HORNED SHAPED SHADOW. LOKI. Loki is handed the\\n          CHITAURI SCEPTER, a long golden handle, fitted with a blue gem\\n          encircled with silver blades.\\n\\n           THE OTHER (V.O.)\\n           But our ally knows its workings as they\\n           never will. He is ready to lead. And\\n           our force, our Chitauri, will follow.\\n\\n          HIGH WIDE ON: TENS OF THOUSANDS of CHITAURI stand ready in a\\n          seething mass of neat rows and columns....the ground simply\\n\\n          QUAKES.'"
      ]
     },
     "execution_count": 59,
     "metadata": {},
     "output_type": "execute_result"
    }
   ],
   "source": [
    "# Use count to replace the first n occurances\n",
    "result = re.sub(r'the', '==================', text, count = 3)\n",
    "result"
   ]
  },
  {
   "cell_type": "markdown",
   "metadata": {},
   "source": [
    "# compile"
   ]
  },
  {
   "cell_type": "code",
   "execution_count": 60,
   "metadata": {},
   "outputs": [],
   "source": [
    "reuse = re.compile(r'the')"
   ]
  },
  {
   "cell_type": "code",
   "execution_count": 61,
   "metadata": {},
   "outputs": [
    {
     "data": {
      "text/plain": [
       "['the',\n",
       " 'the',\n",
       " 'the',\n",
       " 'the',\n",
       " 'the',\n",
       " 'the',\n",
       " 'the',\n",
       " 'the',\n",
       " 'the',\n",
       " 'the',\n",
       " 'the',\n",
       " 'the',\n",
       " 'the',\n",
       " 'the',\n",
       " 'the']"
      ]
     },
     "execution_count": 61,
     "metadata": {},
     "output_type": "execute_result"
    }
   ],
   "source": [
    "reuse.findall(text)"
   ]
  },
  {
   "cell_type": "code",
   "execution_count": 62,
   "metadata": {},
   "outputs": [
    {
     "data": {
      "text/plain": [
       "['And ',\n",
       " 're came a day, a day unlike any o',\n",
       " \"r, when Earth's\\n          mightiest heroes and heroines found \",\n",
       " 'mselves united against a\\n          common threat. On that day, ',\n",
       " ' Avengers were born--to fight ',\n",
       " '\\n          foes no single superhero could withstand! Through ',\n",
       " ' years,\\n          ',\n",
       " 'ir roster has prospered, changing many times, but ',\n",
       " 'ir glory\\n          has never been denied! Heed ',\n",
       " ' call, ',\n",
       " 'n--for now, ',\n",
       " ' Avengers\\n          Assemble!\"\\n\\n          BURNING BLUE FLAMES. A smoky cube shape emerges - THE TESSERACT.\\n          Filling ',\n",
       " ' screen with BLACKNESS.\\n\\n                          CUT TO:\\n\\n          EXT. THRONE ROOM, SPACE \\xad NIGHT\\n\\n          Kneeling behind a THRONE, a CLOTHED, ARMORED FIGURE known as THE\\n          OTHER, bows.\\n\\n           THE OTHER (V.O.)\\n           The Tesseract has awakened. It is on a\\n           little world. A human world. They would\\n           wield its power,...\\n\\n                          CUT TO:\\n          THE OTHER faces a HORNED SHAPED SHADOW. LOKI. Loki is handed ',\n",
       " '\\n          CHITAURI SCEPTER, a long golden handle, fitted with a blue gem\\n          encircled with silver blades.\\n\\n           THE OTHER (V.O.)\\n           But our ally knows its workings as ',\n",
       " 'y\\n           never will. He is ready to lead. And\\n           our force, our Chitauri, will follow.\\n\\n          HIGH WIDE ON: TENS OF THOUSANDS of CHITAURI stand ready in a\\n          seething mass of neat rows and columns....',\n",
       " ' ground simply\\n\\n          QUAKES.']"
      ]
     },
     "execution_count": 62,
     "metadata": {},
     "output_type": "execute_result"
    }
   ],
   "source": [
    "reuse.split(text)"
   ]
  },
  {
   "cell_type": "code",
   "execution_count": 63,
   "metadata": {},
   "outputs": [
    {
     "data": {
      "text/plain": [
       "'And ==============re came a day, a day unlike any o==============r, when Earth\\'s\\n          mightiest heroes and heroines found ==============mselves united against a\\n          common threat. On that day, ============== Avengers were born--to fight ==============\\n          foes no single superhero could withstand! Through ============== years,\\n          ==============ir roster has prospered, changing many times, but ==============ir glory\\n          has never been denied! Heed ============== call, ==============n--for now, ============== Avengers\\n          Assemble!\"\\n\\n          BURNING BLUE FLAMES. A smoky cube shape emerges - THE TESSERACT.\\n          Filling ============== screen with BLACKNESS.\\n\\n                          CUT TO:\\n\\n          EXT. THRONE ROOM, SPACE \\xad NIGHT\\n\\n          Kneeling behind a THRONE, a CLOTHED, ARMORED FIGURE known as THE\\n          OTHER, bows.\\n\\n           THE OTHER (V.O.)\\n           The Tesseract has awakened. It is on a\\n           little world. A human world. They would\\n           wield its power,...\\n\\n                          CUT TO:\\n          THE OTHER faces a HORNED SHAPED SHADOW. LOKI. Loki is handed ==============\\n          CHITAURI SCEPTER, a long golden handle, fitted with a blue gem\\n          encircled with silver blades.\\n\\n           THE OTHER (V.O.)\\n           But our ally knows its workings as ==============y\\n           never will. He is ready to lead. And\\n           our force, our Chitauri, will follow.\\n\\n          HIGH WIDE ON: TENS OF THOUSANDS of CHITAURI stand ready in a\\n          seething mass of neat rows and columns....============== ground simply\\n\\n          QUAKES.'"
      ]
     },
     "execution_count": 63,
     "metadata": {},
     "output_type": "execute_result"
    }
   ],
   "source": [
    "reuse.sub('==============', text)"
   ]
  },
  {
   "cell_type": "code",
   "execution_count": 64,
   "metadata": {},
   "outputs": [
    {
     "data": {
      "text/plain": [
       "<re.Match object; span=(4, 7), match='the'>"
      ]
     },
     "execution_count": 64,
     "metadata": {},
     "output_type": "execute_result"
    }
   ],
   "source": [
    "reuse.search(text)"
   ]
  },
  {
   "cell_type": "markdown",
   "metadata": {},
   "source": [
    "# Meta Characters\n",
    "-.^?[]{}()+*\\d\\D\\b\\s\\S\\w\\W"
   ]
  },
  {
   "cell_type": "code",
   "execution_count": 65,
   "metadata": {},
   "outputs": [
    {
     "data": {
      "text/plain": [
       "'A'"
      ]
     },
     "execution_count": 65,
     "metadata": {},
     "output_type": "execute_result"
    }
   ],
   "source": [
    "result = re.match(r'.', text)\n",
    "result.group()"
   ]
  },
  {
   "cell_type": "code",
   "execution_count": 67,
   "metadata": {
    "collapsed": true
   },
   "outputs": [
    {
     "name": "stdout",
     "output_type": "stream",
     "text": [
      "['A', 'n', 'd', ' ', 't', 'h', 'e', 'r', 'e', ' ', 'c', 'a', 'm', 'e', ' ', 'a', ' ', 'd', 'a', 'y', ',', ' ', 'a', ' ', 'd', 'a', 'y', ' ', 'u', 'n', 'l', 'i', 'k', 'e', ' ', 'a', 'n', 'y', ' ', 'o', 't', 'h', 'e', 'r', ',', ' ', 'w', 'h', 'e', 'n', ' ', 'E', 'a', 'r', 't', 'h', \"'\", 's', ' ', ' ', ' ', ' ', ' ', ' ', ' ', ' ', ' ', ' ', 'm', 'i', 'g', 'h', 't', 'i', 'e', 's', 't', ' ', 'h', 'e', 'r', 'o', 'e', 's', ' ', 'a', 'n', 'd', ' ', 'h', 'e', 'r', 'o', 'i', 'n', 'e', 's', ' ', 'f', 'o', 'u', 'n', 'd', ' ', 't', 'h', 'e', 'm', 's', 'e', 'l', 'v', 'e', 's', ' ', 'u', 'n', 'i', 't', 'e', 'd', ' ', 'a', 'g', 'a', 'i', 'n', 's', 't', ' ', 'a', ' ', ' ', ' ', ' ', ' ', ' ', ' ', ' ', ' ', ' ', 'c', 'o', 'm', 'm', 'o', 'n', ' ', 't', 'h', 'r', 'e', 'a', 't', '.', ' ', 'O', 'n', ' ', 't', 'h', 'a', 't', ' ', 'd', 'a', 'y', ',', ' ', 't', 'h', 'e', ' ', 'A', 'v', 'e', 'n', 'g', 'e', 'r', 's', ' ', 'w', 'e', 'r', 'e', ' ', 'b', 'o', 'r', 'n', '-', '-', 't', 'o', ' ', 'f', 'i', 'g', 'h', 't', ' ', 't', 'h', 'e', ' ', ' ', ' ', ' ', ' ', ' ', ' ', ' ', ' ', ' ', 'f', 'o', 'e', 's', ' ', 'n', 'o', ' ', 's', 'i', 'n', 'g', 'l', 'e', ' ', 's', 'u', 'p', 'e', 'r', 'h', 'e', 'r', 'o', ' ', 'c', 'o', 'u', 'l', 'd', ' ', 'w', 'i', 't', 'h', 's', 't', 'a', 'n', 'd', '!', ' ', 'T', 'h', 'r', 'o', 'u', 'g', 'h', ' ', 't', 'h', 'e', ' ', 'y', 'e', 'a', 'r', 's', ',', ' ', ' ', ' ', ' ', ' ', ' ', ' ', ' ', ' ', ' ', 't', 'h', 'e', 'i', 'r', ' ', 'r', 'o', 's', 't', 'e', 'r', ' ', 'h', 'a', 's', ' ', 'p', 'r', 'o', 's', 'p', 'e', 'r', 'e', 'd', ',', ' ', 'c', 'h', 'a', 'n', 'g', 'i', 'n', 'g', ' ', 'm', 'a', 'n', 'y', ' ', 't', 'i', 'm', 'e', 's', ',', ' ', 'b', 'u', 't', ' ', 't', 'h', 'e', 'i', 'r', ' ', 'g', 'l', 'o', 'r', 'y', ' ', ' ', ' ', ' ', ' ', ' ', ' ', ' ', ' ', ' ', 'h', 'a', 's', ' ', 'n', 'e', 'v', 'e', 'r', ' ', 'b', 'e', 'e', 'n', ' ', 'd', 'e', 'n', 'i', 'e', 'd', '!', ' ', 'H', 'e', 'e', 'd', ' ', 't', 'h', 'e', ' ', 'c', 'a', 'l', 'l', ',', ' ', 't', 'h', 'e', 'n', '-', '-', 'f', 'o', 'r', ' ', 'n', 'o', 'w', ',', ' ', 't', 'h', 'e', ' ', 'A', 'v', 'e', 'n', 'g', 'e', 'r', 's', ' ', ' ', ' ', ' ', ' ', ' ', ' ', ' ', ' ', ' ', 'A', 's', 's', 'e', 'm', 'b', 'l', 'e', '!', '\"', ' ', ' ', ' ', ' ', ' ', ' ', ' ', ' ', ' ', ' ', 'B', 'U', 'R', 'N', 'I', 'N', 'G', ' ', 'B', 'L', 'U', 'E', ' ', 'F', 'L', 'A', 'M', 'E', 'S', '.', ' ', 'A', ' ', 's', 'm', 'o', 'k', 'y', ' ', 'c', 'u', 'b', 'e', ' ', 's', 'h', 'a', 'p', 'e', ' ', 'e', 'm', 'e', 'r', 'g', 'e', 's', ' ', '-', ' ', 'T', 'H', 'E', ' ', 'T', 'E', 'S', 'S', 'E', 'R', 'A', 'C', 'T', '.', ' ', ' ', ' ', ' ', ' ', ' ', ' ', ' ', ' ', ' ', 'F', 'i', 'l', 'l', 'i', 'n', 'g', ' ', 't', 'h', 'e', ' ', 's', 'c', 'r', 'e', 'e', 'n', ' ', 'w', 'i', 't', 'h', ' ', 'B', 'L', 'A', 'C', 'K', 'N', 'E', 'S', 'S', '.', ' ', ' ', ' ', ' ', ' ', ' ', ' ', ' ', ' ', ' ', ' ', ' ', ' ', ' ', ' ', ' ', ' ', ' ', ' ', ' ', ' ', ' ', ' ', ' ', ' ', ' ', 'C', 'U', 'T', ' ', 'T', 'O', ':', ' ', ' ', ' ', ' ', ' ', ' ', ' ', ' ', ' ', ' ', 'E', 'X', 'T', '.', ' ', 'T', 'H', 'R', 'O', 'N', 'E', ' ', 'R', 'O', 'O', 'M', ',', ' ', 'S', 'P', 'A', 'C', 'E', ' ', '\\xad', ' ', 'N', 'I', 'G', 'H', 'T', ' ', ' ', ' ', ' ', ' ', ' ', ' ', ' ', ' ', ' ', 'K', 'n', 'e', 'e', 'l', 'i', 'n', 'g', ' ', 'b', 'e', 'h', 'i', 'n', 'd', ' ', 'a', ' ', 'T', 'H', 'R', 'O', 'N', 'E', ',', ' ', 'a', ' ', 'C', 'L', 'O', 'T', 'H', 'E', 'D', ',', ' ', 'A', 'R', 'M', 'O', 'R', 'E', 'D', ' ', 'F', 'I', 'G', 'U', 'R', 'E', ' ', 'k', 'n', 'o', 'w', 'n', ' ', 'a', 's', ' ', 'T', 'H', 'E', ' ', ' ', ' ', ' ', ' ', ' ', ' ', ' ', ' ', ' ', 'O', 'T', 'H', 'E', 'R', ',', ' ', 'b', 'o', 'w', 's', '.', ' ', ' ', ' ', ' ', ' ', ' ', ' ', ' ', ' ', ' ', ' ', 'T', 'H', 'E', ' ', 'O', 'T', 'H', 'E', 'R', ' ', '(', 'V', '.', 'O', '.', ')', ' ', ' ', ' ', ' ', ' ', ' ', ' ', ' ', ' ', ' ', ' ', 'T', 'h', 'e', ' ', 'T', 'e', 's', 's', 'e', 'r', 'a', 'c', 't', ' ', 'h', 'a', 's', ' ', 'a', 'w', 'a', 'k', 'e', 'n', 'e', 'd', '.', ' ', 'I', 't', ' ', 'i', 's', ' ', 'o', 'n', ' ', 'a', ' ', ' ', ' ', ' ', ' ', ' ', ' ', ' ', ' ', ' ', ' ', 'l', 'i', 't', 't', 'l', 'e', ' ', 'w', 'o', 'r', 'l', 'd', '.', ' ', 'A', ' ', 'h', 'u', 'm', 'a', 'n', ' ', 'w', 'o', 'r', 'l', 'd', '.', ' ', 'T', 'h', 'e', 'y', ' ', 'w', 'o', 'u', 'l', 'd', ' ', ' ', ' ', ' ', ' ', ' ', ' ', ' ', ' ', ' ', ' ', 'w', 'i', 'e', 'l', 'd', ' ', 'i', 't', 's', ' ', 'p', 'o', 'w', 'e', 'r', ',', '.', '.', '.', ' ', ' ', ' ', ' ', ' ', ' ', ' ', ' ', ' ', ' ', ' ', ' ', ' ', ' ', ' ', ' ', ' ', ' ', ' ', ' ', ' ', ' ', ' ', ' ', ' ', ' ', 'C', 'U', 'T', ' ', 'T', 'O', ':', ' ', ' ', ' ', ' ', ' ', ' ', ' ', ' ', ' ', ' ', 'T', 'H', 'E', ' ', 'O', 'T', 'H', 'E', 'R', ' ', 'f', 'a', 'c', 'e', 's', ' ', 'a', ' ', 'H', 'O', 'R', 'N', 'E', 'D', ' ', 'S', 'H', 'A', 'P', 'E', 'D', ' ', 'S', 'H', 'A', 'D', 'O', 'W', '.', ' ', 'L', 'O', 'K', 'I', '.', ' ', 'L', 'o', 'k', 'i', ' ', 'i', 's', ' ', 'h', 'a', 'n', 'd', 'e', 'd', ' ', 't', 'h', 'e', ' ', ' ', ' ', ' ', ' ', ' ', ' ', ' ', ' ', ' ', 'C', 'H', 'I', 'T', 'A', 'U', 'R', 'I', ' ', 'S', 'C', 'E', 'P', 'T', 'E', 'R', ',', ' ', 'a', ' ', 'l', 'o', 'n', 'g', ' ', 'g', 'o', 'l', 'd', 'e', 'n', ' ', 'h', 'a', 'n', 'd', 'l', 'e', ',', ' ', 'f', 'i', 't', 't', 'e', 'd', ' ', 'w', 'i', 't', 'h', ' ', 'a', ' ', 'b', 'l', 'u', 'e', ' ', 'g', 'e', 'm', ' ', ' ', ' ', ' ', ' ', ' ', ' ', ' ', ' ', ' ', 'e', 'n', 'c', 'i', 'r', 'c', 'l', 'e', 'd', ' ', 'w', 'i', 't', 'h', ' ', 's', 'i', 'l', 'v', 'e', 'r', ' ', 'b', 'l', 'a', 'd', 'e', 's', '.', ' ', ' ', ' ', ' ', ' ', ' ', ' ', ' ', ' ', ' ', ' ', 'T', 'H', 'E', ' ', 'O', 'T', 'H', 'E', 'R', ' ', '(', 'V', '.', 'O', '.', ')', ' ', ' ', ' ', ' ', ' ', ' ', ' ', ' ', ' ', ' ', ' ', 'B', 'u', 't', ' ', 'o', 'u', 'r', ' ', 'a', 'l', 'l', 'y', ' ', 'k', 'n', 'o', 'w', 's', ' ', 'i', 't', 's', ' ', 'w', 'o', 'r', 'k', 'i', 'n', 'g', 's', ' ', 'a', 's', ' ', 't', 'h', 'e', 'y', ' ', ' ', ' ', ' ', ' ', ' ', ' ', ' ', ' ', ' ', ' ', 'n', 'e', 'v', 'e', 'r', ' ', 'w', 'i', 'l', 'l', '.', ' ', 'H', 'e', ' ', 'i', 's', ' ', 'r', 'e', 'a', 'd', 'y', ' ', 't', 'o', ' ', 'l', 'e', 'a', 'd', '.', ' ', 'A', 'n', 'd', ' ', ' ', ' ', ' ', ' ', ' ', ' ', ' ', ' ', ' ', ' ', 'o', 'u', 'r', ' ', 'f', 'o', 'r', 'c', 'e', ',', ' ', 'o', 'u', 'r', ' ', 'C', 'h', 'i', 't', 'a', 'u', 'r', 'i', ',', ' ', 'w', 'i', 'l', 'l', ' ', 'f', 'o', 'l', 'l', 'o', 'w', '.', ' ', ' ', ' ', ' ', ' ', ' ', ' ', ' ', ' ', ' ', 'H', 'I', 'G', 'H', ' ', 'W', 'I', 'D', 'E', ' ', 'O', 'N', ':', ' ', 'T', 'E', 'N', 'S', ' ', 'O', 'F', ' ', 'T', 'H', 'O', 'U', 'S', 'A', 'N', 'D', 'S', ' ', 'o', 'f', ' ', 'C', 'H', 'I', 'T', 'A', 'U', 'R', 'I', ' ', 's', 't', 'a', 'n', 'd', ' ', 'r', 'e', 'a', 'd', 'y', ' ', 'i', 'n', ' ', 'a', ' ', ' ', ' ', ' ', ' ', ' ', ' ', ' ', ' ', ' ', 's', 'e', 'e', 't', 'h', 'i', 'n', 'g', ' ', 'm', 'a', 's', 's', ' ', 'o', 'f', ' ', 'n', 'e', 'a', 't', ' ', 'r', 'o', 'w', 's', ' ', 'a', 'n', 'd', ' ', 'c', 'o', 'l', 'u', 'm', 'n', 's', '.', '.', '.', '.', 't', 'h', 'e', ' ', 'g', 'r', 'o', 'u', 'n', 'd', ' ', 's', 'i', 'm', 'p', 'l', 'y', ' ', ' ', ' ', ' ', ' ', ' ', ' ', ' ', ' ', ' ', 'Q', 'U', 'A', 'K', 'E', 'S', '.']\n"
     ]
    }
   ],
   "source": [
    "\n",
    "result = re.findall(r'.', text)\n",
    "print(result)"
   ]
  },
  {
   "cell_type": "code",
   "execution_count": 68,
   "metadata": {},
   "outputs": [
    {
     "name": "stdout",
     "output_type": "stream",
     "text": [
      "['A', 'n', 'd', 't', 'h', 'e', 'r', 'e', 'c', 'a', 'm', 'e', 'a', 'd', 'a', 'y', 'a', 'd', 'a', 'y', 'u', 'n', 'l', 'i', 'k', 'e', 'a', 'n', 'y', 'o', 't', 'h', 'e', 'r', 'w', 'h', 'e', 'n', 'E', 'a', 'r', 't', 'h', 's', 'm', 'i', 'g', 'h', 't', 'i', 'e', 's', 't', 'h', 'e', 'r', 'o', 'e', 's', 'a', 'n', 'd', 'h', 'e', 'r', 'o', 'i', 'n', 'e', 's', 'f', 'o', 'u', 'n', 'd', 't', 'h', 'e', 'm', 's', 'e', 'l', 'v', 'e', 's', 'u', 'n', 'i', 't', 'e', 'd', 'a', 'g', 'a', 'i', 'n', 's', 't', 'a', 'c', 'o', 'm', 'm', 'o', 'n', 't', 'h', 'r', 'e', 'a', 't', 'O', 'n', 't', 'h', 'a', 't', 'd', 'a', 'y', 't', 'h', 'e', 'A', 'v', 'e', 'n', 'g', 'e', 'r', 's', 'w', 'e', 'r', 'e', 'b', 'o', 'r', 'n', 't', 'o', 'f', 'i', 'g', 'h', 't', 't', 'h', 'e', 'f', 'o', 'e', 's', 'n', 'o', 's', 'i', 'n', 'g', 'l', 'e', 's', 'u', 'p', 'e', 'r', 'h', 'e', 'r', 'o', 'c', 'o', 'u', 'l', 'd', 'w', 'i', 't', 'h', 's', 't', 'a', 'n', 'd', 'T', 'h', 'r', 'o', 'u', 'g', 'h', 't', 'h', 'e', 'y', 'e', 'a', 'r', 's', 't', 'h', 'e', 'i', 'r', 'r', 'o', 's', 't', 'e', 'r', 'h', 'a', 's', 'p', 'r', 'o', 's', 'p', 'e', 'r', 'e', 'd', 'c', 'h', 'a', 'n', 'g', 'i', 'n', 'g', 'm', 'a', 'n', 'y', 't', 'i', 'm', 'e', 's', 'b', 'u', 't', 't', 'h', 'e', 'i', 'r', 'g', 'l', 'o', 'r', 'y', 'h', 'a', 's', 'n', 'e', 'v', 'e', 'r', 'b', 'e', 'e', 'n', 'd', 'e', 'n', 'i', 'e', 'd', 'H', 'e', 'e', 'd', 't', 'h', 'e', 'c', 'a', 'l', 'l', 't', 'h', 'e', 'n', 'f', 'o', 'r', 'n', 'o', 'w', 't', 'h', 'e', 'A', 'v', 'e', 'n', 'g', 'e', 'r', 's', 'A', 's', 's', 'e', 'm', 'b', 'l', 'e', 'B', 'U', 'R', 'N', 'I', 'N', 'G', 'B', 'L', 'U', 'E', 'F', 'L', 'A', 'M', 'E', 'S', 'A', 's', 'm', 'o', 'k', 'y', 'c', 'u', 'b', 'e', 's', 'h', 'a', 'p', 'e', 'e', 'm', 'e', 'r', 'g', 'e', 's', 'T', 'H', 'E', 'T', 'E', 'S', 'S', 'E', 'R', 'A', 'C', 'T', 'F', 'i', 'l', 'l', 'i', 'n', 'g', 't', 'h', 'e', 's', 'c', 'r', 'e', 'e', 'n', 'w', 'i', 't', 'h', 'B', 'L', 'A', 'C', 'K', 'N', 'E', 'S', 'S', 'C', 'U', 'T', 'T', 'O', 'E', 'X', 'T', 'T', 'H', 'R', 'O', 'N', 'E', 'R', 'O', 'O', 'M', 'S', 'P', 'A', 'C', 'E', 'N', 'I', 'G', 'H', 'T', 'K', 'n', 'e', 'e', 'l', 'i', 'n', 'g', 'b', 'e', 'h', 'i', 'n', 'd', 'a', 'T', 'H', 'R', 'O', 'N', 'E', 'a', 'C', 'L', 'O', 'T', 'H', 'E', 'D', 'A', 'R', 'M', 'O', 'R', 'E', 'D', 'F', 'I', 'G', 'U', 'R', 'E', 'k', 'n', 'o', 'w', 'n', 'a', 's', 'T', 'H', 'E', 'O', 'T', 'H', 'E', 'R', 'b', 'o', 'w', 's', 'T', 'H', 'E', 'O', 'T', 'H', 'E', 'R', 'V', 'O', 'T', 'h', 'e', 'T', 'e', 's', 's', 'e', 'r', 'a', 'c', 't', 'h', 'a', 's', 'a', 'w', 'a', 'k', 'e', 'n', 'e', 'd', 'I', 't', 'i', 's', 'o', 'n', 'a', 'l', 'i', 't', 't', 'l', 'e', 'w', 'o', 'r', 'l', 'd', 'A', 'h', 'u', 'm', 'a', 'n', 'w', 'o', 'r', 'l', 'd', 'T', 'h', 'e', 'y', 'w', 'o', 'u', 'l', 'd', 'w', 'i', 'e', 'l', 'd', 'i', 't', 's', 'p', 'o', 'w', 'e', 'r', 'C', 'U', 'T', 'T', 'O', 'T', 'H', 'E', 'O', 'T', 'H', 'E', 'R', 'f', 'a', 'c', 'e', 's', 'a', 'H', 'O', 'R', 'N', 'E', 'D', 'S', 'H', 'A', 'P', 'E', 'D', 'S', 'H', 'A', 'D', 'O', 'W', 'L', 'O', 'K', 'I', 'L', 'o', 'k', 'i', 'i', 's', 'h', 'a', 'n', 'd', 'e', 'd', 't', 'h', 'e', 'C', 'H', 'I', 'T', 'A', 'U', 'R', 'I', 'S', 'C', 'E', 'P', 'T', 'E', 'R', 'a', 'l', 'o', 'n', 'g', 'g', 'o', 'l', 'd', 'e', 'n', 'h', 'a', 'n', 'd', 'l', 'e', 'f', 'i', 't', 't', 'e', 'd', 'w', 'i', 't', 'h', 'a', 'b', 'l', 'u', 'e', 'g', 'e', 'm', 'e', 'n', 'c', 'i', 'r', 'c', 'l', 'e', 'd', 'w', 'i', 't', 'h', 's', 'i', 'l', 'v', 'e', 'r', 'b', 'l', 'a', 'd', 'e', 's', 'T', 'H', 'E', 'O', 'T', 'H', 'E', 'R', 'V', 'O', 'B', 'u', 't', 'o', 'u', 'r', 'a', 'l', 'l', 'y', 'k', 'n', 'o', 'w', 's', 'i', 't', 's', 'w', 'o', 'r', 'k', 'i', 'n', 'g', 's', 'a', 's', 't', 'h', 'e', 'y', 'n', 'e', 'v', 'e', 'r', 'w', 'i', 'l', 'l', 'H', 'e', 'i', 's', 'r', 'e', 'a', 'd', 'y', 't', 'o', 'l', 'e', 'a', 'd', 'A', 'n', 'd', 'o', 'u', 'r', 'f', 'o', 'r', 'c', 'e', 'o', 'u', 'r', 'C', 'h', 'i', 't', 'a', 'u', 'r', 'i', 'w', 'i', 'l', 'l', 'f', 'o', 'l', 'l', 'o', 'w', 'H', 'I', 'G', 'H', 'W', 'I', 'D', 'E', 'O', 'N', 'T', 'E', 'N', 'S', 'O', 'F', 'T', 'H', 'O', 'U', 'S', 'A', 'N', 'D', 'S', 'o', 'f', 'C', 'H', 'I', 'T', 'A', 'U', 'R', 'I', 's', 't', 'a', 'n', 'd', 'r', 'e', 'a', 'd', 'y', 'i', 'n', 'a', 's', 'e', 'e', 't', 'h', 'i', 'n', 'g', 'm', 'a', 's', 's', 'o', 'f', 'n', 'e', 'a', 't', 'r', 'o', 'w', 's', 'a', 'n', 'd', 'c', 'o', 'l', 'u', 'm', 'n', 's', 't', 'h', 'e', 'g', 'r', 'o', 'u', 'n', 'd', 's', 'i', 'm', 'p', 'l', 'y', 'Q', 'U', 'A', 'K', 'E', 'S']\n"
     ]
    }
   ],
   "source": [
    "result = re.findall(r'\\w', text)\n",
    "print(result)"
   ]
  },
  {
   "cell_type": "code",
   "execution_count": 72,
   "metadata": {},
   "outputs": [
    {
     "name": "stdout",
     "output_type": "stream",
     "text": [
      "['And', 'there', 'came', 'a', 'day', 'a', 'day', 'unlike', 'any', 'other', 'when', 'Earth', 's', 'mightiest', 'heroes', 'and', 'heroines', 'found', 'themselves', 'united', 'against', 'a', 'common', 'threat', 'On', 'that', 'day', 'the', 'Avengers', 'were', 'born', 'to', 'fight', 'the', 'foes', 'no', 'single', 'superhero', 'could', 'withstand', 'Through', 'the', 'years', 'their', 'roster', 'has', 'prospered', 'changing', 'many', 'times', 'but', 'their', 'glory', 'has', 'never', 'been', 'denied', 'Heed', 'the', 'call', 'then', 'for', 'now', 'the', 'Avengers', 'Assemble', 'BURNING', 'BLUE', 'FLAMES', 'A', 'smoky', 'cube', 'shape', 'emerges', 'THE', 'TESSERACT', 'Filling', 'the', 'screen', 'with', 'BLACKNESS', 'CUT', 'TO', 'EXT', 'THRONE', 'ROOM', 'SPACE', 'NIGHT', 'Kneeling', 'behind', 'a', 'THRONE', 'a', 'CLOTHED', 'ARMORED', 'FIGURE', 'known', 'as', 'THE', 'OTHER', 'bows', 'THE', 'OTHER', 'V', 'O', 'The', 'Tesseract', 'has', 'awakened', 'It', 'is', 'on', 'a', 'little', 'world', 'A', 'human', 'world', 'They', 'would', 'wield', 'its', 'power', 'CUT', 'TO', 'THE', 'OTHER', 'faces', 'a', 'HORNED', 'SHAPED', 'SHADOW', 'LOKI', 'Loki', 'is', 'handed', 'the', 'CHITAURI', 'SCEPTER', 'a', 'long', 'golden', 'handle', 'fitted', 'with', 'a', 'blue', 'gem', 'encircled', 'with', 'silver', 'blades', 'THE', 'OTHER', 'V', 'O', 'But', 'our', 'ally', 'knows', 'its', 'workings', 'as', 'they', 'never', 'will', 'He', 'is', 'ready', 'to', 'lead', 'And', 'our', 'force', 'our', 'Chitauri', 'will', 'follow', 'HIGH', 'WIDE', 'ON', 'TENS', 'OF', 'THOUSANDS', 'of', 'CHITAURI', 'stand', 'ready', 'in', 'a', 'seething', 'mass', 'of', 'neat', 'rows', 'and', 'columns', 'the', 'ground', 'simply', 'QUAKES']\n"
     ]
    }
   ],
   "source": [
    "# Find all the words\n",
    "result = re.findall(r'\\w+', text)\n",
    "print(result)"
   ]
  },
  {
   "cell_type": "code",
   "execution_count": 75,
   "metadata": {},
   "outputs": [
    {
     "name": "stdout",
     "output_type": "stream",
     "text": [
      "['And', '', 'there', '', 'came', '', 'a', '', 'day', '', '', 'a', '', 'day', '', 'unlike', '', 'any', '', 'other', '', '', 'when', '', 'Earth', '', 's', '', '', '', '', '', '', '', '', '', '', '', 'mightiest', '', 'heroes', '', 'and', '', 'heroines', '', 'found', '', 'themselves', '', 'united', '', 'against', '', 'a', '', '', '', '', '', '', '', '', '', '', '', 'common', '', 'threat', '', '', 'On', '', 'that', '', 'day', '', '', 'the', '', 'Avengers', '', 'were', '', 'born', '', '', 'to', '', 'fight', '', 'the', '', '', '', '', '', '', '', '', '', '', '', 'foes', '', 'no', '', 'single', '', 'superhero', '', 'could', '', 'withstand', '', '', 'Through', '', 'the', '', 'years', '', '', '', '', '', '', '', '', '', '', '', '', 'their', '', 'roster', '', 'has', '', 'prospered', '', '', 'changing', '', 'many', '', 'times', '', '', 'but', '', 'their', '', 'glory', '', '', '', '', '', '', '', '', '', '', '', 'has', '', 'never', '', 'been', '', 'denied', '', '', 'Heed', '', 'the', '', 'call', '', '', 'then', '', '', 'for', '', 'now', '', '', 'the', '', 'Avengers', '', '', '', '', '', '', '', '', '', '', '', 'Assemble', '', '', '', '', '', '', '', '', '', '', '', '', '', '', 'BURNING', '', 'BLUE', '', 'FLAMES', '', '', 'A', '', 'smoky', '', 'cube', '', 'shape', '', 'emerges', '', '', '', 'THE', '', 'TESSERACT', '', '', '', '', '', '', '', '', '', '', '', '', 'Filling', '', 'the', '', 'screen', '', 'with', '', 'BLACKNESS', '', '', '', '', '', '', '', '', '', '', '', '', '', '', '', '', '', '', '', '', '', '', '', '', '', '', '', '', '', 'CUT', '', 'TO', '', '', '', '', '', '', '', '', '', '', '', '', '', 'EXT', '', '', 'THRONE', '', 'ROOM', '', '', 'SPACE', '', '', '', 'NIGHT', '', '', '', '', '', '', '', '', '', '', '', '', 'Kneeling', '', 'behind', '', 'a', '', 'THRONE', '', '', 'a', '', 'CLOTHED', '', '', 'ARMORED', '', 'FIGURE', '', 'known', '', 'as', '', 'THE', '', '', '', '', '', '', '', '', '', '', '', 'OTHER', '', '', 'bows', '', '', '', '', '', '', '', '', '', '', '', '', '', '', 'THE', '', 'OTHER', '', '', 'V', '', 'O', '', '', '', '', '', '', '', '', '', '', '', '', '', '', 'The', '', 'Tesseract', '', 'has', '', 'awakened', '', '', 'It', '', 'is', '', 'on', '', 'a', '', '', '', '', '', '', '', '', '', '', '', '', 'little', '', 'world', '', '', 'A', '', 'human', '', 'world', '', '', 'They', '', 'would', '', '', '', '', '', '', '', '', '', '', '', '', 'wield', '', 'its', '', 'power', '', '', '', '', '', '', '', '', '', '', '', '', '', '', '', '', '', '', '', '', '', '', '', '', '', '', '', '', '', '', '', '', 'CUT', '', 'TO', '', '', '', '', '', '', '', '', '', '', '', '', 'THE', '', 'OTHER', '', 'faces', '', 'a', '', 'HORNED', '', 'SHAPED', '', 'SHADOW', '', '', 'LOKI', '', '', 'Loki', '', 'is', '', 'handed', '', 'the', '', '', '', '', '', '', '', '', '', '', '', 'CHITAURI', '', 'SCEPTER', '', '', 'a', '', 'long', '', 'golden', '', 'handle', '', '', 'fitted', '', 'with', '', 'a', '', 'blue', '', 'gem', '', '', '', '', '', '', '', '', '', '', '', 'encircled', '', 'with', '', 'silver', '', 'blades', '', '', '', '', '', '', '', '', '', '', '', '', '', '', 'THE', '', 'OTHER', '', '', 'V', '', 'O', '', '', '', '', '', '', '', '', '', '', '', '', '', '', 'But', '', 'our', '', 'ally', '', 'knows', '', 'its', '', 'workings', '', 'as', '', 'they', '', '', '', '', '', '', '', '', '', '', '', '', 'never', '', 'will', '', '', 'He', '', 'is', '', 'ready', '', 'to', '', 'lead', '', '', 'And', '', '', '', '', '', '', '', '', '', '', '', '', 'our', '', 'force', '', '', 'our', '', 'Chitauri', '', '', 'will', '', 'follow', '', '', '', '', '', '', '', '', '', '', '', '', '', 'HIGH', '', 'WIDE', '', 'ON', '', '', 'TENS', '', 'OF', '', 'THOUSANDS', '', 'of', '', 'CHITAURI', '', 'stand', '', 'ready', '', 'in', '', 'a', '', '', '', '', '', '', '', '', '', '', '', 'seething', '', 'mass', '', 'of', '', 'neat', '', 'rows', '', 'and', '', 'columns', '', '', '', '', 'the', '', 'ground', '', 'simply', '', '', '', '', '', '', '', '', '', '', '', '', 'QUAKES', '', '']\n"
     ]
    }
   ],
   "source": [
    "# This will give spaces also as * means 0 or more.\n",
    "result = re.findall(r'\\w*', text)\n",
    "print(result)"
   ]
  },
  {
   "cell_type": "markdown",
   "metadata": {},
   "source": [
    "#### Write an expression to find first two characters in each words"
   ]
  },
  {
   "cell_type": "code",
   "execution_count": null,
   "metadata": {},
   "outputs": [],
   "source": [
    "words = re.findall(r'\\b\\w\\w', text)\n",
    "print(words)"
   ]
  },
  {
   "cell_type": "markdown",
   "metadata": {},
   "source": [
    "#### Find the words with length of 3 letters in the text"
   ]
  },
  {
   "cell_type": "code",
   "execution_count": null,
   "metadata": {},
   "outputs": [],
   "source": [
    "result = re.findall(r'\\b\\w{3}', text)\n",
    "result"
   ]
  },
  {
   "cell_type": "code",
   "execution_count": null,
   "metadata": {},
   "outputs": [],
   "source": [
    "result = re.findall(r'\\w{3}\\b', text)\n",
    "print(result)"
   ]
  },
  {
   "cell_type": "code",
   "execution_count": null,
   "metadata": {},
   "outputs": [],
   "source": [
    "result = re.findall(r'\\b\\w{3}\\b', text)\n",
    "print(result)"
   ]
  },
  {
   "cell_type": "code",
   "execution_count": null,
   "metadata": {},
   "outputs": [],
   "source": [
    "result = re.findall(r'\\d', 'adlkha930yrigahef9848')\n",
    "print(result)"
   ]
  },
  {
   "cell_type": "code",
   "execution_count": null,
   "metadata": {},
   "outputs": [],
   "source": [
    "# Find the words which starts with vowels\n",
    "result = re.findall(r'\\b[aeiouAEIOU]\\w+', text)\n",
    "print(result)"
   ]
  },
  {
   "cell_type": "code",
   "execution_count": null,
   "metadata": {},
   "outputs": [],
   "source": [
    "# Find all the words which does not starts with vowels\n",
    "result = re.findall(r'\\b[^ aeiouAEIOU]\\w+', text)\n",
    "print(result)"
   ]
  },
  {
   "cell_type": "code",
   "execution_count": null,
   "metadata": {},
   "outputs": [],
   "source": [
    "# find all the special characters \n",
    "result = re.findall(r'\\W', text)\n",
    "print(result)"
   ]
  },
  {
   "cell_type": "code",
   "execution_count": null,
   "metadata": {},
   "outputs": [],
   "source": [
    "# Find all the words that are next to the word 'Avengers'\n",
    "result = re.findall(r'Avengers\\s+(\\w+)', text)\n",
    "print(result)"
   ]
  },
  {
   "cell_type": "code",
   "execution_count": null,
   "metadata": {},
   "outputs": [],
   "source": [
    "# Find the valid phone numbers that starts with 8 or 9 and upto only 10 digits\n",
    "phones = ['9396969693', '9123191231', '8383835656', '91345033843304403', '7947443734']\n",
    "\n",
    "for num in phones:\n",
    "    if re.findall(r'\\b[89]\\d{9}\\b', num):\n",
    "        print(num)\n",
    "\n",
    "        "
   ]
  },
  {
   "cell_type": "code",
   "execution_count": null,
   "metadata": {},
   "outputs": [],
   "source": []
  }
 ],
 "metadata": {
  "kernelspec": {
   "display_name": "Python 3",
   "language": "python",
   "name": "python3"
  },
  "language_info": {
   "codemirror_mode": {
    "name": "ipython",
    "version": 3
   },
   "file_extension": ".py",
   "mimetype": "text/x-python",
   "name": "python",
   "nbconvert_exporter": "python",
   "pygments_lexer": "ipython3",
   "version": "3.7.4"
  }
 },
 "nbformat": 4,
 "nbformat_minor": 2
}
