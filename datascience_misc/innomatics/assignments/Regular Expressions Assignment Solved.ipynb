{
 "cells": [
  {
   "cell_type": "code",
   "execution_count": 1,
   "metadata": {},
   "outputs": [],
   "source": [
    "import re\n",
    "text = '''Name: 1000 Genomes\n",
    "Description: The 1000 Genomes Project is an international collaboration which has established the most detailed catalogue of human genetic variation, including SNPs, structural variants, and their haplotype context. The final phase of the project sequenced more than 2500 individuals from 26 different populations around the world and produced an integrated set of phased haplotypes with more than 80 million variants for these individuals.\n",
    "Documentation: https://docs.opendata.aws/1000genomes/readme.html\n",
    "Contact: http://www.internationalgenome.org/contact\n",
    "UpdateFrequency: Not updated\n",
    "Tags:\n",
    "  - aws-pds\n",
    "  - genetic\n",
    "  - genomic\n",
    "  - life sciences\n",
    "License: Data from the 1000 Genomes Project is now available without embargo, following the final publication from the project. Use of the data should be cited in the usual way, with current details available at http://www.internationalgenome.org/faq/how-do-i-cite-1000-genomes-project.\n",
    "Resources:\n",
    "  - Description: http://www.internationalgenome.org/formats\n",
    "    ARN: arn:aws:s3:::1000genomes\n",
    "    Region: us-east-1\n",
    "    Type: S3 Bucket\n",
    "DataAtWork:\n",
    "  - Title: Exploratory data analysis of genomic datasets using ADAM and Mango with Apache Spark on Amazon EMR\n",
    "    URL: https://aws.amazon.com/blogs/big-data/exploratory-data-analysis-of-genomic-datasets-using-adam-and-mango-with-apache-spark-on-amazon-emr/\n",
    "    AuthorName: Alyssa Marrow\n",
    "    AuthorURL: https://research.eecs.berkeley.edu/~akmorrow/\n",
    "\n",
    "Name: 3000 Rice Genomes Project\n",
    "Description: The 3000 Rice Genome Project is an international effort to sequence the genomes of 3,024 rice varieties from 89 countries.\n",
    "Documentation: https://docs.opendata.aws/3kricegenome/readme.html\n",
    "Contact: http://iric.irri.org/contact-us\n",
    "UpdateFrequency: Not updated\n",
    "Tags:\n",
    "  - agriculture\n",
    "  - food security\n",
    "  - aws-pds\n",
    "  - genetic\n",
    "  - genomic\n",
    "  - life sciences\n",
    "License: This data is available for anyone to use under the terms of the Toronto Statement, which is available [here](http://www.nature.com/nature/journal/v461/n7261/box/461168a_BX1.html)\n",
    "Resources:\n",
    "  - Description: http://s3.amazonaws.com/3kricegenome/README-snp_pipeline.txt\n",
    "    ARN: arn:aws:s3:::3kricegenome\n",
    "    Region: us-east-1\n",
    "    Type: S3 Bucket\n",
    "\n",
    "Name: Africa Soil Information Service (AfSIS) Soil Chemistry\n",
    "Description: |\n",
    "    This dataset contains field and laboratory data collected through the Africa \n",
    "    Soil Information Service (AfSIS) project, which lasted from 2009 through 2018. \n",
    "    In this initial release, we are including data collected during Phase I, which \n",
    "    spanned from 2009 through 2013. Georeferenced soil samples were collected from \n",
    "    many countries throughout Sub-Saharan Africa, and their nutrient content was \n",
    "    analyzed using *both* wet chemistry and dry chemistry. The two types of data \n",
    "    can be paired to form a training dataset for machine learning, such that the \n",
    "    chemical concentrations of certain nutrients can be well-predicted using less \n",
    "    expensive dry chemistry techniques.\n",
    "Documentation: https://github.com/qedsoftware/afsis-soil-chem-tutorial\n",
    "Contact: afsis@qed.ai\n",
    "ManagedBy: QED (https://qed.ai)\n",
    "UpdateFrequency: Annually\n",
    "Tags:\n",
    "  - agriculture\n",
    "  - environmental\n",
    "  - food security\n",
    "  - machine learning\n",
    "  - life sciences\n",
    "  - sustainability\n",
    "License: ODC Open Database License (ODbL) version 1.0, with attribution to AfSIS, https://afsisdb.qed.ai/terms/\n",
    "Resources:\n",
    "  - Description: Field and laboratory data about soils collected through the Africa Soil Information Service (AfSIS), stored as CSV and OPUS files.\n",
    "    ARN: arn:aws:s3:::afsis\n",
    "    Region: us-east-1\n",
    "    Type: S3 Bucket\n",
    "DataAtWork:\n",
    "  - Title: AfSIS Soil Chemistry - Usage Tutorial\n",
    "    URL: https://github.com/qedsoftware/afsis-soil-chem-tutorial/\n",
    "    AuthorName: QED\n",
    "    AuthorURL: https://qed.ai\n",
    "  - Title: Goalkeepers 2018, Soil - The Big Data Beneath Your Feet\n",
    "    URL: https://www.youtube.com/watch?v=Fb9R0CnPMkc\n",
    "    AuthorName: QED\n",
    "    AuthorURL: https://qed.ai\n",
    "\n",
    "Name: UK Met Office Atmospheric Deterministic and Probabilistic Forecasts\n",
    "Description: |\n",
    "  Meteorological data reusers now have an exciting opportunity to sample, experiment and evaluate\n",
    "  Met Office atmospheric model data, whilst also experiencing a transformative method of requesting\n",
    "  data via Restful APIs on AWS. All ahead of Met Office’s own operationally supported API platform\n",
    "  that will be launched in late 2019.\n",
    "  \n",
    "  For information about the data see the [Met Office website](https://www.metoffice.gov.uk/services/data-provision/big-data-drive/wholesale/categories/planetary-scale-applications).\n",
    "  For examples of using the data check out the [examples repository](https://github.com/MetOffice/aws-earth-examples). \n",
    "  If you need help and support using the data please raise an issue on the examples repository.\n",
    "Documentation: https://github.com/MetOffice/aws-earth-examples  \n",
    "Contact: https://www.metoffice.gov.uk/about-us/contact\n",
    "UpdateFrequency: Daily (with 24 hour delay)\n",
    "Tags:\n",
    "  - aws-pds\n",
    "  - earth observation\n",
    "  - climate\n",
    "  - weather\n",
    "  - meteorological\n",
    "  - sustainability\n",
    "License: |\n",
    "  This data is made available under a [Creative Commons licence](https://creativecommons.org/licenses/by-nc-nd/4.0/).\n",
    "  This data is free to use for non-commercial purposes under the terms of the licence. You must\n",
    "  ensure that you acknowledge the source of this data as prescribed by this licence. Data or any\n",
    "  derivatives made using the data are for internal use only and may not be distributed or otherwise\n",
    "  shared.\n",
    "Resources:\n",
    "  - Description: \"[Met Office UK Atmospheric Hi-Res Model (UKV) - 2km Deterministic](https://www.metoffice.gov.uk/binaries/content/assets/mohippo/pdf/data-provision/uk-atmospheric-hi-res-model-ukv-beta-service-parameters-080818.pdf)\"\n",
    "    ARN: arn:aws:s3:::aws-earth-mo-atmospheric-ukv-prd\n",
    "    Region: eu-west-2\n",
    "    Type: S3 Bucket\n",
    "  - Description: \"[Met Office Global Atmospheric Hi-Res Model - 10km Deterministic](https://www.metoffice.gov.uk/binaries/content/assets/mohippo/pdf/data-provision/global-atmospheric-hi-res-10km-deterministic-beta-service-parameters-080818.pdf)\"\n",
    "    ARN: arn:aws:s3:::aws-earth-mo-atmospheric-global-prd\n",
    "    Region: eu-west-2\n",
    "    Type: S3 Bucket\n",
    "  - Description: \"[Met Office Global and Regional Ensemble Prediction System (UK) MOGREPS-UK](https://www.metoffice.gov.uk/binaries/content/assets/mohippo/pdf/data-provision/mogreps-uk-ensemble-beta-service-parameters-080818.pdf)\"\n",
    "    ARN: arn:aws:s3:::aws-earth-mo-atmospheric-mogreps-uk-prd\n",
    "    Region: eu-west-2\n",
    "    Type: S3 Bucket\n",
    "  - Description: \"[Met Office Global and Regional Ensemble Prediction System (Global) - MOGREPS-G](https://www.metoffice.gov.uk/binaries/content/assets/mohippo/pdf/data-provision/mogreps-global-ensemble-beta-service-parameters-080818.pdf)\"\n",
    "    ARN: arn:aws:s3:::aws-earth-mo-atmospheric-mogreps-g-prd\n",
    "    Region: eu-west-2\n",
    "    Type: S3 Bucket\n",
    "  - Description: \"[Met Office UK Atmospheric Hi-Res Model (UKV) - 2km Deterministic](https://www.metoffice.gov.uk/binaries/content/assets/mohippo/pdf/data-provision/uk-atmospheric-hi-res-model-ukv-beta-service-parameters-080818.pdf)\"\n",
    "    ARN: arn:aws:sns:eu-west-2:021908831235:aws-earth-mo-atmospheric-ukv-prd\n",
    "    Region: eu-west-2\n",
    "    Type: SNS Topic\n",
    "  - Description: \"[Met Office Global Atmospheric Hi-Res Model - 10km Deterministic](https://www.metoffice.gov.uk/binaries/content/assets/mohippo/pdf/data-provision/global-atmospheric-hi-res-10km-deterministic-beta-service-parameters-080818.pdf)\"\n",
    "    ARN: arn:aws:sns:eu-west-2:021908831235:aws-earth-mo-atmospheric-global-prd\n",
    "    Region: eu-west-2\n",
    "    Type: SNS Topic\n",
    "  - Description: \"[Met Office Global and Regional Ensemble Prediction System (UK) MOGREPS-UK](https://www.metoffice.gov.uk/binaries/content/assets/mohippo/pdf/data-provision/mogreps-uk-ensemble-beta-service-parameters-080818.pdf)\"\n",
    "    ARN: arn:aws:sns:eu-west-2:021908831235:aws-earth-mo-atmospheric-mogreps-uk-prd\n",
    "    Region: eu-west-2\n",
    "    Type: SNS Topic\n",
    "  - Description: \"[Met Office Global and Regional Ensemble Prediction System (Global) - MOGREPS-G](https://www.metoffice.gov.uk/binaries/content/assets/mohippo/pdf/data-provision/mogreps-global-ensemble-beta-service-parameters-080818.pdf)\"\n",
    "    ARN: arn:aws:sns:eu-west-2:021908831235:aws-earth-mo-atmospheric-mogreps-g-prd\n",
    "    Region: eu-west-2\n",
    "    Type: SNS Topic\n",
    "'''"
   ]
  },
  {
   "cell_type": "markdown",
   "metadata": {},
   "source": [
    "***Q. Find All the first Character/characters in line of the text***\n",
    "\n",
    "\n"
   ]
  },
  {
   "cell_type": "code",
   "execution_count": 2,
   "metadata": {},
   "outputs": [
    {
     "name": "stdout",
     "output_type": "stream",
     "text": [
      "Total Matches:  70\n"
     ]
    },
    {
     "data": {
      "text/plain": [
       "['Name:',\n",
       " 'Description:',\n",
       " 'Documentation:',\n",
       " 'Contact:',\n",
       " 'UpdateFrequency:',\n",
       " 'License:',\n",
       " 'Description:',\n",
       " 'ARN:',\n",
       " 'Region:',\n",
       " 'Type:',\n",
       " 'Title:',\n",
       " 'URL:',\n",
       " 'AuthorName:',\n",
       " 'AuthorURL:',\n",
       " 'Name:',\n",
       " 'Description:',\n",
       " 'Documentation:',\n",
       " 'Contact:',\n",
       " 'UpdateFrequency:',\n",
       " 'License:',\n",
       " 'Description:',\n",
       " 'ARN:',\n",
       " 'Region:',\n",
       " 'Type:',\n",
       " 'Name:',\n",
       " 'Documentation:',\n",
       " 'Contact:',\n",
       " 'ManagedBy:',\n",
       " 'UpdateFrequency:',\n",
       " 'License:',\n",
       " 'Description:',\n",
       " 'ARN:',\n",
       " 'Region:',\n",
       " 'Type:',\n",
       " 'Title:',\n",
       " 'URL:',\n",
       " 'AuthorName:',\n",
       " 'AuthorURL:',\n",
       " 'Title:',\n",
       " 'URL:',\n",
       " 'AuthorName:',\n",
       " 'AuthorURL:',\n",
       " 'Name:',\n",
       " 'Documentation:',\n",
       " 'Contact:',\n",
       " 'UpdateFrequency:',\n",
       " 'ARN:',\n",
       " 'Region:',\n",
       " 'Type:',\n",
       " 'ARN:',\n",
       " 'Region:',\n",
       " 'Type:',\n",
       " 'ARN:',\n",
       " 'Region:',\n",
       " 'Type:',\n",
       " 'ARN:',\n",
       " 'Region:',\n",
       " 'Type:',\n",
       " 'ARN:',\n",
       " 'Region:',\n",
       " 'Type:',\n",
       " 'ARN:',\n",
       " 'Region:',\n",
       " 'Type:',\n",
       " 'ARN:',\n",
       " 'Region:',\n",
       " 'Type:',\n",
       " 'ARN:',\n",
       " 'Region:',\n",
       " 'Type:']"
      ]
     },
     "execution_count": 2,
     "metadata": {},
     "output_type": "execute_result"
    }
   ],
   "source": [
    "headings = re.findall(r'(\\b\\w+:)\\s\\w+\\b', text)\n",
    "print('Total Matches: ', len(headings))\n",
    "headings"
   ]
  },
  {
   "cell_type": "markdown",
   "metadata": {},
   "source": [
    "***Q. Find all the domain names where the domain name starts with https***"
   ]
  },
  {
   "cell_type": "code",
   "execution_count": 3,
   "metadata": {},
   "outputs": [
    {
     "data": {
      "text/plain": [
       "['opendata',\n",
       " 'internationalgenome',\n",
       " 'internationalgenome',\n",
       " 'internationalgenome',\n",
       " 'amazon',\n",
       " 'eecs',\n",
       " 'opendata',\n",
       " 'irri',\n",
       " 'nature',\n",
       " 'amazonaws',\n",
       " 'com',\n",
       " 'd',\n",
       " 'qed',\n",
       " 'com',\n",
       " 'd',\n",
       " 'youtube',\n",
       " 'd',\n",
       " 'metoffice',\n",
       " 'com',\n",
       " 'com',\n",
       " 'metoffice',\n",
       " 'org',\n",
       " 'metoffice',\n",
       " 'metoffice',\n",
       " 'metoffice',\n",
       " 'metoffice',\n",
       " 'metoffice',\n",
       " 'metoffice',\n",
       " 'metoffice',\n",
       " 'metoffice']"
      ]
     },
     "execution_count": 3,
     "metadata": {},
     "output_type": "execute_result"
    }
   ],
   "source": [
    "domain_names = re.findall(r'\\bhttp[s]?://\\w+.(\\w+).\\w+', text)\n",
    "domain_names"
   ]
  },
  {
   "cell_type": "markdown",
   "metadata": {},
   "source": [
    "***Q. Write a regular expression to find all the values after the tags.***"
   ]
  },
  {
   "cell_type": "code",
   "execution_count": 4,
   "metadata": {},
   "outputs": [
    {
     "name": "stdout",
     "output_type": "stream",
     "text": [
      "Total Matches: 69\n"
     ]
    },
    {
     "data": {
      "text/plain": [
       "['1000 Genomes',\n",
       " 'The 1000 Genomes Project is an international collaboration which has established the most detailed catalogue of human genetic variation, including SNPs, structural variants, and their haplotype context. The final phase of the project sequenced more than 2500 individuals from 26 different populations around the world and produced an integrated set of phased haplotypes with more than 80 million variants for these individuals.',\n",
       " 'https://docs.opendata.aws/1000genomes/readme.html',\n",
       " 'http://www.internationalgenome.org/contact',\n",
       " 'Not updated',\n",
       " 'Data from the 1000 Genomes Project is now available without embargo, following the final publication from the project. Use of the data should be cited in the usual way, with current details available at http://www.internationalgenome.org/faq/how-do-i-cite-1000-genomes-project.',\n",
       " '- Description: http://www.internationalgenome.org/formats',\n",
       " 'arn:aws:s3:::1000genomes',\n",
       " 'us-east-1',\n",
       " '- Title: Exploratory data analysis of genomic datasets using ADAM and Mango with Apache Spark on Amazon EMR',\n",
       " 'https://aws.amazon.com/blogs/big-data/exploratory-data-analysis-of-genomic-datasets-using-adam-and-mango-with-apache-spark-on-amazon-emr/',\n",
       " 'Alyssa Marrow',\n",
       " 'https://research.eecs.berkeley.edu/~akmorrow/',\n",
       " '3000 Rice Genomes Project',\n",
       " 'The 3000 Rice Genome Project is an international effort to sequence the genomes of 3,024 rice varieties from 89 countries.',\n",
       " 'https://docs.opendata.aws/3kricegenome/readme.html',\n",
       " 'http://iric.irri.org/contact-us',\n",
       " 'Not updated',\n",
       " 'This data is available for anyone to use under the terms of the Toronto Statement, which is available [here](http://www.nature.com/nature/journal/v461/n7261/box/461168a_BX1.html)',\n",
       " '- Description: http://s3.amazonaws.com/3kricegenome/README-snp_pipeline.txt',\n",
       " 'arn:aws:s3:::3kricegenome',\n",
       " 'us-east-1',\n",
       " 'Africa Soil Information Service (AfSIS) Soil Chemistry',\n",
       " '|',\n",
       " 'https://github.com/qedsoftware/afsis-soil-chem-tutorial',\n",
       " 'afsis@qed.ai',\n",
       " 'QED (https://qed.ai)',\n",
       " 'Annually',\n",
       " 'ODC Open Database License (ODbL) version 1.0, with attribution to AfSIS, https://afsisdb.qed.ai/terms/',\n",
       " '- Description: Field and laboratory data about soils collected through the Africa Soil Information Service (AfSIS), stored as CSV and OPUS files.',\n",
       " 'arn:aws:s3:::afsis',\n",
       " 'us-east-1',\n",
       " '- Title: AfSIS Soil Chemistry - Usage Tutorial',\n",
       " 'https://github.com/qedsoftware/afsis-soil-chem-tutorial/',\n",
       " 'QED',\n",
       " 'https://qed.ai',\n",
       " 'https://www.youtube.com/watch?v=Fb9R0CnPMkc',\n",
       " 'QED',\n",
       " 'https://qed.ai',\n",
       " 'UK Met Office Atmospheric Deterministic and Probabilistic Forecasts',\n",
       " '|',\n",
       " 'https://github.com/MetOffice/aws-earth-examples  ',\n",
       " 'https://www.metoffice.gov.uk/about-us/contact',\n",
       " 'Daily (with 24 hour delay)',\n",
       " '|',\n",
       " '- Description: \"[Met Office UK Atmospheric Hi-Res Model (UKV) - 2km Deterministic](https://www.metoffice.gov.uk/binaries/content/assets/mohippo/pdf/data-provision/uk-atmospheric-hi-res-model-ukv-beta-service-parameters-080818.pdf)\"',\n",
       " 'arn:aws:s3:::aws-earth-mo-atmospheric-ukv-prd',\n",
       " 'eu-west-2',\n",
       " '\"[Met Office Global Atmospheric Hi-Res Model - 10km Deterministic](https://www.metoffice.gov.uk/binaries/content/assets/mohippo/pdf/data-provision/global-atmospheric-hi-res-10km-deterministic-beta-service-parameters-080818.pdf)\"',\n",
       " 'arn:aws:s3:::aws-earth-mo-atmospheric-global-prd',\n",
       " 'eu-west-2',\n",
       " '\"[Met Office Global and Regional Ensemble Prediction System (UK) MOGREPS-UK](https://www.metoffice.gov.uk/binaries/content/assets/mohippo/pdf/data-provision/mogreps-uk-ensemble-beta-service-parameters-080818.pdf)\"',\n",
       " 'arn:aws:s3:::aws-earth-mo-atmospheric-mogreps-uk-prd',\n",
       " 'eu-west-2',\n",
       " '\"[Met Office Global and Regional Ensemble Prediction System (Global) - MOGREPS-G](https://www.metoffice.gov.uk/binaries/content/assets/mohippo/pdf/data-provision/mogreps-global-ensemble-beta-service-parameters-080818.pdf)\"',\n",
       " 'arn:aws:s3:::aws-earth-mo-atmospheric-mogreps-g-prd',\n",
       " 'eu-west-2',\n",
       " '\"[Met Office UK Atmospheric Hi-Res Model (UKV) - 2km Deterministic](https://www.metoffice.gov.uk/binaries/content/assets/mohippo/pdf/data-provision/uk-atmospheric-hi-res-model-ukv-beta-service-parameters-080818.pdf)\"',\n",
       " 'arn:aws:sns:eu-west-2:021908831235:aws-earth-mo-atmospheric-ukv-prd',\n",
       " 'eu-west-2',\n",
       " '\"[Met Office Global Atmospheric Hi-Res Model - 10km Deterministic](https://www.metoffice.gov.uk/binaries/content/assets/mohippo/pdf/data-provision/global-atmospheric-hi-res-10km-deterministic-beta-service-parameters-080818.pdf)\"',\n",
       " 'arn:aws:sns:eu-west-2:021908831235:aws-earth-mo-atmospheric-global-prd',\n",
       " 'eu-west-2',\n",
       " '\"[Met Office Global and Regional Ensemble Prediction System (UK) MOGREPS-UK](https://www.metoffice.gov.uk/binaries/content/assets/mohippo/pdf/data-provision/mogreps-uk-ensemble-beta-service-parameters-080818.pdf)\"',\n",
       " 'arn:aws:sns:eu-west-2:021908831235:aws-earth-mo-atmospheric-mogreps-uk-prd',\n",
       " 'eu-west-2',\n",
       " '\"[Met Office Global and Regional Ensemble Prediction System (Global) - MOGREPS-G](https://www.metoffice.gov.uk/binaries/content/assets/mohippo/pdf/data-provision/mogreps-global-ensemble-beta-service-parameters-080818.pdf)\"',\n",
       " 'arn:aws:sns:eu-west-2:021908831235:aws-earth-mo-atmospheric-mogreps-g-prd',\n",
       " 'eu-west-2']"
      ]
     },
     "execution_count": 4,
     "metadata": {},
     "output_type": "execute_result"
    }
   ],
   "source": [
    "tags_data = re.findall(r'\\b[^Tags:\\s]\\w+:\\s+(.+)', text)\n",
    "print('Total Matches:', len(tags_data))\n",
    "tags_data"
   ]
  },
  {
   "cell_type": "markdown",
   "metadata": {},
   "source": [
    "***Q. Write a regular expression to find all the values after the tag 'Tags'***"
   ]
  },
  {
   "cell_type": "code",
   "execution_count": 5,
   "metadata": {},
   "outputs": [],
   "source": [
    "txt_file = open('text.txt', 'r')"
   ]
  },
  {
   "cell_type": "code",
   "execution_count": 6,
   "metadata": {},
   "outputs": [
    {
     "data": {
      "text/plain": [
       "'======================================================  YOUR TEXT DATA  =================================================================\\nName: 1000 Genomes\\nDescription: The 1000 Genomes Project is an international collaboration which has established the most detailed catalogue of human genetic variation, including SNPs, structural variants, and their haplotype context. The final phase of the project sequenced more than 2500 individuals from 26 different populations around the world and produced an integrated set of phased haplotypes with more than 80 million variants for these individuals.\\nDocumentation: https://docs.opendata.aws/1000genomes/readme.html\\nContact: http://www.internationalgenome.org/contact\\nUpdateFrequency: Not updated\\nTags:\\n  - aws-pds\\n  - genetic\\n  - genomic\\n  - life sciences\\nLicense: Data from the 1000 Genomes Project is now available without embargo, following the final publication from the project. Use of the data should be cited in the usual way, with current details available at http://www.internationalgenome.org/faq/how-do-i-cite-1000-genomes-project.\\nResources:\\n  - Description: http://www.internationalgenome.org/formats\\n    ARN: arn:aws:s3:::1000genomes\\n    Region: us-east-1\\n    Type: S3 Bucket\\nDataAtWork:\\n  - Title: Exploratory data analysis of genomic datasets using ADAM and Mango with Apache Spark on Amazon EMR\\n    URL: https://aws.amazon.com/blogs/big-data/exploratory-data-analysis-of-genomic-datasets-using-adam-and-mango-with-apache-spark-on-amazon-emr/\\n    AuthorName: Alyssa Marrow\\n    AuthorURL: https://research.eecs.berkeley.edu/~akmorrow/\\n\\nName: 3000 Rice Genomes Project\\nDescription: The 3000 Rice Genome Project is an international effort to sequence the genomes of 3,024 rice varieties from 89 countries.\\nDocumentation: https://docs.opendata.aws/3kricegenome/readme.html\\nContact: http://iric.irri.org/contact-us\\nUpdateFrequency: Not updated\\nTags:\\n  - agriculture\\n  - food security\\n  - aws-pds\\n  - genetic\\n  - genomic\\n  - life sciences\\nLicense: This data is available for anyone to use under the terms of the Toronto Statement, which is available [here](http://www.nature.com/nature/journal/v461/n7261/box/461168a_BX1.html)\\nResources:\\n  - Description: http://s3.amazonaws.com/3kricegenome/README-snp_pipeline.txt\\n    ARN: arn:aws:s3:::3kricegenome\\n    Region: us-east-1\\n    Type: S3 Bucket\\n\\nName: Africa Soil Information Service (AfSIS) Soil Chemistry\\nDescription: |\\n    This dataset contains field and laboratory data collected through the Africa \\n    Soil Information Service (AfSIS) project, which lasted from 2009 through 2018. \\n    In this initial release, we are including data collected during Phase I, which \\n    spanned from 2009 through 2013. Georeferenced soil samples were collected from \\n    many countries throughout Sub-Saharan Africa, and their nutrient content was \\n    analyzed using *both* wet chemistry and dry chemistry. The two types of data \\n    can be paired to form a training dataset for machine learning, such that the \\n    chemical concentrations of certain nutrients can be well-predicted using less \\n    expensive dry chemistry techniques.\\nDocumentation: https://github.com/qedsoftware/afsis-soil-chem-tutorial\\nContact: afsis@qed.ai\\nManagedBy: QED (https://qed.ai)\\nUpdateFrequency: Annually\\nTags:\\n  - agriculture\\n  - environmental\\n  - food security\\n  - machine learning\\n  - life sciences\\n  - sustainability\\nLicense: ODC Open Database License (ODbL) version 1.0, with attribution to AfSIS, https://afsisdb.qed.ai/terms/\\nResources:\\n  - Description: Field and laboratory data about soils collected through the Africa Soil Information Service (AfSIS), stored as CSV and OPUS files.\\n    ARN: arn:aws:s3:::afsis\\n    Region: us-east-1\\n    Type: S3 Bucket\\nDataAtWork:\\n  - Title: AfSIS Soil Chemistry - Usage Tutorial\\n    URL: https://github.com/qedsoftware/afsis-soil-chem-tutorial/\\n    AuthorName: QED\\n    AuthorURL: https://qed.ai\\n  - Title: Goalkeepers 2018, Soil - The Big Data Beneath Your Feet\\n    URL: https://www.youtube.com/watch?v=Fb9R0CnPMkc\\n    AuthorName: QED\\n    AuthorURL: https://qed.ai\\n\\nName: UK Met Office Atmospheric Deterministic and Probabilistic Forecasts\\nDescription: |\\n  Meteorological data reusers now have an exciting opportunity to sample, experiment and evaluate\\n  Met Office atmospheric model data, whilst also experiencing a transformative method of requesting\\n  data via Restful APIs on AWS. All ahead of Met Officeâ€™s own operationally supported API platform\\n  that will be launched in late 2019.\\n  \\n  For information about the data see the [Met Office website](https://www.metoffice.gov.uk/services/data-provision/big-data-drive/wholesale/categories/planetary-scale-applications).\\n  For examples of using the data check out the [examples repository](https://github.com/MetOffice/aws-earth-examples). \\n  If you need help and support using the data please raise an issue on the examples repository.\\nDocumentation: https://github.com/MetOffice/aws-earth-examples  \\nContact: https://www.metoffice.gov.uk/about-us/contact\\nUpdateFrequency: Daily (with 24 hour delay)\\nTags:\\n  - aws-pds\\n  - earth observation\\n  - climate\\n  - weather\\n  - meteorological\\n  - sustainability\\nLicense: |\\n  This data is made available under a [Creative Commons licence](https://creativecommons.org/licenses/by-nc-nd/4.0/).\\n  This data is free to use for non-commercial purposes under the terms of the licence. You must\\n  ensure that you acknowledge the source of this data as prescribed by this licence. Data or any\\n  derivatives made using the data are for internal use only and may not be distributed or otherwise\\n  shared.\\nResources:\\n  - Description: \"[Met Office UK Atmospheric Hi-Res Model (UKV) - 2km Deterministic](https://www.metoffice.gov.uk/binaries/content/assets/mohippo/pdf/data-provision/uk-atmospheric-hi-res-model-ukv-beta-service-parameters-080818.pdf)\"\\n    ARN: arn:aws:s3:::aws-earth-mo-atmospheric-ukv-prd\\n    Region: eu-west-2\\n    Type: S3 Bucket\\n  - Description: \"[Met Office Global Atmospheric Hi-Res Model - 10km Deterministic](https://www.metoffice.gov.uk/binaries/content/assets/mohippo/pdf/data-provision/global-atmospheric-hi-res-10km-deterministic-beta-service-parameters-080818.pdf)\"\\n    ARN: arn:aws:s3:::aws-earth-mo-atmospheric-global-prd\\n    Region: eu-west-2\\n    Type: S3 Bucket\\n  - Description: \"[Met Office Global and Regional Ensemble Prediction System (UK) MOGREPS-UK](https://www.metoffice.gov.uk/binaries/content/assets/mohippo/pdf/data-provision/mogreps-uk-ensemble-beta-service-parameters-080818.pdf)\"\\n    ARN: arn:aws:s3:::aws-earth-mo-atmospheric-mogreps-uk-prd\\n    Region: eu-west-2\\n    Type: S3 Bucket\\n  - Description: \"[Met Office Global and Regional Ensemble Prediction System (Global) - MOGREPS-G](https://www.metoffice.gov.uk/binaries/content/assets/mohippo/pdf/data-provision/mogreps-global-ensemble-beta-service-parameters-080818.pdf)\"\\n    ARN: arn:aws:s3:::aws-earth-mo-atmospheric-mogreps-g-prd\\n    Region: eu-west-2\\n    Type: S3 Bucket\\n  - Description: \"[Met Office UK Atmospheric Hi-Res Model (UKV) - 2km Deterministic](https://www.metoffice.gov.uk/binaries/content/assets/mohippo/pdf/data-provision/uk-atmospheric-hi-res-model-ukv-beta-service-parameters-080818.pdf)\"\\n    ARN: arn:aws:sns:eu-west-2:021908831235:aws-earth-mo-atmospheric-ukv-prd\\n    Region: eu-west-2\\n    Type: SNS Topic\\n  - Description: \"[Met Office Global Atmospheric Hi-Res Model - 10km Deterministic](https://www.metoffice.gov.uk/binaries/content/assets/mohippo/pdf/data-provision/global-atmospheric-hi-res-10km-deterministic-beta-service-parameters-080818.pdf)\"\\n    ARN: arn:aws:sns:eu-west-2:021908831235:aws-earth-mo-atmospheric-global-prd\\n    Region: eu-west-2\\n    Type: SNS Topic\\n  - Description: \"[Met Office Global and Regional Ensemble Prediction System (UK) MOGREPS-UK](https://www.metoffice.gov.uk/binaries/content/assets/mohippo/pdf/data-provision/mogreps-uk-ensemble-beta-service-parameters-080818.pdf)\"\\n    ARN: arn:aws:sns:eu-west-2:021908831235:aws-earth-mo-atmospheric-mogreps-uk-prd\\n    Region: eu-west-2\\n    Type: SNS Topic\\n  - Description: \"[Met Office Global and Regional Ensemble Prediction System (Global) - MOGREPS-G](https://www.metoffice.gov.uk/binaries/content/assets/mohippo/pdf/data-provision/mogreps-global-ensemble-beta-service-parameters-080818.pdf)\"\\n    ARN: arn:aws:sns:eu-west-2:021908831235:aws-earth-mo-atmospheric-mogreps-g-prd\\n    Region: eu-west-2\\n    Type: SNS Topic'"
      ]
     },
     "execution_count": 6,
     "metadata": {},
     "output_type": "execute_result"
    }
   ],
   "source": [
    "txt = txt_file.read()\n",
    "txt"
   ]
  },
  {
   "cell_type": "code",
   "execution_count": 7,
   "metadata": {},
   "outputs": [
    {
     "data": {
      "text/plain": [
       "['======================================================  YOUR TEXT DATA  =================================================================\\nName: 1000 Genomes\\nDescription: The 1000 Genomes Project is an international collaboration which has established the most detailed catalogue of human genetic variation, including SNPs, structural variants, and their haplotype context. The final phase of the project sequenced more than 2500 individuals from 26 different populations around the world and produced an integrated set of phased haplotypes with more than 80 million variants for these individuals.\\nDocumentation: https://docs.opendata.aws/1000genomes/readme.html\\nContact: http://www.internationalgenome.org/contact\\nUpdateFrequency: Not updated\\n',\n",
       " '  - aws-pds\\n  - genetic\\n  - genomic\\n  - life sciences\\nLicense: Data from the 1000 Genomes Project is now available without embargo, following the final publication from the project. Use of the data should be cited in the usual way, with current details available at http://www.internationalgenome.org/faq/how-do-i-cite-1000-genomes-project.\\nResources:\\n  - Description: http://www.internationalgenome.org/formats\\n    ARN: arn:aws:s3:::1000genomes\\n    Region: us-east-1\\n    Type: S3 Bucket\\nDataAtWork:\\n  - Title: Exploratory data analysis of genomic datasets using ADAM and Mango with Apache Spark on Amazon EMR\\n    URL: https://aws.amazon.com/blogs/big-data/exploratory-data-analysis-of-genomic-datasets-using-adam-and-mango-with-apache-spark-on-amazon-emr/\\n    AuthorName: Alyssa Marrow\\n    AuthorURL: https://research.eecs.berkeley.edu/~akmorrow/\\n\\nName: 3000 Rice Genomes Project\\nDescription: The 3000 Rice Genome Project is an international effort to sequence the genomes of 3,024 rice varieties from 89 countries.\\nDocumentation: https://docs.opendata.aws/3kricegenome/readme.html\\nContact: http://iric.irri.org/contact-us\\nUpdateFrequency: Not updated\\n',\n",
       " '  - agriculture\\n  - food security\\n  - aws-pds\\n  - genetic\\n  - genomic\\n  - life sciences\\nLicense: This data is available for anyone to use under the terms of the Toronto Statement, which is available [here](http://www.nature.com/nature/journal/v461/n7261/box/461168a_BX1.html)\\nResources:\\n  - Description: http://s3.amazonaws.com/3kricegenome/README-snp_pipeline.txt\\n    ARN: arn:aws:s3:::3kricegenome\\n    Region: us-east-1\\n    Type: S3 Bucket\\n\\nName: Africa Soil Information Service (AfSIS) Soil Chemistry\\nDescription: |\\n    This dataset contains field and laboratory data collected through the Africa \\n    Soil Information Service (AfSIS) project, which lasted from 2009 through 2018. \\n    In this initial release, we are including data collected during Phase I, which \\n    spanned from 2009 through 2013. Georeferenced soil samples were collected from \\n    many countries throughout Sub-Saharan Africa, and their nutrient content was \\n    analyzed using *both* wet chemistry and dry chemistry. The two types of data \\n    can be paired to form a training dataset for machine learning, such that the \\n    chemical concentrations of certain nutrients can be well-predicted using less \\n    expensive dry chemistry techniques.\\nDocumentation: https://github.com/qedsoftware/afsis-soil-chem-tutorial\\nContact: afsis@qed.ai\\nManagedBy: QED (https://qed.ai)\\nUpdateFrequency: Annually\\n',\n",
       " '  - agriculture\\n  - environmental\\n  - food security\\n  - machine learning\\n  - life sciences\\n  - sustainability\\nLicense: ODC Open Database License (ODbL) version 1.0, with attribution to AfSIS, https://afsisdb.qed.ai/terms/\\nResources:\\n  - Description: Field and laboratory data about soils collected through the Africa Soil Information Service (AfSIS), stored as CSV and OPUS files.\\n    ARN: arn:aws:s3:::afsis\\n    Region: us-east-1\\n    Type: S3 Bucket\\nDataAtWork:\\n  - Title: AfSIS Soil Chemistry - Usage Tutorial\\n    URL: https://github.com/qedsoftware/afsis-soil-chem-tutorial/\\n    AuthorName: QED\\n    AuthorURL: https://qed.ai\\n  - Title: Goalkeepers 2018, Soil - The Big Data Beneath Your Feet\\n    URL: https://www.youtube.com/watch?v=Fb9R0CnPMkc\\n    AuthorName: QED\\n    AuthorURL: https://qed.ai\\n\\nName: UK Met Office Atmospheric Deterministic and Probabilistic Forecasts\\nDescription: |\\n  Meteorological data reusers now have an exciting opportunity to sample, experiment and evaluate\\n  Met Office atmospheric model data, whilst also experiencing a transformative method of requesting\\n  data via Restful APIs on AWS. All ahead of Met Officeâ€™s own operationally supported API platform\\n  that will be launched in late 2019.\\n  \\n  For information about the data see the [Met Office website](https://www.metoffice.gov.uk/services/data-provision/big-data-drive/wholesale/categories/planetary-scale-applications).\\n  For examples of using the data check out the [examples repository](https://github.com/MetOffice/aws-earth-examples). \\n  If you need help and support using the data please raise an issue on the examples repository.\\nDocumentation: https://github.com/MetOffice/aws-earth-examples  \\nContact: https://www.metoffice.gov.uk/about-us/contact\\nUpdateFrequency: Daily (with 24 hour delay)\\n',\n",
       " '  - aws-pds\\n  - earth observation\\n  - climate\\n  - weather\\n  - meteorological\\n  - sustainability\\nLicense: |\\n  This data is made available under a [Creative Commons licence](https://creativecommons.org/licenses/by-nc-nd/4.0/).\\n  This data is free to use for non-commercial purposes under the terms of the licence. You must\\n  ensure that you acknowledge the source of this data as prescribed by this licence. Data or any\\n  derivatives made using the data are for internal use only and may not be distributed or otherwise\\n  shared.\\nResources:\\n  - Description: \"[Met Office UK Atmospheric Hi-Res Model (UKV) - 2km Deterministic](https://www.metoffice.gov.uk/binaries/content/assets/mohippo/pdf/data-provision/uk-atmospheric-hi-res-model-ukv-beta-service-parameters-080818.pdf)\"\\n    ARN: arn:aws:s3:::aws-earth-mo-atmospheric-ukv-prd\\n    Region: eu-west-2\\n    Type: S3 Bucket\\n  - Description: \"[Met Office Global Atmospheric Hi-Res Model - 10km Deterministic](https://www.metoffice.gov.uk/binaries/content/assets/mohippo/pdf/data-provision/global-atmospheric-hi-res-10km-deterministic-beta-service-parameters-080818.pdf)\"\\n    ARN: arn:aws:s3:::aws-earth-mo-atmospheric-global-prd\\n    Region: eu-west-2\\n    Type: S3 Bucket\\n  - Description: \"[Met Office Global and Regional Ensemble Prediction System (UK) MOGREPS-UK](https://www.metoffice.gov.uk/binaries/content/assets/mohippo/pdf/data-provision/mogreps-uk-ensemble-beta-service-parameters-080818.pdf)\"\\n    ARN: arn:aws:s3:::aws-earth-mo-atmospheric-mogreps-uk-prd\\n    Region: eu-west-2\\n    Type: S3 Bucket\\n  - Description: \"[Met Office Global and Regional Ensemble Prediction System (Global) - MOGREPS-G](https://www.metoffice.gov.uk/binaries/content/assets/mohippo/pdf/data-provision/mogreps-global-ensemble-beta-service-parameters-080818.pdf)\"\\n    ARN: arn:aws:s3:::aws-earth-mo-atmospheric-mogreps-g-prd\\n    Region: eu-west-2\\n    Type: S3 Bucket\\n  - Description: \"[Met Office UK Atmospheric Hi-Res Model (UKV) - 2km Deterministic](https://www.metoffice.gov.uk/binaries/content/assets/mohippo/pdf/data-provision/uk-atmospheric-hi-res-model-ukv-beta-service-parameters-080818.pdf)\"\\n    ARN: arn:aws:sns:eu-west-2:021908831235:aws-earth-mo-atmospheric-ukv-prd\\n    Region: eu-west-2\\n    Type: SNS Topic\\n  - Description: \"[Met Office Global Atmospheric Hi-Res Model - 10km Deterministic](https://www.metoffice.gov.uk/binaries/content/assets/mohippo/pdf/data-provision/global-atmospheric-hi-res-10km-deterministic-beta-service-parameters-080818.pdf)\"\\n    ARN: arn:aws:sns:eu-west-2:021908831235:aws-earth-mo-atmospheric-global-prd\\n    Region: eu-west-2\\n    Type: SNS Topic\\n  - Description: \"[Met Office Global and Regional Ensemble Prediction System (UK) MOGREPS-UK](https://www.metoffice.gov.uk/binaries/content/assets/mohippo/pdf/data-provision/mogreps-uk-ensemble-beta-service-parameters-080818.pdf)\"\\n    ARN: arn:aws:sns:eu-west-2:021908831235:aws-earth-mo-atmospheric-mogreps-uk-prd\\n    Region: eu-west-2\\n    Type: SNS Topic\\n  - Description: \"[Met Office Global and Regional Ensemble Prediction System (Global) - MOGREPS-G](https://www.metoffice.gov.uk/binaries/content/assets/mohippo/pdf/data-provision/mogreps-global-ensemble-beta-service-parameters-080818.pdf)\"\\n    ARN: arn:aws:sns:eu-west-2:021908831235:aws-earth-mo-atmospheric-mogreps-g-prd\\n    Region: eu-west-2\\n    Type: SNS Topic']"
      ]
     },
     "execution_count": 7,
     "metadata": {},
     "output_type": "execute_result"
    }
   ],
   "source": [
    "tags = re.split(r'Tags:\\s', txt)\n",
    "tags"
   ]
  },
  {
   "cell_type": "code",
   "execution_count": 12,
   "metadata": {},
   "outputs": [],
   "source": [
    "tag_values = []\n",
    "for tag in tags:\n",
    "    matches = re.findall(r'-\\s(\\w+[- a-zA-Z]*)\\\\n', tag)\n",
    "    for i in matches:\n",
    "        tag_values.append(i)"
   ]
  },
  {
   "cell_type": "code",
   "execution_count": 9,
   "metadata": {},
   "outputs": [
    {
     "data": {
      "text/plain": [
       "['aws-pds',\n",
       " 'genetic',\n",
       " 'genomic',\n",
       " 'life sciences',\n",
       " 'Description',\n",
       " 'Title',\n",
       " 'agriculture',\n",
       " 'food security',\n",
       " 'aws-pds',\n",
       " 'genetic',\n",
       " 'genomic',\n",
       " 'life sciences',\n",
       " 'Description',\n",
       " 'agriculture',\n",
       " 'environmental',\n",
       " 'food security',\n",
       " 'machine learning',\n",
       " 'life sciences',\n",
       " 'sustainability',\n",
       " 'Description',\n",
       " 'Title',\n",
       " 'Usage Tutorial',\n",
       " 'Title',\n",
       " 'The Big Data Beneath Your Feet',\n",
       " 'aws-pds',\n",
       " 'earth observation',\n",
       " 'climate',\n",
       " 'weather',\n",
       " 'meteorological',\n",
       " 'sustainability',\n",
       " 'Description',\n",
       " '2km Deterministic',\n",
       " 'Description',\n",
       " '10km Deterministic',\n",
       " 'Description',\n",
       " 'Description',\n",
       " 'MOGREPS-G',\n",
       " 'Description',\n",
       " '2km Deterministic',\n",
       " 'Description',\n",
       " '10km Deterministic',\n",
       " 'Description',\n",
       " 'Description',\n",
       " 'MOGREPS-G']"
      ]
     },
     "execution_count": 9,
     "metadata": {},
     "output_type": "execute_result"
    }
   ],
   "source": [
    "tag_values"
   ]
  },
  {
   "cell_type": "code",
   "execution_count": null,
   "metadata": {},
   "outputs": [],
   "source": []
  }
 ],
 "metadata": {
  "kernelspec": {
   "display_name": "Python 3",
   "language": "python",
   "name": "python3"
  },
  "language_info": {
   "codemirror_mode": {
    "name": "ipython",
    "version": 3
   },
   "file_extension": ".py",
   "mimetype": "text/x-python",
   "name": "python",
   "nbconvert_exporter": "python",
   "pygments_lexer": "ipython3",
   "version": "3.7.4"
  }
 },
 "nbformat": 4,
 "nbformat_minor": 2
}
