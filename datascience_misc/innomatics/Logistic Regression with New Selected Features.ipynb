{
 "cells": [
  {
   "cell_type": "markdown",
   "metadata": {},
   "source": [
    "# Logistic Regression Steps\n",
    "\n",
    "1. Data Preprocessing And Analysis\n",
    "2. Building a Sample Model with Cleaned Data(using GLM)\n",
    "3. Interpret the model for correctness using pvalues\n",
    "4. Look for multicolinearity (Optional use when pvalues > 0.025)\n",
    "5. Find the best Predictors(Using RFE)\n",
    "6. Now with remaining features build Logistic Regression\n",
    "7. Apply metrics for accepting the model\n",
    "8. Log Likelihood(Maximum Likelihood Estimation)\n",
    "9. Confusion Matrix\n",
    "10. Classification Matrix\n",
    "11. Cohen Kappa Score\n",
    "12. ROC Curve, AUC, FPR, TPR, Threshold\n",
    "    (IF AUC is less, then your model is not correct)\n",
    "13. Other Metrics - chi2, deviance, null deviance\n",
    "    ( if deviance > null deviance acept that our predictors are good)"
   ]
  },
  {
   "cell_type": "code",
   "execution_count": 1,
   "metadata": {},
   "outputs": [],
   "source": [
    "import pandas as pd\n",
    "import numpy as np\n",
    "import matplotlib.pyplot as plt\n",
    "%matplotlib inline\n",
    "import seaborn as sns\n",
    "\n",
    "import statsmodels.formula.api as smf\n",
    "import statsmodels.api as sm"
   ]
  },
  {
   "cell_type": "code",
   "execution_count": 2,
   "metadata": {},
   "outputs": [
    {
     "data": {
      "text/plain": [
       "(4240, 9)"
      ]
     },
     "execution_count": 2,
     "metadata": {},
     "output_type": "execute_result"
    }
   ],
   "source": [
    "df = pd.read_csv('datasets/logistic-regression/framingham_selected_features.csv')\n",
    "df.shape"
   ]
  },
  {
   "cell_type": "code",
   "execution_count": 3,
   "metadata": {},
   "outputs": [
    {
     "data": {
      "text/html": [
       "<div>\n",
       "<style scoped>\n",
       "    .dataframe tbody tr th:only-of-type {\n",
       "        vertical-align: middle;\n",
       "    }\n",
       "\n",
       "    .dataframe tbody tr th {\n",
       "        vertical-align: top;\n",
       "    }\n",
       "\n",
       "    .dataframe thead th {\n",
       "        text-align: right;\n",
       "    }\n",
       "</style>\n",
       "<table border=\"1\" class=\"dataframe\">\n",
       "  <thead>\n",
       "    <tr style=\"text-align: right;\">\n",
       "      <th></th>\n",
       "      <th>edu_2.0</th>\n",
       "      <th>edu_3.0</th>\n",
       "      <th>male</th>\n",
       "      <th>age</th>\n",
       "      <th>BPMeds</th>\n",
       "      <th>prevalentStroke</th>\n",
       "      <th>prevalentHyp</th>\n",
       "      <th>diabetes</th>\n",
       "      <th>TenYearCHD</th>\n",
       "    </tr>\n",
       "  </thead>\n",
       "  <tbody>\n",
       "    <tr>\n",
       "      <td>0</td>\n",
       "      <td>0</td>\n",
       "      <td>0</td>\n",
       "      <td>1</td>\n",
       "      <td>39</td>\n",
       "      <td>0.0</td>\n",
       "      <td>0</td>\n",
       "      <td>0</td>\n",
       "      <td>0</td>\n",
       "      <td>0</td>\n",
       "    </tr>\n",
       "    <tr>\n",
       "      <td>1</td>\n",
       "      <td>1</td>\n",
       "      <td>0</td>\n",
       "      <td>0</td>\n",
       "      <td>46</td>\n",
       "      <td>0.0</td>\n",
       "      <td>0</td>\n",
       "      <td>0</td>\n",
       "      <td>0</td>\n",
       "      <td>0</td>\n",
       "    </tr>\n",
       "    <tr>\n",
       "      <td>2</td>\n",
       "      <td>0</td>\n",
       "      <td>0</td>\n",
       "      <td>1</td>\n",
       "      <td>48</td>\n",
       "      <td>0.0</td>\n",
       "      <td>0</td>\n",
       "      <td>0</td>\n",
       "      <td>0</td>\n",
       "      <td>0</td>\n",
       "    </tr>\n",
       "    <tr>\n",
       "      <td>3</td>\n",
       "      <td>0</td>\n",
       "      <td>1</td>\n",
       "      <td>0</td>\n",
       "      <td>61</td>\n",
       "      <td>0.0</td>\n",
       "      <td>0</td>\n",
       "      <td>1</td>\n",
       "      <td>0</td>\n",
       "      <td>1</td>\n",
       "    </tr>\n",
       "    <tr>\n",
       "      <td>4</td>\n",
       "      <td>0</td>\n",
       "      <td>1</td>\n",
       "      <td>0</td>\n",
       "      <td>46</td>\n",
       "      <td>0.0</td>\n",
       "      <td>0</td>\n",
       "      <td>0</td>\n",
       "      <td>0</td>\n",
       "      <td>0</td>\n",
       "    </tr>\n",
       "  </tbody>\n",
       "</table>\n",
       "</div>"
      ],
      "text/plain": [
       "   edu_2.0  edu_3.0  male  age  BPMeds  prevalentStroke  prevalentHyp  \\\n",
       "0        0        0     1   39     0.0                0             0   \n",
       "1        1        0     0   46     0.0                0             0   \n",
       "2        0        0     1   48     0.0                0             0   \n",
       "3        0        1     0   61     0.0                0             1   \n",
       "4        0        1     0   46     0.0                0             0   \n",
       "\n",
       "   diabetes  TenYearCHD  \n",
       "0         0           0  \n",
       "1         0           0  \n",
       "2         0           0  \n",
       "3         0           1  \n",
       "4         0           0  "
      ]
     },
     "execution_count": 3,
     "metadata": {},
     "output_type": "execute_result"
    }
   ],
   "source": [
    "df.head()"
   ]
  },
  {
   "cell_type": "code",
   "execution_count": 4,
   "metadata": {},
   "outputs": [
    {
     "data": {
      "text/html": [
       "<div>\n",
       "<style scoped>\n",
       "    .dataframe tbody tr th:only-of-type {\n",
       "        vertical-align: middle;\n",
       "    }\n",
       "\n",
       "    .dataframe tbody tr th {\n",
       "        vertical-align: top;\n",
       "    }\n",
       "\n",
       "    .dataframe thead th {\n",
       "        text-align: right;\n",
       "    }\n",
       "</style>\n",
       "<table border=\"1\" class=\"dataframe\">\n",
       "  <thead>\n",
       "    <tr style=\"text-align: right;\">\n",
       "      <th></th>\n",
       "      <th>edu_2.0</th>\n",
       "      <th>edu_3.0</th>\n",
       "      <th>male</th>\n",
       "      <th>age</th>\n",
       "      <th>BPMeds</th>\n",
       "      <th>prevalentStroke</th>\n",
       "      <th>prevalentHyp</th>\n",
       "      <th>diabetes</th>\n",
       "      <th>TenYearCHD</th>\n",
       "    </tr>\n",
       "  </thead>\n",
       "  <tbody>\n",
       "    <tr>\n",
       "      <td>count</td>\n",
       "      <td>4240.000000</td>\n",
       "      <td>4240.000000</td>\n",
       "      <td>4240.000000</td>\n",
       "      <td>4240.000000</td>\n",
       "      <td>4240.000000</td>\n",
       "      <td>4240.000000</td>\n",
       "      <td>4240.000000</td>\n",
       "      <td>4240.000000</td>\n",
       "      <td>4240.000000</td>\n",
       "    </tr>\n",
       "    <tr>\n",
       "      <td>mean</td>\n",
       "      <td>0.295519</td>\n",
       "      <td>0.162500</td>\n",
       "      <td>0.429245</td>\n",
       "      <td>49.580189</td>\n",
       "      <td>0.029245</td>\n",
       "      <td>0.005896</td>\n",
       "      <td>0.310613</td>\n",
       "      <td>0.025708</td>\n",
       "      <td>0.151887</td>\n",
       "    </tr>\n",
       "    <tr>\n",
       "      <td>std</td>\n",
       "      <td>0.456329</td>\n",
       "      <td>0.368952</td>\n",
       "      <td>0.495027</td>\n",
       "      <td>8.572942</td>\n",
       "      <td>0.168513</td>\n",
       "      <td>0.076569</td>\n",
       "      <td>0.462799</td>\n",
       "      <td>0.158280</td>\n",
       "      <td>0.358953</td>\n",
       "    </tr>\n",
       "    <tr>\n",
       "      <td>min</td>\n",
       "      <td>0.000000</td>\n",
       "      <td>0.000000</td>\n",
       "      <td>0.000000</td>\n",
       "      <td>32.000000</td>\n",
       "      <td>0.000000</td>\n",
       "      <td>0.000000</td>\n",
       "      <td>0.000000</td>\n",
       "      <td>0.000000</td>\n",
       "      <td>0.000000</td>\n",
       "    </tr>\n",
       "    <tr>\n",
       "      <td>25%</td>\n",
       "      <td>0.000000</td>\n",
       "      <td>0.000000</td>\n",
       "      <td>0.000000</td>\n",
       "      <td>42.000000</td>\n",
       "      <td>0.000000</td>\n",
       "      <td>0.000000</td>\n",
       "      <td>0.000000</td>\n",
       "      <td>0.000000</td>\n",
       "      <td>0.000000</td>\n",
       "    </tr>\n",
       "    <tr>\n",
       "      <td>50%</td>\n",
       "      <td>0.000000</td>\n",
       "      <td>0.000000</td>\n",
       "      <td>0.000000</td>\n",
       "      <td>49.000000</td>\n",
       "      <td>0.000000</td>\n",
       "      <td>0.000000</td>\n",
       "      <td>0.000000</td>\n",
       "      <td>0.000000</td>\n",
       "      <td>0.000000</td>\n",
       "    </tr>\n",
       "    <tr>\n",
       "      <td>75%</td>\n",
       "      <td>1.000000</td>\n",
       "      <td>0.000000</td>\n",
       "      <td>1.000000</td>\n",
       "      <td>56.000000</td>\n",
       "      <td>0.000000</td>\n",
       "      <td>0.000000</td>\n",
       "      <td>1.000000</td>\n",
       "      <td>0.000000</td>\n",
       "      <td>0.000000</td>\n",
       "    </tr>\n",
       "    <tr>\n",
       "      <td>max</td>\n",
       "      <td>1.000000</td>\n",
       "      <td>1.000000</td>\n",
       "      <td>1.000000</td>\n",
       "      <td>70.000000</td>\n",
       "      <td>1.000000</td>\n",
       "      <td>1.000000</td>\n",
       "      <td>1.000000</td>\n",
       "      <td>1.000000</td>\n",
       "      <td>1.000000</td>\n",
       "    </tr>\n",
       "  </tbody>\n",
       "</table>\n",
       "</div>"
      ],
      "text/plain": [
       "           edu_2.0      edu_3.0         male          age       BPMeds  \\\n",
       "count  4240.000000  4240.000000  4240.000000  4240.000000  4240.000000   \n",
       "mean      0.295519     0.162500     0.429245    49.580189     0.029245   \n",
       "std       0.456329     0.368952     0.495027     8.572942     0.168513   \n",
       "min       0.000000     0.000000     0.000000    32.000000     0.000000   \n",
       "25%       0.000000     0.000000     0.000000    42.000000     0.000000   \n",
       "50%       0.000000     0.000000     0.000000    49.000000     0.000000   \n",
       "75%       1.000000     0.000000     1.000000    56.000000     0.000000   \n",
       "max       1.000000     1.000000     1.000000    70.000000     1.000000   \n",
       "\n",
       "       prevalentStroke  prevalentHyp     diabetes   TenYearCHD  \n",
       "count      4240.000000   4240.000000  4240.000000  4240.000000  \n",
       "mean          0.005896      0.310613     0.025708     0.151887  \n",
       "std           0.076569      0.462799     0.158280     0.358953  \n",
       "min           0.000000      0.000000     0.000000     0.000000  \n",
       "25%           0.000000      0.000000     0.000000     0.000000  \n",
       "50%           0.000000      0.000000     0.000000     0.000000  \n",
       "75%           0.000000      1.000000     0.000000     0.000000  \n",
       "max           1.000000      1.000000     1.000000     1.000000  "
      ]
     },
     "execution_count": 4,
     "metadata": {},
     "output_type": "execute_result"
    }
   ],
   "source": [
    "df.describe()"
   ]
  },
  {
   "cell_type": "code",
   "execution_count": 5,
   "metadata": {},
   "outputs": [
    {
     "data": {
      "text/html": [
       "<div>\n",
       "<style scoped>\n",
       "    .dataframe tbody tr th:only-of-type {\n",
       "        vertical-align: middle;\n",
       "    }\n",
       "\n",
       "    .dataframe tbody tr th {\n",
       "        vertical-align: top;\n",
       "    }\n",
       "\n",
       "    .dataframe thead th {\n",
       "        text-align: right;\n",
       "    }\n",
       "</style>\n",
       "<table border=\"1\" class=\"dataframe\">\n",
       "  <thead>\n",
       "    <tr style=\"text-align: right;\">\n",
       "      <th></th>\n",
       "      <th>edu_2.0</th>\n",
       "      <th>edu_3.0</th>\n",
       "      <th>male</th>\n",
       "      <th>age</th>\n",
       "      <th>BPMeds</th>\n",
       "      <th>prevalentStroke</th>\n",
       "      <th>prevalentHyp</th>\n",
       "      <th>diabetes</th>\n",
       "      <th>TenYearCHD</th>\n",
       "    </tr>\n",
       "  </thead>\n",
       "  <tbody>\n",
       "    <tr>\n",
       "      <td>edu_2.0</td>\n",
       "      <td>1.000000</td>\n",
       "      <td>-0.285294</td>\n",
       "      <td>-0.051009</td>\n",
       "      <td>-0.175657</td>\n",
       "      <td>0.004159</td>\n",
       "      <td>-0.002619</td>\n",
       "      <td>-0.033733</td>\n",
       "      <td>-0.030086</td>\n",
       "      <td>-0.062381</td>\n",
       "    </tr>\n",
       "    <tr>\n",
       "      <td>edu_3.0</td>\n",
       "      <td>-0.285294</td>\n",
       "      <td>1.000000</td>\n",
       "      <td>-0.091383</td>\n",
       "      <td>-0.043836</td>\n",
       "      <td>-0.011952</td>\n",
       "      <td>-0.008872</td>\n",
       "      <td>-0.048372</td>\n",
       "      <td>-0.014997</td>\n",
       "      <td>-0.029658</td>\n",
       "    </tr>\n",
       "    <tr>\n",
       "      <td>male</td>\n",
       "      <td>-0.051009</td>\n",
       "      <td>-0.091383</td>\n",
       "      <td>1.000000</td>\n",
       "      <td>-0.029014</td>\n",
       "      <td>-0.051544</td>\n",
       "      <td>-0.004550</td>\n",
       "      <td>0.005853</td>\n",
       "      <td>0.015693</td>\n",
       "      <td>0.088374</td>\n",
       "    </tr>\n",
       "    <tr>\n",
       "      <td>age</td>\n",
       "      <td>-0.175657</td>\n",
       "      <td>-0.043836</td>\n",
       "      <td>-0.029014</td>\n",
       "      <td>1.000000</td>\n",
       "      <td>0.121011</td>\n",
       "      <td>0.057679</td>\n",
       "      <td>0.306799</td>\n",
       "      <td>0.101314</td>\n",
       "      <td>0.225408</td>\n",
       "    </tr>\n",
       "    <tr>\n",
       "      <td>BPMeds</td>\n",
       "      <td>0.004159</td>\n",
       "      <td>-0.011952</td>\n",
       "      <td>-0.051544</td>\n",
       "      <td>0.121011</td>\n",
       "      <td>1.000000</td>\n",
       "      <td>0.114614</td>\n",
       "      <td>0.258580</td>\n",
       "      <td>0.051407</td>\n",
       "      <td>0.086448</td>\n",
       "    </tr>\n",
       "    <tr>\n",
       "      <td>prevalentStroke</td>\n",
       "      <td>-0.002619</td>\n",
       "      <td>-0.008872</td>\n",
       "      <td>-0.004550</td>\n",
       "      <td>0.057679</td>\n",
       "      <td>0.114614</td>\n",
       "      <td>1.000000</td>\n",
       "      <td>0.074791</td>\n",
       "      <td>0.006955</td>\n",
       "      <td>0.061823</td>\n",
       "    </tr>\n",
       "    <tr>\n",
       "      <td>prevalentHyp</td>\n",
       "      <td>-0.033733</td>\n",
       "      <td>-0.048372</td>\n",
       "      <td>0.005853</td>\n",
       "      <td>0.306799</td>\n",
       "      <td>0.258580</td>\n",
       "      <td>0.074791</td>\n",
       "      <td>1.000000</td>\n",
       "      <td>0.077752</td>\n",
       "      <td>0.177458</td>\n",
       "    </tr>\n",
       "    <tr>\n",
       "      <td>diabetes</td>\n",
       "      <td>-0.030086</td>\n",
       "      <td>-0.014997</td>\n",
       "      <td>0.015693</td>\n",
       "      <td>0.101314</td>\n",
       "      <td>0.051407</td>\n",
       "      <td>0.006955</td>\n",
       "      <td>0.077752</td>\n",
       "      <td>1.000000</td>\n",
       "      <td>0.097344</td>\n",
       "    </tr>\n",
       "    <tr>\n",
       "      <td>TenYearCHD</td>\n",
       "      <td>-0.062381</td>\n",
       "      <td>-0.029658</td>\n",
       "      <td>0.088374</td>\n",
       "      <td>0.225408</td>\n",
       "      <td>0.086448</td>\n",
       "      <td>0.061823</td>\n",
       "      <td>0.177458</td>\n",
       "      <td>0.097344</td>\n",
       "      <td>1.000000</td>\n",
       "    </tr>\n",
       "  </tbody>\n",
       "</table>\n",
       "</div>"
      ],
      "text/plain": [
       "                  edu_2.0   edu_3.0      male       age    BPMeds  \\\n",
       "edu_2.0          1.000000 -0.285294 -0.051009 -0.175657  0.004159   \n",
       "edu_3.0         -0.285294  1.000000 -0.091383 -0.043836 -0.011952   \n",
       "male            -0.051009 -0.091383  1.000000 -0.029014 -0.051544   \n",
       "age             -0.175657 -0.043836 -0.029014  1.000000  0.121011   \n",
       "BPMeds           0.004159 -0.011952 -0.051544  0.121011  1.000000   \n",
       "prevalentStroke -0.002619 -0.008872 -0.004550  0.057679  0.114614   \n",
       "prevalentHyp    -0.033733 -0.048372  0.005853  0.306799  0.258580   \n",
       "diabetes        -0.030086 -0.014997  0.015693  0.101314  0.051407   \n",
       "TenYearCHD      -0.062381 -0.029658  0.088374  0.225408  0.086448   \n",
       "\n",
       "                 prevalentStroke  prevalentHyp  diabetes  TenYearCHD  \n",
       "edu_2.0                -0.002619     -0.033733 -0.030086   -0.062381  \n",
       "edu_3.0                -0.008872     -0.048372 -0.014997   -0.029658  \n",
       "male                   -0.004550      0.005853  0.015693    0.088374  \n",
       "age                     0.057679      0.306799  0.101314    0.225408  \n",
       "BPMeds                  0.114614      0.258580  0.051407    0.086448  \n",
       "prevalentStroke         1.000000      0.074791  0.006955    0.061823  \n",
       "prevalentHyp            0.074791      1.000000  0.077752    0.177458  \n",
       "diabetes                0.006955      0.077752  1.000000    0.097344  \n",
       "TenYearCHD              0.061823      0.177458  0.097344    1.000000  "
      ]
     },
     "execution_count": 5,
     "metadata": {},
     "output_type": "execute_result"
    }
   ],
   "source": [
    "corr = df.corr()\n",
    "corr"
   ]
  },
  {
   "cell_type": "code",
   "execution_count": 6,
   "metadata": {},
   "outputs": [
    {
     "data": {
      "image/png": "[encoded data removed]",
      "text/plain": [
       "<Figure size 720x432 with 2 Axes>"
      ]
     },
     "metadata": {
      "needs_background": "light"
     },
     "output_type": "display_data"
    }
   ],
   "source": [
    "plt.figure(figsize= (10, 6))\n",
    "sns.heatmap(corr, annot = True)\n",
    "plt.show()"
   ]
  },
  {
   "cell_type": "code",
   "execution_count": 7,
   "metadata": {},
   "outputs": [
    {
     "data": {
      "text/html": [
       "<div>\n",
       "<style scoped>\n",
       "    .dataframe tbody tr th:only-of-type {\n",
       "        vertical-align: middle;\n",
       "    }\n",
       "\n",
       "    .dataframe tbody tr th {\n",
       "        vertical-align: top;\n",
       "    }\n",
       "\n",
       "    .dataframe thead th {\n",
       "        text-align: right;\n",
       "    }\n",
       "</style>\n",
       "<table border=\"1\" class=\"dataframe\">\n",
       "  <thead>\n",
       "    <tr style=\"text-align: right;\">\n",
       "      <th></th>\n",
       "      <th>edu_2.0</th>\n",
       "      <th>edu_3.0</th>\n",
       "      <th>male</th>\n",
       "      <th>age</th>\n",
       "      <th>BPMeds</th>\n",
       "      <th>prevalentStroke</th>\n",
       "      <th>prevalentHyp</th>\n",
       "      <th>diabetes</th>\n",
       "    </tr>\n",
       "  </thead>\n",
       "  <tbody>\n",
       "    <tr>\n",
       "      <td>0</td>\n",
       "      <td>0</td>\n",
       "      <td>0</td>\n",
       "      <td>1</td>\n",
       "      <td>39</td>\n",
       "      <td>0.0</td>\n",
       "      <td>0</td>\n",
       "      <td>0</td>\n",
       "      <td>0</td>\n",
       "    </tr>\n",
       "    <tr>\n",
       "      <td>1</td>\n",
       "      <td>1</td>\n",
       "      <td>0</td>\n",
       "      <td>0</td>\n",
       "      <td>46</td>\n",
       "      <td>0.0</td>\n",
       "      <td>0</td>\n",
       "      <td>0</td>\n",
       "      <td>0</td>\n",
       "    </tr>\n",
       "    <tr>\n",
       "      <td>2</td>\n",
       "      <td>0</td>\n",
       "      <td>0</td>\n",
       "      <td>1</td>\n",
       "      <td>48</td>\n",
       "      <td>0.0</td>\n",
       "      <td>0</td>\n",
       "      <td>0</td>\n",
       "      <td>0</td>\n",
       "    </tr>\n",
       "    <tr>\n",
       "      <td>3</td>\n",
       "      <td>0</td>\n",
       "      <td>1</td>\n",
       "      <td>0</td>\n",
       "      <td>61</td>\n",
       "      <td>0.0</td>\n",
       "      <td>0</td>\n",
       "      <td>1</td>\n",
       "      <td>0</td>\n",
       "    </tr>\n",
       "    <tr>\n",
       "      <td>4</td>\n",
       "      <td>0</td>\n",
       "      <td>1</td>\n",
       "      <td>0</td>\n",
       "      <td>46</td>\n",
       "      <td>0.0</td>\n",
       "      <td>0</td>\n",
       "      <td>0</td>\n",
       "      <td>0</td>\n",
       "    </tr>\n",
       "    <tr>\n",
       "      <td>...</td>\n",
       "      <td>...</td>\n",
       "      <td>...</td>\n",
       "      <td>...</td>\n",
       "      <td>...</td>\n",
       "      <td>...</td>\n",
       "      <td>...</td>\n",
       "      <td>...</td>\n",
       "      <td>...</td>\n",
       "    </tr>\n",
       "    <tr>\n",
       "      <td>4235</td>\n",
       "      <td>1</td>\n",
       "      <td>0</td>\n",
       "      <td>0</td>\n",
       "      <td>48</td>\n",
       "      <td>0.0</td>\n",
       "      <td>0</td>\n",
       "      <td>0</td>\n",
       "      <td>0</td>\n",
       "    </tr>\n",
       "    <tr>\n",
       "      <td>4236</td>\n",
       "      <td>0</td>\n",
       "      <td>0</td>\n",
       "      <td>0</td>\n",
       "      <td>44</td>\n",
       "      <td>0.0</td>\n",
       "      <td>0</td>\n",
       "      <td>0</td>\n",
       "      <td>0</td>\n",
       "    </tr>\n",
       "    <tr>\n",
       "      <td>4237</td>\n",
       "      <td>1</td>\n",
       "      <td>0</td>\n",
       "      <td>0</td>\n",
       "      <td>52</td>\n",
       "      <td>0.0</td>\n",
       "      <td>0</td>\n",
       "      <td>0</td>\n",
       "      <td>0</td>\n",
       "    </tr>\n",
       "    <tr>\n",
       "      <td>4238</td>\n",
       "      <td>0</td>\n",
       "      <td>1</td>\n",
       "      <td>1</td>\n",
       "      <td>40</td>\n",
       "      <td>0.0</td>\n",
       "      <td>0</td>\n",
       "      <td>1</td>\n",
       "      <td>0</td>\n",
       "    </tr>\n",
       "    <tr>\n",
       "      <td>4239</td>\n",
       "      <td>0</td>\n",
       "      <td>1</td>\n",
       "      <td>0</td>\n",
       "      <td>39</td>\n",
       "      <td>0.0</td>\n",
       "      <td>0</td>\n",
       "      <td>0</td>\n",
       "      <td>0</td>\n",
       "    </tr>\n",
       "  </tbody>\n",
       "</table>\n",
       "<p>4240 rows × 8 columns</p>\n",
       "</div>"
      ],
      "text/plain": [
       "      edu_2.0  edu_3.0  male  age  BPMeds  prevalentStroke  prevalentHyp  \\\n",
       "0           0        0     1   39     0.0                0             0   \n",
       "1           1        0     0   46     0.0                0             0   \n",
       "2           0        0     1   48     0.0                0             0   \n",
       "3           0        1     0   61     0.0                0             1   \n",
       "4           0        1     0   46     0.0                0             0   \n",
       "...       ...      ...   ...  ...     ...              ...           ...   \n",
       "4235        1        0     0   48     0.0                0             0   \n",
       "4236        0        0     0   44     0.0                0             0   \n",
       "4237        1        0     0   52     0.0                0             0   \n",
       "4238        0        1     1   40     0.0                0             1   \n",
       "4239        0        1     0   39     0.0                0             0   \n",
       "\n",
       "      diabetes  \n",
       "0            0  \n",
       "1            0  \n",
       "2            0  \n",
       "3            0  \n",
       "4            0  \n",
       "...        ...  \n",
       "4235         0  \n",
       "4236         0  \n",
       "4237         0  \n",
       "4238         0  \n",
       "4239         0  \n",
       "\n",
       "[4240 rows x 8 columns]"
      ]
     },
     "execution_count": 7,
     "metadata": {},
     "output_type": "execute_result"
    }
   ],
   "source": [
    "X = df.drop(['TenYearCHD'], axis = 1)\n",
    "y = df.TenYearCHD\n",
    "X"
   ]
  },
  {
   "cell_type": "code",
   "execution_count": 8,
   "metadata": {},
   "outputs": [
    {
     "data": {
      "text/plain": [
       "0       0\n",
       "1       0\n",
       "2       0\n",
       "3       1\n",
       "4       0\n",
       "       ..\n",
       "4235    0\n",
       "4236    0\n",
       "4237    0\n",
       "4238    0\n",
       "4239    0\n",
       "Name: TenYearCHD, Length: 4240, dtype: int64"
      ]
     },
     "execution_count": 8,
     "metadata": {},
     "output_type": "execute_result"
    }
   ],
   "source": [
    "y"
   ]
  },
  {
   "cell_type": "code",
   "execution_count": 9,
   "metadata": {},
   "outputs": [
    {
     "data": {
      "text/plain": [
       "((2968, 8), (1272, 8), (2968,), (1272,))"
      ]
     },
     "execution_count": 9,
     "metadata": {},
     "output_type": "execute_result"
    }
   ],
   "source": [
    "from sklearn.model_selection import train_test_split\n",
    "x_train, x_test, y_train, y_test = train_test_split(X, y, test_size = 0.3, random_state = 1)\n",
    "x_train.shape, x_test.shape, y_train.shape, y_test.shape"
   ]
  },
  {
   "cell_type": "code",
   "execution_count": 10,
   "metadata": {},
   "outputs": [
    {
     "name": "stderr",
     "output_type": "stream",
     "text": [
      "C:\\Anaconda3\\lib\\site-packages\\sklearn\\linear_model\\logistic.py:432: FutureWarning: Default solver will be changed to 'lbfgs' in 0.22. Specify a solver to silence this warning.\n",
      "  FutureWarning)\n"
     ]
    },
    {
     "data": {
      "text/plain": [
       "LogisticRegression(C=1.0, class_weight=None, dual=False, fit_intercept=True,\n",
       "                   intercept_scaling=1, l1_ratio=None, max_iter=100,\n",
       "                   multi_class='warn', n_jobs=None, penalty='l2',\n",
       "                   random_state=None, solver='warn', tol=0.0001, verbose=0,\n",
       "                   warm_start=False)"
      ]
     },
     "execution_count": 10,
     "metadata": {},
     "output_type": "execute_result"
    }
   ],
   "source": [
    "from sklearn.linear_model import LogisticRegression\n",
    "model = LogisticRegression()\n",
    "model.fit(x_train, y_train)"
   ]
  },
  {
   "cell_type": "code",
   "execution_count": 11,
   "metadata": {},
   "outputs": [
    {
     "data": {
      "text/plain": [
       "array([0, 1], dtype=int64)"
      ]
     },
     "execution_count": 11,
     "metadata": {},
     "output_type": "execute_result"
    }
   ],
   "source": [
    "y_train_pred = model.predict(x_train)\n",
    "np.unique(y_train_pred)"
   ]
  },
  {
   "cell_type": "markdown",
   "metadata": {},
   "source": [
    "## Metrics Evaluation on Train"
   ]
  },
  {
   "cell_type": "code",
   "execution_count": 12,
   "metadata": {},
   "outputs": [],
   "source": [
    "from sklearn.metrics import classification_report, confusion_matrix"
   ]
  },
  {
   "cell_type": "code",
   "execution_count": 13,
   "metadata": {},
   "outputs": [],
   "source": [
    "cm = confusion_matrix(y_train, y_train_pred)"
   ]
  },
  {
   "cell_type": "code",
   "execution_count": 14,
   "metadata": {},
   "outputs": [
    {
     "data": {
      "image/png": "[encoded data removed]",
      "text/plain": [
       "<Figure size 720x360 with 2 Axes>"
      ]
     },
     "metadata": {
      "needs_background": "light"
     },
     "output_type": "display_data"
    }
   ],
   "source": [
    "plt.figure(figsize = (10, 5))\n",
    "sns.heatmap(cm, annot = True, fmt = '0.2f', \n",
    "            xticklabels=['class-0','class-1'],\n",
    "            yticklabels = ['class-0','class-1'],\n",
    "            cbar = True)\n",
    "plt.xlabel('Predicted Values')\n",
    "plt.ylabel('True Values')\n",
    "plt.show()"
   ]
  },
  {
   "cell_type": "code",
   "execution_count": 15,
   "metadata": {},
   "outputs": [],
   "source": [
    "from sklearn.metrics import precision_score, recall_score, accuracy_score"
   ]
  },
  {
   "cell_type": "code",
   "execution_count": 16,
   "metadata": {},
   "outputs": [
    {
     "data": {
      "text/plain": [
       "1.0"
      ]
     },
     "execution_count": 16,
     "metadata": {},
     "output_type": "execute_result"
    }
   ],
   "source": [
    "precision_score(y_train, y_train_pred)"
   ]
  },
  {
   "cell_type": "code",
   "execution_count": 17,
   "metadata": {},
   "outputs": [
    {
     "data": {
      "text/plain": [
       "0.02188183807439825"
      ]
     },
     "execution_count": 17,
     "metadata": {},
     "output_type": "execute_result"
    }
   ],
   "source": [
    "recall_score(y_train, y_train_pred)"
   ]
  },
  {
   "cell_type": "code",
   "execution_count": 18,
   "metadata": {},
   "outputs": [
    {
     "data": {
      "text/plain": [
       "0.8493935309973046"
      ]
     },
     "execution_count": 18,
     "metadata": {},
     "output_type": "execute_result"
    }
   ],
   "source": [
    "accuracy_score(y_train, y_train_pred)"
   ]
  },
  {
   "cell_type": "code",
   "execution_count": 19,
   "metadata": {},
   "outputs": [
    {
     "name": "stdout",
     "output_type": "stream",
     "text": [
      "              precision    recall  f1-score   support\n",
      "\n",
      "           0       0.85      1.00      0.92      2511\n",
      "           1       1.00      0.02      0.04       457\n",
      "\n",
      "    accuracy                           0.85      2968\n",
      "   macro avg       0.92      0.51      0.48      2968\n",
      "weighted avg       0.87      0.85      0.78      2968\n",
      "\n"
     ]
    }
   ],
   "source": [
    "cr = classification_report(y_train, y_train_pred)\n",
    "print(cr)"
   ]
  },
  {
   "cell_type": "markdown",
   "metadata": {},
   "source": [
    "## Metrics Evaluation on Test"
   ]
  },
  {
   "cell_type": "code",
   "execution_count": 20,
   "metadata": {},
   "outputs": [
    {
     "data": {
      "text/plain": [
       "array([0, 0, 0, ..., 0, 0, 0], dtype=int64)"
      ]
     },
     "execution_count": 20,
     "metadata": {},
     "output_type": "execute_result"
    }
   ],
   "source": [
    "y_test_predicted = model.predict(x_test)\n",
    "y_test_predicted"
   ]
  },
  {
   "cell_type": "code",
   "execution_count": 21,
   "metadata": {},
   "outputs": [
    {
     "data": {
      "text/plain": [
       "array([[1083,    2],\n",
       "       [ 181,    6]], dtype=int64)"
      ]
     },
     "execution_count": 21,
     "metadata": {},
     "output_type": "execute_result"
    }
   ],
   "source": [
    "cm_test = confusion_matrix(y_test, y_test_predicted)\n",
    "cm_test"
   ]
  },
  {
   "cell_type": "code",
   "execution_count": 22,
   "metadata": {},
   "outputs": [
    {
     "data": {
      "image/png": "[encoded data removed]",
      "text/plain": [
       "<Figure size 432x288 with 2 Axes>"
      ]
     },
     "metadata": {
      "needs_background": "light"
     },
     "output_type": "display_data"
    }
   ],
   "source": [
    "sns.heatmap(cm_test,\n",
    "            annot = True,\n",
    "            fmt = '0.2f',\n",
    "            xticklabels=['class-0','class-1'],\n",
    "            yticklabels = ['class-0','class-1'],\n",
    "            cbar = True)\n",
    "plt.xlabel('Predicted Values')\n",
    "plt.ylabel('True Values')\n",
    "plt.show()"
   ]
  },
  {
   "cell_type": "code",
   "execution_count": 1,
   "metadata": {
    "scrolled": true
   },
   "outputs": [
    {
     "ename": "NameError",
     "evalue": "name 'precision_score' is not defined",
     "output_type": "error",
     "traceback": [
      "\u001b[1;31m---------------------------------------------------------------------------\u001b[0m",
      "\u001b[1;31mNameError\u001b[0m                                 Traceback (most recent call last)",
      "\u001b[1;32m<ipython-input-1-1a272c151de2>\u001b[0m in \u001b[0;36m<module>\u001b[1;34m\u001b[0m\n\u001b[1;32m----> 1\u001b[1;33m \u001b[0mprecision_score\u001b[0m\u001b[1;33m(\u001b[0m\u001b[0my_test\u001b[0m\u001b[1;33m,\u001b[0m \u001b[0my_test_predicted\u001b[0m\u001b[1;33m)\u001b[0m\u001b[1;33m\u001b[0m\u001b[1;33m\u001b[0m\u001b[0m\n\u001b[0m",
      "\u001b[1;31mNameError\u001b[0m: name 'precision_score' is not defined"
     ]
    }
   ],
   "source": [
    "precision_score(y_test, y_test_predicted)"
   ]
  },
  {
   "cell_type": "code",
   "execution_count": null,
   "metadata": {},
   "outputs": [],
   "source": [
    "recall_score(y_test, y_test_predicted)"
   ]
  },
  {
   "cell_type": "code",
   "execution_count": 25,
   "metadata": {},
   "outputs": [
    {
     "data": {
      "text/plain": [
       "0.8561320754716981"
      ]
     },
     "execution_count": 25,
     "metadata": {},
     "output_type": "execute_result"
    }
   ],
   "source": [
    "accuracy_score(y_test, y_test_predicted)"
   ]
  },
  {
   "cell_type": "code",
   "execution_count": 26,
   "metadata": {},
   "outputs": [],
   "source": [
    "from sklearn.metrics import roc_curve, auc"
   ]
  },
  {
   "cell_type": "code",
   "execution_count": 27,
   "metadata": {},
   "outputs": [
    {
     "data": {
      "text/plain": [
       "array([0.15733657, 0.08475946, 0.10235901, ..., 0.097245  , 0.13640173,\n",
       "       0.06064487])"
      ]
     },
     "execution_count": 27,
     "metadata": {},
     "output_type": "execute_result"
    }
   ],
   "source": [
    "y_test_pred_prob = model.predict_proba(x_test)\n",
    "y_test_pred_prob_1 = y_test_pred_prob[:,1]\n",
    "y_test_pred_prob_1"
   ]
  },
  {
   "cell_type": "code",
   "execution_count": 28,
   "metadata": {},
   "outputs": [
    {
     "data": {
      "text/plain": [
       "(array([0.00000000e+00, 0.00000000e+00, 0.00000000e+00, 9.21658986e-04,\n",
       "        9.21658986e-04, 1.84331797e-03, 1.84331797e-03, 5.52995392e-03,\n",
       "        5.52995392e-03, 6.45161290e-03, 8.29493088e-03, 9.21658986e-03,\n",
       "        9.21658986e-03, 1.10599078e-02, 1.56682028e-02, 1.75115207e-02,\n",
       "        1.84331797e-02, 2.02764977e-02, 2.02764977e-02, 2.11981567e-02,\n",
       "        2.11981567e-02, 2.21198157e-02, 2.21198157e-02, 2.30414747e-02,\n",
       "        2.58064516e-02, 2.58064516e-02, 2.76497696e-02, 2.85714286e-02,\n",
       "        2.85714286e-02, 3.04147465e-02, 3.50230415e-02, 3.50230415e-02,\n",
       "        3.96313364e-02, 3.96313364e-02, 4.23963134e-02, 4.51612903e-02,\n",
       "        4.88479263e-02, 4.97695853e-02, 4.97695853e-02, 5.25345622e-02,\n",
       "        5.34562212e-02, 5.52995392e-02, 5.71428571e-02, 5.71428571e-02,\n",
       "        5.89861751e-02, 5.99078341e-02, 6.26728111e-02, 6.45161290e-02,\n",
       "        6.72811060e-02, 7.09677419e-02, 7.18894009e-02, 7.55760369e-02,\n",
       "        7.64976959e-02, 7.74193548e-02, 7.83410138e-02, 7.92626728e-02,\n",
       "        8.20276498e-02, 8.47926267e-02, 8.75576037e-02, 9.03225806e-02,\n",
       "        9.76958525e-02, 1.02304147e-01, 1.03225806e-01, 1.03225806e-01,\n",
       "        1.05069124e-01, 1.07834101e-01, 1.13364055e-01, 1.15207373e-01,\n",
       "        1.21658986e-01, 1.23502304e-01, 1.24423963e-01, 1.24423963e-01,\n",
       "        1.25345622e-01, 1.25345622e-01, 1.26267281e-01, 1.29032258e-01,\n",
       "        1.29953917e-01, 1.31797235e-01, 1.32718894e-01, 1.33640553e-01,\n",
       "        1.33640553e-01, 1.39170507e-01, 1.41013825e-01, 1.42857143e-01,\n",
       "        1.48387097e-01, 1.52073733e-01, 1.56682028e-01, 1.60368664e-01,\n",
       "        1.63133641e-01, 1.63133641e-01, 1.65898618e-01, 1.66820276e-01,\n",
       "        1.68663594e-01, 1.69585253e-01, 1.76958525e-01, 1.76958525e-01,\n",
       "        1.79723502e-01, 1.80645161e-01, 1.86175115e-01, 1.88018433e-01,\n",
       "        1.88940092e-01, 1.91705069e-01, 1.91705069e-01, 1.95391705e-01,\n",
       "        1.97235023e-01, 1.98156682e-01, 1.99078341e-01, 2.07373272e-01,\n",
       "        2.07373272e-01, 2.08294931e-01, 2.08294931e-01, 2.10138249e-01,\n",
       "        2.11981567e-01, 2.12903226e-01, 2.15668203e-01, 2.17511521e-01,\n",
       "        2.18433180e-01, 2.22119816e-01, 2.23963134e-01, 2.27649770e-01,\n",
       "        2.29493088e-01, 2.29493088e-01, 2.30414747e-01, 2.32258065e-01,\n",
       "        2.37788018e-01, 2.39631336e-01, 2.40552995e-01, 2.40552995e-01,\n",
       "        2.45161290e-01, 2.47926267e-01, 2.48847926e-01, 2.50691244e-01,\n",
       "        2.53456221e-01, 2.53456221e-01, 2.58986175e-01, 2.60829493e-01,\n",
       "        2.61751152e-01, 2.64516129e-01, 2.67281106e-01, 2.69124424e-01,\n",
       "        2.72811060e-01, 2.73732719e-01, 2.82027650e-01, 2.82949309e-01,\n",
       "        2.85714286e-01, 2.86635945e-01, 2.87557604e-01, 2.92165899e-01,\n",
       "        2.94009217e-01, 2.95852535e-01, 2.97695853e-01, 2.98617512e-01,\n",
       "        2.99539171e-01, 3.04147465e-01, 3.07834101e-01, 3.13364055e-01,\n",
       "        3.17050691e-01, 3.20737327e-01, 3.22580645e-01, 3.28110599e-01,\n",
       "        3.29032258e-01, 3.32718894e-01, 3.34562212e-01, 3.35483871e-01,\n",
       "        3.47465438e-01, 3.50230415e-01, 3.51152074e-01, 3.53917051e-01,\n",
       "        3.58525346e-01, 3.58525346e-01, 3.59447005e-01, 3.64055300e-01,\n",
       "        3.64976959e-01, 3.66820276e-01, 3.70506912e-01, 3.74193548e-01,\n",
       "        3.75115207e-01, 3.78801843e-01, 3.80645161e-01, 3.81566820e-01,\n",
       "        3.85253456e-01, 3.87096774e-01, 3.88940092e-01, 3.96313364e-01,\n",
       "        3.98156682e-01, 4.00000000e-01, 4.02764977e-01, 4.03686636e-01,\n",
       "        4.06451613e-01, 4.08294931e-01, 4.09216590e-01, 4.11059908e-01,\n",
       "        4.14746544e-01, 4.22119816e-01, 4.23041475e-01, 4.26728111e-01,\n",
       "        4.30414747e-01, 4.33179724e-01, 4.34101382e-01, 4.35944700e-01,\n",
       "        4.46082949e-01, 4.48847926e-01, 4.56221198e-01, 4.59907834e-01,\n",
       "        4.60829493e-01, 4.66359447e-01, 4.67281106e-01, 4.69124424e-01,\n",
       "        4.73732719e-01, 4.75576037e-01, 4.78341014e-01, 4.82027650e-01,\n",
       "        4.93087558e-01, 4.94009217e-01, 4.95852535e-01, 4.97695853e-01,\n",
       "        5.00460829e-01, 5.05990783e-01, 5.07834101e-01, 5.09677419e-01,\n",
       "        5.15207373e-01, 5.17050691e-01, 5.17050691e-01, 5.20737327e-01,\n",
       "        5.29953917e-01, 5.31797235e-01, 5.32718894e-01, 5.42857143e-01,\n",
       "        5.46543779e-01, 5.48387097e-01, 5.49308756e-01, 5.56682028e-01,\n",
       "        5.58525346e-01, 5.59447005e-01, 5.62211982e-01, 5.68663594e-01,\n",
       "        5.69585253e-01, 5.71428571e-01, 5.74193548e-01, 5.79723502e-01,\n",
       "        5.81566820e-01, 5.88018433e-01, 5.93548387e-01, 5.97235023e-01,\n",
       "        5.99078341e-01, 6.01843318e-01, 6.02764977e-01, 6.07373272e-01,\n",
       "        6.08294931e-01, 6.13824885e-01, 6.17511521e-01, 6.19354839e-01,\n",
       "        6.21198157e-01, 6.25806452e-01, 6.28571429e-01, 6.35023041e-01,\n",
       "        6.39631336e-01, 6.43317972e-01, 6.45161290e-01, 6.47926267e-01,\n",
       "        6.49769585e-01, 6.56221198e-01, 6.58986175e-01, 6.68202765e-01,\n",
       "        6.69124424e-01, 6.70967742e-01, 6.71889401e-01, 6.74654378e-01,\n",
       "        6.76497696e-01, 6.81105991e-01, 6.83870968e-01, 6.92165899e-01,\n",
       "        6.93087558e-01, 6.93087558e-01, 6.95852535e-01, 6.96774194e-01,\n",
       "        7.10599078e-01, 7.11520737e-01, 7.19815668e-01, 7.21658986e-01,\n",
       "        7.24423963e-01, 7.29953917e-01, 7.36405530e-01, 7.44700461e-01,\n",
       "        7.51152074e-01, 7.52073733e-01, 7.58525346e-01, 7.67741935e-01,\n",
       "        7.71428571e-01, 7.71428571e-01, 7.78801843e-01, 7.93548387e-01,\n",
       "        7.97235023e-01, 8.01843318e-01, 8.02764977e-01, 8.04608295e-01,\n",
       "        8.16589862e-01, 8.19354839e-01, 8.23963134e-01, 8.28571429e-01,\n",
       "        8.35023041e-01, 8.41474654e-01, 8.48847926e-01, 8.57142857e-01,\n",
       "        8.58986175e-01, 8.63594470e-01, 8.71889401e-01, 8.76497696e-01,\n",
       "        8.80184332e-01, 8.88479263e-01, 8.95852535e-01, 9.04147465e-01,\n",
       "        9.11520737e-01, 9.14285714e-01, 9.17050691e-01, 9.20737327e-01,\n",
       "        9.25345622e-01, 9.35483871e-01, 9.39170507e-01, 9.54838710e-01,\n",
       "        9.55760369e-01, 9.60368664e-01, 9.69585253e-01, 9.72350230e-01,\n",
       "        9.79723502e-01, 9.83410138e-01, 9.84331797e-01, 9.86175115e-01,\n",
       "        9.89861751e-01, 9.92626728e-01, 9.96313364e-01, 9.97235023e-01,\n",
       "        9.99078341e-01, 1.00000000e+00]),\n",
       " array([0.        , 0.00534759, 0.01069519, 0.01069519, 0.03208556,\n",
       "        0.03208556, 0.05347594, 0.05347594, 0.05882353, 0.05882353,\n",
       "        0.05882353, 0.05882353, 0.06417112, 0.06417112, 0.06417112,\n",
       "        0.06951872, 0.06951872, 0.0855615 , 0.09090909, 0.10160428,\n",
       "        0.10695187, 0.10695187, 0.11229947, 0.11229947, 0.12299465,\n",
       "        0.12834225, 0.13368984, 0.13368984, 0.13903743, 0.13903743,\n",
       "        0.14438503, 0.14973262, 0.15508021, 0.1657754 , 0.18181818,\n",
       "        0.18716578, 0.18716578, 0.19251337, 0.19786096, 0.19786096,\n",
       "        0.19786096, 0.20320856, 0.20320856, 0.20855615, 0.21925134,\n",
       "        0.21925134, 0.21925134, 0.22459893, 0.22459893, 0.22459893,\n",
       "        0.22994652, 0.23529412, 0.24064171, 0.24064171, 0.2513369 ,\n",
       "        0.25668449, 0.28342246, 0.28342246, 0.29411765, 0.29411765,\n",
       "        0.31016043, 0.31016043, 0.31016043, 0.31550802, 0.31550802,\n",
       "        0.32620321, 0.32620321, 0.3368984 , 0.36363636, 0.36363636,\n",
       "        0.36363636, 0.36898396, 0.36898396, 0.37433155, 0.37967914,\n",
       "        0.38502674, 0.38502674, 0.39572193, 0.39572193, 0.40106952,\n",
       "        0.40641711, 0.4171123 , 0.4171123 , 0.4171123 , 0.42780749,\n",
       "        0.42780749, 0.42780749, 0.42780749, 0.43315508, 0.43850267,\n",
       "        0.44385027, 0.44385027, 0.44919786, 0.44919786, 0.47058824,\n",
       "        0.48128342, 0.48663102, 0.48663102, 0.49197861, 0.49197861,\n",
       "        0.4973262 , 0.4973262 , 0.50802139, 0.50802139, 0.51336898,\n",
       "        0.51871658, 0.51871658, 0.52941176, 0.53475936, 0.53475936,\n",
       "        0.55080214, 0.57219251, 0.57219251, 0.57219251, 0.57754011,\n",
       "        0.57754011, 0.57754011, 0.57754011, 0.57754011, 0.57754011,\n",
       "        0.5828877 , 0.59358289, 0.59358289, 0.59358289, 0.59358289,\n",
       "        0.59358289, 0.60427807, 0.60962567, 0.61497326, 0.61497326,\n",
       "        0.61497326, 0.62032086, 0.62032086, 0.62566845, 0.62566845,\n",
       "        0.63101604, 0.63101604, 0.63101604, 0.63101604, 0.63101604,\n",
       "        0.63101604, 0.63636364, 0.65240642, 0.65240642, 0.65775401,\n",
       "        0.6684492 , 0.6684492 , 0.67379679, 0.68449198, 0.68983957,\n",
       "        0.68983957, 0.68983957, 0.69518717, 0.69518717, 0.69518717,\n",
       "        0.70053476, 0.70053476, 0.70588235, 0.70588235, 0.70588235,\n",
       "        0.71122995, 0.72192513, 0.72192513, 0.72192513, 0.72192513,\n",
       "        0.73262032, 0.73262032, 0.73262032, 0.73262032, 0.73796791,\n",
       "        0.73796791, 0.73796791, 0.73796791, 0.74331551, 0.74331551,\n",
       "        0.7486631 , 0.7486631 , 0.7540107 , 0.7540107 , 0.7540107 ,\n",
       "        0.7540107 , 0.7540107 , 0.75935829, 0.75935829, 0.75935829,\n",
       "        0.76470588, 0.76470588, 0.76470588, 0.77005348, 0.77005348,\n",
       "        0.77005348, 0.77005348, 0.77005348, 0.77540107, 0.77540107,\n",
       "        0.77540107, 0.77540107, 0.78074866, 0.78609626, 0.79144385,\n",
       "        0.79679144, 0.79679144, 0.79679144, 0.80213904, 0.81283422,\n",
       "        0.81818182, 0.81818182, 0.81818182, 0.81818182, 0.81818182,\n",
       "        0.81818182, 0.81818182, 0.82887701, 0.82887701, 0.8342246 ,\n",
       "        0.8342246 , 0.83957219, 0.83957219, 0.83957219, 0.83957219,\n",
       "        0.84491979, 0.84491979, 0.85026738, 0.85026738, 0.86096257,\n",
       "        0.86631016, 0.86631016, 0.86631016, 0.86631016, 0.86631016,\n",
       "        0.86631016, 0.86631016, 0.86631016, 0.86631016, 0.86631016,\n",
       "        0.87165775, 0.87165775, 0.87165775, 0.87165775, 0.87165775,\n",
       "        0.87700535, 0.87700535, 0.87700535, 0.88235294, 0.88235294,\n",
       "        0.88770053, 0.88770053, 0.89304813, 0.89304813, 0.89304813,\n",
       "        0.89304813, 0.89304813, 0.89839572, 0.90374332, 0.90374332,\n",
       "        0.90909091, 0.90909091, 0.90909091, 0.90909091, 0.9144385 ,\n",
       "        0.9144385 , 0.9197861 , 0.9197861 , 0.9197861 , 0.9197861 ,\n",
       "        0.9197861 , 0.9197861 , 0.9197861 , 0.9197861 , 0.92513369,\n",
       "        0.92513369, 0.93048128, 0.93048128, 0.93582888, 0.93582888,\n",
       "        0.93582888, 0.93582888, 0.93582888, 0.93582888, 0.93582888,\n",
       "        0.94117647, 0.94117647, 0.94117647, 0.94117647, 0.94117647,\n",
       "        0.94117647, 0.94117647, 0.94117647, 0.94117647, 0.94652406,\n",
       "        0.94652406, 0.94652406, 0.94652406, 0.94652406, 0.94652406,\n",
       "        0.94652406, 0.94652406, 0.94652406, 0.94652406, 0.95187166,\n",
       "        0.95721925, 0.95721925, 0.96256684, 0.96791444, 0.97326203,\n",
       "        0.97860963, 0.97860963, 0.97860963, 0.97860963, 0.97860963,\n",
       "        0.98395722, 0.99465241, 0.99465241, 0.99465241, 1.        ,\n",
       "        1.        , 1.        , 1.        , 1.        , 1.        ,\n",
       "        1.        , 1.        , 1.        , 1.        , 1.        ,\n",
       "        1.        , 1.        , 1.        , 1.        , 1.        ,\n",
       "        1.        , 1.        , 1.        , 1.        ]),\n",
       " array([1.65775559, 0.65775559, 0.59102664, 0.55579708, 0.5158626 ,\n",
       "        0.51241234, 0.47951016, 0.46245315, 0.45291553, 0.4448193 ,\n",
       "        0.44141097, 0.43941149, 0.4378309 , 0.42996897, 0.41649139,\n",
       "        0.40731942, 0.4053623 , 0.39613442, 0.39005124, 0.38505702,\n",
       "        0.38162175, 0.37903717, 0.37766326, 0.37495321, 0.37409749,\n",
       "        0.36646641, 0.36326562, 0.36139111, 0.35991098, 0.34334077,\n",
       "        0.34202155, 0.33193399, 0.33162634, 0.32983052, 0.32139275,\n",
       "        0.31992437, 0.31132787, 0.3103705 , 0.30666345, 0.30464523,\n",
       "        0.30435458, 0.30143816, 0.29973251, 0.29609613, 0.29487692,\n",
       "        0.29248489, 0.29172954, 0.2903387 , 0.28364191, 0.28084384,\n",
       "        0.27780316, 0.2758993 , 0.27562521, 0.2740397 , 0.2728761 ,\n",
       "        0.27154068, 0.26669919, 0.26445001, 0.26374008, 0.26287319,\n",
       "        0.26243324, 0.25769668, 0.25591641, 0.25549698, 0.25395511,\n",
       "        0.25352494, 0.24674537, 0.24606706, 0.24481867, 0.24399337,\n",
       "        0.2437403 , 0.24096395, 0.24054988, 0.24004601, 0.23819762,\n",
       "        0.2375354 , 0.23672695, 0.23631673, 0.23551115, 0.23360154,\n",
       "        0.23255464, 0.23190334, 0.23110825, 0.22985563, 0.22920962,\n",
       "        0.22842102, 0.22802089, 0.22435207, 0.22371704, 0.22172075,\n",
       "        0.22109104, 0.22032239, 0.2199324 , 0.21673114, 0.21573856,\n",
       "        0.21498338, 0.2131805 , 0.21243331, 0.21205203, 0.21130627,\n",
       "        0.20857073, 0.20796839, 0.20723322, 0.20607532, 0.20547832,\n",
       "        0.20497466, 0.20474968, 0.20438003, 0.20365428, 0.20193476,\n",
       "        0.20099255, 0.20040656, 0.19969138, 0.19949873, 0.19932858,\n",
       "        0.19856507, 0.19749454, 0.19691623, 0.19362236, 0.19305266,\n",
       "        0.19235742, 0.19126258, 0.19022208, 0.19000942, 0.18966004,\n",
       "        0.18897415, 0.18645936, 0.18611599, 0.18590588, 0.18488786,\n",
       "        0.18416694, 0.18361873, 0.1831563 , 0.18294975, 0.18261042,\n",
       "        0.1819443 , 0.17950236, 0.17896499, 0.17777597, 0.17727684,\n",
       "        0.17674469, 0.17629584, 0.17576601, 0.17274982, 0.17222842,\n",
       "        0.17126954, 0.16963898, 0.16912505, 0.16619984, 0.16569425,\n",
       "        0.16526783, 0.16507737, 0.16476451, 0.16410626, 0.16299516,\n",
       "        0.16268548, 0.15985022, 0.15936025, 0.15876247, 0.1584593 ,\n",
       "        0.15786427, 0.15733657, 0.15692761, 0.15674496, 0.15644493,\n",
       "        0.15585606, 0.15446183, 0.15369847, 0.15322392, 0.15282371,\n",
       "        0.15264498, 0.15235138, 0.15177514, 0.15173371, 0.15086814,\n",
       "        0.15040077, 0.14983061, 0.14774184, 0.14728247, 0.14672209,\n",
       "        0.14643791, 0.14584009, 0.1450024 , 0.14455011, 0.14269228,\n",
       "        0.14197732, 0.14153291, 0.14099185, 0.14099078, 0.14071588,\n",
       "        0.14017637, 0.14013758, 0.1393273 , 0.13888984, 0.1383562 ,\n",
       "        0.13640173, 0.13544782, 0.13518202, 0.1346604 , 0.13383954,\n",
       "        0.13341664, 0.13024615, 0.1298329 , 0.12932884, 0.12853565,\n",
       "        0.12812703, 0.12580356, 0.12540238, 0.12466494, 0.12417808,\n",
       "        0.12414308, 0.123412  , 0.12301737, 0.12253604, 0.12077373,\n",
       "        0.12005977, 0.11991393, 0.11967439, 0.11917058, 0.11846482,\n",
       "        0.11808388, 0.11761927, 0.11591832, 0.11522931, 0.11485741,\n",
       "        0.11440385, 0.11369024, 0.11332268, 0.1128744 , 0.11123343,\n",
       "        0.11056878, 0.11021005, 0.10977256, 0.10963852, 0.10908428,\n",
       "        0.10872978, 0.10829746, 0.10671501, 0.10607414, 0.10572826,\n",
       "        0.10530646, 0.10464289, 0.10430114, 0.10388437, 0.10235901,\n",
       "        0.10174132, 0.10161516, 0.10140796, 0.10100145, 0.10036197,\n",
       "        0.10003263, 0.09783837, 0.09756616, 0.097245  , 0.09685338,\n",
       "        0.09623735, 0.0959201 , 0.09553325, 0.09411763, 0.09354449,\n",
       "        0.09342744, 0.09323521, 0.09285807, 0.09226485, 0.09195937,\n",
       "        0.09158688, 0.0902239 , 0.08967212, 0.08955944, 0.08937438,\n",
       "        0.08901133, 0.08844029, 0.08814624, 0.0877877 , 0.08647588,\n",
       "        0.08594486, 0.08565833, 0.08530896, 0.08475946, 0.0836389 ,\n",
       "        0.0823585 , 0.08208286, 0.08174676, 0.08121818, 0.07890888,\n",
       "        0.07880855, 0.07864379, 0.07832058, 0.07781227, 0.07723145,\n",
       "        0.07559185, 0.07533699, 0.07502626, 0.0745376 , 0.07397927,\n",
       "        0.07240329, 0.07215834, 0.0718597 , 0.07139008, 0.06933914,\n",
       "        0.06910378, 0.06881685, 0.06639538, 0.06616931, 0.0658937 ,\n",
       "        0.06356807, 0.06335097, 0.0630863 , 0.0608533 , 0.06064487,\n",
       "        0.06039078, 0.05824726, 0.0580472 , 0.05780333, 0.05574619,\n",
       "        0.05555422, 0.05532021, 0.05334644, 0.05293776, 0.05104441,\n",
       "        0.05086775, 0.05065242, 0.04883659, 0.04846069, 0.04671956,\n",
       "        0.04635916, 0.04468999, 0.04434452, 0.04274464, 0.04241354,\n",
       "        0.04088034, 0.04056308, 0.03909404, 0.03738275]))"
      ]
     },
     "execution_count": 28,
     "metadata": {},
     "output_type": "execute_result"
    }
   ],
   "source": [
    "fpr, tpr, proba = roc_curve(y_test, y_test_pred_prob_1)\n",
    "fpr, tpr, proba"
   ]
  },
  {
   "cell_type": "code",
   "execution_count": 29,
   "metadata": {},
   "outputs": [
    {
     "data": {
      "image/png": "[encoded data removed]",
      "text/plain": [
       "<Figure size 720x360 with 1 Axes>"
      ]
     },
     "metadata": {
      "needs_background": "light"
     },
     "output_type": "display_data"
    }
   ],
   "source": [
    "plt.figure(figsize = (10, 5))\n",
    "plt.plot(fpr, tpr, 'r--')\n",
    "plt.plot([0,1], [0,1], 'b--')\n",
    "for i in range(len(proba)):\n",
    "    if i % 30 == 0:\n",
    "        plt.plot(fpr[i],tpr[i],'v')\n",
    "        plt.text(fpr[i], tpr[i], '%0.2f'%proba[i])\n",
    "\n",
    "plt.xlabel('False Positive Rate')\n",
    "plt.ylabel('True Positive Rate')\n",
    "plt.title('Receiver Operating Characterstics')\n",
    "\n",
    "area = auc(fpr,tpr)\n",
    "plt.legend(['AUC = %0.4F'%area])\n",
    "plt.grid()\n"
   ]
  },
  {
   "cell_type": "markdown",
   "metadata": {},
   "source": [
    "## ROC and AUC on Train"
   ]
  },
  {
   "cell_type": "code",
   "execution_count": 30,
   "metadata": {},
   "outputs": [
    {
     "data": {
      "text/plain": [
       "array([0.097245  , 0.19727573, 0.14455011, ..., 0.1346229 , 0.09756616,\n",
       "       0.05555422])"
      ]
     },
     "execution_count": 30,
     "metadata": {},
     "output_type": "execute_result"
    }
   ],
   "source": [
    "y_train_pred_prob = model.predict_proba(x_train)\n",
    "y_train_pred_prob_1 = y_train_pred_prob[:, 1]\n",
    "y_train_pred_prob_1"
   ]
  },
  {
   "cell_type": "code",
   "execution_count": 31,
   "metadata": {},
   "outputs": [],
   "source": [
    "fpr_train, tpr_train, proba_train = roc_curve(y_train, y_train_pred_prob_1)"
   ]
  },
  {
   "cell_type": "code",
   "execution_count": 32,
   "metadata": {},
   "outputs": [
    {
     "data": {
      "image/png": "[encoded data removed]",
      "text/plain": [
       "<Figure size 720x360 with 1 Axes>"
      ]
     },
     "metadata": {
      "needs_background": "light"
     },
     "output_type": "display_data"
    }
   ],
   "source": [
    "plt.figure(figsize = (10, 5))\n",
    "plt.plot(fpr_train, tpr_train, 'r--')\n",
    "plt.plot([0,1], [0,1], 'b--')\n",
    "for i in range(len(proba_train)):\n",
    "    if i % 50 == 0:\n",
    "        plt.plot(fpr_train[i],tpr_train[i],'v')\n",
    "        plt.text(fpr_train[i], tpr_train[i], '%0.2f'%proba_train[i])\n",
    "\n",
    "plt.xlabel('False Positive Rate')\n",
    "plt.ylabel('True Positive Rate')\n",
    "plt.title('Receiver Operating Characterstics')\n",
    "\n",
    "area = auc(fpr_train,tpr_train)\n",
    "plt.legend(['AUC = %0.4F'%area])\n",
    "plt.grid()"
   ]
  },
  {
   "cell_type": "code",
   "execution_count": null,
   "metadata": {},
   "outputs": [],
   "source": []
  }
 ],
 "metadata": {
  "kernelspec": {
   "display_name": "Python 3",
   "language": "python",
   "name": "python3"
  },
  "language_info": {
   "codemirror_mode": {
    "name": "ipython",
    "version": 3
   },
   "file_extension": ".py",
   "mimetype": "text/x-python",
   "name": "python",
   "nbconvert_exporter": "python",
   "pygments_lexer": "ipython3",
   "version": "3.7.4"
  }
 },
 "nbformat": 4,
 "nbformat_minor": 2
}
