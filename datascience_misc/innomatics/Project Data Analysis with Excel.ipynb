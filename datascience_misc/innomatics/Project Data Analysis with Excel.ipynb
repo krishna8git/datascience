{
 "cells": [
  {
   "cell_type": "code",
   "execution_count": 1,
   "metadata": {},
   "outputs": [
    {
     "data": {
      "text/html": [
       "<div>\n",
       "<style scoped>\n",
       "    .dataframe tbody tr th:only-of-type {\n",
       "        vertical-align: middle;\n",
       "    }\n",
       "\n",
       "    .dataframe tbody tr th {\n",
       "        vertical-align: top;\n",
       "    }\n",
       "\n",
       "    .dataframe thead th {\n",
       "        text-align: right;\n",
       "    }\n",
       "</style>\n",
       "<table border=\"1\" class=\"dataframe\">\n",
       "  <thead>\n",
       "    <tr style=\"text-align: right;\">\n",
       "      <th></th>\n",
       "      <th>Unnamed: 0</th>\n",
       "      <th>title</th>\n",
       "      <th>location</th>\n",
       "      <th>price(L)</th>\n",
       "      <th>rate_persqft</th>\n",
       "      <th>area_insqft</th>\n",
       "      <th>building_status</th>\n",
       "      <th>agent_rating</th>\n",
       "    </tr>\n",
       "  </thead>\n",
       "  <tbody>\n",
       "    <tr>\n",
       "      <td>0</td>\n",
       "      <td>0</td>\n",
       "      <td>Residential Plot</td>\n",
       "      <td>Maheshwaram</td>\n",
       "      <td>45.00</td>\n",
       "      <td>1111</td>\n",
       "      <td>4050</td>\n",
       "      <td>New</td>\n",
       "      <td>4.6</td>\n",
       "    </tr>\n",
       "    <tr>\n",
       "      <td>1</td>\n",
       "      <td>1</td>\n",
       "      <td>Residential Plot</td>\n",
       "      <td>Kondakal</td>\n",
       "      <td>34.00</td>\n",
       "      <td>2361</td>\n",
       "      <td>1440</td>\n",
       "      <td>New</td>\n",
       "      <td>3.7</td>\n",
       "    </tr>\n",
       "    <tr>\n",
       "      <td>2</td>\n",
       "      <td>2</td>\n",
       "      <td>Residential Plot</td>\n",
       "      <td>Bibinagar</td>\n",
       "      <td>14.19</td>\n",
       "      <td>944</td>\n",
       "      <td>1503</td>\n",
       "      <td>New</td>\n",
       "      <td>4.9</td>\n",
       "    </tr>\n",
       "    <tr>\n",
       "      <td>3</td>\n",
       "      <td>3</td>\n",
       "      <td>Residential Plot</td>\n",
       "      <td>Gachibowli</td>\n",
       "      <td>330.00</td>\n",
       "      <td>3333</td>\n",
       "      <td>9900</td>\n",
       "      <td>New</td>\n",
       "      <td>0.0</td>\n",
       "    </tr>\n",
       "    <tr>\n",
       "      <td>4</td>\n",
       "      <td>4</td>\n",
       "      <td>Residential Plot</td>\n",
       "      <td>Shadnagar</td>\n",
       "      <td>6.72</td>\n",
       "      <td>466</td>\n",
       "      <td>1440</td>\n",
       "      <td>New</td>\n",
       "      <td>4.7</td>\n",
       "    </tr>\n",
       "    <tr>\n",
       "      <td>...</td>\n",
       "      <td>...</td>\n",
       "      <td>...</td>\n",
       "      <td>...</td>\n",
       "      <td>...</td>\n",
       "      <td>...</td>\n",
       "      <td>...</td>\n",
       "      <td>...</td>\n",
       "      <td>...</td>\n",
       "    </tr>\n",
       "    <tr>\n",
       "      <td>40255</td>\n",
       "      <td>40255</td>\n",
       "      <td>2 BHK Apartment</td>\n",
       "      <td>Chandanagar</td>\n",
       "      <td>47.00</td>\n",
       "      <td>4563</td>\n",
       "      <td>1030</td>\n",
       "      <td>Ready to move</td>\n",
       "      <td>0.0</td>\n",
       "    </tr>\n",
       "    <tr>\n",
       "      <td>40256</td>\n",
       "      <td>40256</td>\n",
       "      <td>2 BHK Independent House</td>\n",
       "      <td>Kundanpally</td>\n",
       "      <td>25.74</td>\n",
       "      <td>3961</td>\n",
       "      <td>650</td>\n",
       "      <td>Ready to move</td>\n",
       "      <td>0.0</td>\n",
       "    </tr>\n",
       "    <tr>\n",
       "      <td>40257</td>\n",
       "      <td>40257</td>\n",
       "      <td>3 BHK Apartment</td>\n",
       "      <td>Peeramcheru</td>\n",
       "      <td>81.00</td>\n",
       "      <td>4500</td>\n",
       "      <td>1800</td>\n",
       "      <td>Ready to move</td>\n",
       "      <td>0.0</td>\n",
       "    </tr>\n",
       "    <tr>\n",
       "      <td>40258</td>\n",
       "      <td>40258</td>\n",
       "      <td>2 BHK Apartment</td>\n",
       "      <td>Nizampet</td>\n",
       "      <td>34.50</td>\n",
       "      <td>3833</td>\n",
       "      <td>900</td>\n",
       "      <td>Under Construction</td>\n",
       "      <td>0.0</td>\n",
       "    </tr>\n",
       "    <tr>\n",
       "      <td>40259</td>\n",
       "      <td>40259</td>\n",
       "      <td>2 BHK Apartment</td>\n",
       "      <td>Chandanagar</td>\n",
       "      <td>40.00</td>\n",
       "      <td>4444</td>\n",
       "      <td>900</td>\n",
       "      <td>Under Construction</td>\n",
       "      <td>0.0</td>\n",
       "    </tr>\n",
       "  </tbody>\n",
       "</table>\n",
       "<p>40260 rows × 8 columns</p>\n",
       "</div>"
      ],
      "text/plain": [
       "       Unnamed: 0                    title     location  price(L)  \\\n",
       "0               0         Residential Plot  Maheshwaram     45.00   \n",
       "1               1         Residential Plot     Kondakal     34.00   \n",
       "2               2         Residential Plot    Bibinagar     14.19   \n",
       "3               3         Residential Plot   Gachibowli    330.00   \n",
       "4               4         Residential Plot    Shadnagar      6.72   \n",
       "...           ...                      ...          ...       ...   \n",
       "40255       40255          2 BHK Apartment  Chandanagar     47.00   \n",
       "40256       40256  2 BHK Independent House  Kundanpally     25.74   \n",
       "40257       40257          3 BHK Apartment  Peeramcheru     81.00   \n",
       "40258       40258          2 BHK Apartment     Nizampet     34.50   \n",
       "40259       40259          2 BHK Apartment  Chandanagar     40.00   \n",
       "\n",
       "       rate_persqft  area_insqft     building_status  agent_rating  \n",
       "0              1111         4050                 New           4.6  \n",
       "1              2361         1440                 New           3.7  \n",
       "2               944         1503                 New           4.9  \n",
       "3              3333         9900                 New           0.0  \n",
       "4               466         1440                 New           4.7  \n",
       "...             ...          ...                 ...           ...  \n",
       "40255          4563         1030       Ready to move           0.0  \n",
       "40256          3961          650       Ready to move           0.0  \n",
       "40257          4500         1800       Ready to move           0.0  \n",
       "40258          3833          900  Under Construction           0.0  \n",
       "40259          4444          900  Under Construction           0.0  \n",
       "\n",
       "[40260 rows x 8 columns]"
      ]
     },
     "execution_count": 1,
     "metadata": {},
     "output_type": "execute_result"
    }
   ],
   "source": [
    "import pandas as pd\n",
    "\n",
    "df = pd.read_csv('datasets/1. projectfinal.csv')\n",
    "df"
   ]
  },
  {
   "cell_type": "code",
   "execution_count": 2,
   "metadata": {},
   "outputs": [
    {
     "data": {
      "text/html": [
       "<div>\n",
       "<style scoped>\n",
       "    .dataframe tbody tr th:only-of-type {\n",
       "        vertical-align: middle;\n",
       "    }\n",
       "\n",
       "    .dataframe tbody tr th {\n",
       "        vertical-align: top;\n",
       "    }\n",
       "\n",
       "    .dataframe thead th {\n",
       "        text-align: right;\n",
       "    }\n",
       "</style>\n",
       "<table border=\"1\" class=\"dataframe\">\n",
       "  <thead>\n",
       "    <tr style=\"text-align: right;\">\n",
       "      <th></th>\n",
       "      <th>Unnamed: 0</th>\n",
       "      <th>title</th>\n",
       "      <th>location</th>\n",
       "      <th>price(L)</th>\n",
       "      <th>rate_persqft</th>\n",
       "      <th>area_insqft</th>\n",
       "      <th>building_status</th>\n",
       "      <th>agent_rating</th>\n",
       "    </tr>\n",
       "  </thead>\n",
       "  <tbody>\n",
       "    <tr>\n",
       "      <td>0</td>\n",
       "      <td>0</td>\n",
       "      <td>Residential Plot</td>\n",
       "      <td>Maheshwaram</td>\n",
       "      <td>45.00</td>\n",
       "      <td>1111</td>\n",
       "      <td>4050</td>\n",
       "      <td>New</td>\n",
       "      <td>4.6</td>\n",
       "    </tr>\n",
       "    <tr>\n",
       "      <td>1</td>\n",
       "      <td>1</td>\n",
       "      <td>Residential Plot</td>\n",
       "      <td>Kondakal</td>\n",
       "      <td>34.00</td>\n",
       "      <td>2361</td>\n",
       "      <td>1440</td>\n",
       "      <td>New</td>\n",
       "      <td>3.7</td>\n",
       "    </tr>\n",
       "    <tr>\n",
       "      <td>2</td>\n",
       "      <td>2</td>\n",
       "      <td>Residential Plot</td>\n",
       "      <td>Bibinagar</td>\n",
       "      <td>14.19</td>\n",
       "      <td>944</td>\n",
       "      <td>1503</td>\n",
       "      <td>New</td>\n",
       "      <td>4.9</td>\n",
       "    </tr>\n",
       "    <tr>\n",
       "      <td>3</td>\n",
       "      <td>3</td>\n",
       "      <td>Residential Plot</td>\n",
       "      <td>Gachibowli</td>\n",
       "      <td>330.00</td>\n",
       "      <td>3333</td>\n",
       "      <td>9900</td>\n",
       "      <td>New</td>\n",
       "      <td>0.0</td>\n",
       "    </tr>\n",
       "    <tr>\n",
       "      <td>4</td>\n",
       "      <td>4</td>\n",
       "      <td>Residential Plot</td>\n",
       "      <td>Shadnagar</td>\n",
       "      <td>6.72</td>\n",
       "      <td>466</td>\n",
       "      <td>1440</td>\n",
       "      <td>New</td>\n",
       "      <td>4.7</td>\n",
       "    </tr>\n",
       "    <tr>\n",
       "      <td>...</td>\n",
       "      <td>...</td>\n",
       "      <td>...</td>\n",
       "      <td>...</td>\n",
       "      <td>...</td>\n",
       "      <td>...</td>\n",
       "      <td>...</td>\n",
       "      <td>...</td>\n",
       "      <td>...</td>\n",
       "    </tr>\n",
       "    <tr>\n",
       "      <td>40255</td>\n",
       "      <td>40255</td>\n",
       "      <td>2 BHK Apartment</td>\n",
       "      <td>Chandanagar</td>\n",
       "      <td>47.00</td>\n",
       "      <td>4563</td>\n",
       "      <td>1030</td>\n",
       "      <td>Ready to move</td>\n",
       "      <td>0.0</td>\n",
       "    </tr>\n",
       "    <tr>\n",
       "      <td>40256</td>\n",
       "      <td>40256</td>\n",
       "      <td>2 BHK Independent House</td>\n",
       "      <td>Kundanpally</td>\n",
       "      <td>25.74</td>\n",
       "      <td>3961</td>\n",
       "      <td>650</td>\n",
       "      <td>Ready to move</td>\n",
       "      <td>0.0</td>\n",
       "    </tr>\n",
       "    <tr>\n",
       "      <td>40257</td>\n",
       "      <td>40257</td>\n",
       "      <td>3 BHK Apartment</td>\n",
       "      <td>Peeramcheru</td>\n",
       "      <td>81.00</td>\n",
       "      <td>4500</td>\n",
       "      <td>1800</td>\n",
       "      <td>Ready to move</td>\n",
       "      <td>0.0</td>\n",
       "    </tr>\n",
       "    <tr>\n",
       "      <td>40258</td>\n",
       "      <td>40258</td>\n",
       "      <td>2 BHK Apartment</td>\n",
       "      <td>Nizampet</td>\n",
       "      <td>34.50</td>\n",
       "      <td>3833</td>\n",
       "      <td>900</td>\n",
       "      <td>Under Construction</td>\n",
       "      <td>0.0</td>\n",
       "    </tr>\n",
       "    <tr>\n",
       "      <td>40259</td>\n",
       "      <td>40259</td>\n",
       "      <td>2 BHK Apartment</td>\n",
       "      <td>Chandanagar</td>\n",
       "      <td>40.00</td>\n",
       "      <td>4444</td>\n",
       "      <td>900</td>\n",
       "      <td>Under Construction</td>\n",
       "      <td>0.0</td>\n",
       "    </tr>\n",
       "  </tbody>\n",
       "</table>\n",
       "<p>40260 rows × 8 columns</p>\n",
       "</div>"
      ],
      "text/plain": [
       "       Unnamed: 0                    title     location  price(L)  \\\n",
       "0               0         Residential Plot  Maheshwaram     45.00   \n",
       "1               1         Residential Plot     Kondakal     34.00   \n",
       "2               2         Residential Plot    Bibinagar     14.19   \n",
       "3               3         Residential Plot   Gachibowli    330.00   \n",
       "4               4         Residential Plot    Shadnagar      6.72   \n",
       "...           ...                      ...          ...       ...   \n",
       "40255       40255          2 BHK Apartment  Chandanagar     47.00   \n",
       "40256       40256  2 BHK Independent House  Kundanpally     25.74   \n",
       "40257       40257          3 BHK Apartment  Peeramcheru     81.00   \n",
       "40258       40258          2 BHK Apartment     Nizampet     34.50   \n",
       "40259       40259          2 BHK Apartment  Chandanagar     40.00   \n",
       "\n",
       "       rate_persqft  area_insqft     building_status  agent_rating  \n",
       "0              1111         4050                 New           4.6  \n",
       "1              2361         1440                 New           3.7  \n",
       "2               944         1503                 New           4.9  \n",
       "3              3333         9900                 New           0.0  \n",
       "4               466         1440                 New           4.7  \n",
       "...             ...          ...                 ...           ...  \n",
       "40255          4563         1030       Ready to move           0.0  \n",
       "40256          3961          650       Ready to move           0.0  \n",
       "40257          4500         1800       Ready to move           0.0  \n",
       "40258          3833          900  Under Construction           0.0  \n",
       "40259          4444          900  Under Construction           0.0  \n",
       "\n",
       "[40260 rows x 8 columns]"
      ]
     },
     "execution_count": 2,
     "metadata": {},
     "output_type": "execute_result"
    }
   ],
   "source": [
    "d2 = df.drop_duplicates()\n",
    "d2"
   ]
  },
  {
   "cell_type": "code",
   "execution_count": 3,
   "metadata": {},
   "outputs": [
    {
     "data": {
      "text/html": [
       "<div>\n",
       "<style scoped>\n",
       "    .dataframe tbody tr th:only-of-type {\n",
       "        vertical-align: middle;\n",
       "    }\n",
       "\n",
       "    .dataframe tbody tr th {\n",
       "        vertical-align: top;\n",
       "    }\n",
       "\n",
       "    .dataframe thead th {\n",
       "        text-align: right;\n",
       "    }\n",
       "</style>\n",
       "<table border=\"1\" class=\"dataframe\">\n",
       "  <thead>\n",
       "    <tr style=\"text-align: right;\">\n",
       "      <th></th>\n",
       "      <th>title</th>\n",
       "      <th>location</th>\n",
       "      <th>price(L)</th>\n",
       "      <th>rate_persqft</th>\n",
       "      <th>area_insqft</th>\n",
       "      <th>building_status</th>\n",
       "      <th>agent_rating</th>\n",
       "    </tr>\n",
       "  </thead>\n",
       "  <tbody>\n",
       "    <tr>\n",
       "      <td>0</td>\n",
       "      <td>Residential Plot</td>\n",
       "      <td>Maheshwaram</td>\n",
       "      <td>45.00</td>\n",
       "      <td>1111</td>\n",
       "      <td>4050</td>\n",
       "      <td>New</td>\n",
       "      <td>4.6</td>\n",
       "    </tr>\n",
       "    <tr>\n",
       "      <td>1</td>\n",
       "      <td>Residential Plot</td>\n",
       "      <td>Kondakal</td>\n",
       "      <td>34.00</td>\n",
       "      <td>2361</td>\n",
       "      <td>1440</td>\n",
       "      <td>New</td>\n",
       "      <td>3.7</td>\n",
       "    </tr>\n",
       "    <tr>\n",
       "      <td>2</td>\n",
       "      <td>Residential Plot</td>\n",
       "      <td>Bibinagar</td>\n",
       "      <td>14.19</td>\n",
       "      <td>944</td>\n",
       "      <td>1503</td>\n",
       "      <td>New</td>\n",
       "      <td>4.9</td>\n",
       "    </tr>\n",
       "    <tr>\n",
       "      <td>3</td>\n",
       "      <td>Residential Plot</td>\n",
       "      <td>Gachibowli</td>\n",
       "      <td>330.00</td>\n",
       "      <td>3333</td>\n",
       "      <td>9900</td>\n",
       "      <td>New</td>\n",
       "      <td>0.0</td>\n",
       "    </tr>\n",
       "    <tr>\n",
       "      <td>4</td>\n",
       "      <td>Residential Plot</td>\n",
       "      <td>Shadnagar</td>\n",
       "      <td>6.72</td>\n",
       "      <td>466</td>\n",
       "      <td>1440</td>\n",
       "      <td>New</td>\n",
       "      <td>4.7</td>\n",
       "    </tr>\n",
       "    <tr>\n",
       "      <td>...</td>\n",
       "      <td>...</td>\n",
       "      <td>...</td>\n",
       "      <td>...</td>\n",
       "      <td>...</td>\n",
       "      <td>...</td>\n",
       "      <td>...</td>\n",
       "      <td>...</td>\n",
       "    </tr>\n",
       "    <tr>\n",
       "      <td>40255</td>\n",
       "      <td>2 BHK Apartment</td>\n",
       "      <td>Chandanagar</td>\n",
       "      <td>47.00</td>\n",
       "      <td>4563</td>\n",
       "      <td>1030</td>\n",
       "      <td>Ready to move</td>\n",
       "      <td>0.0</td>\n",
       "    </tr>\n",
       "    <tr>\n",
       "      <td>40256</td>\n",
       "      <td>2 BHK Independent House</td>\n",
       "      <td>Kundanpally</td>\n",
       "      <td>25.74</td>\n",
       "      <td>3961</td>\n",
       "      <td>650</td>\n",
       "      <td>Ready to move</td>\n",
       "      <td>0.0</td>\n",
       "    </tr>\n",
       "    <tr>\n",
       "      <td>40257</td>\n",
       "      <td>3 BHK Apartment</td>\n",
       "      <td>Peeramcheru</td>\n",
       "      <td>81.00</td>\n",
       "      <td>4500</td>\n",
       "      <td>1800</td>\n",
       "      <td>Ready to move</td>\n",
       "      <td>0.0</td>\n",
       "    </tr>\n",
       "    <tr>\n",
       "      <td>40258</td>\n",
       "      <td>2 BHK Apartment</td>\n",
       "      <td>Nizampet</td>\n",
       "      <td>34.50</td>\n",
       "      <td>3833</td>\n",
       "      <td>900</td>\n",
       "      <td>Under Construction</td>\n",
       "      <td>0.0</td>\n",
       "    </tr>\n",
       "    <tr>\n",
       "      <td>40259</td>\n",
       "      <td>2 BHK Apartment</td>\n",
       "      <td>Chandanagar</td>\n",
       "      <td>40.00</td>\n",
       "      <td>4444</td>\n",
       "      <td>900</td>\n",
       "      <td>Under Construction</td>\n",
       "      <td>0.0</td>\n",
       "    </tr>\n",
       "  </tbody>\n",
       "</table>\n",
       "<p>40260 rows × 7 columns</p>\n",
       "</div>"
      ],
      "text/plain": [
       "                         title     location  price(L)  rate_persqft  \\\n",
       "0             Residential Plot  Maheshwaram     45.00          1111   \n",
       "1             Residential Plot     Kondakal     34.00          2361   \n",
       "2             Residential Plot    Bibinagar     14.19           944   \n",
       "3             Residential Plot   Gachibowli    330.00          3333   \n",
       "4             Residential Plot    Shadnagar      6.72           466   \n",
       "...                        ...          ...       ...           ...   \n",
       "40255          2 BHK Apartment  Chandanagar     47.00          4563   \n",
       "40256  2 BHK Independent House  Kundanpally     25.74          3961   \n",
       "40257          3 BHK Apartment  Peeramcheru     81.00          4500   \n",
       "40258          2 BHK Apartment     Nizampet     34.50          3833   \n",
       "40259          2 BHK Apartment  Chandanagar     40.00          4444   \n",
       "\n",
       "       area_insqft     building_status  agent_rating  \n",
       "0             4050                 New           4.6  \n",
       "1             1440                 New           3.7  \n",
       "2             1503                 New           4.9  \n",
       "3             9900                 New           0.0  \n",
       "4             1440                 New           4.7  \n",
       "...            ...                 ...           ...  \n",
       "40255         1030       Ready to move           0.0  \n",
       "40256          650       Ready to move           0.0  \n",
       "40257         1800       Ready to move           0.0  \n",
       "40258          900  Under Construction           0.0  \n",
       "40259          900  Under Construction           0.0  \n",
       "\n",
       "[40260 rows x 7 columns]"
      ]
     },
     "execution_count": 3,
     "metadata": {},
     "output_type": "execute_result"
    }
   ],
   "source": [
    "d2.drop('Unnamed: 0', axis = 1, inplace = True)\n",
    "d2"
   ]
  },
  {
   "cell_type": "code",
   "execution_count": 4,
   "metadata": {},
   "outputs": [
    {
     "data": {
      "text/plain": [
       "(40260, 7)"
      ]
     },
     "execution_count": 4,
     "metadata": {},
     "output_type": "execute_result"
    }
   ],
   "source": [
    "d2.shape"
   ]
  },
  {
   "cell_type": "code",
   "execution_count": 5,
   "metadata": {},
   "outputs": [
    {
     "data": {
      "text/html": [
       "<div>\n",
       "<style scoped>\n",
       "    .dataframe tbody tr th:only-of-type {\n",
       "        vertical-align: middle;\n",
       "    }\n",
       "\n",
       "    .dataframe tbody tr th {\n",
       "        vertical-align: top;\n",
       "    }\n",
       "\n",
       "    .dataframe thead th {\n",
       "        text-align: right;\n",
       "    }\n",
       "</style>\n",
       "<table border=\"1\" class=\"dataframe\">\n",
       "  <thead>\n",
       "    <tr style=\"text-align: right;\">\n",
       "      <th></th>\n",
       "      <th>title</th>\n",
       "      <th>location</th>\n",
       "      <th>price(L)</th>\n",
       "      <th>rate_persqft</th>\n",
       "      <th>area_insqft</th>\n",
       "      <th>building_status</th>\n",
       "      <th>agent_rating</th>\n",
       "    </tr>\n",
       "  </thead>\n",
       "  <tbody>\n",
       "    <tr>\n",
       "      <td>0</td>\n",
       "      <td>Residential Plot</td>\n",
       "      <td>Maheshwaram</td>\n",
       "      <td>45.00</td>\n",
       "      <td>1111</td>\n",
       "      <td>4050</td>\n",
       "      <td>New</td>\n",
       "      <td>4.6</td>\n",
       "    </tr>\n",
       "    <tr>\n",
       "      <td>1</td>\n",
       "      <td>Residential Plot</td>\n",
       "      <td>Kondakal</td>\n",
       "      <td>34.00</td>\n",
       "      <td>2361</td>\n",
       "      <td>1440</td>\n",
       "      <td>New</td>\n",
       "      <td>3.7</td>\n",
       "    </tr>\n",
       "    <tr>\n",
       "      <td>2</td>\n",
       "      <td>Residential Plot</td>\n",
       "      <td>Bibinagar</td>\n",
       "      <td>14.19</td>\n",
       "      <td>944</td>\n",
       "      <td>1503</td>\n",
       "      <td>New</td>\n",
       "      <td>4.9</td>\n",
       "    </tr>\n",
       "    <tr>\n",
       "      <td>3</td>\n",
       "      <td>Residential Plot</td>\n",
       "      <td>Gachibowli</td>\n",
       "      <td>330.00</td>\n",
       "      <td>3333</td>\n",
       "      <td>9900</td>\n",
       "      <td>New</td>\n",
       "      <td>0.0</td>\n",
       "    </tr>\n",
       "    <tr>\n",
       "      <td>4</td>\n",
       "      <td>Residential Plot</td>\n",
       "      <td>Shadnagar</td>\n",
       "      <td>6.72</td>\n",
       "      <td>466</td>\n",
       "      <td>1440</td>\n",
       "      <td>New</td>\n",
       "      <td>4.7</td>\n",
       "    </tr>\n",
       "    <tr>\n",
       "      <td>...</td>\n",
       "      <td>...</td>\n",
       "      <td>...</td>\n",
       "      <td>...</td>\n",
       "      <td>...</td>\n",
       "      <td>...</td>\n",
       "      <td>...</td>\n",
       "      <td>...</td>\n",
       "    </tr>\n",
       "    <tr>\n",
       "      <td>40255</td>\n",
       "      <td>2 BHK Apartment</td>\n",
       "      <td>Chandanagar</td>\n",
       "      <td>47.00</td>\n",
       "      <td>4563</td>\n",
       "      <td>1030</td>\n",
       "      <td>Ready to move</td>\n",
       "      <td>0.0</td>\n",
       "    </tr>\n",
       "    <tr>\n",
       "      <td>40256</td>\n",
       "      <td>2 BHK Independent House</td>\n",
       "      <td>Kundanpally</td>\n",
       "      <td>25.74</td>\n",
       "      <td>3961</td>\n",
       "      <td>650</td>\n",
       "      <td>Ready to move</td>\n",
       "      <td>0.0</td>\n",
       "    </tr>\n",
       "    <tr>\n",
       "      <td>40257</td>\n",
       "      <td>3 BHK Apartment</td>\n",
       "      <td>Peeramcheru</td>\n",
       "      <td>81.00</td>\n",
       "      <td>4500</td>\n",
       "      <td>1800</td>\n",
       "      <td>Ready to move</td>\n",
       "      <td>0.0</td>\n",
       "    </tr>\n",
       "    <tr>\n",
       "      <td>40258</td>\n",
       "      <td>2 BHK Apartment</td>\n",
       "      <td>Nizampet</td>\n",
       "      <td>34.50</td>\n",
       "      <td>3833</td>\n",
       "      <td>900</td>\n",
       "      <td>Under Construction</td>\n",
       "      <td>0.0</td>\n",
       "    </tr>\n",
       "    <tr>\n",
       "      <td>40259</td>\n",
       "      <td>2 BHK Apartment</td>\n",
       "      <td>Chandanagar</td>\n",
       "      <td>40.00</td>\n",
       "      <td>4444</td>\n",
       "      <td>900</td>\n",
       "      <td>Under Construction</td>\n",
       "      <td>0.0</td>\n",
       "    </tr>\n",
       "  </tbody>\n",
       "</table>\n",
       "<p>25715 rows × 7 columns</p>\n",
       "</div>"
      ],
      "text/plain": [
       "                         title     location  price(L)  rate_persqft  \\\n",
       "0             Residential Plot  Maheshwaram     45.00          1111   \n",
       "1             Residential Plot     Kondakal     34.00          2361   \n",
       "2             Residential Plot    Bibinagar     14.19           944   \n",
       "3             Residential Plot   Gachibowli    330.00          3333   \n",
       "4             Residential Plot    Shadnagar      6.72           466   \n",
       "...                        ...          ...       ...           ...   \n",
       "40255          2 BHK Apartment  Chandanagar     47.00          4563   \n",
       "40256  2 BHK Independent House  Kundanpally     25.74          3961   \n",
       "40257          3 BHK Apartment  Peeramcheru     81.00          4500   \n",
       "40258          2 BHK Apartment     Nizampet     34.50          3833   \n",
       "40259          2 BHK Apartment  Chandanagar     40.00          4444   \n",
       "\n",
       "       area_insqft     building_status  agent_rating  \n",
       "0             4050                 New           4.6  \n",
       "1             1440                 New           3.7  \n",
       "2             1503                 New           4.9  \n",
       "3             9900                 New           0.0  \n",
       "4             1440                 New           4.7  \n",
       "...            ...                 ...           ...  \n",
       "40255         1030       Ready to move           0.0  \n",
       "40256          650       Ready to move           0.0  \n",
       "40257         1800       Ready to move           0.0  \n",
       "40258          900  Under Construction           0.0  \n",
       "40259          900  Under Construction           0.0  \n",
       "\n",
       "[25715 rows x 7 columns]"
      ]
     },
     "execution_count": 5,
     "metadata": {},
     "output_type": "execute_result"
    }
   ],
   "source": [
    "d2.drop_duplicates(inplace=True)\n",
    "d2\n",
    "d2.shape\n",
    "d2"
   ]
  },
  {
   "cell_type": "code",
   "execution_count": 6,
   "metadata": {},
   "outputs": [
    {
     "data": {
      "text/html": [
       "<div>\n",
       "<style scoped>\n",
       "    .dataframe tbody tr th:only-of-type {\n",
       "        vertical-align: middle;\n",
       "    }\n",
       "\n",
       "    .dataframe tbody tr th {\n",
       "        vertical-align: top;\n",
       "    }\n",
       "\n",
       "    .dataframe thead th {\n",
       "        text-align: right;\n",
       "    }\n",
       "</style>\n",
       "<table border=\"1\" class=\"dataframe\">\n",
       "  <thead>\n",
       "    <tr style=\"text-align: right;\">\n",
       "      <th></th>\n",
       "      <th>title</th>\n",
       "      <th>location</th>\n",
       "      <th>price(L)</th>\n",
       "      <th>rate_persqft</th>\n",
       "      <th>area_insqft</th>\n",
       "      <th>building_status</th>\n",
       "      <th>agent_rating</th>\n",
       "    </tr>\n",
       "  </thead>\n",
       "  <tbody>\n",
       "    <tr>\n",
       "      <td>12768</td>\n",
       "      <td>Residential Plot</td>\n",
       "      <td>Vanasthalipuram</td>\n",
       "      <td>0.0</td>\n",
       "      <td>100</td>\n",
       "      <td>450</td>\n",
       "      <td>New</td>\n",
       "      <td>4.4</td>\n",
       "    </tr>\n",
       "    <tr>\n",
       "      <td>15982</td>\n",
       "      <td>Residential Plot</td>\n",
       "      <td>Jubilee Hills</td>\n",
       "      <td>0.0</td>\n",
       "      <td>333</td>\n",
       "      <td>150</td>\n",
       "      <td>New</td>\n",
       "      <td>2.9</td>\n",
       "    </tr>\n",
       "    <tr>\n",
       "      <td>22109</td>\n",
       "      <td>Residential Plot</td>\n",
       "      <td>Kukatpally</td>\n",
       "      <td>0.0</td>\n",
       "      <td>213</td>\n",
       "      <td>150</td>\n",
       "      <td>New</td>\n",
       "      <td>2.4</td>\n",
       "    </tr>\n",
       "    <tr>\n",
       "      <td>22617</td>\n",
       "      <td>Residential Plot</td>\n",
       "      <td>Nagole Bandlaguda Road</td>\n",
       "      <td>0.0</td>\n",
       "      <td>106</td>\n",
       "      <td>150</td>\n",
       "      <td>New</td>\n",
       "      <td>2.0</td>\n",
       "    </tr>\n",
       "  </tbody>\n",
       "</table>\n",
       "</div>"
      ],
      "text/plain": [
       "                  title                location  price(L)  rate_persqft  \\\n",
       "12768  Residential Plot         Vanasthalipuram       0.0           100   \n",
       "15982  Residential Plot           Jubilee Hills       0.0           333   \n",
       "22109  Residential Plot              Kukatpally       0.0           213   \n",
       "22617  Residential Plot  Nagole Bandlaguda Road       0.0           106   \n",
       "\n",
       "       area_insqft building_status  agent_rating  \n",
       "12768          450             New           4.4  \n",
       "15982          150             New           2.9  \n",
       "22109          150             New           2.4  \n",
       "22617          150             New           2.0  "
      ]
     },
     "execution_count": 6,
     "metadata": {},
     "output_type": "execute_result"
    }
   ],
   "source": [
    "d2[d2['price(L)'] == 0]"
   ]
  },
  {
   "cell_type": "code",
   "execution_count": 7,
   "metadata": {},
   "outputs": [],
   "source": [
    "# This code multiplies rate per sqft and area and returns the price for the properties\n",
    "import numpy as np\n",
    "\n",
    "rows = d2[d2['price(L)'] == 0].index.tolist()\n",
    "prices = []\n",
    "\n",
    "for row in rows:\n",
    "    ratepersqft = d2.loc[row, 'rate_persqft'] # Return sthe value of ratepersqft.\n",
    "    areainsqft = d2.loc[row, 'area_insqft']\n",
    "    price = np.round(ratepersqft * areainsqft / 100000, 2)\n",
    "    d2.loc[row, 'price(L)'] = price\n",
    "    prices.append(price)\n"
   ]
  },
  {
   "cell_type": "code",
   "execution_count": 8,
   "metadata": {},
   "outputs": [
    {
     "data": {
      "text/html": [
       "<div>\n",
       "<style scoped>\n",
       "    .dataframe tbody tr th:only-of-type {\n",
       "        vertical-align: middle;\n",
       "    }\n",
       "\n",
       "    .dataframe tbody tr th {\n",
       "        vertical-align: top;\n",
       "    }\n",
       "\n",
       "    .dataframe thead th {\n",
       "        text-align: right;\n",
       "    }\n",
       "</style>\n",
       "<table border=\"1\" class=\"dataframe\">\n",
       "  <thead>\n",
       "    <tr style=\"text-align: right;\">\n",
       "      <th></th>\n",
       "      <th>title</th>\n",
       "      <th>location</th>\n",
       "      <th>price(L)</th>\n",
       "      <th>rate_persqft</th>\n",
       "      <th>area_insqft</th>\n",
       "      <th>building_status</th>\n",
       "      <th>agent_rating</th>\n",
       "    </tr>\n",
       "  </thead>\n",
       "  <tbody>\n",
       "    <tr>\n",
       "      <td>12768</td>\n",
       "      <td>Residential Plot</td>\n",
       "      <td>Vanasthalipuram</td>\n",
       "      <td>0.45</td>\n",
       "      <td>100</td>\n",
       "      <td>450</td>\n",
       "      <td>New</td>\n",
       "      <td>4.4</td>\n",
       "    </tr>\n",
       "    <tr>\n",
       "      <td>15982</td>\n",
       "      <td>Residential Plot</td>\n",
       "      <td>Jubilee Hills</td>\n",
       "      <td>0.50</td>\n",
       "      <td>333</td>\n",
       "      <td>150</td>\n",
       "      <td>New</td>\n",
       "      <td>2.9</td>\n",
       "    </tr>\n",
       "    <tr>\n",
       "      <td>22109</td>\n",
       "      <td>Residential Plot</td>\n",
       "      <td>Kukatpally</td>\n",
       "      <td>0.32</td>\n",
       "      <td>213</td>\n",
       "      <td>150</td>\n",
       "      <td>New</td>\n",
       "      <td>2.4</td>\n",
       "    </tr>\n",
       "    <tr>\n",
       "      <td>22617</td>\n",
       "      <td>Residential Plot</td>\n",
       "      <td>Nagole Bandlaguda Road</td>\n",
       "      <td>0.16</td>\n",
       "      <td>106</td>\n",
       "      <td>150</td>\n",
       "      <td>New</td>\n",
       "      <td>2.0</td>\n",
       "    </tr>\n",
       "  </tbody>\n",
       "</table>\n",
       "</div>"
      ],
      "text/plain": [
       "                  title                location  price(L)  rate_persqft  \\\n",
       "12768  Residential Plot         Vanasthalipuram      0.45           100   \n",
       "15982  Residential Plot           Jubilee Hills      0.50           333   \n",
       "22109  Residential Plot              Kukatpally      0.32           213   \n",
       "22617  Residential Plot  Nagole Bandlaguda Road      0.16           106   \n",
       "\n",
       "       area_insqft building_status  agent_rating  \n",
       "12768          450             New           4.4  \n",
       "15982          150             New           2.9  \n",
       "22109          150             New           2.4  \n",
       "22617          150             New           2.0  "
      ]
     },
     "execution_count": 8,
     "metadata": {},
     "output_type": "execute_result"
    }
   ],
   "source": [
    "# Successfully Replaced\n",
    "d2[d2['price(L)'] < 1]"
   ]
  },
  {
   "cell_type": "code",
   "execution_count": 9,
   "metadata": {},
   "outputs": [
    {
     "data": {
      "text/plain": [
       "(25715, 7)"
      ]
     },
     "execution_count": 9,
     "metadata": {},
     "output_type": "execute_result"
    }
   ],
   "source": [
    "d2.loc[rows]\n",
    "d2.shape"
   ]
  },
  {
   "cell_type": "code",
   "execution_count": 10,
   "metadata": {},
   "outputs": [],
   "source": [
    "# import the cleaned data into excel sheet\n",
    "writer = pd.ExcelWriter('current.xlsx', engine = 'xlsxwriter')\n",
    "d2.to_excel(writer, 'Sheet1')\n",
    "writer.save()"
   ]
  },
  {
   "cell_type": "markdown",
   "metadata": {},
   "source": [
    "### From here import the newly created excel and work on it."
   ]
  },
  {
   "cell_type": "code",
   "execution_count": 11,
   "metadata": {},
   "outputs": [
    {
     "data": {
      "text/html": [
       "<div>\n",
       "<style scoped>\n",
       "    .dataframe tbody tr th:only-of-type {\n",
       "        vertical-align: middle;\n",
       "    }\n",
       "\n",
       "    .dataframe tbody tr th {\n",
       "        vertical-align: top;\n",
       "    }\n",
       "\n",
       "    .dataframe thead th {\n",
       "        text-align: right;\n",
       "    }\n",
       "</style>\n",
       "<table border=\"1\" class=\"dataframe\">\n",
       "  <thead>\n",
       "    <tr style=\"text-align: right;\">\n",
       "      <th></th>\n",
       "      <th>title</th>\n",
       "      <th>location</th>\n",
       "      <th>price(L)</th>\n",
       "      <th>rate_persqft</th>\n",
       "      <th>area_insqft</th>\n",
       "      <th>building_status</th>\n",
       "      <th>agent_rating</th>\n",
       "    </tr>\n",
       "  </thead>\n",
       "  <tbody>\n",
       "    <tr>\n",
       "      <td>0</td>\n",
       "      <td>Residential Plot</td>\n",
       "      <td>Maheshwaram</td>\n",
       "      <td>45.00</td>\n",
       "      <td>1111</td>\n",
       "      <td>4050</td>\n",
       "      <td>New</td>\n",
       "      <td>4.6</td>\n",
       "    </tr>\n",
       "    <tr>\n",
       "      <td>1</td>\n",
       "      <td>Residential Plot</td>\n",
       "      <td>Kondakal</td>\n",
       "      <td>34.00</td>\n",
       "      <td>2361</td>\n",
       "      <td>1440</td>\n",
       "      <td>New</td>\n",
       "      <td>3.7</td>\n",
       "    </tr>\n",
       "    <tr>\n",
       "      <td>2</td>\n",
       "      <td>Residential Plot</td>\n",
       "      <td>Bibinagar</td>\n",
       "      <td>14.19</td>\n",
       "      <td>944</td>\n",
       "      <td>1503</td>\n",
       "      <td>New</td>\n",
       "      <td>4.9</td>\n",
       "    </tr>\n",
       "    <tr>\n",
       "      <td>3</td>\n",
       "      <td>Residential Plot</td>\n",
       "      <td>Gachibowli</td>\n",
       "      <td>330.00</td>\n",
       "      <td>3333</td>\n",
       "      <td>9900</td>\n",
       "      <td>New</td>\n",
       "      <td>0.0</td>\n",
       "    </tr>\n",
       "    <tr>\n",
       "      <td>4</td>\n",
       "      <td>Residential Plot</td>\n",
       "      <td>Shadnagar</td>\n",
       "      <td>6.72</td>\n",
       "      <td>466</td>\n",
       "      <td>1440</td>\n",
       "      <td>New</td>\n",
       "      <td>4.7</td>\n",
       "    </tr>\n",
       "    <tr>\n",
       "      <td>...</td>\n",
       "      <td>...</td>\n",
       "      <td>...</td>\n",
       "      <td>...</td>\n",
       "      <td>...</td>\n",
       "      <td>...</td>\n",
       "      <td>...</td>\n",
       "      <td>...</td>\n",
       "    </tr>\n",
       "    <tr>\n",
       "      <td>40255</td>\n",
       "      <td>2 BHK Apartment</td>\n",
       "      <td>Chandanagar</td>\n",
       "      <td>47.00</td>\n",
       "      <td>4563</td>\n",
       "      <td>1030</td>\n",
       "      <td>Ready to move</td>\n",
       "      <td>0.0</td>\n",
       "    </tr>\n",
       "    <tr>\n",
       "      <td>40256</td>\n",
       "      <td>2 BHK Independent House</td>\n",
       "      <td>Kundanpally</td>\n",
       "      <td>25.74</td>\n",
       "      <td>3961</td>\n",
       "      <td>650</td>\n",
       "      <td>Ready to move</td>\n",
       "      <td>0.0</td>\n",
       "    </tr>\n",
       "    <tr>\n",
       "      <td>40257</td>\n",
       "      <td>3 BHK Apartment</td>\n",
       "      <td>Peeramcheru</td>\n",
       "      <td>81.00</td>\n",
       "      <td>4500</td>\n",
       "      <td>1800</td>\n",
       "      <td>Ready to move</td>\n",
       "      <td>0.0</td>\n",
       "    </tr>\n",
       "    <tr>\n",
       "      <td>40258</td>\n",
       "      <td>2 BHK Apartment</td>\n",
       "      <td>Nizampet</td>\n",
       "      <td>34.50</td>\n",
       "      <td>3833</td>\n",
       "      <td>900</td>\n",
       "      <td>Under Construction</td>\n",
       "      <td>0.0</td>\n",
       "    </tr>\n",
       "    <tr>\n",
       "      <td>40259</td>\n",
       "      <td>2 BHK Apartment</td>\n",
       "      <td>Chandanagar</td>\n",
       "      <td>40.00</td>\n",
       "      <td>4444</td>\n",
       "      <td>900</td>\n",
       "      <td>Under Construction</td>\n",
       "      <td>0.0</td>\n",
       "    </tr>\n",
       "  </tbody>\n",
       "</table>\n",
       "<p>25715 rows × 7 columns</p>\n",
       "</div>"
      ],
      "text/plain": [
       "                         title     location  price(L)  rate_persqft  \\\n",
       "0             Residential Plot  Maheshwaram     45.00          1111   \n",
       "1             Residential Plot     Kondakal     34.00          2361   \n",
       "2             Residential Plot    Bibinagar     14.19           944   \n",
       "3             Residential Plot   Gachibowli    330.00          3333   \n",
       "4             Residential Plot    Shadnagar      6.72           466   \n",
       "...                        ...          ...       ...           ...   \n",
       "40255          2 BHK Apartment  Chandanagar     47.00          4563   \n",
       "40256  2 BHK Independent House  Kundanpally     25.74          3961   \n",
       "40257          3 BHK Apartment  Peeramcheru     81.00          4500   \n",
       "40258          2 BHK Apartment     Nizampet     34.50          3833   \n",
       "40259          2 BHK Apartment  Chandanagar     40.00          4444   \n",
       "\n",
       "       area_insqft     building_status  agent_rating  \n",
       "0             4050                 New           4.6  \n",
       "1             1440                 New           3.7  \n",
       "2             1503                 New           4.9  \n",
       "3             9900                 New           0.0  \n",
       "4             1440                 New           4.7  \n",
       "...            ...                 ...           ...  \n",
       "40255         1030       Ready to move           0.0  \n",
       "40256          650       Ready to move           0.0  \n",
       "40257         1800       Ready to move           0.0  \n",
       "40258          900  Under Construction           0.0  \n",
       "40259          900  Under Construction           0.0  \n",
       "\n",
       "[25715 rows x 7 columns]"
      ]
     },
     "execution_count": 11,
     "metadata": {},
     "output_type": "execute_result"
    }
   ],
   "source": [
    "df = pd.read_excel('current.xlsx', index_col = 0)\n",
    "df.head()\n",
    "df"
   ]
  },
  {
   "cell_type": "markdown",
   "metadata": {},
   "source": [
    "# Understanding Categorical Columns"
   ]
  },
  {
   "cell_type": "markdown",
   "metadata": {},
   "source": [
    "# Title Column"
   ]
  },
  {
   "cell_type": "code",
   "execution_count": 13,
   "metadata": {},
   "outputs": [
    {
     "data": {
      "text/plain": [
       "array(['Residential Plot', '3 BHK Apartment', '5 BHK Villa',\n",
       "       '4 BHK Apartment', '4 BHK Villa', '3 BHK Villa', '2 BHK Apartment',\n",
       "       '1 BHK Apartment', '2 BHK Independent House', '5 BHK Apartment',\n",
       "       '3 BHK Independent House', '2 BHK Independent Floor',\n",
       "       '1 BHK Independent Floor', '1 RK Studio Apartment',\n",
       "       '4 BHK Independent House', '9 BHK Independent House',\n",
       "       '2 BHK Villa', '4 BHK Independent Floor',\n",
       "       '7 BHK Independent House', '3 BHK Independent Floor',\n",
       "       '1 BHK Independent House', '11 BHK Independent House',\n",
       "       '5 BHK Independent House', '11 BHK Villa', '6 BHK Apartment',\n",
       "       '6 BHK Independent House', '12 BHK Independent Floor',\n",
       "       '2 BHK Penthouse', '6 BHK Villa', '5 BHK Penthouse',\n",
       "       '6 BHK Independent Floor', '10 BHK Independent House',\n",
       "       '8 BHK Independent House', '12 BHK Independent House',\n",
       "       '8 BHK Independent Floor', '9 BHK Apartment', '4 BHK Penthouse',\n",
       "       '1 BHK Villa', '7 BHK Villa', '5 BHK Independent Floor',\n",
       "       '8 BHK Villa', '12 BHK Villa', '9 BHK Independent Floor',\n",
       "       '10 BHK Independent Floor', '10 BHK Apartment'], dtype=object)"
      ]
     },
     "execution_count": 13,
     "metadata": {},
     "output_type": "execute_result"
    }
   ],
   "source": [
    "df['title'].unique()"
   ]
  },
  {
   "cell_type": "code",
   "execution_count": 14,
   "metadata": {},
   "outputs": [
    {
     "data": {
      "text/plain": [
       "45"
      ]
     },
     "execution_count": 14,
     "metadata": {},
     "output_type": "execute_result"
    }
   ],
   "source": [
    "# get the count of unique values\n",
    "df['title'].nunique()"
   ]
  },
  {
   "cell_type": "code",
   "execution_count": 15,
   "metadata": {},
   "outputs": [
    {
     "data": {
      "text/plain": [
       "Residential Plot            14642\n",
       "3 BHK Apartment              4071\n",
       "2 BHK Apartment              3532\n",
       "2 BHK Independent House       832\n",
       "3 BHK Villa                   440\n",
       "4 BHK Villa                   422\n",
       "4 BHK Apartment               381\n",
       "1 BHK Apartment               321\n",
       "3 BHK Independent House       232\n",
       "1 BHK Independent House       179\n",
       "4 BHK Independent House       172\n",
       "2 BHK Independent Floor        68\n",
       "5 BHK Apartment                54\n",
       "5 BHK Villa                    52\n",
       "2 BHK Villa                    50\n",
       "5 BHK Independent House        47\n",
       "6 BHK Independent House        45\n",
       "3 BHK Independent Floor        39\n",
       "7 BHK Independent House        20\n",
       "4 BHK Independent Floor        16\n",
       "1 BHK Independent Floor        16\n",
       "10 BHK Independent House       14\n",
       "6 BHK Apartment                 9\n",
       "1 RK Studio Apartment           9\n",
       "9 BHK Independent House         7\n",
       "8 BHK Independent House         6\n",
       "1 BHK Villa                     6\n",
       "6 BHK Independent Floor         5\n",
       "6 BHK Villa                     4\n",
       "12 BHK Independent House        2\n",
       "Name: title, dtype: int64"
      ]
     },
     "execution_count": 15,
     "metadata": {},
     "output_type": "execute_result"
    }
   ],
   "source": [
    "df['title'].value_counts().head(30)"
   ]
  },
  {
   "cell_type": "markdown",
   "metadata": {},
   "source": [
    "# Location Column"
   ]
  },
  {
   "cell_type": "code",
   "execution_count": 16,
   "metadata": {},
   "outputs": [
    {
     "data": {
      "text/plain": [
       "935"
      ]
     },
     "execution_count": 16,
     "metadata": {},
     "output_type": "execute_result"
    }
   ],
   "source": [
    "df['location'].nunique()"
   ]
  },
  {
   "cell_type": "markdown",
   "metadata": {},
   "source": [
    "* We have around 935 Columns\n",
    "* Lets check the top 50 most frequent locations."
   ]
  },
  {
   "cell_type": "code",
   "execution_count": 17,
   "metadata": {},
   "outputs": [
    {
     "data": {
      "text/plain": [
       "Shadnagar                     1448\n",
       "Tellapur                      1252\n",
       "Maheshwaram                   1025\n",
       "Gachibowli                     891\n",
       "Kadthal                        736\n",
       "                              ... \n",
       "Punjagutta Officers Colony       1\n",
       "Golden Temple Road               1\n",
       "Achi Reddy Nagar                 1\n",
       "Langer House                     1\n",
       "Kyettaian Gouda Nilayam          1\n",
       "Name: location, Length: 935, dtype: int64"
      ]
     },
     "execution_count": 17,
     "metadata": {},
     "output_type": "execute_result"
    }
   ],
   "source": [
    "df[\"location\"].value_counts()"
   ]
  },
  {
   "cell_type": "code",
   "execution_count": 19,
   "metadata": {},
   "outputs": [
    {
     "data": {
      "text/plain": [
       "Shadnagar                1448\n",
       "Tellapur                 1252\n",
       "Maheshwaram              1025\n",
       "Gachibowli                891\n",
       "Kadthal                   736\n",
       "Kothur                    674\n",
       "Tukkuguda                 674\n",
       "Adibatla                  563\n",
       "Kukatpally                556\n",
       "Yadagirigutta             532\n",
       "Shamshabad                432\n",
       "Nanakramguda              367\n",
       "Kondapur                  360\n",
       "Miyapur                   348\n",
       "Mansanpally Highway       316\n",
       "Patancheru                292\n",
       "Bhuvanagiri               265\n",
       "Bachupally                258\n",
       "Manikonda                 255\n",
       "Medchal                   253\n",
       "Ghatkesar                 251\n",
       "Narsingi                  249\n",
       "Kollur                    242\n",
       "Sadasivpet                237\n",
       "Kokapet                   218\n",
       "Thummaluru                215\n",
       "Srisailam Highway         215\n",
       "Shamirpet                 210\n",
       "Nandigama                 202\n",
       "Warangal Highway Aler     196\n",
       "Beeramguda                192\n",
       "Hitech City               189\n",
       "Mansanpally               187\n",
       "Nizampet                  177\n",
       "Rudraram                  172\n",
       "Isnapur                   170\n",
       "Ibrahimpatnam             163\n",
       "Bhanur                    157\n",
       "Mokila                    154\n",
       "Serilingampally           151\n",
       "Kompally                  139\n",
       "Kollur Road               137\n",
       "Beeramguda Road           134\n",
       "Shankarpalli              130\n",
       "Bhongir                   129\n",
       "Bibinagar                 129\n",
       "Mucherla                  129\n",
       "International Airport     128\n",
       "Mallampet                 119\n",
       "Rampally                  119\n",
       "Name: location, dtype: int64"
      ]
     },
     "execution_count": 19,
     "metadata": {},
     "output_type": "execute_result"
    }
   ],
   "source": [
    "df['location'].value_counts().head(50)"
   ]
  },
  {
   "cell_type": "markdown",
   "metadata": {},
   "source": [
    "* As the Shadnagar is having most number of plots\n",
    "* Lets check the Residential Plots in Shadnagar"
   ]
  },
  {
   "cell_type": "code",
   "execution_count": 21,
   "metadata": {},
   "outputs": [
    {
     "data": {
      "text/plain": [
       "title              1435\n",
       "location           1435\n",
       "price(L)           1435\n",
       "rate_persqft       1435\n",
       "area_insqft        1435\n",
       "building_status    1435\n",
       "agent_rating       1435\n",
       "dtype: int64"
      ]
     },
     "execution_count": 21,
     "metadata": {},
     "output_type": "execute_result"
    }
   ],
   "source": [
    "df[(df['location'] == 'Shadnagar') & (df['title'] == 'Residential Plot')].count()"
   ]
  },
  {
   "cell_type": "markdown",
   "metadata": {},
   "source": [
    "* Out of 1448 records of Shadnagar around 1435 records are having Residential Plots.\n",
    "* Lets understand its aggregation function of those records."
   ]
  },
  {
   "cell_type": "code",
   "execution_count": 22,
   "metadata": {},
   "outputs": [
    {
     "data": {
      "text/html": [
       "<div>\n",
       "<style scoped>\n",
       "    .dataframe tbody tr th:only-of-type {\n",
       "        vertical-align: middle;\n",
       "    }\n",
       "\n",
       "    .dataframe tbody tr th {\n",
       "        vertical-align: top;\n",
       "    }\n",
       "\n",
       "    .dataframe thead th {\n",
       "        text-align: right;\n",
       "    }\n",
       "</style>\n",
       "<table border=\"1\" class=\"dataframe\">\n",
       "  <thead>\n",
       "    <tr style=\"text-align: right;\">\n",
       "      <th></th>\n",
       "      <th>price(L)</th>\n",
       "      <th>rate_persqft</th>\n",
       "      <th>area_insqft</th>\n",
       "      <th>agent_rating</th>\n",
       "    </tr>\n",
       "  </thead>\n",
       "  <tbody>\n",
       "    <tr>\n",
       "      <td>count</td>\n",
       "      <td>1435.000000</td>\n",
       "      <td>1435.000000</td>\n",
       "      <td>1435.000000</td>\n",
       "      <td>1435.000000</td>\n",
       "    </tr>\n",
       "    <tr>\n",
       "      <td>mean</td>\n",
       "      <td>14.221944</td>\n",
       "      <td>970.858537</td>\n",
       "      <td>1874.887805</td>\n",
       "      <td>3.739721</td>\n",
       "    </tr>\n",
       "    <tr>\n",
       "      <td>std</td>\n",
       "      <td>41.541552</td>\n",
       "      <td>2190.347256</td>\n",
       "      <td>5001.302829</td>\n",
       "      <td>1.720387</td>\n",
       "    </tr>\n",
       "    <tr>\n",
       "      <td>min</td>\n",
       "      <td>1.200000</td>\n",
       "      <td>101.000000</td>\n",
       "      <td>100.000000</td>\n",
       "      <td>0.000000</td>\n",
       "    </tr>\n",
       "    <tr>\n",
       "      <td>25%</td>\n",
       "      <td>7.195000</td>\n",
       "      <td>485.000000</td>\n",
       "      <td>1320.000000</td>\n",
       "      <td>3.700000</td>\n",
       "    </tr>\n",
       "    <tr>\n",
       "      <td>50%</td>\n",
       "      <td>10.500000</td>\n",
       "      <td>722.000000</td>\n",
       "      <td>1350.000000</td>\n",
       "      <td>4.500000</td>\n",
       "    </tr>\n",
       "    <tr>\n",
       "      <td>75%</td>\n",
       "      <td>15.000000</td>\n",
       "      <td>944.000000</td>\n",
       "      <td>1800.000000</td>\n",
       "      <td>4.800000</td>\n",
       "    </tr>\n",
       "    <tr>\n",
       "      <td>max</td>\n",
       "      <td>1420.000000</td>\n",
       "      <td>58000.000000</td>\n",
       "      <td>174240.000000</td>\n",
       "      <td>5.000000</td>\n",
       "    </tr>\n",
       "  </tbody>\n",
       "</table>\n",
       "</div>"
      ],
      "text/plain": [
       "          price(L)  rate_persqft    area_insqft  agent_rating\n",
       "count  1435.000000   1435.000000    1435.000000   1435.000000\n",
       "mean     14.221944    970.858537    1874.887805      3.739721\n",
       "std      41.541552   2190.347256    5001.302829      1.720387\n",
       "min       1.200000    101.000000     100.000000      0.000000\n",
       "25%       7.195000    485.000000    1320.000000      3.700000\n",
       "50%      10.500000    722.000000    1350.000000      4.500000\n",
       "75%      15.000000    944.000000    1800.000000      4.800000\n",
       "max    1420.000000  58000.000000  174240.000000      5.000000"
      ]
     },
     "execution_count": 22,
     "metadata": {},
     "output_type": "execute_result"
    }
   ],
   "source": [
    "df[(df['location'] == 'Shadnagar') & (df['title'] == 'Residential Plot')].describe()"
   ]
  },
  {
   "cell_type": "markdown",
   "metadata": {},
   "source": [
    "* Observe the max value has the area_insqft huge in number"
   ]
  },
  {
   "cell_type": "code",
   "execution_count": 23,
   "metadata": {},
   "outputs": [
    {
     "data": {
      "text/plain": [
       "title              Residential Plot\n",
       "location                  Shadnagar\n",
       "price(L)                       1420\n",
       "rate_persqft                  58000\n",
       "area_insqft                  174240\n",
       "building_status              Resale\n",
       "agent_rating                      5\n",
       "dtype: object"
      ]
     },
     "execution_count": 23,
     "metadata": {},
     "output_type": "execute_result"
    }
   ],
   "source": [
    "df[(df['location'] == 'Shadnagar') & (df['title'] == 'Residential Plot')].max()"
   ]
  },
  {
   "cell_type": "code",
   "execution_count": 24,
   "metadata": {},
   "outputs": [
    {
     "data": {
      "text/plain": [
       "title              1153\n",
       "location           1153\n",
       "price(L)           1153\n",
       "rate_persqft       1153\n",
       "area_insqft        1153\n",
       "building_status    1153\n",
       "agent_rating       1153\n",
       "dtype: int64"
      ]
     },
     "execution_count": 24,
     "metadata": {},
     "output_type": "execute_result"
    }
   ],
   "source": [
    "df[(df['location'] == 'Shadnagar') & (df['title'] == 'Residential Plot') & ( df['agent_rating'] > 3)].count()"
   ]
  },
  {
   "cell_type": "markdown",
   "metadata": {},
   "source": [
    "* From around 1448 records of Shadnagar with Residential plots we have 1435 records."
   ]
  },
  {
   "cell_type": "code",
   "execution_count": 25,
   "metadata": {},
   "outputs": [
    {
     "data": {
      "text/html": [
       "<div>\n",
       "<style scoped>\n",
       "    .dataframe tbody tr th:only-of-type {\n",
       "        vertical-align: middle;\n",
       "    }\n",
       "\n",
       "    .dataframe tbody tr th {\n",
       "        vertical-align: top;\n",
       "    }\n",
       "\n",
       "    .dataframe thead th {\n",
       "        text-align: right;\n",
       "    }\n",
       "</style>\n",
       "<table border=\"1\" class=\"dataframe\">\n",
       "  <thead>\n",
       "    <tr style=\"text-align: right;\">\n",
       "      <th></th>\n",
       "      <th>location</th>\n",
       "      <th>price(L)</th>\n",
       "      <th>rate_persqft</th>\n",
       "      <th>area_insqft</th>\n",
       "      <th>building_status</th>\n",
       "      <th>agent_rating</th>\n",
       "    </tr>\n",
       "    <tr>\n",
       "      <th>title</th>\n",
       "      <th></th>\n",
       "      <th></th>\n",
       "      <th></th>\n",
       "      <th></th>\n",
       "      <th></th>\n",
       "      <th></th>\n",
       "    </tr>\n",
       "  </thead>\n",
       "  <tbody>\n",
       "    <tr>\n",
       "      <td>Residential Plot</td>\n",
       "      <td>Maheshwaram</td>\n",
       "      <td>45.00</td>\n",
       "      <td>1111</td>\n",
       "      <td>4050</td>\n",
       "      <td>New</td>\n",
       "      <td>4.6</td>\n",
       "    </tr>\n",
       "    <tr>\n",
       "      <td>Residential Plot</td>\n",
       "      <td>Kondakal</td>\n",
       "      <td>34.00</td>\n",
       "      <td>2361</td>\n",
       "      <td>1440</td>\n",
       "      <td>New</td>\n",
       "      <td>3.7</td>\n",
       "    </tr>\n",
       "    <tr>\n",
       "      <td>Residential Plot</td>\n",
       "      <td>Bibinagar</td>\n",
       "      <td>14.19</td>\n",
       "      <td>944</td>\n",
       "      <td>1503</td>\n",
       "      <td>New</td>\n",
       "      <td>4.9</td>\n",
       "    </tr>\n",
       "    <tr>\n",
       "      <td>Residential Plot</td>\n",
       "      <td>Gachibowli</td>\n",
       "      <td>330.00</td>\n",
       "      <td>3333</td>\n",
       "      <td>9900</td>\n",
       "      <td>New</td>\n",
       "      <td>0.0</td>\n",
       "    </tr>\n",
       "    <tr>\n",
       "      <td>Residential Plot</td>\n",
       "      <td>Shadnagar</td>\n",
       "      <td>6.72</td>\n",
       "      <td>466</td>\n",
       "      <td>1440</td>\n",
       "      <td>New</td>\n",
       "      <td>4.7</td>\n",
       "    </tr>\n",
       "  </tbody>\n",
       "</table>\n",
       "</div>"
      ],
      "text/plain": [
       "                     location  price(L)  rate_persqft  area_insqft  \\\n",
       "title                                                                \n",
       "Residential Plot  Maheshwaram     45.00          1111         4050   \n",
       "Residential Plot     Kondakal     34.00          2361         1440   \n",
       "Residential Plot    Bibinagar     14.19           944         1503   \n",
       "Residential Plot   Gachibowli    330.00          3333         9900   \n",
       "Residential Plot    Shadnagar      6.72           466         1440   \n",
       "\n",
       "                 building_status  agent_rating  \n",
       "title                                           \n",
       "Residential Plot             New           4.6  \n",
       "Residential Plot             New           3.7  \n",
       "Residential Plot             New           4.9  \n",
       "Residential Plot             New           0.0  \n",
       "Residential Plot             New           4.7  "
      ]
     },
     "execution_count": 25,
     "metadata": {},
     "output_type": "execute_result"
    }
   ],
   "source": [
    "df2 = df.set_index(keys = 'title')\n",
    "\n",
    "df2.head()"
   ]
  },
  {
   "cell_type": "code",
   "execution_count": 35,
   "metadata": {},
   "outputs": [
    {
     "data": {
      "text/html": [
       "<div>\n",
       "<style scoped>\n",
       "    .dataframe tbody tr th:only-of-type {\n",
       "        vertical-align: middle;\n",
       "    }\n",
       "\n",
       "    .dataframe tbody tr th {\n",
       "        vertical-align: top;\n",
       "    }\n",
       "\n",
       "    .dataframe thead th {\n",
       "        text-align: right;\n",
       "    }\n",
       "</style>\n",
       "<table border=\"1\" class=\"dataframe\">\n",
       "  <thead>\n",
       "    <tr style=\"text-align: right;\">\n",
       "      <th></th>\n",
       "      <th>location</th>\n",
       "      <th>price(L)</th>\n",
       "      <th>rate_persqft</th>\n",
       "      <th>area_insqft</th>\n",
       "      <th>building_status</th>\n",
       "      <th>agent_rating</th>\n",
       "    </tr>\n",
       "    <tr>\n",
       "      <th>title</th>\n",
       "      <th></th>\n",
       "      <th></th>\n",
       "      <th></th>\n",
       "      <th></th>\n",
       "      <th></th>\n",
       "      <th></th>\n",
       "    </tr>\n",
       "  </thead>\n",
       "  <tbody>\n",
       "    <tr>\n",
       "      <td>Residential Plot</td>\n",
       "      <td>Maheshwaram</td>\n",
       "      <td>45.00</td>\n",
       "      <td>1111</td>\n",
       "      <td>4050</td>\n",
       "      <td>New</td>\n",
       "      <td>4.6</td>\n",
       "    </tr>\n",
       "    <tr>\n",
       "      <td>Residential Plot</td>\n",
       "      <td>Kondakal</td>\n",
       "      <td>34.00</td>\n",
       "      <td>2361</td>\n",
       "      <td>1440</td>\n",
       "      <td>New</td>\n",
       "      <td>3.7</td>\n",
       "    </tr>\n",
       "    <tr>\n",
       "      <td>Residential Plot</td>\n",
       "      <td>Bibinagar</td>\n",
       "      <td>14.19</td>\n",
       "      <td>944</td>\n",
       "      <td>1503</td>\n",
       "      <td>New</td>\n",
       "      <td>4.9</td>\n",
       "    </tr>\n",
       "    <tr>\n",
       "      <td>Residential Plot</td>\n",
       "      <td>Gachibowli</td>\n",
       "      <td>330.00</td>\n",
       "      <td>3333</td>\n",
       "      <td>9900</td>\n",
       "      <td>New</td>\n",
       "      <td>0.0</td>\n",
       "    </tr>\n",
       "    <tr>\n",
       "      <td>Residential Plot</td>\n",
       "      <td>Shadnagar</td>\n",
       "      <td>6.72</td>\n",
       "      <td>466</td>\n",
       "      <td>1440</td>\n",
       "      <td>New</td>\n",
       "      <td>4.7</td>\n",
       "    </tr>\n",
       "    <tr>\n",
       "      <td>...</td>\n",
       "      <td>...</td>\n",
       "      <td>...</td>\n",
       "      <td>...</td>\n",
       "      <td>...</td>\n",
       "      <td>...</td>\n",
       "      <td>...</td>\n",
       "    </tr>\n",
       "    <tr>\n",
       "      <td>Residential Plot</td>\n",
       "      <td>Aremaishamma</td>\n",
       "      <td>26.87</td>\n",
       "      <td>2545</td>\n",
       "      <td>1056</td>\n",
       "      <td>Resale</td>\n",
       "      <td>4.3</td>\n",
       "    </tr>\n",
       "    <tr>\n",
       "      <td>Residential Plot</td>\n",
       "      <td>Shamshabad</td>\n",
       "      <td>62.50</td>\n",
       "      <td>5918</td>\n",
       "      <td>1056</td>\n",
       "      <td>New</td>\n",
       "      <td>4.3</td>\n",
       "    </tr>\n",
       "    <tr>\n",
       "      <td>Residential Plot</td>\n",
       "      <td>LB Nagar</td>\n",
       "      <td>362.00</td>\n",
       "      <td>4444</td>\n",
       "      <td>8145</td>\n",
       "      <td>Resale</td>\n",
       "      <td>4.6</td>\n",
       "    </tr>\n",
       "    <tr>\n",
       "      <td>Residential Plot</td>\n",
       "      <td>Khazaguda</td>\n",
       "      <td>258.00</td>\n",
       "      <td>4777</td>\n",
       "      <td>5400</td>\n",
       "      <td>New</td>\n",
       "      <td>4.8</td>\n",
       "    </tr>\n",
       "    <tr>\n",
       "      <td>Residential Plot</td>\n",
       "      <td>Padma Colony</td>\n",
       "      <td>210.00</td>\n",
       "      <td>7777</td>\n",
       "      <td>2700</td>\n",
       "      <td>Resale</td>\n",
       "      <td>4.6</td>\n",
       "    </tr>\n",
       "  </tbody>\n",
       "</table>\n",
       "<p>14642 rows × 6 columns</p>\n",
       "</div>"
      ],
      "text/plain": [
       "                      location  price(L)  rate_persqft  area_insqft  \\\n",
       "title                                                                 \n",
       "Residential Plot   Maheshwaram     45.00          1111         4050   \n",
       "Residential Plot      Kondakal     34.00          2361         1440   \n",
       "Residential Plot     Bibinagar     14.19           944         1503   \n",
       "Residential Plot    Gachibowli    330.00          3333         9900   \n",
       "Residential Plot     Shadnagar      6.72           466         1440   \n",
       "...                        ...       ...           ...          ...   \n",
       "Residential Plot  Aremaishamma     26.87          2545         1056   \n",
       "Residential Plot    Shamshabad     62.50          5918         1056   \n",
       "Residential Plot      LB Nagar    362.00          4444         8145   \n",
       "Residential Plot     Khazaguda    258.00          4777         5400   \n",
       "Residential Plot  Padma Colony    210.00          7777         2700   \n",
       "\n",
       "                 building_status  agent_rating  \n",
       "title                                           \n",
       "Residential Plot             New           4.6  \n",
       "Residential Plot             New           3.7  \n",
       "Residential Plot             New           4.9  \n",
       "Residential Plot             New           0.0  \n",
       "Residential Plot             New           4.7  \n",
       "...                          ...           ...  \n",
       "Residential Plot          Resale           4.3  \n",
       "Residential Plot             New           4.3  \n",
       "Residential Plot          Resale           4.6  \n",
       "Residential Plot             New           4.8  \n",
       "Residential Plot          Resale           4.6  \n",
       "\n",
       "[14642 rows x 6 columns]"
      ]
     },
     "execution_count": 35,
     "metadata": {},
     "output_type": "execute_result"
    }
   ],
   "source": [
    "df2.loc['Residential Plot']"
   ]
  },
  {
   "cell_type": "code",
   "execution_count": 40,
   "metadata": {},
   "outputs": [
    {
     "data": {
      "text/plain": [
       "(8381, 7)"
      ]
     },
     "execution_count": 40,
     "metadata": {},
     "output_type": "execute_result"
    }
   ],
   "source": [
    "apartments = df2.filter(like = 'Apartment', axis = 0)\n",
    "apartments.reset_index(inplace = True)\n",
    "apartments.shape"
   ]
  },
  {
   "cell_type": "code",
   "execution_count": 41,
   "metadata": {},
   "outputs": [
    {
     "data": {
      "text/plain": [
       "(14642, 7)"
      ]
     },
     "execution_count": 41,
     "metadata": {},
     "output_type": "execute_result"
    }
   ],
   "source": [
    "residential = df2.filter(like = 'Residential Plot', axis = 0)\n",
    "residential.reset_index(inplace = True)\n",
    "residential.shape"
   ]
  },
  {
   "cell_type": "code",
   "execution_count": 45,
   "metadata": {},
   "outputs": [
    {
     "data": {
      "text/plain": [
       "<matplotlib.axes._subplots.AxesSubplot at 0x234aa1ef508>"
      ]
     },
     "execution_count": 45,
     "metadata": {},
     "output_type": "execute_result"
    },
    {
     "data": {
      "image/png": "[encoded data removed]",
      "text/plain": [
       "<Figure size 432x288 with 1 Axes>"
      ]
     },
     "metadata": {
      "needs_background": "light"
     },
     "output_type": "display_data"
    }
   ],
   "source": [
    "df['title'].value_counts().plot.bar()"
   ]
  },
  {
   "cell_type": "code",
   "execution_count": 49,
   "metadata": {},
   "outputs": [
    {
     "data": {
      "image/png": "[encoded data removed]",
      "text/plain": [
       "<Figure size 432x288 with 1 Axes>"
      ]
     },
     "metadata": {
      "needs_background": "light"
     },
     "output_type": "display_data"
    }
   ],
   "source": [
    "import matplotlib.pyplot as plt\n",
    "residential['title'].value_counts().plot.bar()\n",
    "plt.yscale('log')"
   ]
  },
  {
   "cell_type": "code",
   "execution_count": 55,
   "metadata": {},
   "outputs": [
    {
     "data": {
      "text/plain": [
       "<matplotlib.axes._subplots.AxesSubplot at 0x234b1d7dc48>"
      ]
     },
     "execution_count": 55,
     "metadata": {},
     "output_type": "execute_result"
    },
    {
     "data": {
      "image/png": "[encoded data removed]",
      "text/plain": [
       "<Figure size 432x288 with 1 Axes>"
      ]
     },
     "metadata": {
      "needs_background": "light"
     },
     "output_type": "display_data"
    }
   ],
   "source": [
    "apartments['title'].value_counts().plot.bar()"
   ]
  },
  {
   "cell_type": "code",
   "execution_count": 56,
   "metadata": {},
   "outputs": [
    {
     "data": {
      "image/png": "[encoded data removed]",
      "text/plain": [
       "<Figure size 432x288 with 1 Axes>"
      ]
     },
     "metadata": {
      "needs_background": "light"
     },
     "output_type": "display_data"
    }
   ],
   "source": [
    "apartments['title'].value_counts().plot.bar()\n",
    "plt.yscale('log')"
   ]
  },
  {
   "cell_type": "code",
   "execution_count": 60,
   "metadata": {},
   "outputs": [
    {
     "data": {
      "text/plain": [
       "(979, 7)"
      ]
     },
     "execution_count": 60,
     "metadata": {},
     "output_type": "execute_result"
    }
   ],
   "source": [
    "villas = df2.filter(like = 'Villa', axis = 0)\n",
    "villas.reset_index(inplace = True)\n",
    "villas.shape"
   ]
  },
  {
   "cell_type": "code",
   "execution_count": 62,
   "metadata": {},
   "outputs": [
    {
     "data": {
      "text/plain": [
       "<matplotlib.axes._subplots.AxesSubplot at 0x234b24246c8>"
      ]
     },
     "execution_count": 62,
     "metadata": {},
     "output_type": "execute_result"
    },
    {
     "data": {
      "image/png": "[encoded data removed]",
      "text/plain": [
       "<Figure size 432x288 with 1 Axes>"
      ]
     },
     "metadata": {
      "needs_background": "light"
     },
     "output_type": "display_data"
    }
   ],
   "source": [
    "villas['title'].value_counts().plot.bar()"
   ]
  },
  {
   "cell_type": "code",
   "execution_count": 63,
   "metadata": {},
   "outputs": [
    {
     "data": {
      "image/png": "[encoded data removed]",
      "text/plain": [
       "<Figure size 432x288 with 1 Axes>"
      ]
     },
     "metadata": {
      "needs_background": "light"
     },
     "output_type": "display_data"
    }
   ],
   "source": [
    "villas['title'].value_counts().plot.bar()\n",
    "plt.yscale('log')"
   ]
  }
 ],
 "metadata": {
  "kernelspec": {
   "display_name": "Python 3",
   "language": "python",
   "name": "python3"
  },
  "language_info": {
   "codemirror_mode": {
    "name": "ipython",
    "version": 3
   },
   "file_extension": ".py",
   "mimetype": "text/x-python",
   "name": "python",
   "nbconvert_exporter": "python",
   "pygments_lexer": "ipython3",
   "version": "3.7.4"
  }
 },
 "nbformat": 4,
 "nbformat_minor": 2
}
